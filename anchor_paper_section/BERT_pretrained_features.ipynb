{
  "nbformat": 4,
  "nbformat_minor": 0,
  "metadata": {
    "colab": {
      "provenance": [],
      "collapsed_sections": []
    },
    "kernelspec": {
      "name": "python3",
      "display_name": "Python 3"
    },
    "language_info": {
      "name": "python"
    }
  },
  "cells": [
    {
      "cell_type": "code",
      "execution_count": null,
      "metadata": {
        "id": "uEflmPU8mKNA"
      },
      "outputs": [],
      "source": [
        "!pip install --quiet -U gensim"
      ]
    },
    {
      "cell_type": "code",
      "source": [
        "!pip install --quiet transformers"
      ],
      "metadata": {
        "id": "yH77OmxXmUYT"
      },
      "execution_count": null,
      "outputs": []
    },
    {
      "cell_type": "code",
      "source": [
        "!pip3 install --quiet keras"
      ],
      "metadata": {
        "id": "TitK2zDjmclv"
      },
      "execution_count": null,
      "outputs": []
    },
    {
      "cell_type": "code",
      "source": [
        "!pip3 install --quiet keras"
      ],
      "metadata": {
        "id": "1_026_F9mlCd"
      },
      "execution_count": null,
      "outputs": []
    },
    {
      "cell_type": "code",
      "source": [
        "from google.colab import drive\n",
        "drive.mount('/content/drive')"
      ],
      "metadata": {
        "id": "011kCUNempCd",
        "colab": {
          "base_uri": "https://localhost:8080/"
        },
        "outputId": "ada102aa-8495-4abd-fd37-7b423504537b"
      },
      "execution_count": null,
      "outputs": [
        {
          "output_type": "stream",
          "name": "stdout",
          "text": [
            "Drive already mounted at /content/drive; to attempt to forcibly remount, call drive.mount(\"/content/drive\", force_remount=True).\n"
          ]
        }
      ]
    },
    {
      "cell_type": "code",
      "source": [
        "%cd drive/MyDrive/AML/HW4/classifier"
      ],
      "metadata": {
        "id": "jgtrQjQmmrWw",
        "colab": {
          "base_uri": "https://localhost:8080/"
        },
        "outputId": "ec12e55e-7e93-4eff-ebd5-60401395e7ca"
      },
      "execution_count": null,
      "outputs": [
        {
          "output_type": "stream",
          "name": "stdout",
          "text": [
            "/content/drive/MyDrive/AML/HW4/classifier\n"
          ]
        }
      ]
    },
    {
      "cell_type": "code",
      "source": [
        "!ls"
      ],
      "metadata": {
        "id": "LwovHQCLmtc8",
        "colab": {
          "base_uri": "https://localhost:8080/"
        },
        "outputId": "7277a8c7-a558-495d-c2e4-30d98db88512"
      },
      "execution_count": null,
      "outputs": [
        {
          "output_type": "stream",
          "name": "stdout",
          "text": [
            "BERT-pretrained-features.ipynb\t pre-trained-BERT-features-2.ipynb\n",
            "classification_test_results.tsv  results\n",
            "dreaddit\t\t\t test_data.tsv\n",
            "dreaddit-test.csv\t\t train_data_for_students.tsv\n",
            "dreaddit-train.csv\t\t trump_tweets_classifiers.ipynb\n",
            "dreddit.ipynb\t\t\t w2v-domain-trained.ipynb\n",
            "logs\n"
          ]
        }
      ]
    },
    {
      "cell_type": "code",
      "source": [
        "# Data processing\n",
        "import pandas as pd\n",
        "import numpy as np\n",
        "\n",
        "# Machine Learning\n",
        "from sklearn.model_selection import train_test_split\n",
        "from sklearn.feature_extraction.text import CountVectorizer, TfidfVectorizer\n",
        "from sklearn.linear_model import LogisticRegression, SGDClassifier\n",
        "from sklearn.pipeline import Pipeline\n",
        "from sklearn.metrics import accuracy_score\n",
        "from sklearn.preprocessing import LabelBinarizer\n",
        "\n",
        "import transformers\n",
        "import torch\n",
        "from transformers import AutoModel, AutoTokenizer\n",
        "from transformers import Trainer, TrainingArguments\n",
        "from transformers import BertTokenizerFast, BertTokenizer, BertForSequenceClassification\n",
        "from transformers.file_utils import is_tf_available, is_torch_available, is_torch_tpu_available\n",
        "\n",
        "# Visualization\n",
        "from matplotlib import pyplot as plt\n",
        "\n",
        "import nltk\n",
        "from nltk.corpus import stopwords\n",
        "\n",
        "from sklearn.metrics import accuracy_score\n",
        "from sklearn.metrics import classification_report\n",
        "from sklearn.ensemble import GradientBoostingClassifier, RandomForestClassifier\n",
        "from sklearn.model_selection import train_test_split,KFold\n",
        "from sklearn.preprocessing import LabelEncoder\n",
        "\n",
        "# Text processing\n",
        "import re\n",
        "import nltk\n",
        "import gensim.downloader as api\n",
        "\n",
        "# Various\n",
        "from datetime import datetime\n",
        "#Google Drive\n",
        "from google.colab import drive\n",
        "\n",
        "import re\n",
        "import tqdm\n",
        "\n",
        "import gensim, logging\n"
      ],
      "metadata": {
        "id": "7yu-_GhwmvQU"
      },
      "execution_count": null,
      "outputs": []
    },
    {
      "cell_type": "code",
      "source": [
        "def set_seed(seed: int):\n",
        "    # numpy\n",
        "    np.random.seed(seed)\n",
        "\n",
        "    # torch\n",
        "    if is_torch_available():\n",
        "        torch.manual_seed(seed)\n",
        "        torch.cuda.manual_seed_all(seed)\n",
        "         \n",
        "set_seed(42)"
      ],
      "metadata": {
        "id": "D6ZCmXo8nEyI"
      },
      "execution_count": null,
      "outputs": []
    },
    {
      "cell_type": "code",
      "source": [
        "def concat_two(original, new_x, features_from_original):\n",
        "  new_df = pd.concat([new_x, original[features_from_original]], axis=1)\n",
        "  return new_df"
      ],
      "metadata": {
        "id": "Xsx7dkzUbfVb"
      },
      "execution_count": null,
      "outputs": []
    },
    {
      "cell_type": "code",
      "source": [
        "def get_domain(subreddit):\n",
        "  if subreddit=='domesticviolence' or subreddit=='survivorsofabuse':\n",
        "    return 'abuse';\n",
        "  if subreddit=='anxiety' or subreddit=='stress':\n",
        "    return 'anxiety';\n",
        "  if subreddit=='almosthomeless' or subreddit=='assistance' or subreddit=='food_pantry' or subreddit=='homeless':\n",
        "    return 'financial';\n",
        "  if subreddit=='ptsd':\n",
        "    return 'ptsd';\n",
        "  else:\n",
        "    return 'social';"
      ],
      "metadata": {
        "id": "npifQv7FW6v2"
      },
      "execution_count": null,
      "outputs": []
    },
    {
      "cell_type": "code",
      "source": [
        "df=pd.read_csv('dreaddit/dreaddit-train.csv')\n",
        "df.shape"
      ],
      "metadata": {
        "id": "Kiz0hEPWnIvn",
        "colab": {
          "base_uri": "https://localhost:8080/"
        },
        "outputId": "62a3ad51-6a41-43ff-8f67-98f8cd45c888"
      },
      "execution_count": null,
      "outputs": [
        {
          "output_type": "execute_result",
          "data": {
            "text/plain": [
              "(2838, 116)"
            ]
          },
          "metadata": {},
          "execution_count": 12
        }
      ]
    },
    {
      "cell_type": "code",
      "source": [
        "df_test = pd.read_csv('dreaddit/dreaddit-test.csv')\n",
        "df_test.shape"
      ],
      "metadata": {
        "id": "j7Diq_1OnTy-",
        "colab": {
          "base_uri": "https://localhost:8080/"
        },
        "outputId": "fa58b5e9-ec58-48ed-aeb9-6a5d6bce74a7"
      },
      "execution_count": null,
      "outputs": [
        {
          "output_type": "execute_result",
          "data": {
            "text/plain": [
              "(715, 116)"
            ]
          },
          "metadata": {},
          "execution_count": 13
        }
      ]
    },
    {
      "cell_type": "code",
      "source": [
        "df['text_clean'] = df['text'].apply(lambda x: gensim.utils.simple_preprocess(x))\n",
        "df['domain'] = df['subreddit'].map(lambda x: get_domain(x))\n",
        "X_train = df['text_clean']\n",
        "y_train = df['label']\n",
        "y_train = y_train.to_list()\n",
        "df.head(2)"
      ],
      "metadata": {
        "id": "ZYAS-i4_nXwa",
        "colab": {
          "base_uri": "https://localhost:8080/",
          "height": 323
        },
        "outputId": "4ad2b936-7b71-4af1-90fd-5dc423c69b92"
      },
      "execution_count": null,
      "outputs": [
        {
          "output_type": "execute_result",
          "data": {
            "text/plain": [
              "    subreddit post_id sentence_range  \\\n",
              "0        ptsd  8601tu       (15, 20)   \n",
              "1  assistance  8lbrx9         (0, 5)   \n",
              "\n",
              "                                                text     id  label  \\\n",
              "0  He said he had not felt that way before, sugge...  33181      1   \n",
              "1  Hey there r/assistance, Not sure if this is th...   2606      0   \n",
              "\n",
              "   confidence  social_timestamp  social_karma  syntax_ari  ...  \\\n",
              "0         0.8        1521614353             5    1.806818  ...   \n",
              "1         1.0        1527009817             4    9.429737  ...   \n",
              "\n",
              "   lex_dal_min_imagery  lex_dal_avg_activation  lex_dal_avg_imagery  \\\n",
              "0                  1.0                 1.77000              1.52211   \n",
              "1                  1.0                 1.69586              1.62045   \n",
              "\n",
              "   lex_dal_avg_pleasantness  social_upvote_ratio  social_num_comments  \\\n",
              "0                   1.89556                 0.86                    1   \n",
              "1                   1.88919                 0.65                    2   \n",
              "\n",
              "   syntax_fk_grade  sentiment  \\\n",
              "0         3.253573  -0.002742   \n",
              "1         8.828316   0.292857   \n",
              "\n",
              "                                          text_clean     domain  \n",
              "0  [he, said, he, had, not, felt, that, way, befo...       ptsd  \n",
              "1  [hey, there, assistance, not, sure, if, this, ...  financial  \n",
              "\n",
              "[2 rows x 118 columns]"
            ],
            "text/html": [
              "\n",
              "  <div id=\"df-a6e104ee-fce8-4f82-affc-f9fe1e1b5079\">\n",
              "    <div class=\"colab-df-container\">\n",
              "      <div>\n",
              "<style scoped>\n",
              "    .dataframe tbody tr th:only-of-type {\n",
              "        vertical-align: middle;\n",
              "    }\n",
              "\n",
              "    .dataframe tbody tr th {\n",
              "        vertical-align: top;\n",
              "    }\n",
              "\n",
              "    .dataframe thead th {\n",
              "        text-align: right;\n",
              "    }\n",
              "</style>\n",
              "<table border=\"1\" class=\"dataframe\">\n",
              "  <thead>\n",
              "    <tr style=\"text-align: right;\">\n",
              "      <th></th>\n",
              "      <th>subreddit</th>\n",
              "      <th>post_id</th>\n",
              "      <th>sentence_range</th>\n",
              "      <th>text</th>\n",
              "      <th>id</th>\n",
              "      <th>label</th>\n",
              "      <th>confidence</th>\n",
              "      <th>social_timestamp</th>\n",
              "      <th>social_karma</th>\n",
              "      <th>syntax_ari</th>\n",
              "      <th>...</th>\n",
              "      <th>lex_dal_min_imagery</th>\n",
              "      <th>lex_dal_avg_activation</th>\n",
              "      <th>lex_dal_avg_imagery</th>\n",
              "      <th>lex_dal_avg_pleasantness</th>\n",
              "      <th>social_upvote_ratio</th>\n",
              "      <th>social_num_comments</th>\n",
              "      <th>syntax_fk_grade</th>\n",
              "      <th>sentiment</th>\n",
              "      <th>text_clean</th>\n",
              "      <th>domain</th>\n",
              "    </tr>\n",
              "  </thead>\n",
              "  <tbody>\n",
              "    <tr>\n",
              "      <th>0</th>\n",
              "      <td>ptsd</td>\n",
              "      <td>8601tu</td>\n",
              "      <td>(15, 20)</td>\n",
              "      <td>He said he had not felt that way before, sugge...</td>\n",
              "      <td>33181</td>\n",
              "      <td>1</td>\n",
              "      <td>0.8</td>\n",
              "      <td>1521614353</td>\n",
              "      <td>5</td>\n",
              "      <td>1.806818</td>\n",
              "      <td>...</td>\n",
              "      <td>1.0</td>\n",
              "      <td>1.77000</td>\n",
              "      <td>1.52211</td>\n",
              "      <td>1.89556</td>\n",
              "      <td>0.86</td>\n",
              "      <td>1</td>\n",
              "      <td>3.253573</td>\n",
              "      <td>-0.002742</td>\n",
              "      <td>[he, said, he, had, not, felt, that, way, befo...</td>\n",
              "      <td>ptsd</td>\n",
              "    </tr>\n",
              "    <tr>\n",
              "      <th>1</th>\n",
              "      <td>assistance</td>\n",
              "      <td>8lbrx9</td>\n",
              "      <td>(0, 5)</td>\n",
              "      <td>Hey there r/assistance, Not sure if this is th...</td>\n",
              "      <td>2606</td>\n",
              "      <td>0</td>\n",
              "      <td>1.0</td>\n",
              "      <td>1527009817</td>\n",
              "      <td>4</td>\n",
              "      <td>9.429737</td>\n",
              "      <td>...</td>\n",
              "      <td>1.0</td>\n",
              "      <td>1.69586</td>\n",
              "      <td>1.62045</td>\n",
              "      <td>1.88919</td>\n",
              "      <td>0.65</td>\n",
              "      <td>2</td>\n",
              "      <td>8.828316</td>\n",
              "      <td>0.292857</td>\n",
              "      <td>[hey, there, assistance, not, sure, if, this, ...</td>\n",
              "      <td>financial</td>\n",
              "    </tr>\n",
              "  </tbody>\n",
              "</table>\n",
              "<p>2 rows × 118 columns</p>\n",
              "</div>\n",
              "      <button class=\"colab-df-convert\" onclick=\"convertToInteractive('df-a6e104ee-fce8-4f82-affc-f9fe1e1b5079')\"\n",
              "              title=\"Convert this dataframe to an interactive table.\"\n",
              "              style=\"display:none;\">\n",
              "        \n",
              "  <svg xmlns=\"http://www.w3.org/2000/svg\" height=\"24px\"viewBox=\"0 0 24 24\"\n",
              "       width=\"24px\">\n",
              "    <path d=\"M0 0h24v24H0V0z\" fill=\"none\"/>\n",
              "    <path d=\"M18.56 5.44l.94 2.06.94-2.06 2.06-.94-2.06-.94-.94-2.06-.94 2.06-2.06.94zm-11 1L8.5 8.5l.94-2.06 2.06-.94-2.06-.94L8.5 2.5l-.94 2.06-2.06.94zm10 10l.94 2.06.94-2.06 2.06-.94-2.06-.94-.94-2.06-.94 2.06-2.06.94z\"/><path d=\"M17.41 7.96l-1.37-1.37c-.4-.4-.92-.59-1.43-.59-.52 0-1.04.2-1.43.59L10.3 9.45l-7.72 7.72c-.78.78-.78 2.05 0 2.83L4 21.41c.39.39.9.59 1.41.59.51 0 1.02-.2 1.41-.59l7.78-7.78 2.81-2.81c.8-.78.8-2.07 0-2.86zM5.41 20L4 18.59l7.72-7.72 1.47 1.35L5.41 20z\"/>\n",
              "  </svg>\n",
              "      </button>\n",
              "      \n",
              "  <style>\n",
              "    .colab-df-container {\n",
              "      display:flex;\n",
              "      flex-wrap:wrap;\n",
              "      gap: 12px;\n",
              "    }\n",
              "\n",
              "    .colab-df-convert {\n",
              "      background-color: #E8F0FE;\n",
              "      border: none;\n",
              "      border-radius: 50%;\n",
              "      cursor: pointer;\n",
              "      display: none;\n",
              "      fill: #1967D2;\n",
              "      height: 32px;\n",
              "      padding: 0 0 0 0;\n",
              "      width: 32px;\n",
              "    }\n",
              "\n",
              "    .colab-df-convert:hover {\n",
              "      background-color: #E2EBFA;\n",
              "      box-shadow: 0px 1px 2px rgba(60, 64, 67, 0.3), 0px 1px 3px 1px rgba(60, 64, 67, 0.15);\n",
              "      fill: #174EA6;\n",
              "    }\n",
              "\n",
              "    [theme=dark] .colab-df-convert {\n",
              "      background-color: #3B4455;\n",
              "      fill: #D2E3FC;\n",
              "    }\n",
              "\n",
              "    [theme=dark] .colab-df-convert:hover {\n",
              "      background-color: #434B5C;\n",
              "      box-shadow: 0px 1px 3px 1px rgba(0, 0, 0, 0.15);\n",
              "      filter: drop-shadow(0px 1px 2px rgba(0, 0, 0, 0.3));\n",
              "      fill: #FFFFFF;\n",
              "    }\n",
              "  </style>\n",
              "\n",
              "      <script>\n",
              "        const buttonEl =\n",
              "          document.querySelector('#df-a6e104ee-fce8-4f82-affc-f9fe1e1b5079 button.colab-df-convert');\n",
              "        buttonEl.style.display =\n",
              "          google.colab.kernel.accessAllowed ? 'block' : 'none';\n",
              "\n",
              "        async function convertToInteractive(key) {\n",
              "          const element = document.querySelector('#df-a6e104ee-fce8-4f82-affc-f9fe1e1b5079');\n",
              "          const dataTable =\n",
              "            await google.colab.kernel.invokeFunction('convertToInteractive',\n",
              "                                                     [key], {});\n",
              "          if (!dataTable) return;\n",
              "\n",
              "          const docLinkHtml = 'Like what you see? Visit the ' +\n",
              "            '<a target=\"_blank\" href=https://colab.research.google.com/notebooks/data_table.ipynb>data table notebook</a>'\n",
              "            + ' to learn more about interactive tables.';\n",
              "          element.innerHTML = '';\n",
              "          dataTable['output_type'] = 'display_data';\n",
              "          await google.colab.output.renderOutput(dataTable, element);\n",
              "          const docLink = document.createElement('div');\n",
              "          docLink.innerHTML = docLinkHtml;\n",
              "          element.appendChild(docLink);\n",
              "        }\n",
              "      </script>\n",
              "    </div>\n",
              "  </div>\n",
              "  "
            ]
          },
          "metadata": {},
          "execution_count": 14
        }
      ]
    },
    {
      "cell_type": "code",
      "source": [
        "df_test['text_clean'] = df_test['text'].apply(lambda x: gensim.utils.simple_preprocess(x))\n",
        "df_test['domain'] = df_test['subreddit'].map(lambda x: get_domain(x))\n",
        "X_test = df_test['text_clean']\n",
        "y_test = df_test['label']\n",
        "y_test = y_test.to_list()\n",
        "df_test.head(2)"
      ],
      "metadata": {
        "id": "ED6gER_QpQ9L",
        "colab": {
          "base_uri": "https://localhost:8080/",
          "height": 374
        },
        "outputId": "4f9158b8-deb5-441c-c185-ce01458592e0"
      },
      "execution_count": null,
      "outputs": [
        {
          "output_type": "execute_result",
          "data": {
            "text/plain": [
              "      id      subreddit post_id sentence_range  \\\n",
              "0    896  relationships  7nu7as       [50, 55]   \n",
              "1  19059        anxiety  680i6d        (5, 10)   \n",
              "\n",
              "                                                text  label  confidence  \\\n",
              "0  Its like that, if you want or not.“ ME: I have...      0         0.8   \n",
              "1  I man the front desk and my title is HR Custom...      0         1.0   \n",
              "\n",
              "   social_timestamp  social_karma  syntax_ari  ...  lex_dal_min_imagery  \\\n",
              "0      1.514981e+09            22   -1.238793  ...                  1.0   \n",
              "1      1.493348e+09             5    7.684583  ...                  1.0   \n",
              "\n",
              "   lex_dal_avg_activation  lex_dal_avg_imagery  lex_dal_avg_pleasantness  \\\n",
              "0                 1.65864              1.32245                   1.80264   \n",
              "1                 1.69133              1.69180                   1.97249   \n",
              "\n",
              "   social_upvote_ratio  social_num_comments  syntax_fk_grade  sentiment  \\\n",
              "0                 0.63                   62        -0.148707   0.000000   \n",
              "1                 1.00                    2         7.398222  -0.065909   \n",
              "\n",
              "                                          text_clean   domain  \n",
              "0  [its, like, that, if, you, want, or, not, me, ...   social  \n",
              "1  [man, the, front, desk, and, my, title, is, hr...  anxiety  \n",
              "\n",
              "[2 rows x 118 columns]"
            ],
            "text/html": [
              "\n",
              "  <div id=\"df-d7ccfd38-0113-42db-8a9f-0bcdfd366185\">\n",
              "    <div class=\"colab-df-container\">\n",
              "      <div>\n",
              "<style scoped>\n",
              "    .dataframe tbody tr th:only-of-type {\n",
              "        vertical-align: middle;\n",
              "    }\n",
              "\n",
              "    .dataframe tbody tr th {\n",
              "        vertical-align: top;\n",
              "    }\n",
              "\n",
              "    .dataframe thead th {\n",
              "        text-align: right;\n",
              "    }\n",
              "</style>\n",
              "<table border=\"1\" class=\"dataframe\">\n",
              "  <thead>\n",
              "    <tr style=\"text-align: right;\">\n",
              "      <th></th>\n",
              "      <th>id</th>\n",
              "      <th>subreddit</th>\n",
              "      <th>post_id</th>\n",
              "      <th>sentence_range</th>\n",
              "      <th>text</th>\n",
              "      <th>label</th>\n",
              "      <th>confidence</th>\n",
              "      <th>social_timestamp</th>\n",
              "      <th>social_karma</th>\n",
              "      <th>syntax_ari</th>\n",
              "      <th>...</th>\n",
              "      <th>lex_dal_min_imagery</th>\n",
              "      <th>lex_dal_avg_activation</th>\n",
              "      <th>lex_dal_avg_imagery</th>\n",
              "      <th>lex_dal_avg_pleasantness</th>\n",
              "      <th>social_upvote_ratio</th>\n",
              "      <th>social_num_comments</th>\n",
              "      <th>syntax_fk_grade</th>\n",
              "      <th>sentiment</th>\n",
              "      <th>text_clean</th>\n",
              "      <th>domain</th>\n",
              "    </tr>\n",
              "  </thead>\n",
              "  <tbody>\n",
              "    <tr>\n",
              "      <th>0</th>\n",
              "      <td>896</td>\n",
              "      <td>relationships</td>\n",
              "      <td>7nu7as</td>\n",
              "      <td>[50, 55]</td>\n",
              "      <td>Its like that, if you want or not.“ ME: I have...</td>\n",
              "      <td>0</td>\n",
              "      <td>0.8</td>\n",
              "      <td>1.514981e+09</td>\n",
              "      <td>22</td>\n",
              "      <td>-1.238793</td>\n",
              "      <td>...</td>\n",
              "      <td>1.0</td>\n",
              "      <td>1.65864</td>\n",
              "      <td>1.32245</td>\n",
              "      <td>1.80264</td>\n",
              "      <td>0.63</td>\n",
              "      <td>62</td>\n",
              "      <td>-0.148707</td>\n",
              "      <td>0.000000</td>\n",
              "      <td>[its, like, that, if, you, want, or, not, me, ...</td>\n",
              "      <td>social</td>\n",
              "    </tr>\n",
              "    <tr>\n",
              "      <th>1</th>\n",
              "      <td>19059</td>\n",
              "      <td>anxiety</td>\n",
              "      <td>680i6d</td>\n",
              "      <td>(5, 10)</td>\n",
              "      <td>I man the front desk and my title is HR Custom...</td>\n",
              "      <td>0</td>\n",
              "      <td>1.0</td>\n",
              "      <td>1.493348e+09</td>\n",
              "      <td>5</td>\n",
              "      <td>7.684583</td>\n",
              "      <td>...</td>\n",
              "      <td>1.0</td>\n",
              "      <td>1.69133</td>\n",
              "      <td>1.69180</td>\n",
              "      <td>1.97249</td>\n",
              "      <td>1.00</td>\n",
              "      <td>2</td>\n",
              "      <td>7.398222</td>\n",
              "      <td>-0.065909</td>\n",
              "      <td>[man, the, front, desk, and, my, title, is, hr...</td>\n",
              "      <td>anxiety</td>\n",
              "    </tr>\n",
              "  </tbody>\n",
              "</table>\n",
              "<p>2 rows × 118 columns</p>\n",
              "</div>\n",
              "      <button class=\"colab-df-convert\" onclick=\"convertToInteractive('df-d7ccfd38-0113-42db-8a9f-0bcdfd366185')\"\n",
              "              title=\"Convert this dataframe to an interactive table.\"\n",
              "              style=\"display:none;\">\n",
              "        \n",
              "  <svg xmlns=\"http://www.w3.org/2000/svg\" height=\"24px\"viewBox=\"0 0 24 24\"\n",
              "       width=\"24px\">\n",
              "    <path d=\"M0 0h24v24H0V0z\" fill=\"none\"/>\n",
              "    <path d=\"M18.56 5.44l.94 2.06.94-2.06 2.06-.94-2.06-.94-.94-2.06-.94 2.06-2.06.94zm-11 1L8.5 8.5l.94-2.06 2.06-.94-2.06-.94L8.5 2.5l-.94 2.06-2.06.94zm10 10l.94 2.06.94-2.06 2.06-.94-2.06-.94-.94-2.06-.94 2.06-2.06.94z\"/><path d=\"M17.41 7.96l-1.37-1.37c-.4-.4-.92-.59-1.43-.59-.52 0-1.04.2-1.43.59L10.3 9.45l-7.72 7.72c-.78.78-.78 2.05 0 2.83L4 21.41c.39.39.9.59 1.41.59.51 0 1.02-.2 1.41-.59l7.78-7.78 2.81-2.81c.8-.78.8-2.07 0-2.86zM5.41 20L4 18.59l7.72-7.72 1.47 1.35L5.41 20z\"/>\n",
              "  </svg>\n",
              "      </button>\n",
              "      \n",
              "  <style>\n",
              "    .colab-df-container {\n",
              "      display:flex;\n",
              "      flex-wrap:wrap;\n",
              "      gap: 12px;\n",
              "    }\n",
              "\n",
              "    .colab-df-convert {\n",
              "      background-color: #E8F0FE;\n",
              "      border: none;\n",
              "      border-radius: 50%;\n",
              "      cursor: pointer;\n",
              "      display: none;\n",
              "      fill: #1967D2;\n",
              "      height: 32px;\n",
              "      padding: 0 0 0 0;\n",
              "      width: 32px;\n",
              "    }\n",
              "\n",
              "    .colab-df-convert:hover {\n",
              "      background-color: #E2EBFA;\n",
              "      box-shadow: 0px 1px 2px rgba(60, 64, 67, 0.3), 0px 1px 3px 1px rgba(60, 64, 67, 0.15);\n",
              "      fill: #174EA6;\n",
              "    }\n",
              "\n",
              "    [theme=dark] .colab-df-convert {\n",
              "      background-color: #3B4455;\n",
              "      fill: #D2E3FC;\n",
              "    }\n",
              "\n",
              "    [theme=dark] .colab-df-convert:hover {\n",
              "      background-color: #434B5C;\n",
              "      box-shadow: 0px 1px 3px 1px rgba(0, 0, 0, 0.15);\n",
              "      filter: drop-shadow(0px 1px 2px rgba(0, 0, 0, 0.3));\n",
              "      fill: #FFFFFF;\n",
              "    }\n",
              "  </style>\n",
              "\n",
              "      <script>\n",
              "        const buttonEl =\n",
              "          document.querySelector('#df-d7ccfd38-0113-42db-8a9f-0bcdfd366185 button.colab-df-convert');\n",
              "        buttonEl.style.display =\n",
              "          google.colab.kernel.accessAllowed ? 'block' : 'none';\n",
              "\n",
              "        async function convertToInteractive(key) {\n",
              "          const element = document.querySelector('#df-d7ccfd38-0113-42db-8a9f-0bcdfd366185');\n",
              "          const dataTable =\n",
              "            await google.colab.kernel.invokeFunction('convertToInteractive',\n",
              "                                                     [key], {});\n",
              "          if (!dataTable) return;\n",
              "\n",
              "          const docLinkHtml = 'Like what you see? Visit the ' +\n",
              "            '<a target=\"_blank\" href=https://colab.research.google.com/notebooks/data_table.ipynb>data table notebook</a>'\n",
              "            + ' to learn more about interactive tables.';\n",
              "          element.innerHTML = '';\n",
              "          dataTable['output_type'] = 'display_data';\n",
              "          await google.colab.output.renderOutput(dataTable, element);\n",
              "          const docLink = document.createElement('div');\n",
              "          docLink.innerHTML = docLinkHtml;\n",
              "          element.appendChild(docLink);\n",
              "        }\n",
              "      </script>\n",
              "    </div>\n",
              "  </div>\n",
              "  "
            ]
          },
          "metadata": {},
          "execution_count": 15
        }
      ]
    },
    {
      "cell_type": "code",
      "source": [
        "ll = df[df.columns[1:]].corr().abs()['label'].sort_values(ascending = False)[:16].gt(0.2).drop('label')"
      ],
      "metadata": {
        "id": "Xq0BlZwViGoe"
      },
      "execution_count": null,
      "outputs": []
    },
    {
      "cell_type": "code",
      "source": [
        "top_correlations = list(ll.index)\n",
        "top_correlations"
      ],
      "metadata": {
        "id": "EwtITvvxmNxz",
        "colab": {
          "base_uri": "https://localhost:8080/"
        },
        "outputId": "5fd9f323-1e10-4261-a012-28f933f1291e"
      },
      "execution_count": null,
      "outputs": [
        {
          "output_type": "execute_result",
          "data": {
            "text/plain": [
              "['lex_liwc_Tone',\n",
              " 'lex_liwc_Clout',\n",
              " 'lex_liwc_i',\n",
              " 'lex_liwc_negemo',\n",
              " 'sentiment',\n",
              " 'lex_dal_min_pleasantness',\n",
              " 'lex_liwc_Authentic',\n",
              " 'lex_liwc_posemo',\n",
              " 'lex_liwc_anx',\n",
              " 'lex_liwc_social',\n",
              " 'lex_liwc_Analytic',\n",
              " 'lex_liwc_Dic',\n",
              " 'lex_liwc_function',\n",
              " 'lex_liwc_anger',\n",
              " 'lex_liwc_you']"
            ]
          },
          "metadata": {},
          "execution_count": 17
        }
      ]
    },
    {
      "cell_type": "code",
      "source": [
        "tokenizer = BertTokenizer.from_pretrained('bert-large-uncased', do_lower_case=False)"
      ],
      "metadata": {
        "id": "XTGuHzj14-_F"
      },
      "execution_count": null,
      "outputs": []
    },
    {
      "cell_type": "code",
      "source": [
        "def func_tokenizer(tokenizer, docs, vector_size = 768):\n",
        "    r = tokenizer.batch_encode_plus(\n",
        "          docs,\n",
        "          max_length = vector_size,\n",
        "          padding='max_length',\n",
        "          truncation=True,\n",
        "          return_token_type_ids=False)\n",
        "    return r.input_ids"
      ],
      "metadata": {
        "id": "pBK6YCPi4nHo"
      },
      "execution_count": null,
      "outputs": []
    },
    {
      "cell_type": "code",
      "source": [
        "X_train_tokenized = pd.DataFrame(func_tokenizer(tokenizer, df['text'].tolist()))\n",
        "X_train_tokenized.shape"
      ],
      "metadata": {
        "id": "UJ61m1k9oR4G",
        "colab": {
          "base_uri": "https://localhost:8080/"
        },
        "outputId": "6617f7ed-da33-46fa-de0e-ebf4a4772f43"
      },
      "execution_count": null,
      "outputs": [
        {
          "output_type": "execute_result",
          "data": {
            "text/plain": [
              "(2838, 768)"
            ]
          },
          "metadata": {},
          "execution_count": 140
        }
      ]
    },
    {
      "cell_type": "code",
      "source": [
        "X_test_tokenized = pd.DataFrame(func_tokenizer(tokenizer, df_test['text'].tolist()))\n",
        "X_test_tokenized.shape"
      ],
      "metadata": {
        "colab": {
          "base_uri": "https://localhost:8080/"
        },
        "id": "BK2dzRX55bJL",
        "outputId": "e6c597c2-c7ab-4d3d-8cc1-37addf195118"
      },
      "execution_count": null,
      "outputs": [
        {
          "output_type": "execute_result",
          "data": {
            "text/plain": [
              "(715, 768)"
            ]
          },
          "metadata": {},
          "execution_count": 141
        }
      ]
    },
    {
      "cell_type": "code",
      "source": [
        "ff = top_correlations\n",
        "len(ff)"
      ],
      "metadata": {
        "id": "GPSBnVH2cDUV",
        "colab": {
          "base_uri": "https://localhost:8080/"
        },
        "outputId": "10436092-6cf9-4b44-fa62-ca3a236f11af"
      },
      "execution_count": null,
      "outputs": [
        {
          "output_type": "execute_result",
          "data": {
            "text/plain": [
              "15"
            ]
          },
          "metadata": {},
          "execution_count": 142
        }
      ]
    },
    {
      "cell_type": "code",
      "source": [
        "X = pd.DataFrame(X_train_tokenized)\n",
        "print(f'X.shape = {X_train_tokenized.shape}')\n",
        "test_X = pd.DataFrame(X_test_tokenized)\n",
        "print(f'test_X.shape = {X_test_tokenized.shape}')\n",
        "\n",
        "X = concat_two(df, X, ff)\n",
        "print(f'features - X.shape = {X.shape}')\n",
        "test_X = concat_two(df_test, test_X, ff)\n",
        "print(f'features - test_X.shape = {test_X.shape}')"
      ],
      "metadata": {
        "id": "pej6EG5XvJ2J",
        "colab": {
          "base_uri": "https://localhost:8080/"
        },
        "outputId": "d49f7d8c-b91b-4b5d-f392-530c763d4333"
      },
      "execution_count": null,
      "outputs": [
        {
          "output_type": "stream",
          "name": "stdout",
          "text": [
            "X.shape = (2838, 768)\n",
            "test_X.shape = (715, 768)\n",
            "features - X.shape = (2838, 783)\n",
            "features - test_X.shape = (715, 783)\n"
          ]
        }
      ]
    },
    {
      "cell_type": "code",
      "source": [
        "from sklearn.ensemble import GradientBoostingClassifier, RandomForestClassifier, AdaBoostClassifier\n",
        "from xgboost import XGBClassifier\n",
        "from sklearn.tree import DecisionTreeClassifier\n",
        "from sklearn.linear_model import LogisticRegression\n",
        "from sklearn.neighbors import KNeighborsClassifier\n",
        "from sklearn.svm import SVC\n",
        "from sklearn.naive_bayes import GaussianNB\n",
        "from sklearn.model_selection import cross_val_score\n",
        "from sklearn.model_selection import RepeatedStratifiedKFold\n",
        "from sklearn.preprocessing import StandardScaler\n",
        "from sklearn.pipeline import make_pipeline\n",
        "\n",
        "import warnings\n",
        "warnings.filterwarnings(action='ignore', category=UserWarning)"
      ],
      "metadata": {
        "id": "ti7NL58t17VD"
      },
      "execution_count": null,
      "outputs": []
    },
    {
      "cell_type": "code",
      "source": [
        "def get_models():\n",
        "    \n",
        "    models = dict()\n",
        "    models['lr'] = make_pipeline(StandardScaler(),LogisticRegression(solver = 'saga', C = 70.0))\n",
        "    models['svm'] = make_pipeline(StandardScaler(),SVC())\n",
        "    models['xgboost'] = XGBClassifier(n_estimators = 11, max_depth = 1)\n",
        "    models['GBM'] = GradientBoostingClassifier(n_estimators = 10)\n",
        "    models['adaboost'] = AdaBoostClassifier(n_estimators= 12)\n",
        "    \n",
        "    return models"
      ],
      "metadata": {
        "id": "BxA9Rlm32CDc"
      },
      "execution_count": null,
      "outputs": []
    },
    {
      "cell_type": "code",
      "source": [
        "def evaluate_model(model, X, y):\n",
        "\tcv = RepeatedStratifiedKFold(n_splits=10, n_repeats=4, random_state=1)\n",
        "\tscores = cross_val_score(model, X, y, scoring='f1', cv=cv, n_jobs=-1, error_score='raise')\n",
        "\treturn scores"
      ],
      "metadata": {
        "id": "dXi9yLMA2Fwp"
      },
      "execution_count": null,
      "outputs": []
    },
    {
      "cell_type": "code",
      "source": [
        "import matplotlib.pyplot as plt\n",
        "%matplotlib inline\n",
        "from numpy import mean\n",
        "from numpy import std\n",
        "\n",
        "# get the models to evaluate\n",
        "models = get_models()\n",
        "# evaluate the models and store results\n",
        "results, names = list(), list()\n",
        "for name, model in models.items():\n",
        "\tscores = evaluate_model(model, X, y_train)\n",
        "\tresults.append(scores)\n",
        "\tnames.append(name)\n",
        "\tprint('>%s %.2f (%.2f)' % (name, scores.mean(), std(scores)))\n",
        "# plot model performance for comparison\n",
        "plt.boxplot(results, labels=names, showmeans=True)\n",
        "plt.show()"
      ],
      "metadata": {
        "id": "Co-Cnx3J2KrD",
        "colab": {
          "base_uri": "https://localhost:8080/",
          "height": 352
        },
        "outputId": "1fabfc2b-c82f-4792-c2af-cca78a49c9bb"
      },
      "execution_count": null,
      "outputs": [
        {
          "output_type": "stream",
          "name": "stdout",
          "text": [
            ">lr 0.77 (0.03)\n",
            ">svm 0.76 (0.03)\n",
            ">xgboost 0.74 (0.02)\n",
            ">GBM 0.76 (0.02)\n",
            ">adaboost 0.75 (0.03)\n"
          ]
        },
        {
          "output_type": "display_data",
          "data": {
            "text/plain": [
              "<Figure size 432x288 with 1 Axes>"
            ],
            "image/png": "[encoded data removed]"
          },
          "metadata": {
            "needs_background": "light"
          }
        }
      ]
    },
    {
      "cell_type": "code",
      "source": [
        "from sklearn.model_selection import GridSearchCV\n",
        "\n",
        "\n",
        "classifier_lr = LogisticRegression()\n",
        "model_lr = Pipeline([(\"classifier\", classifier_lr)])\n",
        "\n",
        "\n",
        "param_grid = [\n",
        "    {'classifier__C': [1e-5, 1e-3, 1e-1, 1e0, 1e1, 70.0, 1e2, 1e5]},\n",
        "    {'classifier__penalty' : ['l2']},\n",
        "    {'classifier__solver'  : ['newton-cg', 'saga', 'lbfgs', 'liblinear']}\n",
        "]\n",
        "\n",
        "# Create grid search object\n",
        "\n",
        "clf = GridSearchCV(model_lr, param_grid = param_grid, cv = 10, verbose=True, n_jobs=-1)\n",
        "\n",
        "# Fit on data\n",
        "\n",
        "model_lr = clf.fit(X.to_numpy(), y_train)"
      ],
      "metadata": {
        "id": "zLLnyDAi2v_o",
        "colab": {
          "base_uri": "https://localhost:8080/"
        },
        "outputId": "39731bf5-38d2-4b95-c519-427d29ac15a5"
      },
      "execution_count": null,
      "outputs": [
        {
          "output_type": "stream",
          "name": "stdout",
          "text": [
            "Fitting 10 folds for each of 13 candidates, totalling 130 fits\n"
          ]
        }
      ]
    },
    {
      "cell_type": "code",
      "source": [
        "print(model_lr)"
      ],
      "metadata": {
        "id": "i9wcLbxc_cKU",
        "colab": {
          "base_uri": "https://localhost:8080/"
        },
        "outputId": "63d5a85a-6d09-4f7f-dcf5-d885892a285e"
      },
      "execution_count": null,
      "outputs": [
        {
          "output_type": "stream",
          "name": "stdout",
          "text": [
            "GridSearchCV(cv=10,\n",
            "             estimator=Pipeline(steps=[('classifier', LogisticRegression())]),\n",
            "             n_jobs=-1,\n",
            "             param_grid=[{'classifier__C': [1e-05, 0.001, 0.1, 1.0, 10.0, 70.0,\n",
            "                                            100.0, 100000.0]},\n",
            "                         {'classifier__penalty': ['l2']},\n",
            "                         {'classifier__solver': ['newton-cg', 'saga', 'lbfgs',\n",
            "                                                 'liblinear']}],\n",
            "             verbose=True)\n"
          ]
        }
      ]
    },
    {
      "cell_type": "code",
      "source": [
        "predicted_train_lr = model_lr.predict(X.to_numpy())\n",
        "accuracy_train_lr = accuracy_score(y_train, predicted_train_lr)\n",
        "print('Accuracy Training data: {:.1%}'.format(accuracy_train_lr))\n",
        "\n",
        "predicted_test_lr = model_lr.predict(test_X.to_numpy())\n",
        "accuracy_test_lr = accuracy_score(y_test, predicted_test_lr)\n",
        "print('Accuracy Test data: {:.1%}'.format(accuracy_test_lr))"
      ],
      "metadata": {
        "id": "XUrqI1eD8LDP",
        "colab": {
          "base_uri": "https://localhost:8080/"
        },
        "outputId": "332b8a64-132f-4c3d-f540-c8362fb84295"
      },
      "execution_count": null,
      "outputs": [
        {
          "output_type": "stream",
          "name": "stdout",
          "text": [
            "Accuracy Training data: 78.2%\n",
            "Accuracy Test data: 73.6%\n"
          ]
        }
      ]
    },
    {
      "cell_type": "code",
      "source": [
        "print(classification_report(y_test, predicted_test_lr))"
      ],
      "metadata": {
        "id": "hNS6bJq5_bU9",
        "colab": {
          "base_uri": "https://localhost:8080/"
        },
        "outputId": "e4d39142-43db-460c-ed61-6ba4efc157f8"
      },
      "execution_count": null,
      "outputs": [
        {
          "output_type": "stream",
          "name": "stdout",
          "text": [
            "              precision    recall  f1-score   support\n",
            "\n",
            "           0       0.76      0.66      0.71       346\n",
            "           1       0.72      0.80      0.76       369\n",
            "\n",
            "    accuracy                           0.74       715\n",
            "   macro avg       0.74      0.73      0.73       715\n",
            "weighted avg       0.74      0.74      0.73       715\n",
            "\n"
          ]
        }
      ]
    },
    {
      "cell_type": "code",
      "source": [],
      "metadata": {
        "id": "mxHLPqd_77q0"
      },
      "execution_count": null,
      "outputs": []
    }
  ]
}