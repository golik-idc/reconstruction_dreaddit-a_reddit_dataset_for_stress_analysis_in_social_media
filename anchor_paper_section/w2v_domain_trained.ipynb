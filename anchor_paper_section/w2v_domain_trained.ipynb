{
  "nbformat": 4,
  "nbformat_minor": 0,
  "metadata": {
    "colab": {
      "provenance": [],
      "collapsed_sections": []
    },
    "kernelspec": {
      "name": "python3",
      "display_name": "Python 3"
    },
    "language_info": {
      "name": "python"
    }
  },
  "cells": [
    {
      "cell_type": "code",
      "execution_count": 1,
      "metadata": {
        "id": "uEflmPU8mKNA",
        "colab": {
          "base_uri": "https://localhost:8080/"
        },
        "outputId": "4c35d6b6-a389-445c-8469-6f89cc077f64"
      },
      "outputs": [
        {
          "output_type": "stream",
          "name": "stdout",
          "text": [
            "\u001b[K     |████████████████████████████████| 24.1 MB 1.4 MB/s \n",
            "\u001b[?25h"
          ]
        }
      ],
      "source": [
        "!pip install --quiet -U gensim"
      ]
    },
    {
      "cell_type": "code",
      "source": [
        "!pip install --quiet transformers"
      ],
      "metadata": {
        "id": "yH77OmxXmUYT",
        "colab": {
          "base_uri": "https://localhost:8080/"
        },
        "outputId": "a89b3f04-78c3-4e85-fddd-0c06d565eabf"
      },
      "execution_count": 2,
      "outputs": [
        {
          "output_type": "stream",
          "name": "stdout",
          "text": [
            "\u001b[K     |████████████████████████████████| 4.7 MB 5.1 MB/s \n",
            "\u001b[K     |████████████████████████████████| 6.6 MB 35.3 MB/s \n",
            "\u001b[K     |████████████████████████████████| 120 kB 52.7 MB/s \n",
            "\u001b[?25h"
          ]
        }
      ]
    },
    {
      "cell_type": "code",
      "source": [
        "!pip3 install --quiet keras"
      ],
      "metadata": {
        "id": "TitK2zDjmclv"
      },
      "execution_count": 3,
      "outputs": []
    },
    {
      "cell_type": "code",
      "source": [
        "!pip3 install --quiet keras"
      ],
      "metadata": {
        "id": "1_026_F9mlCd"
      },
      "execution_count": 4,
      "outputs": []
    },
    {
      "cell_type": "code",
      "source": [
        "from google.colab import drive\n",
        "drive.mount('/content/drive')"
      ],
      "metadata": {
        "colab": {
          "base_uri": "https://localhost:8080/"
        },
        "id": "011kCUNempCd",
        "outputId": "d150a917-3eab-44b1-87f4-9a098a48b637"
      },
      "execution_count": 5,
      "outputs": [
        {
          "output_type": "stream",
          "name": "stdout",
          "text": [
            "Mounted at /content/drive\n"
          ]
        }
      ]
    },
    {
      "cell_type": "code",
      "source": [
        "%cd drive/MyDrive/AML/HW4/classifier"
      ],
      "metadata": {
        "colab": {
          "base_uri": "https://localhost:8080/"
        },
        "id": "jgtrQjQmmrWw",
        "outputId": "eb112b69-6fce-42a1-cb43-9338780b295c"
      },
      "execution_count": 6,
      "outputs": [
        {
          "output_type": "stream",
          "name": "stdout",
          "text": [
            "/content/drive/MyDrive/AML/HW4/classifier\n"
          ]
        }
      ]
    },
    {
      "cell_type": "code",
      "source": [
        "!ls"
      ],
      "metadata": {
        "colab": {
          "base_uri": "https://localhost:8080/"
        },
        "id": "LwovHQCLmtc8",
        "outputId": "3196d993-befe-414e-cfe1-fa9775615289"
      },
      "execution_count": 7,
      "outputs": [
        {
          "output_type": "stream",
          "name": "stdout",
          "text": [
            " BERT-classification-on-text-augmented.ipynb\n",
            " BERT-classification-on-text.ipynb\n",
            " BERT-pretrained-features.ipynb\n",
            " classification_test_results.tsv\n",
            " dreaddit\n",
            " dreaddit-test.csv\n",
            " dreaddit-train.csv\n",
            " dreddit.ipynb\n",
            " GoogleNews-vectors-negative300.bin\n",
            " GoogleNews-vectors-negative300.bin.gz\n",
            " logs\n",
            " pre-trained-BERT-features-2.ipynb\n",
            " results\n",
            " tBERT_LDA_augmented_dreddit.ipynb\n",
            " tBERT_with_LDA_for_dreddit.ipynb\n",
            " test_data.tsv\n",
            " tfi-df-embeddings.ipynb\n",
            " train_data_for_students.tsv\n",
            " trump_tweets_classifiers.ipynb\n",
            "'w2v_domain_trained_ GSDMM.ipynb'\n",
            " w2v-domain-trained.ipynb\n",
            " w2v_domain_trained_lda_augmented_self_training.ipynb\n",
            " w2v-domain-trained-lda.ipynb\n",
            " w2v_domain_trained_LDA_multilabled.ipynb\n",
            " w2v-google-news-pretrained.ipynb\n"
          ]
        }
      ]
    },
    {
      "cell_type": "code",
      "source": [
        "# Data processing\n",
        "import pandas as pd\n",
        "import numpy as np\n",
        "\n",
        "# Machine Learning\n",
        "from sklearn.model_selection import train_test_split\n",
        "from sklearn.feature_extraction.text import CountVectorizer, TfidfVectorizer\n",
        "from sklearn.linear_model import LogisticRegression, SGDClassifier\n",
        "from sklearn.pipeline import Pipeline\n",
        "from sklearn.metrics import accuracy_score\n",
        "from sklearn.preprocessing import LabelBinarizer\n",
        "\n",
        "import transformers\n",
        "import torch\n",
        "from transformers import AutoModel, AutoTokenizer\n",
        "from transformers import Trainer, TrainingArguments\n",
        "from transformers import BertTokenizerFast, BertForSequenceClassification\n",
        "from transformers.file_utils import is_tf_available, is_torch_available, is_torch_tpu_available\n",
        "\n",
        "# Visualization\n",
        "from matplotlib import pyplot as plt\n",
        "\n",
        "import nltk\n",
        "from nltk.corpus import stopwords\n",
        "\n",
        "from sklearn.metrics import accuracy_score\n",
        "from sklearn.metrics import classification_report\n",
        "from sklearn.ensemble import GradientBoostingClassifier, RandomForestClassifier\n",
        "from sklearn.model_selection import train_test_split,KFold\n",
        "from sklearn.preprocessing import LabelEncoder\n",
        "\n",
        "# Text processing\n",
        "import re\n",
        "import nltk\n",
        "import gensim.downloader as api\n",
        "\n",
        "# Various\n",
        "from datetime import datetime\n",
        "#Google Drive\n",
        "from google.colab import drive\n",
        "\n",
        "import re\n",
        "import tqdm\n",
        "\n",
        "import gensim, logging\n"
      ],
      "metadata": {
        "id": "7yu-_GhwmvQU"
      },
      "execution_count": 8,
      "outputs": []
    },
    {
      "cell_type": "code",
      "source": [
        "def set_seed(seed: int):\n",
        "    # numpy\n",
        "    np.random.seed(seed)\n",
        "\n",
        "    # torch\n",
        "    if is_torch_available():\n",
        "        torch.manual_seed(seed)\n",
        "        torch.cuda.manual_seed_all(seed)\n",
        "         \n",
        "set_seed(42)"
      ],
      "metadata": {
        "id": "D6ZCmXo8nEyI"
      },
      "execution_count": 9,
      "outputs": []
    },
    {
      "cell_type": "code",
      "source": [
        "def concat_two(original, new_x, features_from_original):\n",
        "  new_df = pd.concat([new_x, original[features_from_original]], axis=1)\n",
        "  return new_df"
      ],
      "metadata": {
        "id": "Xsx7dkzUbfVb"
      },
      "execution_count": 10,
      "outputs": []
    },
    {
      "cell_type": "code",
      "source": [
        "def get_domain(subreddit):\n",
        "  if subreddit=='domesticviolence' or subreddit=='survivorsofabuse':\n",
        "    return 'abuse';\n",
        "  if subreddit=='anxiety' or subreddit=='stress':\n",
        "    return 'anxiety';\n",
        "  if subreddit=='almosthomeless' or subreddit=='assistance' or subreddit=='food_pantry' or subreddit=='homeless':\n",
        "    return 'financial';\n",
        "  if subreddit=='ptsd':\n",
        "    return 'ptsd';\n",
        "  else:\n",
        "    return 'social';"
      ],
      "metadata": {
        "id": "npifQv7FW6v2"
      },
      "execution_count": 11,
      "outputs": []
    },
    {
      "cell_type": "code",
      "source": [
        "df=pd.read_csv('dreaddit/dreaddit-train.csv')\n",
        "df.shape"
      ],
      "metadata": {
        "colab": {
          "base_uri": "https://localhost:8080/"
        },
        "id": "Kiz0hEPWnIvn",
        "outputId": "cdc1256a-1227-4b67-b2eb-2bcec5ab8f32"
      },
      "execution_count": 12,
      "outputs": [
        {
          "output_type": "execute_result",
          "data": {
            "text/plain": [
              "(2838, 116)"
            ]
          },
          "metadata": {},
          "execution_count": 12
        }
      ]
    },
    {
      "cell_type": "code",
      "source": [
        "df_test = pd.read_csv('dreaddit/dreaddit-test.csv')\n",
        "df_test.shape"
      ],
      "metadata": {
        "colab": {
          "base_uri": "https://localhost:8080/"
        },
        "id": "j7Diq_1OnTy-",
        "outputId": "9d2b4239-7bb4-470b-e3da-70b0fe29e9cc"
      },
      "execution_count": 13,
      "outputs": [
        {
          "output_type": "execute_result",
          "data": {
            "text/plain": [
              "(715, 116)"
            ]
          },
          "metadata": {},
          "execution_count": 13
        }
      ]
    },
    {
      "cell_type": "code",
      "source": [
        "df['text_clean'] = df['text'].apply(lambda x: gensim.utils.simple_preprocess(x))\n",
        "df['domain'] = df['subreddit'].map(lambda x: get_domain(x))\n",
        "X_train = df['text_clean']\n",
        "y_train = df['label']\n",
        "y_train = y_train.to_list()\n",
        "df.head(2)"
      ],
      "metadata": {
        "colab": {
          "base_uri": "https://localhost:8080/",
          "height": 323
        },
        "id": "ZYAS-i4_nXwa",
        "outputId": "f7feb188-68a8-4e7c-a9ef-76f1a0b028e4"
      },
      "execution_count": 14,
      "outputs": [
        {
          "output_type": "execute_result",
          "data": {
            "text/plain": [
              "    subreddit post_id sentence_range  \\\n",
              "0        ptsd  8601tu       (15, 20)   \n",
              "1  assistance  8lbrx9         (0, 5)   \n",
              "\n",
              "                                                text     id  label  \\\n",
              "0  He said he had not felt that way before, sugge...  33181      1   \n",
              "1  Hey there r/assistance, Not sure if this is th...   2606      0   \n",
              "\n",
              "   confidence  social_timestamp  social_karma  syntax_ari  ...  \\\n",
              "0         0.8        1521614353             5    1.806818  ...   \n",
              "1         1.0        1527009817             4    9.429737  ...   \n",
              "\n",
              "   lex_dal_min_imagery  lex_dal_avg_activation  lex_dal_avg_imagery  \\\n",
              "0                  1.0                 1.77000              1.52211   \n",
              "1                  1.0                 1.69586              1.62045   \n",
              "\n",
              "   lex_dal_avg_pleasantness  social_upvote_ratio  social_num_comments  \\\n",
              "0                   1.89556                 0.86                    1   \n",
              "1                   1.88919                 0.65                    2   \n",
              "\n",
              "   syntax_fk_grade  sentiment  \\\n",
              "0         3.253573  -0.002742   \n",
              "1         8.828316   0.292857   \n",
              "\n",
              "                                          text_clean     domain  \n",
              "0  [he, said, he, had, not, felt, that, way, befo...       ptsd  \n",
              "1  [hey, there, assistance, not, sure, if, this, ...  financial  \n",
              "\n",
              "[2 rows x 118 columns]"
            ],
            "text/html": [
              "\n",
              "  <div id=\"df-2f5d29cc-d218-49f7-9eac-7dc3b7871883\">\n",
              "    <div class=\"colab-df-container\">\n",
              "      <div>\n",
              "<style scoped>\n",
              "    .dataframe tbody tr th:only-of-type {\n",
              "        vertical-align: middle;\n",
              "    }\n",
              "\n",
              "    .dataframe tbody tr th {\n",
              "        vertical-align: top;\n",
              "    }\n",
              "\n",
              "    .dataframe thead th {\n",
              "        text-align: right;\n",
              "    }\n",
              "</style>\n",
              "<table border=\"1\" class=\"dataframe\">\n",
              "  <thead>\n",
              "    <tr style=\"text-align: right;\">\n",
              "      <th></th>\n",
              "      <th>subreddit</th>\n",
              "      <th>post_id</th>\n",
              "      <th>sentence_range</th>\n",
              "      <th>text</th>\n",
              "      <th>id</th>\n",
              "      <th>label</th>\n",
              "      <th>confidence</th>\n",
              "      <th>social_timestamp</th>\n",
              "      <th>social_karma</th>\n",
              "      <th>syntax_ari</th>\n",
              "      <th>...</th>\n",
              "      <th>lex_dal_min_imagery</th>\n",
              "      <th>lex_dal_avg_activation</th>\n",
              "      <th>lex_dal_avg_imagery</th>\n",
              "      <th>lex_dal_avg_pleasantness</th>\n",
              "      <th>social_upvote_ratio</th>\n",
              "      <th>social_num_comments</th>\n",
              "      <th>syntax_fk_grade</th>\n",
              "      <th>sentiment</th>\n",
              "      <th>text_clean</th>\n",
              "      <th>domain</th>\n",
              "    </tr>\n",
              "  </thead>\n",
              "  <tbody>\n",
              "    <tr>\n",
              "      <th>0</th>\n",
              "      <td>ptsd</td>\n",
              "      <td>8601tu</td>\n",
              "      <td>(15, 20)</td>\n",
              "      <td>He said he had not felt that way before, sugge...</td>\n",
              "      <td>33181</td>\n",
              "      <td>1</td>\n",
              "      <td>0.8</td>\n",
              "      <td>1521614353</td>\n",
              "      <td>5</td>\n",
              "      <td>1.806818</td>\n",
              "      <td>...</td>\n",
              "      <td>1.0</td>\n",
              "      <td>1.77000</td>\n",
              "      <td>1.52211</td>\n",
              "      <td>1.89556</td>\n",
              "      <td>0.86</td>\n",
              "      <td>1</td>\n",
              "      <td>3.253573</td>\n",
              "      <td>-0.002742</td>\n",
              "      <td>[he, said, he, had, not, felt, that, way, befo...</td>\n",
              "      <td>ptsd</td>\n",
              "    </tr>\n",
              "    <tr>\n",
              "      <th>1</th>\n",
              "      <td>assistance</td>\n",
              "      <td>8lbrx9</td>\n",
              "      <td>(0, 5)</td>\n",
              "      <td>Hey there r/assistance, Not sure if this is th...</td>\n",
              "      <td>2606</td>\n",
              "      <td>0</td>\n",
              "      <td>1.0</td>\n",
              "      <td>1527009817</td>\n",
              "      <td>4</td>\n",
              "      <td>9.429737</td>\n",
              "      <td>...</td>\n",
              "      <td>1.0</td>\n",
              "      <td>1.69586</td>\n",
              "      <td>1.62045</td>\n",
              "      <td>1.88919</td>\n",
              "      <td>0.65</td>\n",
              "      <td>2</td>\n",
              "      <td>8.828316</td>\n",
              "      <td>0.292857</td>\n",
              "      <td>[hey, there, assistance, not, sure, if, this, ...</td>\n",
              "      <td>financial</td>\n",
              "    </tr>\n",
              "  </tbody>\n",
              "</table>\n",
              "<p>2 rows × 118 columns</p>\n",
              "</div>\n",
              "      <button class=\"colab-df-convert\" onclick=\"convertToInteractive('df-2f5d29cc-d218-49f7-9eac-7dc3b7871883')\"\n",
              "              title=\"Convert this dataframe to an interactive table.\"\n",
              "              style=\"display:none;\">\n",
              "        \n",
              "  <svg xmlns=\"http://www.w3.org/2000/svg\" height=\"24px\"viewBox=\"0 0 24 24\"\n",
              "       width=\"24px\">\n",
              "    <path d=\"M0 0h24v24H0V0z\" fill=\"none\"/>\n",
              "    <path d=\"M18.56 5.44l.94 2.06.94-2.06 2.06-.94-2.06-.94-.94-2.06-.94 2.06-2.06.94zm-11 1L8.5 8.5l.94-2.06 2.06-.94-2.06-.94L8.5 2.5l-.94 2.06-2.06.94zm10 10l.94 2.06.94-2.06 2.06-.94-2.06-.94-.94-2.06-.94 2.06-2.06.94z\"/><path d=\"M17.41 7.96l-1.37-1.37c-.4-.4-.92-.59-1.43-.59-.52 0-1.04.2-1.43.59L10.3 9.45l-7.72 7.72c-.78.78-.78 2.05 0 2.83L4 21.41c.39.39.9.59 1.41.59.51 0 1.02-.2 1.41-.59l7.78-7.78 2.81-2.81c.8-.78.8-2.07 0-2.86zM5.41 20L4 18.59l7.72-7.72 1.47 1.35L5.41 20z\"/>\n",
              "  </svg>\n",
              "      </button>\n",
              "      \n",
              "  <style>\n",
              "    .colab-df-container {\n",
              "      display:flex;\n",
              "      flex-wrap:wrap;\n",
              "      gap: 12px;\n",
              "    }\n",
              "\n",
              "    .colab-df-convert {\n",
              "      background-color: #E8F0FE;\n",
              "      border: none;\n",
              "      border-radius: 50%;\n",
              "      cursor: pointer;\n",
              "      display: none;\n",
              "      fill: #1967D2;\n",
              "      height: 32px;\n",
              "      padding: 0 0 0 0;\n",
              "      width: 32px;\n",
              "    }\n",
              "\n",
              "    .colab-df-convert:hover {\n",
              "      background-color: #E2EBFA;\n",
              "      box-shadow: 0px 1px 2px rgba(60, 64, 67, 0.3), 0px 1px 3px 1px rgba(60, 64, 67, 0.15);\n",
              "      fill: #174EA6;\n",
              "    }\n",
              "\n",
              "    [theme=dark] .colab-df-convert {\n",
              "      background-color: #3B4455;\n",
              "      fill: #D2E3FC;\n",
              "    }\n",
              "\n",
              "    [theme=dark] .colab-df-convert:hover {\n",
              "      background-color: #434B5C;\n",
              "      box-shadow: 0px 1px 3px 1px rgba(0, 0, 0, 0.15);\n",
              "      filter: drop-shadow(0px 1px 2px rgba(0, 0, 0, 0.3));\n",
              "      fill: #FFFFFF;\n",
              "    }\n",
              "  </style>\n",
              "\n",
              "      <script>\n",
              "        const buttonEl =\n",
              "          document.querySelector('#df-2f5d29cc-d218-49f7-9eac-7dc3b7871883 button.colab-df-convert');\n",
              "        buttonEl.style.display =\n",
              "          google.colab.kernel.accessAllowed ? 'block' : 'none';\n",
              "\n",
              "        async function convertToInteractive(key) {\n",
              "          const element = document.querySelector('#df-2f5d29cc-d218-49f7-9eac-7dc3b7871883');\n",
              "          const dataTable =\n",
              "            await google.colab.kernel.invokeFunction('convertToInteractive',\n",
              "                                                     [key], {});\n",
              "          if (!dataTable) return;\n",
              "\n",
              "          const docLinkHtml = 'Like what you see? Visit the ' +\n",
              "            '<a target=\"_blank\" href=https://colab.research.google.com/notebooks/data_table.ipynb>data table notebook</a>'\n",
              "            + ' to learn more about interactive tables.';\n",
              "          element.innerHTML = '';\n",
              "          dataTable['output_type'] = 'display_data';\n",
              "          await google.colab.output.renderOutput(dataTable, element);\n",
              "          const docLink = document.createElement('div');\n",
              "          docLink.innerHTML = docLinkHtml;\n",
              "          element.appendChild(docLink);\n",
              "        }\n",
              "      </script>\n",
              "    </div>\n",
              "  </div>\n",
              "  "
            ]
          },
          "metadata": {},
          "execution_count": 14
        }
      ]
    },
    {
      "cell_type": "code",
      "source": [
        "df_test['text_clean'] = df_test['text'].apply(lambda x: gensim.utils.simple_preprocess(x))\n",
        "df_test['domain'] = df_test['subreddit'].map(lambda x: get_domain(x))\n",
        "X_test = df_test['text_clean']\n",
        "y_test = df_test['label']\n",
        "y_test = y_test.to_list()\n",
        "df_test.head(2)"
      ],
      "metadata": {
        "colab": {
          "base_uri": "https://localhost:8080/",
          "height": 374
        },
        "id": "ED6gER_QpQ9L",
        "outputId": "b07aaa61-38ca-4cfb-8316-aa1ce96c7931"
      },
      "execution_count": 15,
      "outputs": [
        {
          "output_type": "execute_result",
          "data": {
            "text/plain": [
              "      id      subreddit post_id sentence_range  \\\n",
              "0    896  relationships  7nu7as       [50, 55]   \n",
              "1  19059        anxiety  680i6d        (5, 10)   \n",
              "\n",
              "                                                text  label  confidence  \\\n",
              "0  Its like that, if you want or not.“ ME: I have...      0         0.8   \n",
              "1  I man the front desk and my title is HR Custom...      0         1.0   \n",
              "\n",
              "   social_timestamp  social_karma  syntax_ari  ...  lex_dal_min_imagery  \\\n",
              "0      1.514981e+09            22   -1.238793  ...                  1.0   \n",
              "1      1.493348e+09             5    7.684583  ...                  1.0   \n",
              "\n",
              "   lex_dal_avg_activation  lex_dal_avg_imagery  lex_dal_avg_pleasantness  \\\n",
              "0                 1.65864              1.32245                   1.80264   \n",
              "1                 1.69133              1.69180                   1.97249   \n",
              "\n",
              "   social_upvote_ratio  social_num_comments  syntax_fk_grade  sentiment  \\\n",
              "0                 0.63                   62        -0.148707   0.000000   \n",
              "1                 1.00                    2         7.398222  -0.065909   \n",
              "\n",
              "                                          text_clean   domain  \n",
              "0  [its, like, that, if, you, want, or, not, me, ...   social  \n",
              "1  [man, the, front, desk, and, my, title, is, hr...  anxiety  \n",
              "\n",
              "[2 rows x 118 columns]"
            ],
            "text/html": [
              "\n",
              "  <div id=\"df-d1639c62-4ec0-419e-a5c9-bcc59ad74aa4\">\n",
              "    <div class=\"colab-df-container\">\n",
              "      <div>\n",
              "<style scoped>\n",
              "    .dataframe tbody tr th:only-of-type {\n",
              "        vertical-align: middle;\n",
              "    }\n",
              "\n",
              "    .dataframe tbody tr th {\n",
              "        vertical-align: top;\n",
              "    }\n",
              "\n",
              "    .dataframe thead th {\n",
              "        text-align: right;\n",
              "    }\n",
              "</style>\n",
              "<table border=\"1\" class=\"dataframe\">\n",
              "  <thead>\n",
              "    <tr style=\"text-align: right;\">\n",
              "      <th></th>\n",
              "      <th>id</th>\n",
              "      <th>subreddit</th>\n",
              "      <th>post_id</th>\n",
              "      <th>sentence_range</th>\n",
              "      <th>text</th>\n",
              "      <th>label</th>\n",
              "      <th>confidence</th>\n",
              "      <th>social_timestamp</th>\n",
              "      <th>social_karma</th>\n",
              "      <th>syntax_ari</th>\n",
              "      <th>...</th>\n",
              "      <th>lex_dal_min_imagery</th>\n",
              "      <th>lex_dal_avg_activation</th>\n",
              "      <th>lex_dal_avg_imagery</th>\n",
              "      <th>lex_dal_avg_pleasantness</th>\n",
              "      <th>social_upvote_ratio</th>\n",
              "      <th>social_num_comments</th>\n",
              "      <th>syntax_fk_grade</th>\n",
              "      <th>sentiment</th>\n",
              "      <th>text_clean</th>\n",
              "      <th>domain</th>\n",
              "    </tr>\n",
              "  </thead>\n",
              "  <tbody>\n",
              "    <tr>\n",
              "      <th>0</th>\n",
              "      <td>896</td>\n",
              "      <td>relationships</td>\n",
              "      <td>7nu7as</td>\n",
              "      <td>[50, 55]</td>\n",
              "      <td>Its like that, if you want or not.“ ME: I have...</td>\n",
              "      <td>0</td>\n",
              "      <td>0.8</td>\n",
              "      <td>1.514981e+09</td>\n",
              "      <td>22</td>\n",
              "      <td>-1.238793</td>\n",
              "      <td>...</td>\n",
              "      <td>1.0</td>\n",
              "      <td>1.65864</td>\n",
              "      <td>1.32245</td>\n",
              "      <td>1.80264</td>\n",
              "      <td>0.63</td>\n",
              "      <td>62</td>\n",
              "      <td>-0.148707</td>\n",
              "      <td>0.000000</td>\n",
              "      <td>[its, like, that, if, you, want, or, not, me, ...</td>\n",
              "      <td>social</td>\n",
              "    </tr>\n",
              "    <tr>\n",
              "      <th>1</th>\n",
              "      <td>19059</td>\n",
              "      <td>anxiety</td>\n",
              "      <td>680i6d</td>\n",
              "      <td>(5, 10)</td>\n",
              "      <td>I man the front desk and my title is HR Custom...</td>\n",
              "      <td>0</td>\n",
              "      <td>1.0</td>\n",
              "      <td>1.493348e+09</td>\n",
              "      <td>5</td>\n",
              "      <td>7.684583</td>\n",
              "      <td>...</td>\n",
              "      <td>1.0</td>\n",
              "      <td>1.69133</td>\n",
              "      <td>1.69180</td>\n",
              "      <td>1.97249</td>\n",
              "      <td>1.00</td>\n",
              "      <td>2</td>\n",
              "      <td>7.398222</td>\n",
              "      <td>-0.065909</td>\n",
              "      <td>[man, the, front, desk, and, my, title, is, hr...</td>\n",
              "      <td>anxiety</td>\n",
              "    </tr>\n",
              "  </tbody>\n",
              "</table>\n",
              "<p>2 rows × 118 columns</p>\n",
              "</div>\n",
              "      <button class=\"colab-df-convert\" onclick=\"convertToInteractive('df-d1639c62-4ec0-419e-a5c9-bcc59ad74aa4')\"\n",
              "              title=\"Convert this dataframe to an interactive table.\"\n",
              "              style=\"display:none;\">\n",
              "        \n",
              "  <svg xmlns=\"http://www.w3.org/2000/svg\" height=\"24px\"viewBox=\"0 0 24 24\"\n",
              "       width=\"24px\">\n",
              "    <path d=\"M0 0h24v24H0V0z\" fill=\"none\"/>\n",
              "    <path d=\"M18.56 5.44l.94 2.06.94-2.06 2.06-.94-2.06-.94-.94-2.06-.94 2.06-2.06.94zm-11 1L8.5 8.5l.94-2.06 2.06-.94-2.06-.94L8.5 2.5l-.94 2.06-2.06.94zm10 10l.94 2.06.94-2.06 2.06-.94-2.06-.94-.94-2.06-.94 2.06-2.06.94z\"/><path d=\"M17.41 7.96l-1.37-1.37c-.4-.4-.92-.59-1.43-.59-.52 0-1.04.2-1.43.59L10.3 9.45l-7.72 7.72c-.78.78-.78 2.05 0 2.83L4 21.41c.39.39.9.59 1.41.59.51 0 1.02-.2 1.41-.59l7.78-7.78 2.81-2.81c.8-.78.8-2.07 0-2.86zM5.41 20L4 18.59l7.72-7.72 1.47 1.35L5.41 20z\"/>\n",
              "  </svg>\n",
              "      </button>\n",
              "      \n",
              "  <style>\n",
              "    .colab-df-container {\n",
              "      display:flex;\n",
              "      flex-wrap:wrap;\n",
              "      gap: 12px;\n",
              "    }\n",
              "\n",
              "    .colab-df-convert {\n",
              "      background-color: #E8F0FE;\n",
              "      border: none;\n",
              "      border-radius: 50%;\n",
              "      cursor: pointer;\n",
              "      display: none;\n",
              "      fill: #1967D2;\n",
              "      height: 32px;\n",
              "      padding: 0 0 0 0;\n",
              "      width: 32px;\n",
              "    }\n",
              "\n",
              "    .colab-df-convert:hover {\n",
              "      background-color: #E2EBFA;\n",
              "      box-shadow: 0px 1px 2px rgba(60, 64, 67, 0.3), 0px 1px 3px 1px rgba(60, 64, 67, 0.15);\n",
              "      fill: #174EA6;\n",
              "    }\n",
              "\n",
              "    [theme=dark] .colab-df-convert {\n",
              "      background-color: #3B4455;\n",
              "      fill: #D2E3FC;\n",
              "    }\n",
              "\n",
              "    [theme=dark] .colab-df-convert:hover {\n",
              "      background-color: #434B5C;\n",
              "      box-shadow: 0px 1px 3px 1px rgba(0, 0, 0, 0.15);\n",
              "      filter: drop-shadow(0px 1px 2px rgba(0, 0, 0, 0.3));\n",
              "      fill: #FFFFFF;\n",
              "    }\n",
              "  </style>\n",
              "\n",
              "      <script>\n",
              "        const buttonEl =\n",
              "          document.querySelector('#df-d1639c62-4ec0-419e-a5c9-bcc59ad74aa4 button.colab-df-convert');\n",
              "        buttonEl.style.display =\n",
              "          google.colab.kernel.accessAllowed ? 'block' : 'none';\n",
              "\n",
              "        async function convertToInteractive(key) {\n",
              "          const element = document.querySelector('#df-d1639c62-4ec0-419e-a5c9-bcc59ad74aa4');\n",
              "          const dataTable =\n",
              "            await google.colab.kernel.invokeFunction('convertToInteractive',\n",
              "                                                     [key], {});\n",
              "          if (!dataTable) return;\n",
              "\n",
              "          const docLinkHtml = 'Like what you see? Visit the ' +\n",
              "            '<a target=\"_blank\" href=https://colab.research.google.com/notebooks/data_table.ipynb>data table notebook</a>'\n",
              "            + ' to learn more about interactive tables.';\n",
              "          element.innerHTML = '';\n",
              "          dataTable['output_type'] = 'display_data';\n",
              "          await google.colab.output.renderOutput(dataTable, element);\n",
              "          const docLink = document.createElement('div');\n",
              "          docLink.innerHTML = docLinkHtml;\n",
              "          element.appendChild(docLink);\n",
              "        }\n",
              "      </script>\n",
              "    </div>\n",
              "  </div>\n",
              "  "
            ]
          },
          "metadata": {},
          "execution_count": 15
        }
      ]
    },
    {
      "cell_type": "code",
      "source": [
        "ll = df[df.columns[1:]].corr().abs()['label'].sort_values(ascending = False)[:16].gt(0.2).drop('label')"
      ],
      "metadata": {
        "id": "Xq0BlZwViGoe"
      },
      "execution_count": 16,
      "outputs": []
    },
    {
      "cell_type": "code",
      "source": [
        "top_correlations = list(ll.index)\n",
        "top_correlations"
      ],
      "metadata": {
        "colab": {
          "base_uri": "https://localhost:8080/"
        },
        "id": "EwtITvvxmNxz",
        "outputId": "110534d1-d394-42ff-e6f6-6d8e78aeff66"
      },
      "execution_count": 17,
      "outputs": [
        {
          "output_type": "execute_result",
          "data": {
            "text/plain": [
              "['lex_liwc_Tone',\n",
              " 'lex_liwc_Clout',\n",
              " 'lex_liwc_i',\n",
              " 'lex_liwc_negemo',\n",
              " 'sentiment',\n",
              " 'lex_dal_min_pleasantness',\n",
              " 'lex_liwc_Authentic',\n",
              " 'lex_liwc_posemo',\n",
              " 'lex_liwc_anx',\n",
              " 'lex_liwc_social',\n",
              " 'lex_liwc_Analytic',\n",
              " 'lex_liwc_Dic',\n",
              " 'lex_liwc_function',\n",
              " 'lex_liwc_anger',\n",
              " 'lex_liwc_you']"
            ]
          },
          "metadata": {},
          "execution_count": 17
        }
      ]
    },
    {
      "cell_type": "code",
      "source": [
        "expected_vector_size=300"
      ],
      "metadata": {
        "id": "gyEJfkpUA3vY"
      },
      "execution_count": 18,
      "outputs": []
    },
    {
      "cell_type": "code",
      "source": [
        "w2v_model = gensim.models.Word2Vec(X_train,\n",
        "                                   vector_size=expected_vector_size,\n",
        "                                   window=5,\n",
        "                                   min_count=2)"
      ],
      "metadata": {
        "id": "UJ61m1k9oR4G"
      },
      "execution_count": 19,
      "outputs": []
    },
    {
      "cell_type": "code",
      "source": [
        "len(set(w2v_model.wv.index_to_key ))"
      ],
      "metadata": {
        "colab": {
          "base_uri": "https://localhost:8080/"
        },
        "id": "Z53RfPbmphN7",
        "outputId": "b86cf06f-204d-4ecd-c6c2-796e341b151b"
      },
      "execution_count": 20,
      "outputs": [
        {
          "output_type": "execute_result",
          "data": {
            "text/plain": [
              "6167"
            ]
          },
          "metadata": {},
          "execution_count": 20
        }
      ]
    },
    {
      "cell_type": "code",
      "source": [
        "w2v_model.wv.most_similar('stress')"
      ],
      "metadata": {
        "colab": {
          "base_uri": "https://localhost:8080/"
        },
        "id": "shu4HW1bpuwK",
        "outputId": "5fba1fcb-61fd-48bd-c9f7-2eb8e8cd7754"
      },
      "execution_count": 21,
      "outputs": [
        {
          "output_type": "execute_result",
          "data": {
            "text/plain": [
              "[('case', 0.9995608925819397),\n",
              " ('im', 0.9992623925209045),\n",
              " ('serious', 0.9992495775222778),\n",
              " ('medication', 0.9992032051086426),\n",
              " ('huge', 0.9991990327835083),\n",
              " ('its', 0.9991673827171326),\n",
              " ('loud', 0.9990829229354858),\n",
              " ('beyond', 0.9990783333778381),\n",
              " ('feelings', 0.9990318417549133),\n",
              " ('big', 0.999009370803833)]"
            ]
          },
          "metadata": {},
          "execution_count": 21
        }
      ]
    },
    {
      "cell_type": "code",
      "source": [
        "words = set(w2v_model.wv.index_to_key )\n",
        "\n",
        "X_train_vect = np.array([np.array([w2v_model.wv[i] for i in ls if i in words])\n",
        "                         for ls in X_train])\n",
        "X_test_vect = np.array([np.array([w2v_model.wv[i] for i in ls if i in words])\n",
        "                         for ls in X_test])"
      ],
      "metadata": {
        "id": "bVu72EhKp2y_",
        "colab": {
          "base_uri": "https://localhost:8080/"
        },
        "outputId": "543ed894-8f49-4137-f339-81eda156a693"
      },
      "execution_count": 22,
      "outputs": [
        {
          "output_type": "stream",
          "name": "stderr",
          "text": [
            "/usr/local/lib/python3.7/dist-packages/ipykernel_launcher.py:4: VisibleDeprecationWarning: Creating an ndarray from ragged nested sequences (which is a list-or-tuple of lists-or-tuples-or ndarrays with different lengths or shapes) is deprecated. If you meant to do this, you must specify 'dtype=object' when creating the ndarray.\n",
            "  after removing the cwd from sys.path.\n",
            "/usr/local/lib/python3.7/dist-packages/ipykernel_launcher.py:6: VisibleDeprecationWarning: Creating an ndarray from ragged nested sequences (which is a list-or-tuple of lists-or-tuples-or ndarrays with different lengths or shapes) is deprecated. If you meant to do this, you must specify 'dtype=object' when creating the ndarray.\n",
            "  \n"
          ]
        }
      ]
    },
    {
      "cell_type": "code",
      "source": [
        "X_train_vect_avg = []\n",
        "for v in X_train_vect:\n",
        "    if v.size:\n",
        "        X_train_vect_avg.append(v.mean(axis=0))\n",
        "    else:\n",
        "        # print('no v.size')\n",
        "        X_train_vect_avg.append(np.zeros(expected_vector_size, dtype=float))\n",
        "        \n",
        "X_test_vect_avg = []\n",
        "for v in X_test_vect:\n",
        "    if v.size:\n",
        "        X_test_vect_avg.append(v.mean(axis=0))\n",
        "    else:\n",
        "        # print('no v.size in test')\n",
        "        X_test_vect_avg.append(np.zeros(expected_vector_size, dtype=float))"
      ],
      "metadata": {
        "id": "bMNx4oKSq4uz"
      },
      "execution_count": 23,
      "outputs": []
    },
    {
      "cell_type": "code",
      "source": [
        "np.array(X_train_vect_avg).shape"
      ],
      "metadata": {
        "colab": {
          "base_uri": "https://localhost:8080/"
        },
        "id": "mWEvwSaJ1A4D",
        "outputId": "febdea0f-8ce5-4cce-b3ee-1595f4ec7ad7"
      },
      "execution_count": 24,
      "outputs": [
        {
          "output_type": "execute_result",
          "data": {
            "text/plain": [
              "(2838, 300)"
            ]
          },
          "metadata": {},
          "execution_count": 24
        }
      ]
    },
    {
      "cell_type": "code",
      "source": [
        "ff = top_correlations\n",
        "len(ff)"
      ],
      "metadata": {
        "colab": {
          "base_uri": "https://localhost:8080/"
        },
        "id": "GPSBnVH2cDUV",
        "outputId": "58de974b-2c16-4336-aa31-ea69dab08031"
      },
      "execution_count": 25,
      "outputs": [
        {
          "output_type": "execute_result",
          "data": {
            "text/plain": [
              "15"
            ]
          },
          "metadata": {},
          "execution_count": 25
        }
      ]
    },
    {
      "cell_type": "code",
      "source": [
        "df.shape"
      ],
      "metadata": {
        "colab": {
          "base_uri": "https://localhost:8080/"
        },
        "id": "Wx5ZKTr3kUZW",
        "outputId": "83581b18-b812-4c70-a5ea-45b0b4ac0f2e"
      },
      "execution_count": 26,
      "outputs": [
        {
          "output_type": "execute_result",
          "data": {
            "text/plain": [
              "(2838, 118)"
            ]
          },
          "metadata": {},
          "execution_count": 26
        }
      ]
    },
    {
      "cell_type": "code",
      "source": [
        "X = pd.DataFrame(X_train_vect_avg)\n",
        "print(f'X.shape = {X.shape}')\n",
        "test_X = pd.DataFrame(X_test_vect_avg)\n",
        "print(f'test_X.shape = {test_X.shape}')\n",
        "\n",
        "X = concat_two(df, X, ff)\n",
        "print(f'features - X.shape = {X.shape}')\n",
        "test_X = concat_two(df_test, test_X, ff)\n",
        "print(f'features - test_X.shape = {test_X.shape}')\n",
        "\n",
        "# le_train = LabelEncoder()\n",
        "# X = X.assign(subreddit = le_train.fit_transform(df['subreddit']))\n",
        "# print(f'features + subreddit - X.shape = {X.shape}')\n",
        "\n",
        "# le_test = LabelEncoder()\n",
        "# test_X = test_X.assign(subreddit = le_test.fit_transform(df_test['subreddit']))\n",
        "# print(f'features + subreddit - test_X.shape = {test_X.shape}')"
      ],
      "metadata": {
        "colab": {
          "base_uri": "https://localhost:8080/"
        },
        "id": "pej6EG5XvJ2J",
        "outputId": "484fc085-6cbb-4c69-c313-01d247e2b4f2"
      },
      "execution_count": 27,
      "outputs": [
        {
          "output_type": "stream",
          "name": "stdout",
          "text": [
            "X.shape = (2838, 300)\n",
            "test_X.shape = (715, 300)\n",
            "features - X.shape = (2838, 315)\n",
            "features - test_X.shape = (715, 315)\n"
          ]
        }
      ]
    },
    {
      "cell_type": "code",
      "source": [
        "from sklearn.ensemble import GradientBoostingClassifier, RandomForestClassifier, AdaBoostClassifier\n",
        "from xgboost import XGBClassifier\n",
        "from sklearn.tree import DecisionTreeClassifier\n",
        "from sklearn.linear_model import LogisticRegression\n",
        "from sklearn.neighbors import KNeighborsClassifier\n",
        "from sklearn.svm import SVC\n",
        "from sklearn.naive_bayes import GaussianNB\n",
        "from sklearn.model_selection import cross_val_score\n",
        "from sklearn.model_selection import RepeatedStratifiedKFold\n",
        "from sklearn.preprocessing import StandardScaler\n",
        "from sklearn.pipeline import make_pipeline\n",
        "\n",
        "import warnings\n",
        "warnings.filterwarnings(action='ignore', category=UserWarning)"
      ],
      "metadata": {
        "id": "ti7NL58t17VD"
      },
      "execution_count": 28,
      "outputs": []
    },
    {
      "cell_type": "code",
      "source": [
        "def get_models():\n",
        "    \n",
        "    models = dict()\n",
        "    models['lr'] = make_pipeline(StandardScaler(),LogisticRegression(solver = 'saga', C = 70.0))\n",
        "    models['svm'] = make_pipeline(StandardScaler(),SVC())\n",
        "    models['xgboost'] = XGBClassifier(n_estimators = 11, max_depth = 1)\n",
        "    models['GBM'] = GradientBoostingClassifier(n_estimators = 10)\n",
        "    models['adaboost'] = AdaBoostClassifier(n_estimators= 12)\n",
        "    \n",
        "    return models"
      ],
      "metadata": {
        "id": "BxA9Rlm32CDc"
      },
      "execution_count": 29,
      "outputs": []
    },
    {
      "cell_type": "code",
      "source": [
        "def evaluate_model(model, X, y):\n",
        "\tcv = RepeatedStratifiedKFold(n_splits=10, n_repeats=4, random_state=1)\n",
        "\tscores = cross_val_score(model, X, y, scoring='f1', cv=cv, n_jobs=-1, error_score='raise')\n",
        "\treturn scores"
      ],
      "metadata": {
        "id": "dXi9yLMA2Fwp"
      },
      "execution_count": 30,
      "outputs": []
    },
    {
      "cell_type": "code",
      "source": [
        "import matplotlib.pyplot as plt\n",
        "%matplotlib inline\n",
        "from numpy import mean\n",
        "from numpy import std\n",
        "\n",
        "# get the models to evaluate\n",
        "models = get_models()\n",
        "# evaluate the models and store results\n",
        "results, names = list(), list()\n",
        "for name, model in models.items():\n",
        "\tscores = evaluate_model(model, X, y_train)\n",
        "\tresults.append(scores)\n",
        "\tnames.append(name)\n",
        "\tprint('>%s %.2f (%.2f)' % (name, scores.mean(), std(scores)))\n",
        "# plot model performance for comparison\n",
        "plt.boxplot(results, labels=names, showmeans=True)\n",
        "plt.show()"
      ],
      "metadata": {
        "colab": {
          "base_uri": "https://localhost:8080/",
          "height": 351
        },
        "id": "Co-Cnx3J2KrD",
        "outputId": "1520aaaa-3b16-4ae5-88c2-629089e56497"
      },
      "execution_count": 31,
      "outputs": [
        {
          "output_type": "stream",
          "name": "stdout",
          "text": [
            ">lr 0.78 (0.03)\n",
            ">svm 0.77 (0.03)\n",
            ">xgboost 0.74 (0.02)\n",
            ">GBM 0.76 (0.02)\n",
            ">adaboost 0.75 (0.03)\n"
          ]
        },
        {
          "output_type": "display_data",
          "data": {
            "text/plain": [
              "<Figure size 432x288 with 1 Axes>"
            ],
            "image/png": "[encoded data removed]"
          },
          "metadata": {
            "needs_background": "light"
          }
        }
      ]
    },
    {
      "cell_type": "code",
      "source": [
        "from sklearn.model_selection import GridSearchCV\n",
        "\n",
        "\n",
        "classifier_lr = LogisticRegression()\n",
        "model_lr = Pipeline([(\"classifier\", classifier_lr)])\n",
        "\n",
        "\n",
        "param_grid = [\n",
        "    {'classifier__C': [1e-5, 1e-3, 1e-1, 1e0, 1e1, 70.0, 1e2, 1e5]},\n",
        "    {'classifier__penalty' : ['l2']},\n",
        "    {'classifier__solver'  : ['newton-cg', 'saga', 'lbfgs', 'liblinear']}\n",
        "]\n",
        "\n",
        "# Create grid search object\n",
        "\n",
        "clf = GridSearchCV(model_lr, param_grid = param_grid, cv = 10, verbose=True, n_jobs=-1)\n",
        "\n",
        "# Fit on data\n",
        "\n",
        "model_lr = clf.fit(X.to_numpy(), y_train)"
      ],
      "metadata": {
        "colab": {
          "base_uri": "https://localhost:8080/"
        },
        "id": "zLLnyDAi2v_o",
        "outputId": "e03451b8-0baf-4e55-9a41-a15b529e7718"
      },
      "execution_count": 32,
      "outputs": [
        {
          "output_type": "stream",
          "name": "stdout",
          "text": [
            "Fitting 10 folds for each of 13 candidates, totalling 130 fits\n"
          ]
        }
      ]
    },
    {
      "cell_type": "code",
      "source": [
        "print(model_lr)"
      ],
      "metadata": {
        "colab": {
          "base_uri": "https://localhost:8080/"
        },
        "id": "i9wcLbxc_cKU",
        "outputId": "eb22c6e7-8e44-4e81-d267-9237578cbc7f"
      },
      "execution_count": 33,
      "outputs": [
        {
          "output_type": "stream",
          "name": "stdout",
          "text": [
            "GridSearchCV(cv=10,\n",
            "             estimator=Pipeline(steps=[('classifier', LogisticRegression())]),\n",
            "             n_jobs=-1,\n",
            "             param_grid=[{'classifier__C': [1e-05, 0.001, 0.1, 1.0, 10.0, 70.0,\n",
            "                                            100.0, 100000.0]},\n",
            "                         {'classifier__penalty': ['l2']},\n",
            "                         {'classifier__solver': ['newton-cg', 'saga', 'lbfgs',\n",
            "                                                 'liblinear']}],\n",
            "             verbose=True)\n"
          ]
        }
      ]
    },
    {
      "cell_type": "code",
      "source": [
        "predicted_train_lr = model_lr.predict(X.to_numpy())\n",
        "accuracy_train_lr = accuracy_score(y_train, predicted_train_lr)\n",
        "print('Accuracy Training data: {:.1%}'.format(accuracy_train_lr))\n",
        "\n",
        "predicted_test_lr = model_lr.predict(test_X.to_numpy())\n",
        "accuracy_test_lr = accuracy_score(y_test, predicted_test_lr)\n",
        "print('Accuracy Test data: {:.1%}'.format(accuracy_test_lr))"
      ],
      "metadata": {
        "colab": {
          "base_uri": "https://localhost:8080/"
        },
        "id": "XUrqI1eD8LDP",
        "outputId": "1f1b02dc-df05-414a-80cf-346f388203da"
      },
      "execution_count": 34,
      "outputs": [
        {
          "output_type": "stream",
          "name": "stdout",
          "text": [
            "Accuracy Training data: 75.2%\n",
            "Accuracy Test data: 75.0%\n"
          ]
        }
      ]
    },
    {
      "cell_type": "code",
      "source": [
        "print(classification_report(y_test, predicted_test_lr))"
      ],
      "metadata": {
        "colab": {
          "base_uri": "https://localhost:8080/"
        },
        "id": "hNS6bJq5_bU9",
        "outputId": "8fc91ddc-1e0c-4b92-ccbc-e9a9e6e454c6"
      },
      "execution_count": 35,
      "outputs": [
        {
          "output_type": "stream",
          "name": "stdout",
          "text": [
            "              precision    recall  f1-score   support\n",
            "\n",
            "           0       0.77      0.68      0.73       346\n",
            "           1       0.73      0.81      0.77       369\n",
            "\n",
            "    accuracy                           0.75       715\n",
            "   macro avg       0.75      0.75      0.75       715\n",
            "weighted avg       0.75      0.75      0.75       715\n",
            "\n"
          ]
        }
      ]
    },
    {
      "cell_type": "code",
      "source": [
        "from sklearn.metrics import confusion_matrix\n",
        "confusion_matrix(y_test, predicted_test_lr)"
      ],
      "metadata": {
        "id": "UwjV2FSTqZBW",
        "colab": {
          "base_uri": "https://localhost:8080/"
        },
        "outputId": "7dc561c0-82e2-4c5b-8f4f-302f043964ea"
      },
      "execution_count": 36,
      "outputs": [
        {
          "output_type": "execute_result",
          "data": {
            "text/plain": [
              "array([[237, 109],\n",
              "       [ 70, 299]])"
            ]
          },
          "metadata": {},
          "execution_count": 36
        }
      ]
    }
  ]
}