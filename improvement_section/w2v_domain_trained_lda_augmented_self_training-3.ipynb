{
  "cells": [
    {
      "cell_type": "code",
      "execution_count": 1,
      "metadata": {
        "id": "uEflmPU8mKNA",
        "colab": {
          "base_uri": "https://localhost:8080/"
        },
        "outputId": "01340d9c-1607-4e27-b908-5622df0ba26f"
      },
      "outputs": [
        {
          "output_type": "stream",
          "name": "stdout",
          "text": [
            "\u001b[K     |████████████████████████████████| 24.1 MB 1.2 MB/s \n",
            "\u001b[?25h"
          ]
        }
      ],
      "source": [
        "!pip install --quiet -U gensim"
      ]
    },
    {
      "cell_type": "code",
      "execution_count": 2,
      "metadata": {
        "id": "yH77OmxXmUYT",
        "colab": {
          "base_uri": "https://localhost:8080/"
        },
        "outputId": "41f6d472-1b01-43f2-b287-8e05775d6401"
      },
      "outputs": [
        {
          "output_type": "stream",
          "name": "stdout",
          "text": [
            "\u001b[K     |████████████████████████████████| 4.7 MB 30.8 MB/s \n",
            "\u001b[K     |████████████████████████████████| 6.6 MB 55.1 MB/s \n",
            "\u001b[K     |████████████████████████████████| 120 kB 91.6 MB/s \n",
            "\u001b[?25h"
          ]
        }
      ],
      "source": [
        "!pip install --quiet transformers"
      ]
    },
    {
      "cell_type": "code",
      "execution_count": 3,
      "metadata": {
        "id": "TitK2zDjmclv"
      },
      "outputs": [],
      "source": [
        "!pip3 install --quiet keras"
      ]
    },
    {
      "cell_type": "code",
      "execution_count": 4,
      "metadata": {
        "colab": {
          "base_uri": "https://localhost:8080/"
        },
        "id": "011kCUNempCd",
        "outputId": "4edbbae6-7021-410f-c6cc-502d3b938e21"
      },
      "outputs": [
        {
          "output_type": "stream",
          "name": "stdout",
          "text": [
            "Mounted at /content/drive\n"
          ]
        }
      ],
      "source": [
        "from google.colab import drive\n",
        "drive.mount('/content/drive')"
      ]
    },
    {
      "cell_type": "code",
      "execution_count": 5,
      "metadata": {
        "colab": {
          "base_uri": "https://localhost:8080/"
        },
        "id": "jgtrQjQmmrWw",
        "outputId": "2b893986-a6db-4451-a150-a6a68ad14b14"
      },
      "outputs": [
        {
          "output_type": "stream",
          "name": "stdout",
          "text": [
            "/content/drive/MyDrive/AML/HW4/classifier\n"
          ]
        }
      ],
      "source": [
        "%cd drive/MyDrive/AML/HW4/classifier"
      ]
    },
    {
      "cell_type": "code",
      "execution_count": 6,
      "metadata": {
        "colab": {
          "base_uri": "https://localhost:8080/"
        },
        "id": "LwovHQCLmtc8",
        "outputId": "b4424a85-4ac6-4b17-aeba-8e0c778c5d64"
      },
      "outputs": [
        {
          "output_type": "stream",
          "name": "stdout",
          "text": [
            " BERT-classification-on-text-augmented.ipynb\n",
            " BERT-classification-on-text.ipynb\n",
            " BERT-pretrained-features.ipynb\n",
            " classification_test_results.tsv\n",
            " dreaddit\n",
            " dreaddit-test.csv\n",
            " dreaddit-train.csv\n",
            " dreddit.ipynb\n",
            " GoogleNews-vectors-negative300.bin\n",
            " GoogleNews-vectors-negative300.bin.gz\n",
            " logs\n",
            " pre-trained-BERT-features-2.ipynb\n",
            " results\n",
            " tBERT_LDA_augmented_dreddit.ipynb\n",
            " tBERT_with_LDA_for_dreddit.ipynb\n",
            " test_data.tsv\n",
            " tfi-df-embeddings.ipynb\n",
            " train_data_for_students.tsv\n",
            " trump_tweets_classifiers.ipynb\n",
            "'w2v_domain_trained_ GSDMM.ipynb'\n",
            " w2v-domain-trained.ipynb\n",
            " w2v_domain_trained_lda_augmented_self_training.ipynb\n",
            " w2v-domain-trained-lda.ipynb\n",
            " w2v_domain_trained_LDA_multilabled.ipynb\n",
            " w2v-google-news-pretrained.ipynb\n"
          ]
        }
      ],
      "source": [
        "!ls"
      ]
    },
    {
      "cell_type": "code",
      "execution_count": 7,
      "metadata": {
        "colab": {
          "base_uri": "https://localhost:8080/"
        },
        "id": "ggLYfUZFsTgq",
        "outputId": "85707204-e61d-4ca6-83e8-09de12d473dc"
      },
      "outputs": [
        {
          "output_type": "stream",
          "name": "stdout",
          "text": [
            "2022-09-04 19:51:19.231501: E tensorflow/stream_executor/cuda/cuda_driver.cc:271] failed call to cuInit: CUDA_ERROR_NO_DEVICE: no CUDA-capable device is detected\n",
            "\u001b[38;5;3m⚠ As of spaCy v3.0, shortcuts like 'en' are deprecated. Please use the\n",
            "full pipeline package name 'en_core_web_sm' instead.\u001b[0m\n",
            "Looking in indexes: https://pypi.org/simple, https://us-python.pkg.dev/colab-wheels/public/simple/\n",
            "Collecting en-core-web-sm==3.4.0\n",
            "  Downloading https://github.com/explosion/spacy-models/releases/download/en_core_web_sm-3.4.0/en_core_web_sm-3.4.0-py3-none-any.whl (12.8 MB)\n",
            "\u001b[K     |████████████████████████████████| 12.8 MB 16.2 MB/s \n",
            "\u001b[?25hRequirement already satisfied: spacy<3.5.0,>=3.4.0 in /usr/local/lib/python3.7/dist-packages (from en-core-web-sm==3.4.0) (3.4.1)\n",
            "Requirement already satisfied: numpy>=1.15.0 in /usr/local/lib/python3.7/dist-packages (from spacy<3.5.0,>=3.4.0->en-core-web-sm==3.4.0) (1.21.6)\n",
            "Requirement already satisfied: packaging>=20.0 in /usr/local/lib/python3.7/dist-packages (from spacy<3.5.0,>=3.4.0->en-core-web-sm==3.4.0) (21.3)\n",
            "Requirement already satisfied: cymem<2.1.0,>=2.0.2 in /usr/local/lib/python3.7/dist-packages (from spacy<3.5.0,>=3.4.0->en-core-web-sm==3.4.0) (2.0.6)\n",
            "Requirement already satisfied: typing-extensions<4.2.0,>=3.7.4 in /usr/local/lib/python3.7/dist-packages (from spacy<3.5.0,>=3.4.0->en-core-web-sm==3.4.0) (4.1.1)\n",
            "Requirement already satisfied: spacy-loggers<2.0.0,>=1.0.0 in /usr/local/lib/python3.7/dist-packages (from spacy<3.5.0,>=3.4.0->en-core-web-sm==3.4.0) (1.0.3)\n",
            "Requirement already satisfied: wasabi<1.1.0,>=0.9.1 in /usr/local/lib/python3.7/dist-packages (from spacy<3.5.0,>=3.4.0->en-core-web-sm==3.4.0) (0.10.1)\n",
            "Requirement already satisfied: thinc<8.2.0,>=8.1.0 in /usr/local/lib/python3.7/dist-packages (from spacy<3.5.0,>=3.4.0->en-core-web-sm==3.4.0) (8.1.0)\n",
            "Requirement already satisfied: spacy-legacy<3.1.0,>=3.0.9 in /usr/local/lib/python3.7/dist-packages (from spacy<3.5.0,>=3.4.0->en-core-web-sm==3.4.0) (3.0.10)\n",
            "Requirement already satisfied: catalogue<2.1.0,>=2.0.6 in /usr/local/lib/python3.7/dist-packages (from spacy<3.5.0,>=3.4.0->en-core-web-sm==3.4.0) (2.0.8)\n",
            "Requirement already satisfied: jinja2 in /usr/local/lib/python3.7/dist-packages (from spacy<3.5.0,>=3.4.0->en-core-web-sm==3.4.0) (2.11.3)\n",
            "Requirement already satisfied: requests<3.0.0,>=2.13.0 in /usr/local/lib/python3.7/dist-packages (from spacy<3.5.0,>=3.4.0->en-core-web-sm==3.4.0) (2.23.0)\n",
            "Requirement already satisfied: langcodes<4.0.0,>=3.2.0 in /usr/local/lib/python3.7/dist-packages (from spacy<3.5.0,>=3.4.0->en-core-web-sm==3.4.0) (3.3.0)\n",
            "Requirement already satisfied: pathy>=0.3.5 in /usr/local/lib/python3.7/dist-packages (from spacy<3.5.0,>=3.4.0->en-core-web-sm==3.4.0) (0.6.2)\n",
            "Requirement already satisfied: setuptools in /usr/local/lib/python3.7/dist-packages (from spacy<3.5.0,>=3.4.0->en-core-web-sm==3.4.0) (57.4.0)\n",
            "Requirement already satisfied: preshed<3.1.0,>=3.0.2 in /usr/local/lib/python3.7/dist-packages (from spacy<3.5.0,>=3.4.0->en-core-web-sm==3.4.0) (3.0.7)\n",
            "Requirement already satisfied: murmurhash<1.1.0,>=0.28.0 in /usr/local/lib/python3.7/dist-packages (from spacy<3.5.0,>=3.4.0->en-core-web-sm==3.4.0) (1.0.8)\n",
            "Requirement already satisfied: tqdm<5.0.0,>=4.38.0 in /usr/local/lib/python3.7/dist-packages (from spacy<3.5.0,>=3.4.0->en-core-web-sm==3.4.0) (4.64.0)\n",
            "Requirement already satisfied: srsly<3.0.0,>=2.4.3 in /usr/local/lib/python3.7/dist-packages (from spacy<3.5.0,>=3.4.0->en-core-web-sm==3.4.0) (2.4.4)\n",
            "Requirement already satisfied: pydantic!=1.8,!=1.8.1,<1.10.0,>=1.7.4 in /usr/local/lib/python3.7/dist-packages (from spacy<3.5.0,>=3.4.0->en-core-web-sm==3.4.0) (1.9.2)\n",
            "Requirement already satisfied: typer<0.5.0,>=0.3.0 in /usr/local/lib/python3.7/dist-packages (from spacy<3.5.0,>=3.4.0->en-core-web-sm==3.4.0) (0.4.2)\n",
            "Requirement already satisfied: zipp>=0.5 in /usr/local/lib/python3.7/dist-packages (from catalogue<2.1.0,>=2.0.6->spacy<3.5.0,>=3.4.0->en-core-web-sm==3.4.0) (3.8.1)\n",
            "Requirement already satisfied: pyparsing!=3.0.5,>=2.0.2 in /usr/local/lib/python3.7/dist-packages (from packaging>=20.0->spacy<3.5.0,>=3.4.0->en-core-web-sm==3.4.0) (3.0.9)\n",
            "Requirement already satisfied: smart-open<6.0.0,>=5.2.1 in /usr/local/lib/python3.7/dist-packages (from pathy>=0.3.5->spacy<3.5.0,>=3.4.0->en-core-web-sm==3.4.0) (5.2.1)\n",
            "Requirement already satisfied: chardet<4,>=3.0.2 in /usr/local/lib/python3.7/dist-packages (from requests<3.0.0,>=2.13.0->spacy<3.5.0,>=3.4.0->en-core-web-sm==3.4.0) (3.0.4)\n",
            "Requirement already satisfied: urllib3!=1.25.0,!=1.25.1,<1.26,>=1.21.1 in /usr/local/lib/python3.7/dist-packages (from requests<3.0.0,>=2.13.0->spacy<3.5.0,>=3.4.0->en-core-web-sm==3.4.0) (1.24.3)\n",
            "Requirement already satisfied: certifi>=2017.4.17 in /usr/local/lib/python3.7/dist-packages (from requests<3.0.0,>=2.13.0->spacy<3.5.0,>=3.4.0->en-core-web-sm==3.4.0) (2022.6.15)\n",
            "Requirement already satisfied: idna<3,>=2.5 in /usr/local/lib/python3.7/dist-packages (from requests<3.0.0,>=2.13.0->spacy<3.5.0,>=3.4.0->en-core-web-sm==3.4.0) (2.10)\n",
            "Requirement already satisfied: blis<0.8.0,>=0.7.8 in /usr/local/lib/python3.7/dist-packages (from thinc<8.2.0,>=8.1.0->spacy<3.5.0,>=3.4.0->en-core-web-sm==3.4.0) (0.7.8)\n",
            "Requirement already satisfied: click<9.0.0,>=7.1.1 in /usr/local/lib/python3.7/dist-packages (from typer<0.5.0,>=0.3.0->spacy<3.5.0,>=3.4.0->en-core-web-sm==3.4.0) (7.1.2)\n",
            "Requirement already satisfied: MarkupSafe>=0.23 in /usr/local/lib/python3.7/dist-packages (from jinja2->spacy<3.5.0,>=3.4.0->en-core-web-sm==3.4.0) (2.0.1)\n",
            "\u001b[38;5;2m✔ Download and installation successful\u001b[0m\n",
            "You can now load the package via spacy.load('en_core_web_sm')\n",
            "2022-09-04 19:51:33.920754: E tensorflow/stream_executor/cuda/cuda_driver.cc:271] failed call to cuInit: CUDA_ERROR_NO_DEVICE: no CUDA-capable device is detected\n",
            "Looking in indexes: https://pypi.org/simple, https://us-python.pkg.dev/colab-wheels/public/simple/\n",
            "Collecting en-core-web-sm==3.4.0\n",
            "  Using cached https://github.com/explosion/spacy-models/releases/download/en_core_web_sm-3.4.0/en_core_web_sm-3.4.0-py3-none-any.whl (12.8 MB)\n",
            "Requirement already satisfied: spacy<3.5.0,>=3.4.0 in /usr/local/lib/python3.7/dist-packages (from en-core-web-sm==3.4.0) (3.4.1)\n",
            "Requirement already satisfied: srsly<3.0.0,>=2.4.3 in /usr/local/lib/python3.7/dist-packages (from spacy<3.5.0,>=3.4.0->en-core-web-sm==3.4.0) (2.4.4)\n",
            "Requirement already satisfied: wasabi<1.1.0,>=0.9.1 in /usr/local/lib/python3.7/dist-packages (from spacy<3.5.0,>=3.4.0->en-core-web-sm==3.4.0) (0.10.1)\n",
            "Requirement already satisfied: catalogue<2.1.0,>=2.0.6 in /usr/local/lib/python3.7/dist-packages (from spacy<3.5.0,>=3.4.0->en-core-web-sm==3.4.0) (2.0.8)\n",
            "Requirement already satisfied: cymem<2.1.0,>=2.0.2 in /usr/local/lib/python3.7/dist-packages (from spacy<3.5.0,>=3.4.0->en-core-web-sm==3.4.0) (2.0.6)\n",
            "Requirement already satisfied: thinc<8.2.0,>=8.1.0 in /usr/local/lib/python3.7/dist-packages (from spacy<3.5.0,>=3.4.0->en-core-web-sm==3.4.0) (8.1.0)\n",
            "Requirement already satisfied: preshed<3.1.0,>=3.0.2 in /usr/local/lib/python3.7/dist-packages (from spacy<3.5.0,>=3.4.0->en-core-web-sm==3.4.0) (3.0.7)\n",
            "Requirement already satisfied: typer<0.5.0,>=0.3.0 in /usr/local/lib/python3.7/dist-packages (from spacy<3.5.0,>=3.4.0->en-core-web-sm==3.4.0) (0.4.2)\n",
            "Requirement already satisfied: tqdm<5.0.0,>=4.38.0 in /usr/local/lib/python3.7/dist-packages (from spacy<3.5.0,>=3.4.0->en-core-web-sm==3.4.0) (4.64.0)\n",
            "Requirement already satisfied: numpy>=1.15.0 in /usr/local/lib/python3.7/dist-packages (from spacy<3.5.0,>=3.4.0->en-core-web-sm==3.4.0) (1.21.6)\n",
            "Requirement already satisfied: pathy>=0.3.5 in /usr/local/lib/python3.7/dist-packages (from spacy<3.5.0,>=3.4.0->en-core-web-sm==3.4.0) (0.6.2)\n",
            "Requirement already satisfied: packaging>=20.0 in /usr/local/lib/python3.7/dist-packages (from spacy<3.5.0,>=3.4.0->en-core-web-sm==3.4.0) (21.3)\n",
            "Requirement already satisfied: jinja2 in /usr/local/lib/python3.7/dist-packages (from spacy<3.5.0,>=3.4.0->en-core-web-sm==3.4.0) (2.11.3)\n",
            "Requirement already satisfied: pydantic!=1.8,!=1.8.1,<1.10.0,>=1.7.4 in /usr/local/lib/python3.7/dist-packages (from spacy<3.5.0,>=3.4.0->en-core-web-sm==3.4.0) (1.9.2)\n",
            "Requirement already satisfied: spacy-legacy<3.1.0,>=3.0.9 in /usr/local/lib/python3.7/dist-packages (from spacy<3.5.0,>=3.4.0->en-core-web-sm==3.4.0) (3.0.10)\n",
            "Requirement already satisfied: langcodes<4.0.0,>=3.2.0 in /usr/local/lib/python3.7/dist-packages (from spacy<3.5.0,>=3.4.0->en-core-web-sm==3.4.0) (3.3.0)\n",
            "Requirement already satisfied: typing-extensions<4.2.0,>=3.7.4 in /usr/local/lib/python3.7/dist-packages (from spacy<3.5.0,>=3.4.0->en-core-web-sm==3.4.0) (4.1.1)\n",
            "Requirement already satisfied: requests<3.0.0,>=2.13.0 in /usr/local/lib/python3.7/dist-packages (from spacy<3.5.0,>=3.4.0->en-core-web-sm==3.4.0) (2.23.0)\n",
            "Requirement already satisfied: murmurhash<1.1.0,>=0.28.0 in /usr/local/lib/python3.7/dist-packages (from spacy<3.5.0,>=3.4.0->en-core-web-sm==3.4.0) (1.0.8)\n",
            "Requirement already satisfied: spacy-loggers<2.0.0,>=1.0.0 in /usr/local/lib/python3.7/dist-packages (from spacy<3.5.0,>=3.4.0->en-core-web-sm==3.4.0) (1.0.3)\n",
            "Requirement already satisfied: setuptools in /usr/local/lib/python3.7/dist-packages (from spacy<3.5.0,>=3.4.0->en-core-web-sm==3.4.0) (57.4.0)\n",
            "Requirement already satisfied: zipp>=0.5 in /usr/local/lib/python3.7/dist-packages (from catalogue<2.1.0,>=2.0.6->spacy<3.5.0,>=3.4.0->en-core-web-sm==3.4.0) (3.8.1)\n",
            "Requirement already satisfied: pyparsing!=3.0.5,>=2.0.2 in /usr/local/lib/python3.7/dist-packages (from packaging>=20.0->spacy<3.5.0,>=3.4.0->en-core-web-sm==3.4.0) (3.0.9)\n",
            "Requirement already satisfied: smart-open<6.0.0,>=5.2.1 in /usr/local/lib/python3.7/dist-packages (from pathy>=0.3.5->spacy<3.5.0,>=3.4.0->en-core-web-sm==3.4.0) (5.2.1)\n",
            "Requirement already satisfied: chardet<4,>=3.0.2 in /usr/local/lib/python3.7/dist-packages (from requests<3.0.0,>=2.13.0->spacy<3.5.0,>=3.4.0->en-core-web-sm==3.4.0) (3.0.4)\n",
            "Requirement already satisfied: certifi>=2017.4.17 in /usr/local/lib/python3.7/dist-packages (from requests<3.0.0,>=2.13.0->spacy<3.5.0,>=3.4.0->en-core-web-sm==3.4.0) (2022.6.15)\n",
            "Requirement already satisfied: urllib3!=1.25.0,!=1.25.1,<1.26,>=1.21.1 in /usr/local/lib/python3.7/dist-packages (from requests<3.0.0,>=2.13.0->spacy<3.5.0,>=3.4.0->en-core-web-sm==3.4.0) (1.24.3)\n",
            "Requirement already satisfied: idna<3,>=2.5 in /usr/local/lib/python3.7/dist-packages (from requests<3.0.0,>=2.13.0->spacy<3.5.0,>=3.4.0->en-core-web-sm==3.4.0) (2.10)\n",
            "Requirement already satisfied: blis<0.8.0,>=0.7.8 in /usr/local/lib/python3.7/dist-packages (from thinc<8.2.0,>=8.1.0->spacy<3.5.0,>=3.4.0->en-core-web-sm==3.4.0) (0.7.8)\n",
            "Requirement already satisfied: click<9.0.0,>=7.1.1 in /usr/local/lib/python3.7/dist-packages (from typer<0.5.0,>=0.3.0->spacy<3.5.0,>=3.4.0->en-core-web-sm==3.4.0) (7.1.2)\n",
            "Requirement already satisfied: MarkupSafe>=0.23 in /usr/local/lib/python3.7/dist-packages (from jinja2->spacy<3.5.0,>=3.4.0->en-core-web-sm==3.4.0) (2.0.1)\n",
            "\u001b[38;5;2m✔ Download and installation successful\u001b[0m\n",
            "You can now load the package via spacy.load('en_core_web_sm')\n"
          ]
        }
      ],
      "source": [
        "!spacy download en\n",
        "# !spacy download zh\n",
        "!spacy download en_core_web_sm ## pretrained word vectors"
      ]
    },
    {
      "cell_type": "code",
      "source": [
        "!pip install nlpaug"
      ],
      "metadata": {
        "colab": {
          "base_uri": "https://localhost:8080/"
        },
        "id": "7LLDUmmD7nDp",
        "outputId": "422bf395-4ce1-4034-e114-1af30de81eb2"
      },
      "execution_count": 8,
      "outputs": [
        {
          "output_type": "stream",
          "name": "stdout",
          "text": [
            "Looking in indexes: https://pypi.org/simple, https://us-python.pkg.dev/colab-wheels/public/simple/\n",
            "Collecting nlpaug\n",
            "  Downloading nlpaug-1.1.11-py3-none-any.whl (410 kB)\n",
            "\u001b[K     |████████████████████████████████| 410 kB 32.6 MB/s \n",
            "\u001b[?25hRequirement already satisfied: gdown>=4.0.0 in /usr/local/lib/python3.7/dist-packages (from nlpaug) (4.4.0)\n",
            "Requirement already satisfied: pandas>=1.2.0 in /usr/local/lib/python3.7/dist-packages (from nlpaug) (1.3.5)\n",
            "Requirement already satisfied: requests>=2.22.0 in /usr/local/lib/python3.7/dist-packages (from nlpaug) (2.23.0)\n",
            "Requirement already satisfied: numpy>=1.16.2 in /usr/local/lib/python3.7/dist-packages (from nlpaug) (1.21.6)\n",
            "Requirement already satisfied: tqdm in /usr/local/lib/python3.7/dist-packages (from gdown>=4.0.0->nlpaug) (4.64.0)\n",
            "Requirement already satisfied: beautifulsoup4 in /usr/local/lib/python3.7/dist-packages (from gdown>=4.0.0->nlpaug) (4.6.3)\n",
            "Requirement already satisfied: filelock in /usr/local/lib/python3.7/dist-packages (from gdown>=4.0.0->nlpaug) (3.8.0)\n",
            "Requirement already satisfied: six in /usr/local/lib/python3.7/dist-packages (from gdown>=4.0.0->nlpaug) (1.15.0)\n",
            "Requirement already satisfied: python-dateutil>=2.7.3 in /usr/local/lib/python3.7/dist-packages (from pandas>=1.2.0->nlpaug) (2.8.2)\n",
            "Requirement already satisfied: pytz>=2017.3 in /usr/local/lib/python3.7/dist-packages (from pandas>=1.2.0->nlpaug) (2022.2.1)\n",
            "Requirement already satisfied: chardet<4,>=3.0.2 in /usr/local/lib/python3.7/dist-packages (from requests>=2.22.0->nlpaug) (3.0.4)\n",
            "Requirement already satisfied: certifi>=2017.4.17 in /usr/local/lib/python3.7/dist-packages (from requests>=2.22.0->nlpaug) (2022.6.15)\n",
            "Requirement already satisfied: idna<3,>=2.5 in /usr/local/lib/python3.7/dist-packages (from requests>=2.22.0->nlpaug) (2.10)\n",
            "Requirement already satisfied: urllib3!=1.25.0,!=1.25.1,<1.26,>=1.21.1 in /usr/local/lib/python3.7/dist-packages (from requests>=2.22.0->nlpaug) (1.24.3)\n",
            "Requirement already satisfied: PySocks!=1.5.7,>=1.5.6 in /usr/local/lib/python3.7/dist-packages (from requests>=2.22.0->nlpaug) (1.7.1)\n",
            "Installing collected packages: nlpaug\n",
            "Successfully installed nlpaug-1.1.11\n"
          ]
        }
      ]
    },
    {
      "cell_type": "code",
      "execution_count": 9,
      "metadata": {
        "id": "7yu-_GhwmvQU"
      },
      "outputs": [],
      "source": [
        "# Data processing\n",
        "import pandas as pd\n",
        "import numpy as np\n",
        "\n",
        "# Machine Learning\n",
        "from sklearn.model_selection import train_test_split\n",
        "from sklearn.feature_extraction.text import CountVectorizer, TfidfVectorizer\n",
        "from sklearn.linear_model import LogisticRegression, SGDClassifier\n",
        "from sklearn.pipeline import Pipeline\n",
        "from sklearn.metrics import accuracy_score\n",
        "from sklearn.preprocessing import LabelBinarizer\n",
        "\n",
        "import transformers\n",
        "import torch\n",
        "from transformers import AutoModel, AutoTokenizer\n",
        "from transformers import Trainer, TrainingArguments\n",
        "from transformers import BertTokenizerFast, BertForSequenceClassification\n",
        "from transformers.file_utils import is_tf_available, is_torch_available, is_torch_tpu_available\n",
        "\n",
        "# Visualization\n",
        "from matplotlib import pyplot as plt\n",
        "\n",
        "import nltk\n",
        "from nltk.corpus import stopwords\n",
        "\n",
        "from sklearn.metrics import accuracy_score\n",
        "from sklearn.metrics import classification_report\n",
        "from sklearn.ensemble import GradientBoostingClassifier, RandomForestClassifier\n",
        "from sklearn.model_selection import train_test_split,KFold\n",
        "from sklearn.preprocessing import LabelEncoder\n",
        "\n",
        "# Text processing\n",
        "import re\n",
        "import nltk\n",
        "import gensim.downloader as api\n",
        "\n",
        "# Various\n",
        "from datetime import datetime\n",
        "#Google Drive\n",
        "from google.colab import drive\n",
        "\n",
        "import re\n",
        "import tqdm\n",
        "\n",
        "import gensim, logging, spacy\n",
        "from spacy import displacy\n",
        "\n",
        "from sklearn.manifold import MDS\n",
        "from sklearn.manifold import TSNE"
      ]
    },
    {
      "cell_type": "code",
      "source": [
        "import nlpaug.augmenter.word as naw"
      ],
      "metadata": {
        "id": "7pcFl8LC7_gA"
      },
      "execution_count": 10,
      "outputs": []
    },
    {
      "cell_type": "code",
      "execution_count": 11,
      "metadata": {
        "colab": {
          "base_uri": "https://localhost:8080/"
        },
        "id": "bB-BPL6Tznwx",
        "outputId": "3f73a536-6f2f-4426-905c-d6fb63dd7697"
      },
      "outputs": [
        {
          "output_type": "stream",
          "name": "stderr",
          "text": [
            "[nltk_data] Downloading package punkt to /root/nltk_data...\n",
            "[nltk_data]   Unzipping tokenizers/punkt.zip.\n",
            "[nltk_data] Downloading package stopwords to /root/nltk_data...\n",
            "[nltk_data]   Unzipping corpora/stopwords.zip.\n",
            "[nltk_data] Downloading package averaged_perceptron_tagger to\n",
            "[nltk_data]     /root/nltk_data...\n",
            "[nltk_data]   Unzipping taggers/averaged_perceptron_tagger.zip.\n"
          ]
        },
        {
          "output_type": "execute_result",
          "data": {
            "text/plain": [
              "True"
            ]
          },
          "metadata": {},
          "execution_count": 11
        }
      ],
      "source": [
        "nltk.download('punkt')\n",
        "nltk.download('stopwords')\n",
        "nltk.download('averaged_perceptron_tagger')"
      ]
    },
    {
      "cell_type": "markdown",
      "source": [
        "## Init Data"
      ],
      "metadata": {
        "id": "oLpOjAFSHtNy"
      }
    },
    {
      "cell_type": "code",
      "execution_count": 12,
      "metadata": {
        "id": "r36iKzYlsZuf"
      },
      "outputs": [],
      "source": [
        "# load language model\n",
        "nlp_en = spacy.load('en_core_web_sm', disable=[\"parser\"])"
      ]
    },
    {
      "cell_type": "code",
      "execution_count": 13,
      "metadata": {
        "id": "u3qei5cxBzrN"
      },
      "outputs": [],
      "source": [
        "SEED = 82"
      ]
    },
    {
      "cell_type": "code",
      "execution_count": 14,
      "metadata": {
        "id": "D6ZCmXo8nEyI"
      },
      "outputs": [],
      "source": [
        "def set_seed(seed: int):\n",
        "    # numpy\n",
        "    np.random.seed(seed)\n",
        "\n",
        "    # torch\n",
        "    if is_torch_available():\n",
        "        torch.manual_seed(seed)\n",
        "        torch.cuda.manual_seed_all(seed)\n",
        "         \n",
        "set_seed(SEED)"
      ]
    },
    {
      "cell_type": "code",
      "execution_count": 15,
      "metadata": {
        "id": "Xsx7dkzUbfVb"
      },
      "outputs": [],
      "source": [
        "def concat_two(original, new_x, features_from_original):\n",
        "  # print(f'concat_two original - {original[features_from_original].shape}')\n",
        "  # print(f'concat_two new_x - {new_x.shape}')\n",
        "  new_df = pd.concat([new_x, original[features_from_original]], axis=1, ignore_index=True)\n",
        "  # print(f'concat_two - {new_df.shape}')\n",
        "  return new_df"
      ]
    },
    {
      "cell_type": "code",
      "execution_count": 16,
      "metadata": {
        "id": "npifQv7FW6v2"
      },
      "outputs": [],
      "source": [
        "def get_domain(subreddit):\n",
        "  if subreddit=='domesticviolence' or subreddit=='survivorsofabuse':\n",
        "    return 'abuse';\n",
        "  if subreddit=='anxiety' or subreddit=='stress':\n",
        "    return 'anxiety';\n",
        "  if subreddit=='almosthomeless' or subreddit=='assistance' or subreddit=='food_pantry' or subreddit=='homeless':\n",
        "    return 'financial';\n",
        "  if subreddit=='ptsd':\n",
        "    return 'ptsd';\n",
        "  else:\n",
        "    return 'social';"
      ]
    },
    {
      "cell_type": "code",
      "source": [
        "train = pd.read_csv('dreaddit/dreaddit-train.csv')\n",
        "test = pd.read_csv('dreaddit/dreaddit-test.csv')\n",
        "\n",
        "main_df = pd.concat([train, test], axis=0)\n",
        "main_df = main_df.reset_index()\n",
        "main_df.shape"
      ],
      "metadata": {
        "colab": {
          "base_uri": "https://localhost:8080/"
        },
        "id": "-QWNYL2lKamx",
        "outputId": "63575663-7806-4dbd-a40b-c2e264cf1513"
      },
      "execution_count": 17,
      "outputs": [
        {
          "output_type": "execute_result",
          "data": {
            "text/plain": [
              "(3553, 117)"
            ]
          },
          "metadata": {},
          "execution_count": 17
        }
      ]
    },
    {
      "cell_type": "code",
      "source": [
        "X_train = main_df.copy(deep=True)"
      ],
      "metadata": {
        "id": "LBswBSUZgSuE"
      },
      "execution_count": 18,
      "outputs": []
    },
    {
      "cell_type": "code",
      "source": [
        "X_test = X_train[X_train['confidence'] >= 0.8].sample(n=715, random_state=SEED)\n",
        "x_test_indexes = list(X_test.index)\n",
        "X_test = X_test.copy(deep=True)\n",
        "X_test.shape"
      ],
      "metadata": {
        "colab": {
          "base_uri": "https://localhost:8080/"
        },
        "id": "xXybqAzqNRv6",
        "outputId": "ce1fce1c-7a58-4a2d-cd4e-7d269caafd71"
      },
      "execution_count": 19,
      "outputs": [
        {
          "output_type": "execute_result",
          "data": {
            "text/plain": [
              "(715, 117)"
            ]
          },
          "metadata": {},
          "execution_count": 19
        }
      ]
    },
    {
      "cell_type": "code",
      "source": [
        "X_train = X_train.drop(labels=x_test_indexes, axis=0, inplace = False)\n",
        "X_train.shape"
      ],
      "metadata": {
        "id": "mNG2MipfNR4n",
        "colab": {
          "base_uri": "https://localhost:8080/"
        },
        "outputId": "f17bcee8-9998-4fb6-ce7b-a8e50bb96d62"
      },
      "execution_count": 20,
      "outputs": [
        {
          "output_type": "execute_result",
          "data": {
            "text/plain": [
              "(2838, 117)"
            ]
          },
          "metadata": {},
          "execution_count": 20
        }
      ]
    },
    {
      "cell_type": "code",
      "source": [
        "X_train = X_train.reset_index()\n",
        "X_test = X_test.reset_index()"
      ],
      "metadata": {
        "id": "CY77hqIgUnQb"
      },
      "execution_count": 21,
      "outputs": []
    },
    {
      "cell_type": "code",
      "source": [
        "train_for_vocabulary = X_train[X_train['confidence'] >= 0.8]"
      ],
      "metadata": {
        "id": "rDg0huzYVog0"
      },
      "execution_count": 22,
      "outputs": []
    },
    {
      "cell_type": "code",
      "source": [
        "X_train['text_clean'] = X_train['text'].apply(lambda x: gensim.utils.simple_preprocess(x))"
      ],
      "metadata": {
        "id": "J4KlzQzLD-uE"
      },
      "execution_count": 23,
      "outputs": []
    },
    {
      "cell_type": "code",
      "source": [
        "X_train_clean = X_train['text_clean']"
      ],
      "metadata": {
        "id": "vh39kG_vjA-9"
      },
      "execution_count": 24,
      "outputs": []
    },
    {
      "cell_type": "code",
      "source": [
        "X_test['text_clean'] = X_test['text'].apply(lambda x: gensim.utils.simple_preprocess(x))"
      ],
      "metadata": {
        "id": "uoMBjysMD_Ew"
      },
      "execution_count": 25,
      "outputs": []
    },
    {
      "cell_type": "code",
      "source": [
        "X_test_clean = X_test['text_clean']"
      ],
      "metadata": {
        "id": "EmUIxerEjFOK"
      },
      "execution_count": 26,
      "outputs": []
    },
    {
      "cell_type": "code",
      "source": [
        "d = {'train':X_train,'test':X_test}\n",
        "\n",
        "plt.figure(figsize=(15,6))\n",
        "\n",
        "for i,(k,v) in enumerate(d.items()):\n",
        "  plt.subplot(1,2,i+1)\n",
        "  v.label.value_counts().plot.bar();\n",
        "  plt.title('Label Distribution - MSRP -' + k)"
      ],
      "metadata": {
        "colab": {
          "base_uri": "https://localhost:8080/",
          "height": 386
        },
        "id": "FuaUXIexWX8A",
        "outputId": "4c75c328-2fe2-4889-c398-9bbcdfb0d25c"
      },
      "execution_count": 27,
      "outputs": [
        {
          "output_type": "display_data",
          "data": {
            "text/plain": [
              "<Figure size 1080x432 with 2 Axes>"
            ],
            "image/png": "[encoded data removed]"
          },
          "metadata": {
            "needs_background": "light"
          }
        }
      ]
    },
    {
      "cell_type": "markdown",
      "source": [
        "## Data Augmentation"
      ],
      "metadata": {
        "id": "pPTbWkYLSdHO"
      }
    },
    {
      "cell_type": "code",
      "source": [
        "import itertools\n",
        "aug = naw.SynonymAug(aug_src='wordnet', aug_p=0.3)\n",
        "augmented_texts_positive = [aug.augment(s, n=4) for s in train_for_vocabulary[train_for_vocabulary['label']==1].text.tolist()]\n",
        "augmented_texts_positive = list(itertools.chain.from_iterable(augmented_texts_positive))\n",
        "augmented_text_negative = [aug.augment(s, n=5) for s in train_for_vocabulary[train_for_vocabulary['label']==0].text.tolist()]\n",
        "augmented_text_negative = list(itertools.chain.from_iterable(augmented_text_negative))\n",
        "for_w2v_training = []\n",
        "for_w2v_training.extend(augmented_texts_positive)\n",
        "for_w2v_training.extend(augmented_text_negative)\n",
        "for_w2v_training = [gensim.utils.simple_preprocess(s) for s in for_w2v_training]"
      ],
      "metadata": {
        "id": "DzyaAmmS9Cyv",
        "colab": {
          "base_uri": "https://localhost:8080/"
        },
        "outputId": "dbaeabd5-ff75-48cc-db39-c50690b1cb73"
      },
      "execution_count": 28,
      "outputs": [
        {
          "output_type": "stream",
          "name": "stderr",
          "text": [
            "[nltk_data] Downloading package wordnet to /root/nltk_data...\n",
            "[nltk_data] Downloading package omw-1.4 to /root/nltk_data...\n"
          ]
        }
      ]
    },
    {
      "cell_type": "markdown",
      "source": [
        "## Word2Vec prepare"
      ],
      "metadata": {
        "id": "m6BxojeLS2Rc"
      }
    },
    {
      "cell_type": "code",
      "source": [
        "expected_vector_size=300"
      ],
      "metadata": {
        "id": "l9ODkgn5S0pA"
      },
      "execution_count": 29,
      "outputs": []
    },
    {
      "cell_type": "code",
      "execution_count": 30,
      "metadata": {
        "id": "UJ61m1k9oR4G"
      },
      "outputs": [],
      "source": [
        "w2v_model = gensim.models.Word2Vec(for_w2v_training,\n",
        "                                   vector_size=expected_vector_size,\n",
        "                                   window=5,\n",
        "                                   min_count=2)"
      ]
    },
    {
      "cell_type": "code",
      "execution_count": 31,
      "metadata": {
        "colab": {
          "base_uri": "https://localhost:8080/"
        },
        "id": "Z53RfPbmphN7",
        "outputId": "9ee19fb1-cb81-4175-8685-1b23f5a2e25f"
      },
      "outputs": [
        {
          "output_type": "execute_result",
          "data": {
            "text/plain": [
              "10376"
            ]
          },
          "metadata": {},
          "execution_count": 31
        }
      ],
      "source": [
        "len(set(w2v_model.wv.index_to_key ))"
      ]
    },
    {
      "cell_type": "code",
      "execution_count": 32,
      "metadata": {
        "colab": {
          "base_uri": "https://localhost:8080/"
        },
        "id": "shu4HW1bpuwK",
        "outputId": "faa6817f-5732-497c-dddd-89e49fd4cf17"
      },
      "outputs": [
        {
          "output_type": "execute_result",
          "data": {
            "text/plain": [
              "[('posttraumatic', 0.9548575282096863),\n",
              " ('depression', 0.9436898827552795),\n",
              " ('disorder', 0.9391273260116577),\n",
              " ('anxiousness', 0.9215139746665955),\n",
              " ('setting', 0.9108293056488037),\n",
              " ('severe', 0.904495120048523),\n",
              " ('mild', 0.9019730687141418),\n",
              " ('generalized', 0.9012013077735901),\n",
              " ('military', 0.8985821604728699),\n",
              " ('chronic', 0.8981095552444458)]"
            ]
          },
          "metadata": {},
          "execution_count": 32
        }
      ],
      "source": [
        "w2v_model.wv.most_similar('stress')"
      ]
    },
    {
      "cell_type": "code",
      "execution_count": 33,
      "metadata": {
        "id": "bVu72EhKp2y_",
        "colab": {
          "base_uri": "https://localhost:8080/"
        },
        "outputId": "14db45ab-34db-4e04-8890-057cf41a73bb"
      },
      "outputs": [
        {
          "output_type": "stream",
          "name": "stderr",
          "text": [
            "/usr/local/lib/python3.7/dist-packages/ipykernel_launcher.py:4: VisibleDeprecationWarning: Creating an ndarray from ragged nested sequences (which is a list-or-tuple of lists-or-tuples-or ndarrays with different lengths or shapes) is deprecated. If you meant to do this, you must specify 'dtype=object' when creating the ndarray.\n",
            "  after removing the cwd from sys.path.\n",
            "/usr/local/lib/python3.7/dist-packages/ipykernel_launcher.py:6: VisibleDeprecationWarning: Creating an ndarray from ragged nested sequences (which is a list-or-tuple of lists-or-tuples-or ndarrays with different lengths or shapes) is deprecated. If you meant to do this, you must specify 'dtype=object' when creating the ndarray.\n",
            "  \n"
          ]
        }
      ],
      "source": [
        "words = set(w2v_model.wv.index_to_key )\n",
        "\n",
        "X_train_vect = np.array([np.array([w2v_model.wv[i] for i in ls if i in words])\n",
        "                         for ls in X_train_clean])\n",
        "X_test_vect = np.array([np.array([w2v_model.wv[i] for i in ls if i in words])\n",
        "                         for ls in X_test_clean])"
      ]
    },
    {
      "cell_type": "code",
      "execution_count": 34,
      "metadata": {
        "id": "bMNx4oKSq4uz",
        "colab": {
          "base_uri": "https://localhost:8080/"
        },
        "outputId": "0a30677f-915b-44a2-f148-5a51ae7504db"
      },
      "outputs": [
        {
          "output_type": "stream",
          "name": "stdout",
          "text": [
            "no v size detected 0\n"
          ]
        }
      ],
      "source": [
        "X_train_vect_avg = []\n",
        "no_v_size = []\n",
        "for v in X_train_vect:\n",
        "    if v.size:\n",
        "        X_train_vect_avg.append(v.mean(axis=0))\n",
        "    else:\n",
        "        # print('no v.size')\n",
        "        no_v_size.append(v)\n",
        "        X_train_vect_avg.append(np.zeros(expected_vector_size, dtype=float))\n",
        "        \n",
        "X_test_vect_avg = []\n",
        "for v in X_test_vect:\n",
        "    if v.size:\n",
        "        X_test_vect_avg.append(v.mean(axis=0))\n",
        "    else:\n",
        "        # print('no v.size in test')\n",
        "        no_v_size.append(v)\n",
        "        X_test_vect_avg.append(np.zeros(expected_vector_size, dtype=float))\n",
        "print(f'no v size detected {len(no_v_size)}')"
      ]
    },
    {
      "cell_type": "markdown",
      "metadata": {
        "id": "zhfY-qth5Cij"
      },
      "source": [
        "## LDA"
      ]
    },
    {
      "cell_type": "code",
      "execution_count": 35,
      "metadata": {
        "id": "e6aLLm60K-Cc"
      },
      "outputs": [],
      "source": [
        "nlp = spacy.load(\"en_core_web_sm\")\n",
        "\n",
        "# Load NLTK stopwords\n",
        "stop_words = stopwords.words('english')\n",
        "# Add some extra words in it if required\n",
        "stop_words.extend(['from', 'subject', 'use','pron'])"
      ]
    },
    {
      "cell_type": "code",
      "execution_count": 36,
      "metadata": {
        "id": "-LTUEfHWy93L"
      },
      "outputs": [],
      "source": [
        "def clean_proc(sentences):\n",
        "  # Convert to list \n",
        "  data = sentences \n",
        "  # Remove Emails \n",
        "  data = [re.sub('\\S*@\\S*\\s?', '', sent) for sent in data]  \n",
        "  # Remove new line characters \n",
        "  data = [re.sub('\\s+', ' ', sent) for sent in data]  \n",
        "  # Remove distracting single quotes \n",
        "  data = [re.sub(\"\\'\", \"\", sent) for sent in data]  \n",
        "  data = [re.sub(\"'\", \"\", sent) for sent in data]\n",
        "  data = [re.sub(\"\\r\", \"\", sent) for sent in data]\n",
        "  data = [re.sub(\"[,\\.!?]\", \"\", sent) for sent in data]\n",
        "  def sent_to_words(sentences):\n",
        "    for sentence in sentences:\n",
        "      yield(gensim.utils.simple_preprocess(str(sentence), deacc=True))\n",
        "  data_words = list(sent_to_words(data))\n",
        "\n",
        "  print(f'sen_to_words:\\n{data_words[:1]}')\n",
        "  # Build the bigram and trigram models\n",
        "  bigram = gensim.models.Phrases(data_words, min_count=5, threshold=100) # higher threshold fewer phrases.\n",
        "  trigram = gensim.models.Phrases(bigram[data_words], threshold=100)\n",
        "  # Faster way to get a sentence clubbed as a trigram/bigram\n",
        "  bigram_mod = gensim.models.phrases.Phraser(bigram)\n",
        "  trigram_mod = gensim.models.phrases.Phraser(trigram)\n",
        "  # See trigram example\n",
        "  print(f'trigrams :\\n{trigram_mod[bigram_mod[data_words[0]]]}')\n",
        "  # Define function for stopwords, bigrams, trigrams and lemmatization\n",
        "  def remove_stopwords(texts):\n",
        "    return [[word for word in gensim.utils.simple_preprocess(str(doc)) if word not in stop_words] for doc in texts]\n",
        "\n",
        "  def make_bigrams(texts):\n",
        "    return [bigram_mod[doc] for doc in texts]\n",
        "\n",
        "  def make_trigrams(texts):\n",
        "    return [trigram_mod[bigram_mod[doc]] for doc in texts]\n",
        "\n",
        "  def lemmatization(texts, allowed_postags=['NOUN', 'ADJ', 'VERB', 'ADV']):\n",
        "    \"\"\"https://spacy.io/api/annotation\"\"\"\n",
        "    texts_out = []\n",
        "    for sent in texts:\n",
        "        doc = nlp_en(\" \".join(sent)) \n",
        "        texts_out.append([token.lemma_ for token in doc if token.pos_ in allowed_postags])\n",
        "    return texts_out\n",
        "\n",
        "  # Remove Stop Words\n",
        "  data_words_nostops = remove_stopwords(data_words)\n",
        "\n",
        "  # Form Bigrams\n",
        "  data_words_grams = make_bigrams(data_words_nostops)\n",
        "\n",
        "  # Initialize spacy 'en' model, keeping only tagger component (for efficiency)\n",
        "  # python3 -m spacy download en\n",
        "  # nlp = spacy.load('en', disable=['parser', 'ner'])\n",
        "\n",
        "  # Do lemmatization keeping only noun, adj, vb, adv\n",
        "  data_lemmatized = lemmatization(data_words_grams, allowed_postags=['NOUN', 'ADJ', 'VERB', 'ADV'])\n",
        "  # data_lemmatized = data_words_3grams\n",
        "\n",
        "  print(f'after lemmatization: \\n{data_lemmatized[:1]}')\n",
        "  return data_lemmatized"
      ]
    },
    {
      "cell_type": "code",
      "execution_count": 37,
      "metadata": {
        "colab": {
          "base_uri": "https://localhost:8080/"
        },
        "id": "a-53tYUM2zDy",
        "outputId": "39e3a79e-1566-4579-cee3-c5494410878d"
      },
      "outputs": [
        {
          "output_type": "stream",
          "name": "stdout",
          "text": [
            "sen_to_words:\n",
            "[['he', 'said', 'atomic', 'number', 'had', 'not', 'felt', 'that', 'way', 'before', 'suggeted', 'go', 'rest', 'and', 'so', 'trigger', 'ahead', 'if', 'youi', 're', 'ampere', 'hypocondriac', 'like', 'me', 'decide', 'to', 'look', 'up', 'feelings', 'of', 'doom', 'in', 'hopes', 'of', 'maybe', 'amaze', 'sucked', 'into', 'some', 'rabbit', 'hole', 'of', 'ludicrous', 'conspiracy', 'stupid', 'are', 'you', 'psychical', 'test', 'or', 'new', 'years', 'something', 'could', 'even', 'laugh', 'at', 'down', 'the', 'road', 'no', 'one', 'ended', 'up', 'reading', 'that', 'this', 'sense', 'of', 'doom', 'can', 'be', 'indicative', 'of', 'various', 'health', 'ailments', 'one', 'of', 'which', 'am', 'prone', 'to', 'so', 'on', 'top', 'of', 'my', 'doom', 'to', 'my', 'gloom', 'am', 'now', 'worried', 'about', 'my', 'heart', 'do', 'happen', 'to', 'have', 'physical', 'in', 'hours']]\n",
            "trigrams :\n",
            "['he', 'said', 'atomic_number', 'had', 'not', 'felt', 'that', 'way', 'before', 'suggeted', 'go', 'rest', 'and', 'so', 'trigger', 'ahead', 'if', 'youi', 're', 'ampere', 'hypocondriac', 'like', 'me', 'decide', 'to', 'look', 'up', 'feelings', 'of', 'doom', 'in', 'hopes', 'of', 'maybe', 'amaze', 'sucked', 'into', 'some', 'rabbit_hole', 'of', 'ludicrous', 'conspiracy', 'stupid', 'are', 'you', 'psychical', 'test', 'or', 'new', 'years', 'something', 'could', 'even', 'laugh', 'at', 'down', 'the', 'road', 'no', 'one', 'ended', 'up', 'reading', 'that', 'this', 'sense', 'of', 'doom', 'can', 'be', 'indicative', 'of', 'various', 'health', 'ailments', 'one', 'of', 'which', 'am', 'prone', 'to', 'so', 'on', 'top', 'of', 'my', 'doom', 'to', 'my', 'gloom', 'am', 'now', 'worried', 'about', 'my', 'heart', 'do', 'happen', 'to', 'have', 'physical', 'in', 'hours']\n",
            "after lemmatization: \n",
            "[['say', 'feel', 'way', 'suggete', 'go', 'rest', 'trigger', 'ahead', 'ampere', 'hypocondriac', 'decide', 'look', 'feeling', 'doom', 'hope', 'maybe', 'amaze', 'suck', 'rabbit_hole', 'ludicrous', 'conspiracy', 'stupid', 'psychical', 'test', 'new', 'year', 'even', 'laugh', 'road', 'end', 'read', 'sense', 'doom', 'indicative', 'various', 'health', 'ailment', 'prone', 'top', 'doom', 'gloom', 'worry', 'heart', 'happen', 'physical', 'hour']]\n"
          ]
        }
      ],
      "source": [
        "# train_sentences_for_lda_model_training = df[(df['confidence'] >= 0.8) & (df['label'] == 1)].text.values.tolist()\n",
        "# train_sentences_for_lda_model_training = df[(df['confidence'] >= 0.8) & (df['label'] == 1)].text.values.tolist()\n",
        "train_sentences_for_lda_model_training = augmented_texts_positive\n",
        "data_words_clean_for_lda_model_training = clean_proc(train_sentences_for_lda_model_training)"
      ]
    },
    {
      "cell_type": "code",
      "source": [
        "# train_sentences_for_lda_model_training_neg_label = df[(df['confidence'] >= 0.8) & (df['label'] == 0)].text.values.tolist()\n",
        "data_words_clean_for_lda_model_training_neg_label = augmented_text_negative\n",
        "data_words_clean_for_lda_model_training_neg_label  = clean_proc(data_words_clean_for_lda_model_training_neg_label)"
      ],
      "metadata": {
        "colab": {
          "base_uri": "https://localhost:8080/"
        },
        "id": "Nu4xrsUUNfYD",
        "outputId": "7892779a-e288-41a7-d6f8-4b4a00d797be"
      },
      "execution_count": 38,
      "outputs": [
        {
          "output_type": "stream",
          "name": "stdout",
          "text": [
            "sen_to_words:\n",
            "[['hey', 'there', 'assistance', 'not', 'indisputable', 'if', 'this', 'is', 'the', 'right', 'space', 'to', 'post', 'this', 'but', 'here', 'goes', 'currently', 'student', 'intern', 'at', 'sandia', 'subject', 'labs', 'and', 'working', 'on', 'survey', 'to', 'help', 'improve', 'our', 'marketing', 'outreach', 'efforts', 'at', 'the', 'many', 'schools', 'we', 'inscribe', 'at', 'around', 'the', 'country', 'we', 're', 'looking', 'for', 'current', 'undergrad', 'grad', 'stem', 'students', 'so', 'if', 'you', 're', 'stem', 'student', 'or', 'know', 'stem', 'students', 'would', 'greatly', 'value', 'if', 'you', 'can', 'help', 'take', 'or', 'pass', 'along', 'this', 'unretentive', 'survey', 'as', 'thank', 'you', 'everyone', 'world', 'health', 'organization', 'helps', 'take', 'the', 'survey', 'testament', 'personify', 'entered', 'in', 'to', 'drawing', 'for', 'chance', 'to', 'win', 'one', 'of', 'three', 'amazon', 'gcs']]\n",
            "trigrams :\n",
            "['hey', 'there', 'assistance', 'not', 'indisputable', 'if', 'this', 'is', 'the', 'right', 'space', 'to', 'post', 'this', 'but', 'here', 'goes', 'currently', 'student', 'intern', 'at', 'sandia', 'subject', 'labs', 'and', 'working', 'on', 'survey', 'to', 'help', 'improve', 'our', 'marketing', 'outreach', 'efforts', 'at', 'the', 'many', 'schools', 'we', 'inscribe', 'at', 'around', 'the', 'country', 'we', 're', 'looking', 'for', 'current', 'undergrad', 'grad', 'stem_students', 'so', 'if', 'you', 're', 'stem', 'student', 'or', 'know', 'stem_students', 'would', 'greatly', 'value', 'if', 'you', 'can', 'help', 'take', 'or', 'pass', 'along', 'this', 'unretentive', 'survey', 'as', 'thank', 'you', 'everyone', 'world_health_organization', 'helps', 'take', 'the', 'survey', 'testament', 'personify', 'entered', 'in', 'to', 'drawing', 'for', 'chance', 'to', 'win', 'one', 'of', 'three', 'amazon', 'gcs']\n",
            "after lemmatization: \n",
            "[['assistance', 'indisputable', 'right', 'space', 'post', 'go', 'currently', 'student', 'work', 'survey', 'help', 'improve', 'market', 'outreach', 'effort', 'many', 'school', 'inscribe', 'country', 'look', 'current', 'undergrad', 'grad', 'stem_student', 'stem', 'student', 'know', 'stem_student', 'greatly', 'value', 'help', 'take', 'pass', 'unretentive', 'survey', 'thank', 'world', 'health_organization', 'help', 'take', 'survey', 'testament', 'personify', 'enter', 'drawing', 'chance', 'win']]\n"
          ]
        }
      ]
    },
    {
      "cell_type": "code",
      "execution_count": 39,
      "metadata": {
        "colab": {
          "base_uri": "https://localhost:8080/"
        },
        "id": "uwE5ieEiKWtb",
        "outputId": "b3de9e36-c446-4c1b-cbed-9cf62a8768a9"
      },
      "outputs": [
        {
          "output_type": "stream",
          "name": "stdout",
          "text": [
            "sen_to_words:\n",
            "[['he', 'said', 'he', 'had', 'not', 'felt', 'that', 'way', 'before', 'suggeted', 'go', 'rest', 'and', 'so', 'trigger', 'ahead', 'if', 'youire', 'hypocondriac', 'like', 'me', 'decide', 'to', 'look', 'up', 'feelings', 'of', 'doom', 'in', 'hopes', 'of', 'maybe', 'getting', 'sucked', 'into', 'some', 'rabbit', 'hole', 'of', 'ludicrous', 'conspiracy', 'stupid', 'are', 'you', 'psychic', 'test', 'or', 'new', 'age', 'bs', 'something', 'could', 'even', 'laugh', 'at', 'down', 'the', 'road', 'no', 'ended', 'up', 'reading', 'that', 'this', 'sense', 'of', 'doom', 'can', 'be', 'indicative', 'of', 'various', 'health', 'ailments', 'one', 'of', 'which', 'am', 'prone', 'to', 'so', 'on', 'top', 'of', 'my', 'doom', 'to', 'my', 'gloomi', 'am', 'now', 'fn', 'worried', 'about', 'my', 'heart', 'do', 'happen', 'to', 'have', 'physical', 'in', 'hours']]\n",
            "trigrams :\n",
            "['he', 'said', 'he', 'had', 'not', 'felt', 'that', 'way', 'before', 'suggeted', 'go', 'rest', 'and', 'so', 'trigger', 'ahead', 'if', 'youire', 'hypocondriac', 'like', 'me', 'decide', 'to', 'look', 'up', 'feelings', 'of', 'doom', 'in', 'hopes', 'of', 'maybe', 'getting', 'sucked', 'into', 'some', 'rabbit', 'hole', 'of', 'ludicrous', 'conspiracy', 'stupid', 'are', 'you', 'psychic', 'test', 'or', 'new', 'age', 'bs', 'something', 'could', 'even', 'laugh', 'at', 'down', 'the', 'road', 'no', 'ended', 'up', 'reading', 'that', 'this', 'sense', 'of', 'doom', 'can', 'be', 'indicative', 'of', 'various', 'health', 'ailments', 'one', 'of', 'which', 'am', 'prone', 'to', 'so', 'on', 'top', 'of', 'my', 'doom', 'to', 'my', 'gloomi', 'am', 'now', 'fn', 'worried', 'about', 'my', 'heart', 'do', 'happen', 'to', 'have', 'physical', 'in', 'hours']\n",
            "after lemmatization: \n",
            "[['say', 'feel', 'way', 'suggete', 'go', 'rest', 'trigger', 'ahead', 'youire', 'hypocondriac', 'decide', 'look', 'feeling', 'doom', 'hope', 'maybe', 'get', 'suck', 'rabbit', 'hole', 'ludicrous', 'conspiracy', 'stupid', 'psychic', 'test', 'new', 'age', 'bs', 'even', 'laugh', 'road', 'end', 'read', 'sense', 'doom', 'indicative', 'various', 'health', 'ailment', 'prone', 'top', 'doom', 'worried', 'heart', 'happen', 'physical', 'hour']]\n"
          ]
        }
      ],
      "source": [
        "train_sentences = X_train.text.values.tolist()\n",
        "data_words_clean_for_train = clean_proc(train_sentences)"
      ]
    },
    {
      "cell_type": "code",
      "execution_count": 40,
      "metadata": {
        "id": "S-RiWYXUNtlc"
      },
      "outputs": [],
      "source": [
        "mapped_for_train = dict()\n",
        "for i, words in enumerate(data_words_clean_for_train):\n",
        "  mapped_for_train[train_sentences[i]] = words"
      ]
    },
    {
      "cell_type": "code",
      "execution_count": 41,
      "metadata": {
        "colab": {
          "base_uri": "https://localhost:8080/"
        },
        "id": "a52H0NUrcOBE",
        "outputId": "a1f1d2fc-cca5-4e87-cb13-a7940975d866"
      },
      "outputs": [
        {
          "output_type": "stream",
          "name": "stdout",
          "text": [
            "sen_to_words:\n",
            "[['im', 'new', 'to', 'this', 'so', 'please', 'forgive', 'me', 'im', 'not', 'very', 'good', 'at', 'expressing', 'my', 'emotions', 'need', 'advice', 'help', 'was', 'molested', 'multiple', 'times', 'by', 'my', 'biological', 'dad', 'when', 'was', 'up', 'until', 'middle', 'school', 'so', 'like', 'yrs', 'old', 'after', 'many', 'times', 'in', 'the', 'past', 'telling', 'my', 'mom', 'that', 'my', 'dad', 'had', 'touched', 'me', 'weird', 'my', 'mom', 'had', 'gotten', 'annoyed', 'and', 'mad', 'at', 'me']]\n",
            "trigrams :\n",
            "['im', 'new', 'to', 'this', 'so', 'please', 'forgive', 'me', 'im', 'not', 'very', 'good', 'at', 'expressing', 'my', 'emotions', 'need', 'advice', 'help', 'was', 'molested', 'multiple', 'times', 'by', 'my', 'biological', 'dad', 'when', 'was', 'up', 'until', 'middle', 'school', 'so', 'like', 'yrs', 'old', 'after', 'many', 'times', 'in', 'the', 'past', 'telling', 'my', 'mom', 'that', 'my', 'dad', 'had', 'touched', 'me', 'weird', 'my', 'mom', 'had', 'gotten', 'annoyed', 'and', 'mad', 'at', 'me']\n",
            "after lemmatization: \n",
            "[['m', 'new', 'forgive', 'm', 'good', 'express', 'emotion', 'need', 'advice', 'help', 'molest', 'multiple', 'time', 'biological', 'dad', 'yrs', 'old', 'many', 'time', 'tell', 'mom', 'touch', 'weird', 'mom', 'get', 'annoyed', 'mad']]\n"
          ]
        }
      ],
      "source": [
        "test_sentences = X_test.text.values.tolist()\n",
        "data_words_clean_for_test = clean_proc(test_sentences)"
      ]
    },
    {
      "cell_type": "code",
      "execution_count": 42,
      "metadata": {
        "id": "0j2g1jcVdZ41"
      },
      "outputs": [],
      "source": [
        "mapped_for_test = dict()\n",
        "for i, words in enumerate(data_words_clean_for_test):\n",
        "  mapped_for_test[test_sentences[i]] = words"
      ]
    },
    {
      "cell_type": "code",
      "execution_count": 43,
      "metadata": {
        "colab": {
          "base_uri": "https://localhost:8080/"
        },
        "id": "AepLRTxZ8rEQ",
        "outputId": "3f00e970-d355-4e1f-fe64-b0ad211b9942"
      },
      "outputs": [
        {
          "output_type": "stream",
          "name": "stdout",
          "text": [
            "{'ahead': 0, 'ailment': 1, 'amaze': 2, 'ampere': 3, 'conspiracy': 4, 'decide': 5, 'doom': 6, 'end': 7, 'even': 8, 'feel': 9, 'feeling': 10, 'gloom': 11, 'go': 12, 'happen': 13, 'health': 14, 'heart': 15, 'hope': 16, 'hour': 17, 'hypocondriac': 18, 'indicative': 19, 'laugh': 20, 'look': 21, 'ludicrous': 22, 'maybe': 23, 'new': 24, 'physical': 25, 'prone': 26, 'psychical': 27, 'rabbit_hole': 28, 'read': 29, 'rest': 30, 'road': 31, 'say': 32, 'sense': 33, 'stupid': 34, 'suck': 35, 'suggete': 36, 'test': 37, 'top': 38, 'trigger': 39, 'various': 40, 'way': 41, 'worry': 42, 'year': 43, 'age': 44, 'ane': 45, 'coney': 46, 'get': 47, 'hole': 48, 'perhaps': 49, 'psychic': 50, 'significative': 51, 'single': 52, 'state': 53, 'youi': 54, 'bear': 55, 'examination': 56, 'experience': 57, 'hold': 58, 'mother': 59, 'strong_arm': 60, 'express': 61, 'indicatory': 62, 'iodine': 63, 'mirth': 64, 'address': 65, 'answer': 66, 'ask': 67, 'attention': 68, 'backseat': 69, 'car': 70, 'collision': 71, 'drive': 72, 'friend': 73, 'guy': 74, 'help': 75, 'high': 76, 'hit': 77, 'immediately': 78, 'know': 79, 'make': 80, 'mom': 81, 'move': 82, 'nearly': 83, 'newspaper': 84, 'old': 85, 'organization': 86, 'people': 87, 'person': 88, 'place': 89, 'play': 90, 'quaker': 91, 'send': 92, 'shock': 93, 'shoulder': 94, 'smack': 95, 'smacking': 96, 'sort': 97, 'strike': 98, 'sympathize': 99, 'take': 100, 'tell': 101, 'thing': 102, 'think': 103, 'time': 104, 'universe': 105, 'vibe': 106, 'violence': 107, 'yesterday': 108, 'act': 109, 'behave': 110, 'cable': 111, 'come': 112, 'discourse': 113, 'try': 114, 'understand': 115, 'away': 116, 'right': 117, 'supporter': 118, 'early': 119, 'possess': 120, 'abuse': 121, 'abusive': 122, 'action': 123, 'angry': 124, 'back': 125, 'case': 126, 'charge': 127, 'consciousness': 128, 'consequence': 129, 'criminal': 130, 'domestic_violence': 131, 'emotionally': 132, 'enough': 133, 'evidence': 134, 'ex': 135, 'financially': 136, 'follow': 137, 'grant': 138, 'keep': 139, 'late': 140, 'later': 141, 'man': 142, 'manner': 143, 'meet': 144, 'month': 145, 'order': 146, 'physically': 147, 'press': 148, 'real': 149, 'renew': 150, 'sexually': 151, 'struggle': 152, 'survivor': 153, 'unable': 154, 'verbally': 155, 'adjure': 156, 'knowingness': 157, 'lately': 158, 'receive': 159, 'restraining_ord': 160, 'still': 161, 'awareness': 162, 'domestic': 163, 'ground': 164, 'ineffectual': 165, 'vehemence': 166, 'activeness': 167, 'decent': 168, 'twelvemonth': 169, 'absurd': 170, 'also': 171, 'astir': 172, 'bad': 173, 'believe': 174, 'brain': 175, 'calm': 176, 'clear': 177, 'fake': 178, 'human': 179, 'kind': 180, 'last': 181, 'life': 182, 'lose': 183, 'mentality': 184, 'night': 185, 'okay': 186, 'rationally': 187, 'really': 188, 'scared': 189, 'sleep': 190, 'thinking': 191, 'trip': 192, 'unfit': 193, 'upward': 194, 'wake': 195, 'work': 196, 'worried': 197, 'bogus': 198, 'cogitate': 199, 'crystalize': 200, 'form': 201, 'iodin': 202, 'preposterous': 203, 'scare': 204, 'defective': 205, 'eternal': 206, 'generate': 207, 'merely': 208, 'alike': 209, 'comparable': 210, 'maine': 211, 'miss': 212, 'alcoholic': 213, 'anymore': 214, 'assuredness': 215, 'bar': 216, 'chat': 217, 'chit': 218, 'embody': 219, 'fuck': 220, 'hard': 221, 'head': 222, 'information_technology': 223, 'kill': 224, 'military': 225, 'much': 226, 'normal': 227, 'nowadays': 228, 'open': 229, 'ptsd': 230, 'shit': 231, 'street': 232, 'talk': 233, 'week': 234, 'cool': 235, 'erst': 236, 'soul': 237, 'unity': 238, 'actually': 239, 'alcohol': 240, 'cost': 241, 'dependent': 242, 'long': 243, 'view': 244, 'afraid': 245, 'almost': 246, 'anxious': 247, 'comfort': 248, 'complain': 249, 'dad': 250, 'dissent': 251, 'easily': 252, 'factor': 253, 'frustrated': 254, 'general': 255, 'happy': 256, 'impatient': 257, 'many': 258, 'mental': 259, 'never': 260, 'panic_attack': 261, 'raise': 262, 'redeem': 263, 'set': 264, 'soon': 265, 'stay': 266, 'voice': 267, 'vomit': 268, 'want': 269, 'desire': 270, 'disagree': 271, 'oregon': 272, 'put': 273, 'well': 274, 'anyhow': 275, 'approach': 276, 'panic': 277, 'simply': 278, 'cat': 279, 'let': 280, 'puddle': 281, 'require': 282, 'break': 283, 'burn': 284, 'cheek': 285, 'day': 286, 'dose': 287, 'edge': 288, 'fast': 289, 'final': 290, 'flush': 291, 'forthwith': 292, 'freak': 293, 'phoebe': 294, 'possible': 295, 'reaction': 296, 'reason': 297, 'see': 298, 'sertraline': 299, 'shaky': 300, 'side_effect': 301, 'small': 302, 'suddenly': 303, 'super': 304, 'cause': 305, 'learn': 306, 'level': 307, 'likewise': 308, 'milligram': 309, 'potential': 310, 'stop': 311, 'present': 312, 'realise': 313, 'cinque': 314, 'able': 315, 'able_bodie': 316, 'baby': 317, 'call': 318, 'child': 319, 'city': 320, 'effective': 321, 'fine': 322, 'greyhound': 323, 'homeless': 324, 'likely': 325, 'literal': 326, 'love': 327, 'metropoli': 328, 'money': 329, 'program': 330, 'shelter': 331, 'sister': 332, 'good': 333, 'incur': 334, 'option': 335, 'outer': 336, 'protection': 337, 'space': 338, 'assume': 339, 'capable': 340, 'function': 341, 'point': 342, 'topographic': 343, 'atomic_number': 344, 'crap': 345, 'one': 346, 'seventh': 347, 'anxiety': 348, 'become': 349, 'effecting': 350, 'either': 351, 'fancy': 352, 'little': 353, 'match': 354, 'paranoid': 355, 'past': 356, 'regretful': 357, 'relationship': 358, 'sopor': 359, 'therapist': 360, 'tonne': 361, 'wellness': 362, 'calendar_month': 363, 'duad': 364, 'find': 365, 'finger': 366, 'retire': 367, 'trivial': 368, 'bit': 369, 'complete': 370, 'couple': 371, 'deoxythymidine_monophosphate': 372, 'intimately': 373, 'kinship': 374, 'comfortably': 375, 'induce': 376, 'meter': 377, 'sorry': 378, 'candidly': 379, 'cry': 380, 'date': 381, 'escort': 382, 'fight': 383, 'first': 384, 'helium': 385, 'home': 386, 'ignore': 387, 'oppose': 388, 'start': 389, 'third': 390, 'disregard': 391, 'female_parent': 392, 'fourth_dimension': 393, 'honestly': 394, 'lecture': 395, 'public': 396, 'react': 397, 'yet': 398, 'appointment': 399, 'clip': 400, 'initiatory': 401, 'practice': 402, 'bump': 403, 'frankly': 404, 'circulation': 405, 'doctor': 406, 'figure': 407, 'grade': 408, 'problem': 409, 'run': 410, 'seem': 411, 'similar': 412, 'whizz': 413, 'blab': 414, 'course': 415, 'greater_extent': 416, 'sensation': 417, 'anxiousness': 418, 'facilitate': 419, 'sing': 420, 'track': 421, 'draw': 422, 'improve': 423, 'airport': 424, 'attend': 425, 'chance': 426, 'die': 427, 'drove': 428, 'equal': 429, 'event': 430, 'family': 431, 'funeral': 432, 'gas': 433, 'idea': 434, 'mammy': 435, 'spend': 436, 'tight': 437, 'ton': 438, 'accident': 439, 'gasoline': 440, 'grandmother': 441, 'phratry': 442, 'accelerator': 443, 'pedal': 444, 'thyroxine': 445, 'aid': 446, 'beg': 447, 'consider': 448, 'degree': 449, 'detail': 450, 'dire': 451, 'else': 452, 'finish': 453, 'fiscal': 454, 'fix': 455, 'former': 456, 'give': 457, 'gofundme': 458, 'internet': 459, 'link': 460, 'literally': 461, 'need': 462, 'please': 463, 'regard': 464, 'second': 465, 'turn': 466, 'update': 467, 'assistant': 468, 'bonk': 469, 'financial': 470, 'gift': 471, 'masse': 472, 'molar_concentration': 473, 'sol': 474, 'url': 475, 'yield': 476, 'afford': 477, 'service': 478, 'beaver_state': 479, 'lonely': 480, 'monthsalready': 481, 'part': 482, 'pitiful': 483, 'raw': 484, 'situation': 485, 'speak': 486, 'bang': 487, 'non': 488, 'sad': 489, 'thus': 490, 'wild': 491, 'affair': 492, 'christmastime': 493, 'post': 494, 'affectionate': 495, 'ashamed': 496, 'broke': 497, 'constant': 498, 'disgusted': 499, 'mickle': 500, 'minute': 501, 'next': 502, 'screaming': 503, 'title': 504, 'truly': 505, 'woman': 506, 'adjacent': 507, 'girl': 508, 'lot': 509, 'scream': 510, 'tenacious': 511, 'disgust': 512, 'live': 513, 'whore': 514, 'respect': 515, 'uncease': 516, 'brother': 517, 'damn': 518, 'dinner': 519, 'half': 520, 'issue': 521, 'notice': 522, 'obligate': 523, 'ongoing': 524, 'recently': 525, 'scram': 526, 'sit': 527, 'slip': 528, 'town': 529, 'uneasy': 530, 'vacation': 531, 'whole': 532, 'acknowledge': 533, 'conclude': 534, 'surgery': 535, 'humble': 536, 'bind': 537, 'dark': 538, 'gross': 539, 'pocket': 540, 'size': 541, 'skid': 542, 'absolutely': 543, 'adult': 544, 'enjoy': 545, 'excited': 546, 'hand': 547, 'perform': 548, 'piece': 549, 'spring_break': 550, 'stress': 551, 'tension': 552, 'body': 553, 'daylight': 554, 'deal': 555, 'respite': 556, 'suspension': 557, 'arrest': 558, 'perfectly': 559, 'bedroom': 560, 'edgy': 561, 'emotional': 562, 'encounter': 563, 'everywhere': 564, 'fear': 565, 'guess': 566, 'incredibly_difficult': 567, 'independent': 568, 'leave': 569, 'light': 570, 'room': 571, 'wash': 572, 'wave': 573, 'write': 574, 'dry': 575, 'forcible': 576, 'jumpy': 577, 'main': 578, 'chief': 579, 'do': 580, 'instantly': 581, 'workplace': 582, 'menage': 583, 'overstrung': 584, 'surmise': 585, 'thusly': 586, 'aggravate': 587, 'blood': 588, 'bulge': 589, 'clot': 590, 'deprive': 591, 'dizzy': 592, 'extremely': 593, 'lie': 594, 'metre': 595, 'nose': 596, 'pain': 597, 'rush': 598, 'watercraft': 599, 'wear': 600, 'wit_end': 601, 'force': 602, 'giddy': 603, 'vessel': 604, 'capacity': 605, 'dead': 606, 'drop': 607, 'frighten': 608, 'thence': 609, 'woozy': 610, 'yard': 611, 'highly': 612, 'ace': 613, 'fallout': 614, 'father': 615, 'kavanaugh': 616, 'sexual': 617, 'today': 618, 'vilification': 619, 'watch': 620, 'word': 621, 'agree': 622, 'fox': 623, 'intimate': 624, 'observe': 625, 'insure': 626, 'maltreatment': 627, 'represent': 628, 'condition': 629, 'counselling': 630, 'department': 631, 'diagnosis': 632, 'drain': 633, 'energy': 634, 'entirely': 635, 'knowledge': 636, 'mess': 637, 'nightmare': 638, 'operating_theatre': 639, 'parent': 640, 'planning': 641, 'ramble': 642, 'ranty': 643, 'seek': 644, 'settle': 645, 'share': 646, 'sure': 647, 'thank': 648, 'thought': 649, 'university': 650, 'wonder': 651, 'opine': 652, 'seduce': 653, 'clarence': 654, 'wholly': 655, 'indisputable': 656, 'buzz': 657, 'fiddle': 658, 'mad': 659, 'oral': 660, 'piss': 661, 'remind': 662, 'sex': 663, 'ugh': 664, 'catch': 665, 'correct': 666, 'mum': 667, 'always': 668, 'awkward': 669, 'barely': 670, 'class': 671, 'constantly': 672, 'especially': 673, 'ever': 674, 'focus': 675, 'location': 676, 'm': 677, 'needed': 678, 'nervous': 679, 'peer': 680, 'probably': 681, 'simplicity': 682, 'teacher': 683, 'tilt': 684, 'tutor': 685, 'uncomfortable': 686, 'visibly': 687, 'around': 688, 'deliver': 689, 'ease': 690, 'eer': 691, 'environment': 692, 'stock': 693, 'assistance': 694, 'necessitate': 695, 'far': 696, 'instructor': 697, 'neural': 698, 'adhd': 699, 'angina': 700, 'caffeine': 701, 'cardiologyst': 702, 'chest': 703, 'consume': 704, 'exam': 705, 'heart_rate': 706, 'increase': 707, 'medicate': 708, 'methylphenidate': 709, 'mg': 710, 'quite': 711, 'rarely': 712, 'summer': 713, 'trial': 714, 'unitedly': 715, 'eld': 716, 'marrow': 717, 'together': 718, 'unit': 719, 'seldom': 720, 'side': 721, 'damage': 722, 'effect': 723, 'meat': 724, 'minimal': 725, 'alone': 726, 'audience': 727, 'clock': 728, 'hire': 729, 'hunt': 730, 'job': 731, 'massive': 732, 'sign': 733, 'station': 734, 'sum': 735, 'amount': 736, 'birth': 737, 'book': 738, 'interview': 739, 'lease': 740, 'perpetually': 741, 'preserve': 742, 'spot': 743, 'upwards': 744, 'monumental': 745, 'basically': 746, 'cheap_gory': 747, 'curse': 748, 'disturbance': 749, 'favorite': 750, 'funny': 751, 'hate': 752, 'hobby': 753, 'homebrew': 754, 'injury': 755, 'item': 756, 'kid': 757, 'mentally': 758, 'prepared': 759, 'ruin': 760, 'seismic': 761, 'shock_value': 762, 'suffer': 763, 'thread': 764, 'tired': 765, 'unlikely': 766, 'use': 767, 'value': 768, 'ward': 769, 'bloom': 770, 'combat': 771, 'fishy': 772, 'guard': 773, 'jokey': 774, 'onslaught': 775, 'dnd': 776, 'reciprocal_ohm': 777, 'develop': 778, 'flack': 779, 'hurt': 780, 'ago': 781, 'asleep': 782, 'bed': 783, 'declination': 784, 'everyday': 785, 'heat': 786, 'lighting': 787, 'middle': 788, 'pound': 789, 'random': 790, 'rump': 791, 'sweat': 792, 'usually': 793, 'different': 794, 'torso': 795, 'comprise': 796, 'petty': 797, 'routine': 798, 'casual': 799, 'constitute': 800, 'earn': 801, 'heading': 802, 'nighttime': 803, 'accept': 804, 'affect': 805, 'argue': 806, 'assault': 807, 'distract': 808, 'generally': 809, 'ignorant': 810, 'pretty': 811, 'rude': 812, 'ruminate': 813, 'ruminating': 814, 'suggest': 815, 'technique': 816, 'toxic': 817, 'unintelligent': 818, 'bring': 819, 'deflect': 820, 'disorder': 821, 'future': 822, 'great_unwashe': 823, 'grounding': 824, 'posttraumatic_stress': 825, 'translate': 826, 'contend': 827, 'unknowledgeable': 828, 'admit': 829, 'earthing': 830, 'gain': 831, 'halt': 832, 'sound': 833, 'unknowe': 834, 'assignment': 835, 'bright': 836, 'click': 837, 'college': 838, 'difficult': 839, 'elementary': 840, 'fairly': 841, 'generalize': 842, 'lazier': 843, 'neer': 844, 'project': 845, 'task': 846, 'young': 847, 'lazy': 848, 'simple': 849, 'generalized': 850, 'undertaking': 851, 'upset': 852, 'infer': 853, 'unmanageable': 854, 'bill': 855, 'burner': 856, 'demand': 857, 'disconnect': 858, 'electric': 859, 'full': 860, 'gruele': 861, 'incredibly': 862, 'minimum': 863, 'miracle': 864, 'moment': 865, 'oddment': 866, 'pay': 867, 'payment': 868, 'remove': 869, 'rent': 870, 'satisfy': 871, 'schedule': 872, 'seriously': 873, 'shot': 874, 'stand': 875, 'galvanise': 876, 'ill': 877, 'making': 878, 'stick': 879, 'substantial': 880, 'treatment': 881, 'devote': 882, 'remainder': 883, 'water': 884, 'disconnection': 885, 'electrical': 886, 'fulfil': 887, 'rear': 888, 'bottom': 889, 'forbid': 890, 'google': 891, 'kinda': 892, 'least': 893, 'lengthy': 894, 'major': 895, 'mistake': 896, 'mostly': 897, 'nowhere': 898, 'posting': 899, 'realize': 900, 'relate': 901, 'symptom': 902, 'truck': 903, 'googling': 904, 'megabyte': 905, 'verboten': 906, 'corresponding': 907, 'pot': 908, 'berth': 909, 'depression': 910, 'dissociation': 911, 'edit': 912, 'expand': 913, 'gaslighting': 914, 'history': 915, 'jumbled': 916, 'memory': 917, 'often': 918, 'remember': 919, 'rewrite': 920, 'scarcely': 921, 'wrong': 922, 'amiss': 923, 'gaslighte': 924, 'jumble': 925, 'remembering': 926, 'enunciate': 927, 'account': 928, 'actualise': 929, 'recall': 930, 'bubbly': 931, 'conceive': 932, 'dupe': 933, 'figurehead': 934, 'hair': 935, 'personality': 936, 'remain': 937, 'shake': 938, 'shift': 939, 'skinny': 940, 'sustain': 941, 'version': 942, 'deepen': 943, 'front': 944, 'victim': 945, 'fit': 946, 'drear': 947, 'interlingual': 948, 'rendition': 949, 'rock': 950, 'switch': 951, 'disorderly': 952, 'drawer': 953, 'feature': 954, 'fire': 955, 'aesculapian': 956, 'chaotic': 957, 'danger': 958, 'correspond': 959, 'helter': 960, 'skelter': 961, 'breast': 962, 'exactly': 963, 'bender': 964, 'crisis': 965, 'depressive': 966, 'drunker': 967, 'endure': 968, 'exist': 969, 'fall': 970, 'hither': 971, 'line': 972, 'phone': 973, 'self_destructive': 974, 'story': 975, 'therapy': 976, 'product': 977, 'suicidal': 978, 'circumstance': 979, 'close': 980, 'alternate': 981, 'collage': 982, 'deficiency': 983, 'freshman': 984, 'mainly': 985, 'motivation': 986, 'rapidly': 987, 'spiral': 988, 'employment': 989, 'fitting': 990, 'helix': 991, 'lack': 992, 'coiffure': 993, 'terminate': 994, 'plate': 995, 'serious': 996, 'blow': 997, 'bubble': 998, 'bury': 999, 'chalk': 1000, 'dear': 1001, 'double': 1002, 'fail': 1003, 'faith': 1004, 'neglect': 1005, 'oblivious': 1006, 'protect': 1007, 'strangely': 1008, 'trauma': 1009, 'trustworthy': 1010, 'world': 1011, 'card': 1012, 'house': 1013, 'pricey': 1014, 'shaver': 1015, 'boyfriend': 1016, 'business': 1017, 'cobwebs': 1018, 'concern': 1019, 'depressed': 1020, 'hopeless': 1021, 'knock': 1022, 'mouth': 1023, 'operating_room': 1024, 'privilege': 1025, 'push': 1026, 'reveal': 1027, 'wall': 1028, 'elbow_room': 1029, 'ok': 1030, 'depress': 1031, 'privileged': 1032, 'replete': 1033, 'cut': 1034, 'intercourse': 1035, 'knocked': 1036, 'parie': 1037, 'unanimous': 1038, 'wide': 1039, 'application': 1040, 'deadline': 1041, 'essay': 1042, 'file': 1043, 'list': 1044, 'mention': 1045, 'overwhelmed': 1046, 'process': 1047, 'senior': 1048, 'starting': 1049, 'supplemental': 1050, 'visit': 1051, 'ea': 1052, 'mib': 1053, 'supplementary': 1054, 'thyroxin': 1055, 'cease': 1056, 'remark': 1057, 'argument': 1058, 'check': 1059, 'control': 1060, 'game': 1061, 'maintain': 1062, 'playing': 1063, 'rearward': 1064, 'silly': 1065, 'split': 1066, 'unwilling': 1067, 'checking': 1068, 'confused': 1069, 'separate': 1070, 'confuse': 1071, 'wire': 1072, 'personify': 1073, 'piffling': 1074, 'wanted': 1075, 'abuser': 1076, 'air': 1077, 'cheat': 1078, 'claim': 1079, 'deny': 1080, 'entire': 1081, 'example': 1082, 'fabricate': 1083, 'incidence': 1084, 'jail': 1085, 'picture': 1086, 'show': 1087, 'unrivaled': 1088, 'chick': 1089, 'snub': 1090, 'thin': 1091, 'slight': 1092, 'change': 1093, 'death': 1094, 'gap': 1095, 'judge': 1096, 'lead': 1097, 'mind': 1098, 'tooth': 1099, 'contribute': 1100, 'mb': 1101, 'interest': 1102, 'restrain': 1103, 'allege': 1104, 'spread': 1105, 'crapper': 1106, 'going': 1107, 'hairsbreadth': 1108, 'medication': 1109, 'pull': 1110, 'ultimately': 1111, 'insane': 1112, 'palpate': 1113, 'pilus': 1114, 'posterior': 1115, 'addiction': 1116, 'afterward': 1117, 'coincidently': 1118, 'drug': 1119, 'fulltime': 1120, 'hardly': 1121, 'insomnia': 1122, 'last_resort': 1123, 'normally': 1124, 'prescribe': 1125, 'prevalent': 1126, 'responsibility': 1127, 'sometimes': 1128, 'strong': 1129, 'underlie': 1130, 'withdrawal': 1131, 'circle': 1132, 'coincidentally': 1133, 'gad': 1134, 'subsequently': 1135, 'habituation': 1136, 'solid': 1137, 'startle': 1138, 'basic': 1139, 'category': 1140, 'irresponsible': 1141, 'pippa': 1142, 'premise': 1143, 'sevener': 1144, 'sire': 1145, 'sleepyheade': 1146, 'stomach': 1147, 'tighten': 1148, 'lay': 1149, 'sleepy': 1150, 'slumber': 1151, 'directly': 1152, 'fasten': 1153, 'tough': 1154, 'chronic': 1155, 'distance': 1156, 'doubtfulness': 1157, 'fantasize': 1158, 'hymeneal': 1159, 'impingement': 1160, 'insight': 1161, 'other': 1162, 'question': 1163, 'doubt': 1164, 'dubiousness': 1165, 'guessing': 1166, 'impact': 1167, 'retentive': 1168, 'wedding': 1169, 'concerned': 1170, 'sulfur': 1171, 'stimulate': 1172, 'wallop': 1173, 'debate': 1174, 'definition': 1175, 'forever': 1176, 'input': 1177, 'like': 1178, 'mentally_ill': 1179, 'begin': 1180, 'honor': 1181, 'inquire': 1182, 'create': 1183, 'gender': 1184, 'girlfriend': 1185, 'import': 1186, 'relax': 1187, 'vicious_circle': 1188, 'bechance': 1189, 'imagine': 1190, 'forget': 1191, 'vicious': 1192, 'mightiness': 1193, 'apartment': 1194, 'daughter': 1195, 'fare': 1196, 'necessity': 1197, 'needle': 1198, 'scold': 1199, 'std': 1200, 'step': 1201, 'wife': 1202, 'bedchamber': 1203, 'flat': 1204, 'goodness': 1205, 'honest': 1206, 'inevitably': 1207, 'yoke': 1208, 'deuce': 1209, 'married_woman': 1210, 'matchless': 1211, 'serve': 1212, 'indicate': 1213, 'ineluctably': 1214, 'lambast': 1215, 'tread': 1216, 'acutely': 1217, 'advice': 1218, 'anyways': 1219, 'clonazepam': 1220, 'continue': 1221, 'fun': 1222, 'horrendous': 1223, 'med': 1224, 'poke': 1225, 'power': 1226, 'source': 1227, 'specifically': 1228, 'treat': 1229, 'minipress': 1230, 'roast': 1231, 'upright': 1232, 'sharp': 1233, 'focalize': 1234, 'bf': 1235, 'focused': 1236, 'immature': 1237, 'instead': 1238, 'ldr': 1239, 'less': 1240, 'mature': 1241, 'possibility': 1242, 'selfish': 1243, 'validation': 1244, 'worrying': 1245, 'buoy': 1246, 'rivet': 1247, 'establishment': 1248, 'already': 1249, 'appartement': 1250, 'cold': 1251, 'corrode': 1252, 'disability': 1253, 'effort': 1254, 'food': 1255, 'food_stamp': 1256, 'foodstuff': 1257, 'heating': 1258, 'helpful': 1259, 'include': 1260, 'meal': 1261, 'murder': 1262, 'poor': 1263, 'populate': 1264, 'thay': 1265, 'transportation': 1266, 'attempt': 1267, 'disablement': 1268, 'eat': 1269, 'grocery': 1270, 'stamp': 1271, 'downward': 1272, 'workweek': 1273, 'protagonist': 1274, 'therefore': 1275, 'wreak': 1276, 'cognise': 1277, 'flick': 1278, 'libido': 1279, 'lol': 1280, 'long_story': 1281, 'precede': 1282, 'short': 1283, 'terminal': 1284, 'worryingly': 1285, 'flip': 1286, 'south': 1287, 'freaking': 1288, 'mho': 1289, 'activity': 1290, 'introduce': 1291, 'report': 1292, 'conjunction': 1293, 'embarrass': 1294, 'individual': 1295, 'lifestyle': 1296, 'physiatrist': 1297, 'plan': 1298, 'sizable': 1299, 'speculation': 1300, 'trust': 1301, 'volition': 1302, 'worse': 1303, 'healthy': 1304, 'rattle': 1305, 'secret': 1306, 'design': 1307, 'meditation': 1308, 'private': 1309, 'sole': 1310, 'marriage': 1311, 'apologize': 1312, 'apology': 1313, 'boundary': 1314, 'chemistry': 1315, 'crazy': 1316, 'eventually': 1317, 'excessively': 1318, 'fault': 1319, 'high_risk': 1320, 'honour': 1321, 'insistence': 1322, 'interpersonal': 1323, 'mine': 1324, 'retarded': 1325, 'sidereal': 1326, 'storm': 1327, 'polish': 1328, 'apologise': 1329, 'conditionally': 1330, 'connect': 1331, 'graduate': 1332, 'luck': 1333, 'pass': 1334, 'school': 1335, 'self': 1336, 'stuff': 1337, 'worth': 1338, 'concluding': 1339, 'involve': 1340, 'semester': 1341, 'tune': 1342, 'shoal': 1343, 'truth': 1344, 'defeat': 1345, 'gear': 1346, 'hence': 1347, 'low': 1348, 'quat': 1349, 'auto': 1350, 'commencement': 1351, 'crony': 1352, 'living': 1353, 'root': 1354, 'sidekick': 1355, 'straightaway': 1356, 'care': 1357, 'gf': 1358, 'loss': 1359, 'mean': 1360, 'slightest': 1361, 'tldr': 1362, 'typically': 1363, 'wrench': 1364, 'adress': 1365, 'benefit': 1366, 'bother': 1367, 'clean': 1368, 'contemplate': 1369, 'daily': 1370, 'htp': 1371, 'obviously': 1372, 'pm': 1373, 'presently': 1374, 'straight': 1375, 'tolerable': 1376, 'willing': 1377, 'currently': 1378, 'delay': 1379, 'liveliness': 1380, 'meditate': 1381, 'passable': 1382, 'total': 1383, 'wellspre': 1384, 'advise': 1385, 'belief': 1386, 'briefly': 1387, 'cbt': 1388, 'counsellor': 1389, 'dissolving': 1390, 'emetophobia': 1391, 'episode': 1392, 'predict': 1393, 'replace': 1394, 'sick': 1395, 'speculative': 1396, 'wallow': 1397, 'watchword': 1398, 'weak': 1399, 'feeble': 1400, 'instalment': 1401, 'cope': 1402, 'proficiency': 1403, 'supervene': 1404, 'advance': 1405, 'backwards': 1406, 'completely': 1407, 'contact': 1408, 'dog': 1409, 'gall': 1410, 'hell': 1411, 'loose': 1412, 'marry': 1413, 'pervert': 1414, 'trap': 1415, 'twisted': 1416, 'vinyl': 1417, 'backward': 1418, 'breaking_free': 1419, 'dumbfound': 1420, 'misrepresent': 1421, 'resentment': 1422, 'race': 1423, 'twist': 1424, 'unmatchable': 1425, 'bugger': 1426, 'distort': 1427, 'breathe': 1428, 'loud': 1429, 'message': 1430, 'noise': 1431, 'reachable': 1432, 'staff': 1433, 'tail': 1434, 'faculty': 1435, 'bag': 1436, 'haphazardness': 1437, 'appropriate': 1438, 'convince': 1439, 'embarrassing': 1440, 'porch': 1441, 'shortly': 1442, 'allow': 1443, 'dorsum': 1444, 'hyperventilate': 1445, 'ascendence': 1446, 'convert': 1447, 'upwardly': 1448, 'affection': 1449, 'anger': 1450, 'basis': 1451, 'begrudge': 1452, 'fearful': 1453, 'flinchy': 1454, 'husband': 1455, 'overreacting': 1456, 'pin': 1457, 'sleeping': 1458, 'stupefy': 1459, 'suffering': 1460, 'tackle': 1461, 'tickle': 1462, 'torture': 1463, 'wrestle': 1464, 'resent': 1465, 'overreact': 1466, 'sized': 1467, 'thrill': 1468, 'anyway': 1469, 'door': 1470, 'expect': 1471, 'flash': 1472, 'headphone': 1473, 'music': 1474, 'quiet': 1475, 'coif': 1476, 'oven': 1477, 'utter': 1478, 'wait': 1479, 'log': 1480, 'queasy': 1481, 'mistreat': 1482, 'avail': 1483, 'dread': 1484, 'fully': 1485, 'intellect': 1486, 'matter': 1487, 'uneasiness': 1488, 'exercise': 1489, 'border': 1490, 'external': 1491, 'respiration': 1492, 'rouse': 1493, 'breathing': 1494, 'practise': 1495, 'canful': 1496, 'fly': 1497, 'psyche': 1498, 'tense': 1499, 'assay': 1500, 'transaction': 1501, 'oeuvre': 1502, 'quint': 1503, 'rainfly': 1504, 'folk': 1505, 'partner': 1506, 'strain': 1507, 'tenor': 1508, 'awful': 1509, 'gone': 1510, 'judgmental': 1511, 'wintertime': 1512, 'mighty': 1513, 'winter': 1514, 'sexuality': 1515, 'spirit': 1516, 'powerful': 1517, 'additionally': 1518, 'andi': 1519, 'brouvht': 1520, 'company': 1521, 'explain': 1522, 'fact': 1523, 'freeze': 1524, 'perpetuate': 1525, 'shame': 1526, 'unavailable': 1527, 'vulnerable': 1528, 'ashame': 1529, 'immobilise': 1530, 'memorie': 1531, 'ship': 1532, 'boot': 1533, 'fellowship': 1534, 'staying': 1535, 'acquaintance': 1536, 'concert': 1537, 'screw': 1538, 'solution': 1539, 'squeamish': 1540, 'text': 1541, 'mortal': 1542, 'nice': 1543, 'feed': 1544, 'textbook': 1545, 'contrive': 1546, 'ally': 1547, 'altogether': 1548, 'bunch': 1549, 'clinical_depression': 1550, 'exception': 1551, 'mile': 1552, 'payback': 1553, 'period': 1554, 'reach': 1555, 'relative': 1556, 'admirer': 1557, 'economic': 1558, 'movement': 1559, 'spell': 1560, 'vengeance': 1561, 'angriness': 1562, 'mull': 1563, 'quintuplet': 1564, 'slump': 1565, 'champion': 1566, 'displace': 1567, 'club': 1568, 'ditched': 1569, 'dramatic': 1570, 'insecure': 1571, 'nightclub': 1572, 'nox': 1573, 'pack': 1574, 'train': 1575, 'sentence': 1576, 'notion': 1577, 'bus': 1578, 'grandson': 1579, 'motel': 1580, 'pick': 1581, 'preschool': 1582, 'recuperate': 1583, 'cognize': 1584, 'recover': 1585, 'household': 1586, 'manage': 1587, 'autobus': 1588, 'tax': 1589, 'agony': 1590, 'deserve': 1591, 'inside': 1592, 'invisible': 1593, 'merit': 1594, 'painful': 1595, 'popsicle': 1596, 'pussy': 1597, 'rather': 1598, 'sadness': 1599, 'silent': 1600, 'somehow': 1601, 'whatsoever': 1602, 'apparent': 1603, 'choice': 1604, 'ejaculate': 1605, 'lolly': 1606, 'milk': 1607, 'tone': 1608, 'unseeable': 1609, 'alleviate': 1610, 'beat': 1611, 'blame': 1612, 'produce': 1613, 'summon': 1614, 'tip': 1615, 'beating': 1616, 'cognitive': 1617, 'due': 1618, 'hale': 1619, 'retain': 1620, 'blaming': 1621, 'neck': 1622, 'pale': 1623, 'adjust': 1624, 'enquire': 1625, 'independence': 1626, 'provide': 1627, 'respond': 1628, 'supply': 1629, 'sweet': 1630, 'welcoming': 1631, 'wrap': 1632, 'number': 1633, 'fresh': 1634, 'independency': 1635, 'overwhelm': 1636, 'welcome': 1637, 'cheap': 1638, 'jug': 1639, 'magnitude': 1640, 'majorly': 1641, 'probability': 1642, 'studio': 1643, 'unstable': 1644, 'pall': 1645, 'retrieve': 1646, 'path': 1647, 'shout': 1648, 'betray': 1649, 'bite': 1650, 'blackout_drunk': 1651, 'dial': 1652, 'dress': 1653, 'fiance': 1654, 'genital': 1655, 'grab': 1656, 'grabbing': 1657, 'ineffective': 1658, 'kick': 1659, 'nude': 1660, 'punch': 1661, 'retreat': 1662, 'scratch': 1663, 'scrotum': 1664, 'system': 1665, 'tear': 1666, 'scheme': 1667, 'betrayed': 1668, 'blackout': 1669, 'chafe': 1670, 'grueling': 1671, 'rip': 1672, 'charger': 1673, 'flashback': 1674, 'hook': 1675, 'occur': 1676, 'pressed': 1677, 'survive': 1678, 'unfortunately': 1679, 'agency': 1680, 'depart': 1681, 'hooking': 1682, 'aver': 1683, 'ambitious': 1684, 'asshole': 1685, 'calendar': 1686, 'distant': 1687, 'ghost': 1688, 'impend': 1689, 'quest': 1690, 'subsequent': 1691, 'term': 1692, 'summertime': 1693, 'plainly': 1694, 'carbon': 1695, 'estimate': 1696, 'fair': 1697, 'housework': 1698, 'monoxide': 1699, 'newness': 1700, 'worker': 1701, 'bequeath': 1702, 'theme': 1703, 'prole': 1704, 'dissemble': 1705, 'empty': 1706, 'housing': 1707, 'shower': 1708, 'injure': 1709, 'pretend': 1710, 'safe': 1711, 'accommodation': 1712, 'ache': 1713, 'opprobrious': 1714, 'gentleman': 1715, 'uranium': 1716, 'waiting': 1717, 'avoid': 1718, 'explode': 1719, 'frustration': 1720, 'lifespan': 1721, 'perfect': 1722, 'stressful': 1723, 'awry': 1724, 'debar': 1725, 'kayo': 1726, 'medicine': 1727, 'site': 1728, 'arrange': 1729, 'big': 1730, 'peck': 1731, 'terrible': 1732, 'uni': 1733, 'erotic': 1734, 'expire': 1735, 'severe': 1736, 'toilet': 1737, 'apart': 1738, 'lovemake': 1739, 'wherefore': 1740, 'improbably': 1741, 'justification': 1742, 'nurse': 1743, 'progress': 1744, 'query': 1745, 'traumatic': 1746, 'wind': 1747, 'excuse': 1748, 'office': 1749, 'price': 1750, 'skin': 1751, 'impart': 1752, 'winded': 1753, 'belittle': 1754, 'bruise': 1755, 'cover': 1756, 'deliberately': 1757, 'escape': 1758, 'everytime': 1759, 'pit': 1760, 'profligate': 1761, 'purposefully': 1762, 'terrify': 1763, 'certain': 1764, 'fucking': 1765, 'indeed': 1766, 'totally': 1767, 'add': 1768, 'concept': 1769, 'documentation': 1770, 'horrible': 1771, 'huge': 1772, 'morning': 1773, 'necessary': 1774, 'neediness': 1775, 'pregnant': 1776, 'sickness': 1777, 'taboo': 1778, 'fraught': 1779, 'sudden': 1780, 'support': 1781, 'accompaniment': 1782, 'forth': 1783, 'musical': 1784, 'youngster': 1785, 'malady': 1786, 'theater': 1787, 'cancel': 1788, 'dm': 1789, 'evaluation': 1790, 'throw': 1791, 'daytime': 1792, 'yell': 1793, 'ring': 1794, 'forenoon': 1795, 'correctly': 1796, 'emotion': 1797, 'overcome': 1798, 'drink': 1799, 'operating_theater': 1800, 'assure': 1801, 'disgrace': 1802, 'genuinely': 1803, 'logically': 1804, 'overwhelming': 1805, 'consuming': 1806, 'promise': 1807, 'testament': 1808, 'recognize': 1809, 'formerly': 1810, 'plenty': 1811, 'belt': 1812, 'firm': 1813, 'handle': 1814, 'speaker': 1815, 'table': 1816, 'wreck': 1817, 'machine': 1818, 'wrecked': 1819, 'ride': 1820, 'component': 1821, 'delete': 1822, 'det': 1823, 'nookie': 1824, 'indium': 1825, 'earth': 1826, 'billet': 1827, 'mebibyte': 1828, 'insignificant': 1829, 'jerk': 1830, 'outcast': 1831, 'pariah': 1832, 'proscribe': 1833, 'common': 1834, 'justify': 1835, 'topnotch': 1836, 'tug': 1837, 'jerked': 1838, 'citizenry': 1839, 'agressive': 1840, 'authority': 1841, 'coping_mechanism': 1842, 'countless': 1843, 'decimal': 1844, 'drunk': 1845, 'everdently': 1846, 'finally': 1847, 'helpless': 1848, 'instinct': 1849, 'jake': 1850, 'min': 1851, 'name': 1852, 'octad': 1853, 'ready': 1854, 'refuse': 1855, 'sweating': 1856, 'terror': 1857, 'ugly': 1858, 'useless': 1859, 'viscous': 1860, 'caution': 1861, 'hind': 1862, 'longsighte': 1863, 'accuse': 1864, 'attack': 1865, 'chill': 1866, 'doer': 1867, 'dwelling': 1868, 'evil': 1869, 'offer': 1870, 'paint': 1871, 'rape': 1872, 'scary': 1873, 'threatened_suicide': 1874, 'pray': 1875, 'rapine': 1876, 'recite': 1877, 'shivery': 1878, 'suffice': 1879, 'attribute': 1880, 'group': 1881, 'large': 1882, 'mental_illness': 1883, 'mislay': 1884, 'prior': 1885, 'slightly': 1886, 'touch': 1887, 'vision': 1888, 'adept': 1889, 'assign': 1890, 'warm': 1891, 'paranoiac': 1892, 'initiate': 1893, 'minuscule': 1894, 'childhood': 1895, 'disown': 1896, 'dumb': 1897, 'identify': 1898, 'inappropriately': 1899, 'narcissist': 1900, 'proceed': 1901, 'reddit': 1902, 'mail': 1903, 'narcist': 1904, 'discussion': 1905, 'knap': 1906, 'sun': 1907, 'joke': 1908, 'jokingly': 1909, 'nipple': 1910, 'shirtless': 1911, 'jest': 1912, 'celebrate': 1913, 'co_worker': 1914, 'detest': 1915, 'diagnose': 1916, 'hungry': 1917, 'idk': 1918, 'manpower': 1919, 'meeting': 1920, 've': 1921, 'wonky': 1922, 'disorderliness': 1923, 'rickety': 1924, 'anytime': 1925, 'battery_die': 1926, 'blank': 1927, 'competitiveness': 1928, 'dealing': 1929, 'face': 1930, 'finance': 1931, 'garnish': 1932, 'however': 1933, 'incase': 1934, 'momma': 1935, 'park': 1936, 'pathetic': 1937, 'reality': 1938, 'sugar': 1939, 'telephone': 1940, 'utility': 1941, 'vehicle': 1942, 'wage': 1943, 'fomite': 1944, 'outcry': 1945, 'tenseness': 1946, 'ball': 1947, 'eye': 1948, 'pressure': 1949, 'tolerate': 1950, 'weird': 1951, 'someway': 1952, 'apparently': 1953, 'appearance': 1954, 'bail': 1955, 'befoe': 1956, 'carrier': 1957, 'court': 1958, 'felony': 1959, 'finalize': 1960, 'guilty': 1961, 'helper': 1962, 'incident': 1963, 'judicature': 1964, 'misdeamenor': 1965, 'plead': 1966, 'police': 1967, 'recieve': 1968, 'spear': 1969, 'verdict': 1970, 'wish': 1971, 'constabulary': 1972, 'extra': 1973, 'marrying': 1974, 'law': 1975, 'communicative': 1976, 'drama': 1977, 'facebook': 1978, 'klonopin': 1979, 'neighbor': 1980, 'paranoia': 1981, 'prozac': 1982, 'unneeded': 1983, 'wean': 1984, 'fluoxetine': 1985, 'foremost': 1986, 'lesser_extent': 1987, 'compass': 1988, 'mansion': 1989, 'unnecessary': 1990, 'body_ache': 1991, 'cough': 1992, 'dizziness': 1993, 'fever': 1994, 'hour_interval': 1995, 'throat': 1996, 'bleach': 1997, 'church': 1998, 'nasty': 1999, 'relief': 2000, 'vertigo': 2001, 'alive': 2002, 'tantrum': 2003, 'cruddy': 2004, 'hypocongiract': 2005, 'beginning': 2006, 'disease': 2007, 'iffy': 2008, 'incurable': 2009, 'intellectual': 2010, 'mix': 2011, 'nourishment': 2012, 'bore': 2013, 'dory': 2014, 'mixture': 2015, 'nap': 2016, 'respire': 2017, 'achiever': 2018, 'animal': 2019, 'confrontation': 2020, 'international_relation': 2021, 'pee': 2022, 'rug': 2023, 'security_network': 2024, 'urine': 2025, 'war': 2026, 'worthy': 2027, 'carpet': 2028, 'flavour': 2029, 'inculpation': 2030, 'showdown': 2031, 'success': 2032, 'bargain': 2033, 'property': 2034, 'tactile': 2035, 'cycle': 2036, 'dance': 2037, 'heavily': 2038, 'pure': 2039, 'sibling': 2040, 'song': 2041, 'straw': 2042, 'buttock': 2043, 'sible': 2044, 'oxygen': 2045, 'chaff': 2046, 'dependant': 2047, 'destiny': 2048, 'fortune': 2049, 'gazillion': 2050, 'overwhelmingly': 2051, 'prohibit': 2052, 'tabu': 2053, 'finished': 2054, 'intellection': 2055, 'working': 2056, 'country': 2057, 'natural': 2058, 'opportunity': 2059, 'concisely': 2060, 'egg': 2061, 'goose': 2062, 'province': 2063, 'stun': 2064, 'accidental': 2065, 'great': 2066, 'odd': 2067, 'bet': 2068, 'bathroom': 2069, 'greater': 2070, 'prick': 2071, 'abide': 2072, 'receptive': 2073, 'slap': 2074, 'alcoholism': 2075, 'bleed': 2076, 'bundle': 2077, 'closet': 2078, 'flight': 2079, 'international': 2080, 'outside': 2081, 'profusely': 2082, 'tinker': 2083, 'unpack': 2084, 'extraneous': 2085, 'diddly': 2086, 'holl': 2087, 'backing': 2088, 'format': 2089, 'guest': 2090, 'insult': 2091, 'multiple_time': 2092, 'beloved': 2093, 'chamber': 2094, 'theatre': 2095, 'babble': 2096, 'edgar': 2097, 'multiple': 2098, 'conversation': 2099, 'drag': 2100, 'fragile': 2101, 'interior': 2102, 'latterly': 2103, 'molarity': 2104, 'unremarkably': 2105, 'gun': 2106, 'induction': 2107, 'booster': 2108, 'compare': 2109, 'fill': 2110, 'guilt': 2111, 'apprehension': 2112, 'diss': 2113, 'execute': 2114, 'blade': 2115, 'explosive': 2116, 'forgot': 2117, 'grow': 2118, 'italian': 2119, 'load': 2120, 'none': 2121, 'style': 2122, 'switchblade': 2123, 'telecast': 2124, 'terrified': 2125, 'video': 2126, 'middling': 2127, 'transmit': 2128, 'melodic': 2129, 'sparingly': 2130, 'unscathed': 2131, 'deterrent': 2132, 'easy': 2133, 'professional': 2134, 'redemption': 2135, 'suspicion': 2136, 'telling': 2137, 'chiliad': 2138, 'narrate': 2139, 'unsound': 2140, 'hay': 2141, 'repurchase': 2142, 'roll': 2143, 'hunch': 2144, 'nonetheless': 2145, 'secernate': 2146, 'butt': 2147, 'disorient': 2148, 'forcefully': 2149, 'gasp': 2150, 'grate': 2151, 'lock': 2152, 'metal': 2153, 'permission': 2154, 'sedative': 2155, 'window': 2156, 'pant': 2157, 'shoot': 2158, 'army': 2159, 'shut': 2160, 'gibe': 2161, 'discount': 2162, 'scarce': 2163, 'aside': 2164, 'assurance': 2165, 'cancer': 2166, 'closely': 2167, 'comment': 2168, 'fat': 2169, 'fetch': 2170, 'fleshy': 2171, 'occupy': 2172, 'overweight': 2173, 'priority': 2174, 'shape': 2175, 'weight': 2176, 'confidence': 2177, 'precedency': 2178, 'soma': 2179, 'specially': 2180, 'nought': 2181, 'genus': 2182, 'horizontal': 2183, 'arise': 2184, 'counsel': 2185, 'noticing_pattern': 2186, 'reject': 2187, 'topic': 2188, 'counseling': 2189, 'field': 2190, 'study': 2191, 'soundbox': 2192, 'spouse': 2193, 'pattern': 2194, 'stool': 2195, 'anywhere': 2196, 'homeschoole': 2197, 'join_sport': 2198, 'socialize': 2199, 'team': 2200, 'walk': 2201, 'essential': 2202, 'join': 2203, 'sport': 2204, 'rd': 2205, 'scramble': 2206, 'sluggish': 2207, 'trouble': 2208, 'ability': 2209, 'learning': 2210, 'improving': 2211, 'interrogative': 2212, 'scrambled': 2213, 'accidentally': 2214, 'actual': 2215, 'amply': 2216, 'assail': 2217, 'conscious': 2218, 'curb': 2219, 'hyper': 2220, 'tonight': 2221, 'vigilance': 2222, 'tush': 2223, 'existent': 2224, 'pore': 2225, 'witte': 2226, 'academic': 2227, 'debt': 2228, 'homesick': 2229, 'lame': 2230, 'party': 2231, 'redundancy': 2232, 'schooltime': 2233, 'standing': 2234, 'student_loan': 2235, 'trade': 2236, 'transfer': 2237, 'unmatched': 2238, 'waste': 2239, 'initiative': 2240, 'neutralize': 2241, 'pedantic': 2242, 'transplant': 2243, 'bond': 2244, 'boss': 2245, 'saving': 2246, 'closelippe': 2247, 'deliverance': 2248, 'clearly': 2249, 'commit': 2250, 'confess': 2251, 'current': 2252, 'fink': 2253, 'blast': 2254, 'missing': 2255, 'nsfw': 2256, 'grownup': 2257, 'keister': 2258, 'subscribe': 2259, 'unequalle': 2260, 'appreciate': 2261, 'buy_grocerie': 2262, 'clothe': 2263, 'impression': 2264, 'multitude': 2265, 'naught': 2266, 'roof': 2267, 'utterly': 2268, 'world_health': 2269, 'buy': 2270, 'nevertheless': 2271, 'decision': 2272, 'depend': 2273, 'redditor': 2274, 'unhurt': 2275, 'wisdom': 2276, 'english': 2277, 'hawthorn': 2278, 'determination': 2279, 'calculate': 2280, 'crataegus': 2281, 'mentation': 2282, 'architectural': 2283, 'discharge': 2284, 'efficient': 2285, 'hang': 2286, 'hoard': 2287, 'hospital': 2288, 'self_harm': 2289, 'wrist': 2290, 'peradventure': 2291, 'ear': 2292, 'endeavor': 2293, 'chaos': 2294, 'incoherent': 2295, 'iv': 2296, 'mobile': 2297, 'numb': 2298, 'repeat': 2299, 'statement': 2300, 'unsure': 2301, 'wander': 2302, 'layover': 2303, 'pandemonium': 2304, 'win': 2305, 'fluid': 2306, 'foursome': 2307, 'principal': 2308, 'hebdomadary': 2309, 'weekly': 2310, 'claptrap': 2311, 'harm': 2312, 'nigripe': 2313, 'pet': 2314, 'release': 2315, 'reverence': 2316, 'threaten': 2317, 'worm': 2318, 'ferret': 2319, 'menace': 2320, 'rant': 2321, 'creature': 2322, 'recount': 2323, 'brute': 2324, 'subsist': 2325, 'bean': 2326, 'comfortable': 2327, 'criticise': 2328, 'disappointed': 2329, 'friendship': 2330, 'holiday': 2331, 'informal': 2332, 'manager': 2333, 'spill': 2334, 'stiffness': 2335, 'warning': 2336, 'awkwardness': 2337, 'jazz': 2338, 'comfy': 2339, 'quit': 2340, 'enjoin': 2341, 'humiliating': 2342, 'overly': 2343, 'unemployed': 2344, 'ingest': 2345, 'lying': 2346, 'stuck': 2347, 'aught': 2348, 'brief': 2349, 'busy': 2350, 'email': 2351, 'preceptor': 2352, 'reply': 2353, 'specific': 2354, 'fuss': 2355, 'rhenium': 2356, 'unretentive': 2357, 'interfere': 2358, 'brusque': 2359, 'forward': 2360, 'invest': 2361, 'propel': 2362, 'onward': 2363, 'baffle': 2364, 'empow': 2365, 'meliorate': 2366, 'driveable': 2367, 'driver': 2368, 'habituate': 2369, 'meltdown': 2370, 'nuclear': 2371, 'puzzle': 2372, 'red': 2373, 'seat': 2374, 'radiation': 2375, 'visible': 2376, 'buddy': 2377, 'center': 2378, 'motor': 2379, 'urban': 2380, 'designation': 2381, 'utilize': 2382, 'block': 2383, 'development': 2384, 'freestande': 2385, 'inform': 2386, 'kyle': 2387, 'letter': 2388, 'prove': 2389, 'recent': 2390, 'regardless': 2391, 'hint': 2392, 'accompany': 2393, 'ascendance': 2394, 'breakdown': 2395, 'detach': 2396, 'dissociate': 2397, 'exhaust': 2398, 'fury': 2399, 'image': 2400, 'openly': 2401, 'pen': 2402, 'pent': 2403, 'personal': 2404, 'psych': 2405, 'rehearse': 2406, 'separation': 2407, 'stem': 2408, 'typical': 2409, 'accompanied': 2410, 'breakdowns': 2411, 'result': 2412, 'tue': 2413, 'deprivation': 2414, 'squall': 2415, 'grim': 2416, 'art': 2417, 'art_school': 2418, 'ass': 2419, 'caper': 2420, 'dorm': 2421, 'exclusively': 2422, 'expensive_city': 2423, 'funding': 2424, 'interested': 2425, 'movie': 2426, 'response': 2427, 'schoolhouse': 2428, 'storyboard': 2429, 'wayyyyyyy': 2430, 'puff': 2431, 'storyboards': 2432, 'dispirit': 2433, 'dormitory': 2434, 'genial': 2435, 'illness': 2436, 'baptize': 2437, 'complicate': 2438, 'hatred': 2439, 'male': 2440, 'build': 2441, 'sprightliness': 2442, 'within': 2443, 'building': 2444, 'fish': 2445, 'foresightful': 2446, 'kettle': 2447, 'pity': 2448, 'ego': 2449, 'destroy': 2450, 'empathy': 2451, 'important': 2452, 'jane': 2453, 'punishment': 2454, 'reciprocal': 2455, 'chip': 2456, 'evening': 2457, 'significant': 2458, 'belch': 2459, 'burp': 2460, 'crumble': 2461, 'nausea': 2462, 'nauseous': 2463, 'shell': 2464, 'skip': 2465, 'slow': 2466, 'stomach_ache': 2467, 'suppose': 2468, 'television': 2469, 'tiny': 2470, 'tomorrow': 2471, 'fellow': 2472, 'throwing': 2473, 'thymine': 2474, 'tv': 2475, 'grand': 2476, 'nonplus': 2477, 'boob': 2478, 'tube': 2479, 'unearthly': 2480, 'badly': 2481, 'claw': 2482, 'skull': 2483, 'ungrateful': 2484, 'venter': 2485, 'backstorie': 2486, 'blurt': 2487, 'brand': 2488, 'desperately': 2489, 'happiness': 2490, 'sympathy': 2491, 'thanked': 2492, 'wince': 2493, 'understanding': 2494, 'savvy': 2495, 'talent': 2496, 'anything': 2497, 'bare': 2498, 'cent': 2499, 'default': 2500, 'horizon': 2501, 'limit': 2502, 'miserable': 2503, 'soda': 2504, 'starve': 2505, 'penny': 2506, 'tonic': 2507, 'gravely': 2508, 'asap': 2509, 'volatile': 2510, 'acquire': 2511, 'greenback': 2512, 'derive': 2513, 'cyclical': 2514, 'denial': 2515, 'retrigger': 2516, 'revise': 2517, 'cyclic': 2518, 'defence': 2519, 'crowd': 2520, 'blowhole': 2521, 'disquiet': 2522, 'grocerie': 2523, 'tertiary': 2524, 'unharmed': 2525, 'vent': 2526, 'liothyronine': 2527, 'outlet': 2528, 'somwhere': 2529, 'though': 2530, 'tactual': 2531, 'travel': 2532, 'emergency': 2533, 'fund': 2534, 'las_vega': 2535, 'orignally': 2536, 'plane': 2537, 'wipe': 2538, 'breach': 2539, 'deplete': 2540, 'investment': 2541, 'manoeuvre': 2542, 'mob': 2543, 'planer': 2544, 'commence': 2545, 'exigency': 2546, 'vegas': 2547, 'belonging': 2548, 'berate': 2549, 'communication': 2550, 'cook': 2551, 'crime': 2552, 'critiscise': 2553, 'somewhere': 2554, 'syndicate': 2555, 'someplace': 2556, 'appease': 2557, 'exhibit': 2558, 'morn': 2559, 'communicate': 2560, 'extinct': 2561, 'sporting': 2562, 'tamp': 2563, 'yea': 2564, 'equipment': 2565, 'failure': 2566, 'jubilantly': 2567, 'mid': 2568, 'successful': 2569, 'twenty': 2570, 'happily': 2571, 'header': 2572, 'married': 2573, 'mechanic': 2574, 'nursing': 2575, 'stunned': 2576, 'mechanism': 2577, 'mirthfully': 2578, 'frightened': 2579, 'loop': 2580, 'majority': 2581, 'swing': 2582, 'bulk': 2583, 'hump': 2584, 'precisely': 2585, 'afterlife': 2586, 'atm': 2587, 'bizarre': 2588, 'explore': 2589, 'extreme': 2590, 'hellish': 2591, 'obsess': 2592, 's': 2593, 'schizophrenia': 2594, 'theory': 2595, 'creation': 2596, 'fearfulness': 2597, 'hereafter': 2598, 'holy': 2599, 'obsessed': 2600, 'religion': 2601, 'scripture': 2602, 'anguish': 2603, 'recital': 2604, 'religious': 2605, 'uttermost': 2606, 'existence': 2607, 'haunt': 2608, 'infirmary': 2609, 'veneration': 2610, 'devotion': 2611, 'narcisist': 2612, 'prevaricator': 2613, 'relevant': 2614, 'slowly': 2615, 'sustainable': 2616, 'lento': 2617, 'stall': 2618, 'tend': 2619, 'keeping': 2620, 'liar': 2621, 'cop': 2622, 'drug_addict': 2623, 'exhausted': 2624, 'roommate': 2625, 'steal': 2626, 'thou': 2627, 'edict': 2628, 'incessantly': 2629, 'roomy': 2630, 'immense': 2631, 'interaction': 2632, 'knowing': 2633, 'subway': 2634, 'lav': 2635, 'locomote': 2636, 'construe': 2637, 'crawl': 2638, 'golf': 2639, 'expression': 2640, 'depict': 2641, 'daze': 2642, 'hind_end': 2643, 'stopover': 2644, 'agreement': 2645, 'certificate': 2646, 'computer': 2647, 'document': 2648, 'effectual': 2649, 'laptop': 2650, 'notebook': 2651, 'passport': 2652, 'security': 2653, 'sell': 2654, 'societal': 2655, 'threat': 2656, 'violent': 2657, 'crucial': 2658, 'flee': 2659, 'legal': 2660, 'social': 2661, 'recommendation': 2662, 'stole': 2663, 'batting': 2664, 'credential': 2665, 'beautiful': 2666, 'blessing': 2667, 'halvden': 2668, 'paralyse': 2669, 'trygve': 2670, 'animation': 2671, 'dependable': 2672, 'grace': 2673, 'fountainhead': 2674, 'jack': 2675, 'articulate': 2676, 'accommodate': 2677, 'core': 2678, 'disturb': 2679, 'drastically': 2680, 'obsession': 2681, 'overnight': 2682, 'principle': 2683, 'prison_term': 2684, 'quickly': 2685, 'dissimilar': 2686, 'disturbing': 2687, 'lodge': 2688, 'worrisome': 2689, 'barren': 2690, 'burden': 2691, 'destruction': 2692, 'nevermind': 2693, 'qualification': 2694, 'sack': 2695, 'berating': 2696, 'social_interaction': 2697, 'chew': 2698, 'wad': 2699, 'borrow': 2700, 'calciferol': 2701, 'desperate': 2702, 'groovy': 2703, 'kebab': 2704, 'nutrition': 2705, 'ordering': 2706, 'pizza': 2707, 'preference': 2708, 'store': 2709, 'varied': 2710, 'bribe': 2711, 'range': 2712, 'pie': 2713, 'poppycock': 2714, 'purchase': 2715, 'grad_school': 2716, 'minor': 2717, 'panicky': 2718, 'suffocate': 2719, 'undecomposed': 2720, 'uphold': 2721, 'owe': 2722, 'petrify': 2723, 'powerfully': 2724, 'singleness': 2725, 'ultimate': 2726, 'strongly': 2727, 'fuckery': 2728, 'tangible': 2729, 'forwards': 2730, 'ridiculous': 2731, 'frontwards': 2732, 'piazza': 2733, 'thrust': 2734, 'adjuster': 2735, 'consist': 2736, 'county': 2737, 'craven': 2738, 'disaster': 2739, 'evacuate': 2740, 'extended': 2741, 'flood': 2742, 'hurricane_florence': 2743, 'insurance': 2744, 'maternal': 2745, 'member': 2746, 'penis': 2747, 'president': 2748, 'recovery': 2749, 'rescue': 2750, 'resource': 2751, 'return': 2752, 'stage': 2753, 'indemnity': 2754, 'kinsperson': 2755, 'wicked': 2756, 'instinctive': 2757, 'catastrophe': 2758, 'additional': 2759, 'apr': 2760, 'discover': 2761, 'easier': 2762, 'euthanize': 2763, 'landlord': 2764, 'negotiate': 2765, 'reinstate': 2766, 'setback': 2767, 'apply': 2768, 'euthanized': 2769, 'bank': 2770, 'negociate': 2771, 'cigarette': 2772, 'collapse': 2773, 'engine': 2774, 'listen': 2775, 'rev': 2776, 'thrive': 2777, 'adjusted': 2778, 'euphony': 2779, 'expend': 2780, 'threshold': 2781, 'batch': 2782, 'bland': 2783, 'boring': 2784, 'conclusion': 2785, 'describe': 2786, 'entertaining': 2787, 'exciting': 2788, 'expectation': 2789, 'heartache': 2790, 'loser': 2791, 'taste': 2792, 'type': 2793, 'entertain': 2794, 'playfulness': 2795, 'behind': 2796, 'drilling': 2797, 'enviousness': 2798, 'envy': 2799, 'extent': 2800, 'exude': 2801, 'layer': 2802, 'magic': 2803, 'pathway': 2804, 'grave': 2805, 'magically': 2806, 'model': 2807, 'nerve': 2808, 'tract': 2809, 'invidia': 2810, 'designate': 2811, 'unpacked': 2812, 'foe': 2813, 'laborious': 2814, 'looking': 2815, 'responsibly': 2816, 'tick': 2817, 'ticking': 2818, 'downcast': 2819, 'swallow': 2820, 'token': 2821, 'driving': 2822, 'ostracize': 2823, 'shopping': 2824, 'ban': 2825, 'operate': 2826, 'anyplace': 2827, 'blackball': 2828, 'labour': 2829, 'alien': 2830, 'average': 2831, 'bullshit': 2832, 'flame': 2833, 'headed': 2834, 'hippy': 2835, 'sky': 2836, 'star': 2837, 'wyrd': 2838, 'hippie': 2839, 'suit': 2840, 'terra': 2841, 'admire': 2842, 'dirty': 2843, 'forgive': 2844, 'lavatory': 2845, 'nipper': 2846, 'smile': 2847, 'admired': 2848, 'playact': 2849, 'mint': 2850, 'cutting': 2851, 'fuzz': 2852, 'lady': 2853, 'motorcar': 2854, 'road_rage': 2855, 'stare': 2856, 'whisper': 2857, 'plain': 2858, 'swage': 2859, 'hr': 2860, 'medical': 2861, 'occasionally': 2862, 'belong': 2863, 'campaign': 2864, 'interpret': 2865, 'choose': 2866, 'resolve': 2867, 'extend': 2868, 'definitely': 2869, 'exaggeration': 2870, 'highway': 2871, 'intubate': 2872, 'lift': 2873, 'lightheade': 2874, 'sequence': 2875, 'snap': 2876, 'summary': 2877, 'sweaty': 2878, 'unconscious': 2879, 'unfortunate': 2880, 'wallet': 2881, 'exit': 2882, 'net': 2883, 'decidedly': 2884, 'inauspicious': 2885, 'apparel': 2886, 'fate': 2887, 'pride': 2888, 'heed': 2889, 'leslie': 2890, 'towne': 2891, 'sustenance': 2892, 'pop': 2893, 'downhill': 2894, 'escalate': 2895, 'estimable': 2896, 'hear': 2897, 'referral': 2898, 'trashy': 2899, 'absolute': 2900, 'annoying': 2901, 'clingy': 2902, 'flutter': 2903, 'forethought': 2904, 'nark': 2905, 'opposite': 2906, 'unaccompanied': 2907, 'randomness': 2908, 'strait': 2909, 'beau': 2910, 'spending': 2911, 'allowance': 2912, 'reserve': 2913, 'select': 2914, 'valuation': 2915, 'appear': 2916, 'breath': 2917, 'chronically': 2918, 'possibly': 2919, 'productive': 2920, 'reviews': 2921, 'self_centere': 2922, 'surf': 2923, 'video_game': 2924, 'centre': 2925, 'gaba': 2926, 'acid': 2927, 'aminobutyric': 2928, 'gamma': 2929, 'mean_solar': 2930, 'obtain': 2931, 'awake': 2932, 'drift': 2933, 'prevent': 2934, 'row': 2935, 'scientific': 2936, 'mavin': 2937, 'stray': 2938, 'bomb': 2939, 'croak': 2940, 'recollect': 2941, 'gruelle': 2942, 'intend': 2943, 'sour': 2944, 'area': 2945, 'emphatically': 2946, 'gang': 2947, 'heavy': 2948, 'riddled': 2949, 'southward': 2950, 'vaguest_sense': 2951, 'binary': 2952, 'reckon': 2953, 'shitty': 2954, 'nearby': 2955, 'riddle': 2956, 'sphere': 2957, 'region': 2958, 'wispy': 2959, 'jump': 2960, 'kindly': 2961, 'suicide': 2962, 'tie': 2963, 'bridge': 2964, 'constituent': 2965, 'hearted': 2966, 'hearte': 2967, 'crashing': 2968, 'crash': 2969, 'operose': 2970, 'agone': 2971, 'annihilation': 2972, 'moody': 2973, 'personally': 2974, 'tipping': 2975, 'unaware': 2976, 'whale': 2977, 'protrude': 2978, 'seam': 2979, 'will': 2980, 'discrepant': 2981, 'worthless': 2982, 'inconsistent': 2983, 'ambulance': 2984, 'cfs': 2985, 'desperation': 2986, 'doc': 2987, 'experienced': 2988, 'fatigue': 2989, 'lbs': 2990, 'moderate': 2991, 'pysch': 2992, 'rule': 2993, 'stark': 2994, 'suspect': 2995, 'toss': 2996, 'viral': 2997, 'weigh': 2998, 'jade': 2999, 'capture': 3000, 'emily': 3001, 'onrush': 3002, 'puerility': 3003, 'sexually_abuse': 3004, 'burst': 3005, 'identity': 3006, 'pose': 3007, 'proper': 3008, 'rise': 3009, 'motive': 3010, 'naturally': 3011, 'venerate': 3012, 'convalescence': 3013, 'urge': 3014, 'brush': 3015, 'ending': 3016, 'fibromyalgia': 3017, 'hollow': 3018, 'nervus': 3019, 'sore': 3020, 'million': 3021, 'sensitive': 3022, 'axe': 3023, 'scale': 3024, 'breed': 3025, 'instance': 3026, 'nate': 3027, 'bygone': 3028, 'crush': 3029, 'mitigate': 3030, 'objectively': 3031, 'bun': 3032, 'abus': 3033, 'eviction': 3034, 'lawyer': 3035, 'pre': 3036, 'succeed': 3037, 'typeface': 3038, 'vacate': 3039, 'save': 3040, 'passably': 3041, 'socially': 3042, 'weekend': 3043, 'setting': 3044, 'ensue': 3045, 'invite': 3046, 'rifle': 3047, 'jolly': 3048, 'diarrhea': 3049, 'unbalanced': 3050, 'zoo': 3051, 'needless': 3052, 'plunk': 3053, 'decline': 3054, 'livelihood': 3055, 'unattractive': 3056, 'unbendable': 3057, 'unmotivated': 3058, 'sozzle': 3059, 'stiff': 3060, 'anatomy': 3061, 'piddle': 3062, 'unwavering': 3063, 'access': 3064, 'earphone': 3065, 'texting': 3066, 'admission': 3067, 'uncollectible': 3068, 'engagement': 3069, 'bitch': 3070, 'cunt': 3071, 'true': 3072, 'trunk': 3073, 'quick': 3074, 'solely': 3075, 'frightening': 3076, 'misuse': 3077, 'shtup': 3078, 'thieve': 3079, 'bull': 3080, 'coiffe': 3081, 'grip': 3082, 'inconvenience': 3083, 'likelihood': 3084, 'mumble': 3085, 'unknown': 3086, 'curtly': 3087, 'ifs': 3088, 'likeliness': 3089, 'serene': 3090, 'sudate': 3091, 'troublesomeness': 3092, 'incessant': 3093, 'sic': 3094, 'trapped': 3095, 'bloody': 3096, 'compete': 3097, 'endless': 3098, 'faulting': 3099, 'instruct': 3100, 'sluttish': 3101, 'vie': 3102, 'alchie': 3103, 'dss_social': 3104, 'harass': 3105, 'nonsense_bullshit': 3106, 'safety': 3107, 'social_service': 3108, 'dss': 3109, 'mixer': 3110, 'foretell': 3111, 'intuition': 3112, 'lovely': 3113, 'purely': 3114, 'solve': 3115, 'usual': 3116, 'stead': 3117, 'vulgar': 3118, 'agnise': 3119, 'imputable': 3120, 'rough': 3121, 'recognise': 3122, 'ripe': 3123, 'wondered': 3124, 'bum': 3125, 'surprisingly': 3126, 'thankfully': 3127, 'unquiet': 3128, 'lonesome': 3129, 'insect': 3130, 'spider': 3131, 'insect_memorie': 3132, 'wanderer': 3133, 'frame': 3134, 'active': 3135, 'activitiy': 3136, 'challenge': 3137, 'hostility': 3138, 'online': 3139, 'reading': 3140, 'score': 3141, 'social_media': 3142, 'substance': 3143, 'unhealthy': 3144, 'schmooze': 3145, 'texte': 3146, 'gainsay': 3147, 'tried': 3148, 'sunup': 3149, 'broom': 3150, 'makeup': 3151, 'shoving': 3152, 'soup': 3153, 'satiate': 3154, 'shelve': 3155, 'shove': 3156, 'nbsp': 3157, 'paste': 3158, 'rallying': 3159, 'shelf': 3160, 'breaking': 3161, 'wretched': 3162, 'angle': 3163, 'hellhole': 3164, 'voiceless': 3165, 'engage': 3166, 'hide': 3167, 'largely': 3168, 'untreated': 3169, 'vague': 3170, 'phobic': 3171, 'render': 3172, 'slant': 3173, 'couldonly': 3174, 'foot': 3175, 'statute': 3176, 'poorly': 3177, 'mischievously': 3178, 'hunky': 3179, 'trump': 3180, 'rampart': 3181, 'education': 3182, 'manipulation': 3183, 'manipulative': 3184, 'master': 3185, 'soooo': 3186, 'counselor': 3187, 'passion': 3188, 'donation': 3189, 'encephalitis': 3190, 'gme': 3191, 'immune': 3192, 'photo': 3193, 'positive': 3194, 'sputter': 3195, 'swelling': 3196, 'tidy': 3197, 'datum': 3198, 'intelligent': 3199, 'treasure': 3200, 'cephalitis': 3201, 'swell': 3202, 'fighting': 3203, 'levelheade': 3204, 'phrenitis': 3205, 'annoyed': 3206, 'local': 3207, 'protective': 3208, 'repeatedly': 3209, 'representative': 3210, 'tactic': 3211, 'decree': 3212, 'doorway': 3213, 'false': 3214, 'gtfo': 3215, 'incompetent': 3216, 'innocence': 3217, 'moldy': 3218, 'refrigerator': 3219, 'reverse': 3220, 'roofless': 3221, 'spectacularly': 3222, 'til': 3223, 'tresspass': 3224, 'weather': 3225, 'bewilder': 3226, 'secure': 3227, 'guardianship': 3228, 'purity': 3229, 'mustiness': 3230, 'shoe': 3231, 'sickly': 3232, 'direct': 3233, 'loved': 3234, 'brace': 3235, 'carpal': 3236, 'coworker': 3237, 'figur': 3238, 'joyfulness': 3239, 'lace': 3240, 'maltreater': 3241, 'randomly': 3242, 'sew': 3243, 'tunnel': 3244, 'joy': 3245, 'needlepoint': 3246, 'sewing': 3247, 'burrow': 3248, 'computing': 3249, 'pursuit': 3250, 'stitchery': 3251, 'graft': 3252, 'prissy': 3253, 'botheration': 3254, 'bribery': 3255, 'derangement': 3256, 'nuisance': 3257, 'solar_day': 3258, 'king': 3259, 'relive': 3260, 'flighty': 3261, 'siemen': 3262, 'verbalize': 3263, 'luckily': 3264, 'ran': 3265, 'hombre': 3266, 'monotone': 3267, 'disclose': 3268, 'fortunately': 3269, 'news': 3270, 'haywire': 3271, 'testify': 3272, 'cypher': 3273, 'respectable': 3274, 'shinny': 3275, 'solitary': 3276, 'certainty': 3277, 'fixate': 3278, 'forgivingness': 3279, 'meaningful': 3280, 'ameliorate': 3281, 'kindness': 3282, 'posit': 3283, 'cp': 3284, 'goddamne': 3285, 'insolve': 3286, 'negligent': 3287, 'whacking': 3288, 'income': 3289, 'kyd': 3290, 'scar': 3291, 'departure': 3292, 'commode': 3293, 'equally': 3294, 'prosecutor': 3295, 'refer': 3296, 'dismiss': 3297, 'attorney': 3298, 'manipulate': 3299, 'moldiness': 3300, 'prosecute': 3301, 'asd': 3302, 'asperger': 3303, 'destination': 3304, 'diagnostic': 3305, 'electricity': 3306, 'goal': 3307, 'nonpayment': 3308, 'oil': 3309, 'pipe': 3310, 'practically': 3311, 'requirement': 3312, 'rub': 3313, 'sake': 3314, 'salt': 3315, 'wound': 3316, 'direction': 3317, 'convenient': 3318, 'divorce': 3319, 'fast_forward': 3320, 'heel': 3321, 'rain': 3322, 'several': 3323, 'troika': 3324, 'descend': 3325, 'mode': 3326, 'activate': 3327, 'context': 3328, 'deep': 3329, 'funk': 3330, 'wishing': 3331, 'recondite': 3332, 'ternion': 3333, 'unattackable': 3334, 'vexation': 3335, 'friendly': 3336, 'dump': 3337, 'indian': 3338, 'maker': 3339, 'negative': 3340, 'sestet': 3341, 'unhappy': 3342, 'white': 3343, 'workaholic': 3344, 'exculpation': 3345, 'electronegative': 3346, 'weighting': 3347, 'commitment': 3348, 'cptsd': 3349, 'mass': 3350, 'official': 3351, 'theoretically': 3352, 'validity': 3353, 'crippling': 3354, 'untried': 3355, 'lustiness': 3356, 'arrangement': 3357, 'sob': 3358, 'violently': 3359, 'duo': 3360, 'vitamin': 3361, 'afterwards': 3362, 'imaginable': 3363, 'presumably': 3364, 'familiar': 3365, 'conversant': 3366, 'terminus': 3367, 'basket': 3368, 'confusing': 3369, 'definetly': 3370, 'frantically': 3371, 'groggy': 3372, 'kitchen': 3373, 'ratio': 3374, 'snack': 3375, 'collation': 3376, 'lilliputian': 3377, 'count': 3378, 'chapter': 3379, 'chase': 3380, 'measure': 3381, 'medium': 3382, 'plant': 3383, 'request': 3384, 'sharing': 3385, 'snarky': 3386, 'spite': 3387, 'contribution': 3388, 'electronic': 3389, 'industrial': 3390, 'novel': 3391, 'threesome': 3392, 'pile': 3393, 'cognizant': 3394, 'emdr': 3395, 'eubstance': 3396, 'headache': 3397, 'hypochondriac': 3398, 'left': 3399, 'prolonged': 3400, 'reprogramme': 3401, 'session': 3402, 'aware': 3403, 'prolong': 3404, 'unmatche': 3405, 'cognisant': 3406, 'asthma': 3407, 'atomoxetine': 3408, 'hallucination': 3409, 'inhalator': 3410, 'psychiatric': 3411, 'inhaler': 3412, 'outcome': 3413, 'physician': 3414, 'celexa': 3415, 'available': 3416, 'black': 3417, 'embarrassed': 3418, 'fan': 3419, 'gym': 3420, 'hippopotamus': 3421, 'kidnap': 3422, 'reduce': 3423, 'pitch': 3424, 'uncommitte': 3425, 'decease': 3426, 'summation': 3427, 'entropy': 3428, 'tire': 3429, 'compounding': 3430, 'hallow': 3431, 'sadly': 3432, 'slam': 3433, 'compound': 3434, 'epithet': 3435, 'sterilize': 3436, 'gist': 3437, 'rotten': 3438, 'gen': 3439, 'coldness': 3440, 'officially': 3441, 'overthinke': 3442, 'temple': 3443, 'ministration': 3444, 'severe_insomnia': 3445, 'stair': 3446, 'battle': 3447, 'peel': 3448, 'cure': 3449, 'heal': 3450, 'internally': 3451, 'lesson': 3452, 'postulate': 3453, 'reconcile': 3454, 'bid': 3455, 'mend': 3456, 'broadcast': 3457, 'disabled': 3458, 'healer': 3459, 'ie': 3460, 'mhicm': 3461, 'dominion': 3462, 'foreseeable': 3463, 'hospitalise': 3464, 'migraine': 3465, 'mood_swing': 3466, 'occupation': 3467, 'particularly': 3468, 'repress': 3469, 'suggestion': 3470, 'toast': 3471, 'particular': 3472, 'relatively': 3473, 'nascency': 3474, 'chinese': 3475, 'hot': 3476, 'hurl': 3477, 'pantry': 3478, 'rely': 3479, 'supermarket': 3480, 'tummy': 3481, 'virus': 3482, 'ladder': 3483, 'belly': 3484, 'taiwanese': 3485, 'ascribable': 3486, 'feign': 3487, 'certainly': 3488, 'characterise': 3489, 'distress': 3490, 'erection': 3491, 'cousin': 3492, 'german': 3493, 'qualify': 3494, 'erect': 3495, 'cerebrate': 3496, 'dispose': 3497, 'customer': 3498, 'downer': 3499, 'lunch': 3500, 'upper': 3501, 'dayspre': 3502, 'dozen': 3503, 'arrive': 3504, 'antidepressant': 3505, 'concentration': 3506, 'hygiene': 3507, 'inability': 3508, 'method': 3509, 'mirtazapine': 3510, 'mixed': 3511, 'mundane': 3512, 'plethora': 3513, 'remission': 3514, 'snappishness': 3515, 'socialization': 3516, 'steam': 3517, 'assist': 3518, 'embarrassment': 3519, 'irritability': 3520, 'psychotherapy': 3521, 'sway': 3522, 'denseness': 3523, 'digestive': 3524, 'frighteningly': 3525, 'influenza': 3526, 'wheelchair': 3527, 'worsen': 3528, 'flu': 3529, 'infliction': 3530, 'inveterate': 3531, 'handicap': 3532, 'opinion': 3533, 'quietus': 3534, 'accentuate': 3535, 'affright': 3536, 'dream': 3537, 'fearfully': 3538, 'logo': 3539, 'occurrence': 3540, 'sheet': 3541, 'stink': 3542, 'travail': 3543, 'jolty': 3544, 'severalize': 3545, 'strung': 3546, 'amazing': 3547, 'scholarship': 3548, 'pour': 3549, 'crave': 3550, 'land': 3551, 'reception': 3552, 'implement': 3553, 'terrorize': 3554, 'lifetime': 3555, 'sham': 3556, 'deflower': 3557, 'crop': 3558, 'grievous': 3559, 'severely': 3560, 'tthan': 3561, 'automobile': 3562, 'requisite': 3563, 'inferno': 3564, 'cardiac': 3565, 'toll': 3566, 'obliterate': 3567, 'operation': 3568, 'surgical': 3569, 'uncalled': 3570, 'pill': 3571, 'stranger': 3572, 'anovulant': 3573, 'politic': 3574, 'dotard': 3575, 'language': 3576, 'rare': 3577, 'speech': 3578, 'chilling': 3579, 'noone': 3580, 'pyscologist': 3581, 'verge': 3582, 'scepter': 3583, 'academy': 3584, 'employer': 3585, 'hometown': 3586, 'proud': 3587, 'reference': 3588, 'cite': 3589, 'overcompensate': 3590, 'humiliate': 3591, 'denotation': 3592, 'enforcement': 3593, 'officer': 3594, 'blue': 3595, 'officeholder': 3596, 'townsfolk': 3597, 'fertilise': 3598, 'mark': 3599, 'yr': 3600, 'grossed': 3601, 'muddy': 3602, 'behavior': 3603, 'blacked_balle': 3604, 'harassment': 3605, 'torment': 3606, 'barricade': 3607, 'cave': 3608, 'melanise': 3609, 'intensify': 3610, 'census': 3611, 'digital': 3612, 'drawing': 3613, 'primary': 3614, 'nosecount': 3615, 'tin': 3616, 'addict': 3617, 'attrition': 3618, 'hijacking': 3619, 'incline': 3620, 'overdose': 3621, 'prescription': 3622, 'smoke': 3623, 'spare': 3624, 'hail': 3625, 'junkie': 3626, 'confidant': 3627, 'hijack': 3628, 'spooky': 3629, 'alternative': 3630, 'scatter': 3631, 'youthful': 3632, 'potty': 3633, 'muckle': 3634, 'osculate': 3635, 'twice': 3636, 'kiss': 3637, 'ploughshare': 3638, 'spade': 3639, 'liaison': 3640, 'dine': 3641, 'discomfort': 3642, 'dumbwaiter': 3643, 'echoey': 3644, 'hall': 3645, 'laster': 3646, 'malaise': 3647, 'seemingly': 3648, 'spike': 3649, 'subside': 3650, 'consistence': 3651, 'dining': 3652, 'residence': 3653, 'lessen': 3654, 'programme': 3655, 'unwanted': 3656, 'flow': 3657, 'funfair': 3658, 'overlook': 3659, 'enounce': 3660, 'fundamentally': 3661, 'spoiled': 3662, 'annoy': 3663, 'chol': 3664, 'mood': 3665, 'nicknack': 3666, 'season': 3667, 'whatnot': 3668, 'atmospheric': 3669, 'ardent': 3670, 'humour': 3671, 'female': 3672, 'punched': 3673, 'serviceman': 3674, 'society': 3675, 'variety': 3676, 'magnanimous': 3677, 'agenda': 3678, 'interpreter': 3679, 'secern': 3680, 'bipolar': 3681, 'buck': 3682, 'complex': 3683, 'inevitable': 3684, 'nigh': 3685, 'ocpd': 3686, 'romantic': 3687, 'terribly': 3688, 'discomfit': 3689, 'spartan': 3690, 'compensate': 3691, 'railway': 3692, 'dedicate': 3693, 'dominant': 3694, 'inferior': 3695, 'recess': 3696, 'integral': 3697, 'intp': 3698, 'prevail': 3699, 'distressed': 3700, 'bottle': 3701, 'conduce': 3702, 'numerous': 3703, 'bottled': 3704, 'entrust': 3705, 'middleman': 3706, 'pause': 3707, 'condo': 3708, 'free': 3709, 'grad': 3710, 'overall': 3711, 'regret': 3712, 'actuate': 3713, 'deglutition': 3714, 'alum': 3715, 'bone': 3716, 'concussion': 3717, 'defecate': 3718, 'glass': 3719, 'holler': 3720, 'player': 3721, 'dampen': 3722, 'doubly': 3723, 'aspect': 3724, 'deplumate': 3725, 'dispatch': 3726, 'fukien': 3727, 'ivory': 3728, 'videodisc': 3729, 'risky': 3730, 'practician': 3731, 'psychiatrist': 3732, 'practitioner': 3733, 'shrink': 3734, 'dealer': 3735, 'obese': 3736, 'rumor': 3737, 'shirt': 3738, 'vest': 3739, 'endow': 3740, 'guilte': 3741, 'imply': 3742, 'guilting': 3743, 'connote': 3744, 'penetration': 3745, 'snip': 3746, 'blueprint': 3747, 'cooperator': 3748, 'originate': 3749, 'collaborator': 3750, 'incursion': 3751, 'commend': 3752, 'squirm': 3753, 'peace': 3754, 'broken': 3755, 'clump': 3756, 'apperantly': 3757, 'base': 3758, 'lash': 3759, 'meaning': 3760, 'meanness': 3761, 'monster': 3762, 'negativity': 3763, 'overtake': 3764, 'ppl': 3765, 'remotely': 3766, 'hangdog': 3767, 'closeness': 3768, 'disorganize': 3769, 'finding': 3770, 'organize': 3771, 'palm': 3772, 'surd': 3773, 'isolate': 3774, 'determine': 3775, 'aggressive': 3776, 'blind': 3777, 'disbelief': 3778, 'highschool': 3779, 'passive': 3780, 'decently': 3781, 'pronounce': 3782, 'diffuse': 3783, 'distribute': 3784, 'decency': 3785, 'fucker': 3786, 'inscrutable': 3787, 'microwave': 3788, 'painless': 3789, 'reformat': 3790, 'assassin': 3791, 'toilsome': 3792, 'crying': 3793, 'frequently': 3794, 'uncontrollable': 3795, 'rationality': 3796, 'athirst': 3797, 'chronicle': 3798, 'frustrating': 3799, 'inject': 3800, 'insulin': 3801, 'survey': 3802, 'virtually': 3803, 'queer': 3804, 'courier': 3805, 'band': 3806, 'bass': 3807, 'carefree': 3808, 'drum': 3809, 'honorable': 3810, 'scene': 3811, 'guitar': 3812, 'reasonably': 3813, 'isthmus': 3814, 'stain': 3815, 'adoptive': 3816, 'app': 3817, 'cash': 3818, 'greatly_appreciate': 3819, 'paypal': 3820, 'greatly': 3821, 'greatly_appreciated': 3822, 'mummy': 3823, 'prize': 3824, 'drip': 3825, 'fearless': 3826, 'patois': 3827, 'subconscious': 3828, 'buzzword': 3829, 'chamfer': 3830, 'dribble': 3831, 'introvert': 3832, 'licence': 3833, 'overbear': 3834, 'restaurant': 3835, 'license': 3836, 'ostensibly': 3837, 'erstwhile': 3838, 'pine_tree': 3839, 'swain': 3840, 'allot': 3841, 'judgemental': 3842, 'lean': 3843, 'regularly': 3844, 'material': 3845, 'benzo': 3846, 'community': 3847, 'habit': 3848, 'hopefully': 3849, 'stupidly': 3850, 'backdown': 3851, 'stateless': 3852, 'oftentime': 3853, 'ventilate': 3854, 'unprepared': 3855, 'politics': 3856, 'stressed': 3857, 'null': 3858, 'anonymously': 3859, 'healing': 3860, 'platitude': 3861, 'portion': 3862, 'pos': 3863, 'stable': 3864, 'twitter': 3865, 'cipher': 3866, 'prepare': 3867, 'somewhat': 3868, 'participate': 3869, 'imperil': 3870, 'peepee': 3871, 'medicament': 3872, 'abandon': 3873, 'patience': 3874, 'commonly': 3875, 'trio': 3876, 'android': 3877, 'asset': 3878, 'curt': 3879, 'prospect': 3880, 'salvage': 3881, 'temper': 3882, 'viable': 3883, 'humanoid': 3884, 'outlook': 3885, 'peak': 3886, 'requital': 3887, 'attractive': 3888, 'bing': 3889, 'insecurity': 3890, 'screen': 3891, 'search': 3892, 'plausibly': 3893, 'booker': 3894, 'companion': 3895, 'schooler': 3896, 'quartet': 3897, 'gamy': 3898, 'key': 3899, 'resist': 3900, 'blackguard': 3901, 'revilement': 3902, 'overpower': 3903, 'skill': 3904, 'tranquillise': 3905, 'ferment': 3906, 'revalue': 3907, 'science': 3908, 'awhile': 3909, 'exact': 3910, 'plow': 3911, 'ascertain': 3912, 'precise': 3913, 'automatic': 3914, 'credit': 3915, 'fee': 3916, 'overdraft': 3917, 'paycheck': 3918, 'position': 3919, 'utilise': 3920, 'defrayal': 3921, 'defrayment': 3922, 'traverse': 3923, 'automatonlike': 3924, 'reflex': 3925, 'iniquity': 3926, 'up': 3927, 'darkness': 3928, 'aright': 3929, 'sanction': 3930, 'talking': 3931, 'xvii': 3932, 'demonizing': 3933, 'digest': 3934, 'horrifying': 3935, 'retention': 3936, 'villain': 3937, 'complicated': 3938, 'demonize': 3939, 'sojourner': 3940, 'mayhap': 3941, 'dice': 3942, 'inexperienced': 3943, 'minimalize': 3944, 'nuts': 3945, 'shameful': 3946, 'suspicious': 3947, 'innocent': 3948, 'diddlysquat': 3949, 'fawn': 3950, 'longsighted': 3951, 'motherfucker': 3952, 'obscure': 3953, 'veil': 3954, 'poop': 3955, 'atleast': 3956, 'dessert': 3957, 'display': 3958, 'modest': 3959, 'preppe': 3960, 'adjudicate': 3961, 'chore': 3962, 'cell': 3963, 'prepay': 3964, 'smartphone': 3965, 'broadsheet': 3966, 'device': 3967, 'supererogatory': 3968, 'derriere': 3969, 'repose': 3970, 'numeral': 3971, 'occasion': 3972, 'reasonable': 3973, 'fairish': 3974, 'sensible': 3975, 'backtalk': 3976, 'shocked': 3977, 'verbalise': 3978, 'interrogation': 3979, 'tl_dr': 3980, 'cerebration': 3981, 'manifest': 3982, 'psychosomatic': 3983, 'rarefy': 3984, 'record': 3985, 'unwellness': 3986, 'unhinged': 3987, 'charter': 3988, 'congeneric': 3989, 'gradation': 3990, 'menstruum': 3991, 'heaven': 3992, 'iron': 3993, 'pregant': 3994, 'witness': 3995, 'breadbasket': 3996, 'tiddler': 3997, 'gymnasium': 3998, 'subdued': 3999, 'bustle': 4000, 'city_centre': 4001, 'disconnected': 4002, 'limited': 4003, 'profressional': 4004, 'suburb': 4005, 'suite': 4006, 'venue': 4007, 'raft': 4008, 'metropolis': 4009, 'bike': 4010, 'suppport': 4011, 'deeply': 4012, 'disgusting': 4013, 'hundred': 4014, 'repercussion': 4015, 'resurfaced': 4016, 'vary': 4017, 'insert': 4018, 'matte': 4019, 'resurface': 4020, 'inhabit': 4021, 'sneak': 4022, 'approximately': 4023, 'fully_recovere': 4024, 'nosology': 4025, 'ownership': 4026, 'procedure': 4027, 'ultrasound': 4028, 'vet': 4029, 'biography': 4030, 'bootsy': 4031, 'farm': 4032, 'possession': 4033, 'apnea': 4034, 'cpap': 4035, 'fist': 4036, 'prison': 4037, 'xxxvi': 4038, 'testing': 4039, 'congeal': 4040, 'hat': 4041, 'degenerate': 4042, 'comprehend': 4043, 'garbage': 4044, 'grasp': 4045, 'drs': 4046, 'fathom': 4047, 'hmm': 4048, 'wino': 4049, 'breastfeed': 4050, 'inebriate': 4051, 'meddlesome': 4052, 'spamme': 4053, 'winteryokohama': 4054, 'difference': 4055, 'founder': 4056, 'revel': 4057, 'expensive': 4058, 'helpline': 4059, 'patch': 4060, 'uber': 4061, 'wise': 4062, 'elaborate': 4063, 'madly': 4064, 'wrack': 4065, 'refine': 4066, 'boldness': 4067, 'kneed': 4068, 'recoil': 4069, 'kvetch': 4070, 'plug': 4071, 'blackie': 4072, 'credit_card': 4073, 'dollar': 4074, 'student': 4075, 'hazard': 4076, 'hinder': 4077, 'employ': 4078, 'intervention': 4079, 'subprogram': 4080, 'terzetto': 4081, 'atrocious': 4082, 'furious': 4083, 'twosome': 4084, 'clobber': 4085, 'horrify': 4086, 'tempestuous': 4087, 'frightful': 4088, 'murderer': 4089, 'bastard': 4090, 'reasonableness': 4091, 'wrestling': 4092, 'illegitimate': 4093, 'confusion': 4094, 'freakin': 4095, 'leak': 4096, 'naked': 4097, 'regain': 4098, 'unbelievable': 4099, 'unprotected': 4100, 'disjoint': 4101, 'await': 4102, 'denmark': 4103, 'deposit': 4104, 'gratitude': 4105, 'mate': 4106, 'rice': 4107, 'scamme': 4108, 'tumultuous': 4109, 'unexpected': 4110, 'upcoming': 4111, 'upkeep': 4112, 'utmost': 4113, 'cheer': 4114, 'subtraction': 4115, 'turbulent': 4116, 'nib': 4117, 'grease': 4118, 'kinsfolk': 4119, 'rejoinder': 4120, 'memory_performance': 4121, 'procrastinate_everyday': 4122, 'concentrated': 4123, 'dally': 4124, 'dilly': 4125, 'stack': 4126, 'procrastinate': 4127, 'anniversary': 4128, 'awesome': 4129, 'birthday': 4130, 'wretchedness': 4131, 'misery': 4132, 'fade': 4133, 'abyss': 4134, 'fatherhood': 4135, 'acting': 4136, 'dungeon': 4137, 'polite': 4138, 'shine': 4139, 'warn': 4140, 'marvel': 4141, 'dosage': 4142, 'high_dosage': 4143, 'hopeful': 4144, 'permanent': 4145, 'recommend': 4146, 'relieve': 4147, 'inhibitor': 4148, 'reuptake': 4149, 'secession': 4150, 'selective': 4151, 'serotonin': 4152, 'venuss': 4153, 'kernel': 4154, 'racing': 4155, 'zs': 4156, 'anti': 4157, 'globus': 4158, 'lexapro': 4159, 'ssri': 4160, 'tremendously': 4161, 'wit': 4162, 'aesthesis': 4163, 'regale': 4164, 'spur': 4165, 'along': 4166, 'monitor': 4167, 'responsible': 4168, 'flavor': 4169, 'supervise': 4170, 'consistent': 4171, 'laundry': 4172, 'rational': 4173, 'asking': 4174, 'explicate': 4175, 'punctuate': 4176, 'altercation': 4177, 'chair': 4178, 'concrete': 4179, 'emotionally_abusive': 4180, 'everglade': 4181, 'iphone': 4182, 'pair': 4183, 'persist': 4184, 'remote': 4185, 'smash': 4186, 'bureau': 4187, 'frankfurter': 4188, 'chairperson': 4189, 'dresser': 4190, 'bra': 4191, 'cruel': 4192, 'ft': 4193, 'kiweare': 4194, 'content': 4195, 'rich': 4196, 'bladder': 4197, 'overactive': 4198, 'urologist': 4199, 'hyperactive': 4200, 'irrepressible': 4201, 'anovulatory': 4202, 'nation': 4203, 'specialty': 4204, 'interchange': 4205, 'captain': 4206, 'civilian': 4207, 'gaol': 4208, 'government': 4209, 'incite': 4210, 'marine': 4211, 'mast': 4212, 'riot': 4213, 'rowdy': 4214, 'raucous': 4215, 'defend': 4216, 'background': 4217, 'perspective': 4218, 'profile': 4219, 'management': 4220, 'universal': 4221, 'disconsolate': 4222, 'antibiotic': 4223, 'fumbling': 4224, 'infect': 4225, 'pulsation': 4226, 'respiratory': 4227, 'son': 4228, 'clumsy': 4229, 'septic': 4230, 'scupper': 4231, 'unsafe': 4232, 'expose': 4233, 'invariably': 4234, 'prospicient': 4235, 'peril': 4236, 'tingle': 4237, 'courteous': 4238, 'interchangeable': 4239, 'crab': 4240, 'gambling': 4241, 'riding': 4242, 'gaming': 4243, 'encase': 4244, 'mamma': 4245, 'mommy': 4246, 'decade': 4247, 'expersse': 4248, 'horribly': 4249, 'peeress': 4250, 'pock': 4251, 'russian': 4252, 'stern': 4253, 'noblewoman': 4254, 'author': 4255, 'genuine': 4256, 'imp': 4257, 'sentiment': 4258, 'writing': 4259, 'blunt': 4260, 'hurtful': 4261, 'mute': 4262, 'occassion': 4263, 'overstimulated': 4264, 'shivering': 4265, 'pecker': 4266, 'verse': 4267, 'heartbroken': 4268, 'dearly': 4269, 'ferocity': 4270, 'domesticate': 4271, 'abdoman': 4272, 'acerate': 4273, 'cheese': 4274, 'daddy': 4275, 'hearing': 4276, 'intense': 4277, 'leaf': 4278, 'organic': 4279, 'risk': 4280, 'structure': 4281, 'dangle': 4282, 'felicitous': 4283, 'acute': 4284, 'getting': 4285, 'grumbler': 4286, 'idiot': 4287, 'crybaby': 4288, 'adjustment': 4289, 'liken': 4290, 'hatful': 4291, 'performance': 4292, 'retentivity': 4293, 'smell': 4294, 'adopt': 4295, 'boy': 4296, 'chop': 4297, 'daniel': 4298, 'gladly': 4299, 'presume': 4300, 'prophet': 4301, 'revenge': 4302, 'snuck': 4303, 'vow': 4304, 'hatchet': 4305, 'babysitter': 4306, 'bot': 4307, 'cl': 4308, 'contract': 4309, 'isolation': 4310, 'mussiness': 4311, 'spam': 4312, 'unsuccessfully': 4313, 'upfront': 4314, 'downstairs': 4315, 'furnace': 4316, 'hvac': 4317, 'hysterically': 4318, 'message_till': 4319, 'mirror': 4320, 'unlocked': 4321, 'piffle': 4322, 'suspire': 4323, 'grandma': 4324, 'arm': 4325, 'bust': 4326, 'cherry': 4327, 'cubitu': 4328, 'dv': 4329, 'inmate': 4330, 'inner': 4331, 'kicking': 4332, 'leaven': 4333, 'leg': 4334, 'puncture_bite': 4335, 'sass': 4336, 'soaked': 4337, 'torn': 4338, 'underwear': 4339, 'welt': 4340, 'elbow': 4341, 'lip': 4342, 'peg': 4343, 'vex': 4344, 'hindquarter': 4345, 'jailhouse': 4346, 'consumption': 4347, 'painkiller': 4348, 'cling': 4349, 'uncertainty': 4350, 'coach': 4351, 'considerably': 4352, 'rage': 4353, 'substantially': 4354, 'handwriting': 4355, 'swear': 4356, 'intrusive_thought': 4357, 'tearfulness': 4358, 'intrusive': 4359, 'ray': 4360, 'logic': 4361, 'plague': 4362, 'hassle': 4363, 'abominable': 4364, 'dull': 4365, 'tumor': 4366, 'chevvy': 4367, 'ample': 4368, 'originally': 4369, 'visitation': 4370, 'bearing': 4371, 'heraldic': 4372, 'hotel': 4373, 'encouragement': 4374, 'phase': 4375, 'schoolwork': 4376, 'boost': 4377, 'usage': 4378, 'sexual_abuse': 4379, 'bpm': 4380, 'rate': 4381, 'lower': 4382, 'clue': 4383, 'feedback': 4384, 'revisit': 4385, 'acquisition': 4386, 'apprise': 4387, 'mystify': 4388, 'gentle': 4389, 'banter': 4390, 'initiation': 4391, 'conciously': 4392, 'palpitation': 4393, 'palptation': 4394, 'unconsciously': 4395, 'tremble': 4396, 'bout': 4397, 'thither': 4398, 'volute': 4399, 'intemperately': 4400, 'distinguish': 4401, 'approve': 4402, 'couch': 4403, 'hop': 4404, 'severally': 4405, 'subreddit': 4406, 'hopping': 4407, 'independently': 4408, 'throne': 4409, 'predestine': 4410, 'therapie': 4411, 'perish': 4412, 'deity': 4413, 'preordain': 4414, 'cheesepare': 4415, 'ight': 4416, 'proof': 4417, 'fundament': 4418, 'whelm': 4419, 'pinch': 4420, 'repulse': 4421, 'demente': 4422, 'dash': 4423, 'materialise': 4424, 'afternoon': 4425, 'cabin': 4426, 'descion': 4427, 'hubby': 4428, 'rend': 4429, 'resort': 4430, 'youngest': 4431, 'arouse': 4432, 'quaternary': 4433, 'refuge': 4434, 'sometime': 4435, 'niggle': 4436, 'irrelevant': 4437, 'unelaborated': 4438, 'sketchy': 4439, 'detect': 4440, 'consecrate': 4441, 'consolidate': 4442, 'loan': 4443, 'bless': 4444, 'hoping': 4445, 'soulfulness': 4446, 'opportunitie': 4447, 'unforced': 4448, 'uncoerced': 4449, 'refined': 4450, 'bedding': 4451, 'definitive': 4452, 'distinct': 4453, 'eiffel': 4454, 'humping': 4455, 'inappropriate': 4456, 'masturbate': 4457, 'recollection': 4458, 'route': 4459, 'teen': 4460, 'tickling': 4461, 'tower': 4462, 'undergoing': 4463, 'upsetting': 4464, 'vividly': 4465, 'walking': 4466, 'duvet': 4467, 'pillar': 4468, 'article': 4469, 'brook': 4470, 'completly': 4471, 'irrational': 4472, 'newsfeed': 4473, 'weed': 4474, 'web': 4475, 'forge': 4476, 'intelligence': 4477, 'merging': 4478, 'clause': 4479, 'court_date': 4480, 'currently_unemploye': 4481, 'permit': 4482, 'handout': 4483, 'muss': 4484, 'entree': 4485, 'respective': 4486, 'horrified': 4487, 'besides': 4488, 'cheated': 4489, 'knot': 4490, 'untie': 4491, 'accent': 4492, 'covetous': 4493, 'jealous': 4494, 'pic': 4495, 'reciprocate': 4496, 'snoop': 4497, 'attitude': 4498, 'being': 4499, 'd': 4500, 'freelance': 4501, 'i': 4502, 'library': 4503, 'original': 4504, 'thief': 4505, 'composition': 4506, 'stealer': 4507, 'sulphur': 4508, 'charg': 4509, 'cocksucker': 4510, 'solitaire': 4511, 'owner': 4512, 'implicate': 4513, 'phonograph': 4514, 'nonsense': 4515, 'realisation': 4516, 'round': 4517, 'penury': 4518, 'communicating': 4519, 'iridescent': 4520, 'nut': 4521, 'rearwards': 4522, 'surprised': 4523, 'tyson': 4524, 'surprise': 4525, 'precaution': 4526, 'satire': 4527, 'sarcasm': 4528, 'caustic': 4529, 'properly': 4530, 'confident': 4531, 'courage': 4532, 'detain': 4533, 'endangerment': 4534, 'gather': 4535, 'stalk': 4536, 'testimony': 4537, 'testimonial': 4538, 'exaggerate': 4539, 'narcissistic': 4540, 'unsettled': 4541, 'exaggerating': 4542, 'egotistical': 4543, 'chemo': 4544, 'hormonal': 4545, 'invalidate': 4546, 'livingroom': 4547, 'occasional': 4548, 'outburst': 4549, 'prostate': 4550, 'retirement': 4551, 'servant': 4552, 'severance': 4553, 'sublimate': 4554, 'target': 4555, 'venom': 4556, 'vitriol': 4557, 'advancement': 4558, 'sis': 4559, 'stagecoach': 4560, 'venthole': 4561, 'periodic': 4562, 'phallus': 4563, 'quaternity': 4564, 'motion': 4565, 'connection': 4566, 'dangerous': 4567, 'peculiarly': 4568, 'arguing': 4569, 'percentage': 4570, 'hug': 4571, 'humanity': 4572, 'strip': 4573, 'undetected': 4574, 'unfixable': 4575, 'unlovable': 4576, 'vacuum': 4577, 'denudate': 4578, 'alert': 4579, 'bff': 4580, 'bumble': 4581, 'chemical': 4582, 'estimation': 4583, 'swiping': 4584, 'mathematical': 4585, 'conk': 4586, 'perpetual': 4587, 'absent': 4588, 'immediate': 4589, 'layoff': 4590, 'pregnancy': 4591, 'rope': 4592, 'sane': 4593, 'uncle': 4594, 'scurrilous': 4595, 'sept': 4596, 'erase': 4597, 'loathing': 4598, 'micturate': 4599, 'flop': 4600, 'character': 4601, 'iso': 4602, 'network': 4603, 'fri': 4604, 'th': 4605, 'specify': 4606, 'assess': 4607, 'specialise': 4608, 'apprehensive': 4609, 'beguile': 4610, 'lovingness': 4611, 'perceive': 4612, 'speechless': 4613, 'tempt': 4614, 'charming': 4615, 'collect': 4616, 'proceeding': 4617, 'valet': 4618, 'curl': 4619, 'football': 4620, 'giant': 4621, 'ithiel': 4622, 'sorority': 4623, 'tshirt': 4624, 'uprise': 4625, 'township': 4626, 'analyze': 4627, 'regular': 4628, 'associate': 4629, 'psychoanalyze': 4630, 'effusion': 4631, 'mo': 4632, 'referable': 4633, 'botch': 4634, 'incomplete': 4635, 'limp': 4636, 'maternity': 4637, 'pool': 4638, 'division': 4639, 'roue': 4640, 'triad': 4641, 'uncomplete': 4642, 'infant': 4643, 'impress': 4644, 'otiose': 4645, 'goddamn': 4646, 'pointless': 4647, 'cleaning': 4648, 'dime': 4649, 'kohl': 4650, 'policy': 4651, 'rental': 4652, 'washable': 4653, 'zumba': 4654, 'pajama': 4655, 'sitter': 4656, 'anywhere_near': 4657, 'flare': 4658, 'godforbid': 4659, 'ironically': 4660, 'jar': 4661, 'nicotine': 4662, 'smoking': 4663, 'temporary': 4664, 'twofold': 4665, 'oscillation': 4666, 'booze': 4667, 'combine': 4668, 'rhythm': 4669, 'conroe': 4670, 'sugarbaby': 4671, 'tooshie': 4672, 'hitch': 4673, 'ante': 4674, 'instate': 4675, 'lightly': 4676, 'tutorship': 4677, 'educatee': 4678, 'tuition': 4679, 'deplorable': 4680, 'maid': 4681, 'scour': 4682, 'zone': 4683, 'autopilot': 4684, 'geographical': 4685, 'scrub': 4686, 'brainiac': 4687, 'potency': 4688, 'trash': 4689, 'dickhead': 4690, 'strength': 4691, 'ouster': 4692, 'speciality': 4693, 'curious': 4694, 'knew': 4695, 'interference': 4696, 'choke': 4697, 'thorax': 4698, 'ventilation': 4699, 'eldritch': 4700, 'throttle': 4701, 'uncanny': 4702, 'conflicted': 4703, 'criterion': 4704, 'extensive': 4705, 'untrue': 4706, 'banner': 4707, 'fork': 4708, 'guild': 4709, 'touchstone': 4710, 'infringe': 4711, 'standard': 4712, 'clinic': 4713, 'flupentixol': 4714, 'injectant': 4715, 'suture': 4716, 'injection': 4717, 'nursemaid': 4718, 'practical': 4719, 'reduction': 4720, 'ascendancy': 4721, 'caput': 4722, 'agravate': 4723, 'automatically': 4724, 'provcation': 4725, 'violation': 4726, 'mechanically': 4727, 'considerate': 4728, 'egress': 4729, 'gentlemanly': 4730, 'loyal': 4731, 'quality': 4732, 'supportive': 4733, 'unresolved': 4734, 'edition': 4735, 'essentially': 4736, 'stab': 4737, 'hated': 4738, 'scourge': 4739, 'teenager': 4740, 'bolshy': 4741, 'dreaming': 4742, 'papa': 4743, 'quietly': 4744, 'tattle': 4745, 'flatmate': 4746, 'cheeseparing': 4747, 'nether': 4748, 'confab': 4749, 'distancing': 4750, 'arse': 4751, 'basketful': 4752, 'overturn': 4753, 'overflow': 4754, 'snaffle': 4755, 'washing': 4756, 'basketball': 4757, 'blink': 4758, 'hoop': 4759, 'bally': 4760, 'locker': 4761, 'embark': 4762, 'tongue': 4763, 'fuddle': 4764, 'midweek': 4765, 'belly_dancer': 4766, 'greek': 4767, 'wine': 4768, 'froze': 4769, 'terpsichorean': 4770, 'blend': 4771, 'eatery': 4772, 'boozing': 4773, 'druggie': 4774, 'psychotic': 4775, 'verbal': 4776, 'imbibe': 4777, 'drinking': 4778, 'swinge': 4779, 'crapulence': 4780, 'dig': 4781, 'ocd': 4782, 'pissed': 4783, 'submit': 4784, 'bureaucracy': 4785, 'civilized': 4786, 'elsewhere': 4787, 'govern': 4788, 'loosely': 4789, 'primarily': 4790, 'bureaucracie': 4791, 'ck': 4792, 'foward': 4793, 'implore': 4794, 'outrage': 4795, 'slew': 4796, 'begged': 4797, 'virgo': 4798, 'baggage': 4799, 'irrationally': 4800, 'mock': 4801, 'motivating': 4802, 'paper': 4803, 'reminding': 4804, 'thick': 4805, 'luggage': 4806, 'mocking': 4807, 'prognosticate': 4808, 'confront': 4809, 'internalize': 4810, 'profoud': 4811, 'vulnerability': 4812, 'interiorise': 4813, 'recognition': 4814, 'sorrow': 4815, 'vast': 4816, 'board': 4817, 'unhappiness': 4818, 'enemy': 4819, 'kidney': 4820, 'recur': 4821, 'shallow_breathe': 4822, 'shallow_breathing': 4823, 'stone': 4824, 'bone_tb': 4825, 'relatively_healthy': 4826, 'lowest': 4827, 'eighter': 4828, 'backbreake': 4829, 'creditworthy': 4830, 'awfully': 4831, 'gloomy': 4832, 'plump': 4833, 'squawk': 4834, 'throwaway': 4835, 'payoff': 4836, 'vociferation': 4837, 'unenviable': 4838, 'controversy': 4839, 'esa': 4840, 'rid': 4841, 'distributor': 4842, 'foundation': 4843, 'intolerable': 4844, 'mire': 4845, 'thankful': 4846, 'note': 4847, 'unbearable': 4848, 'grateful': 4849, 'administrator': 4850, 'exploit': 4851, 'friggin': 4852, 'livid': 4853, 'notify': 4854, 'participant': 4855, 'promote': 4856, 'promotion': 4857, 'purpose': 4858, 'training': 4859, 'unethical': 4860, 'used': 4861, 'dreadful': 4862, 'breeding': 4863, 'wintry': 4864, 'frozen': 4865, 'niggling': 4866, 'encephalon': 4867, 'enter': 4868, 'cherubic': 4869, 'raper': 4870, 'scaring': 4871, 'sobs': 4872, 'tap': 4873, 'rapist': 4874, 'matt': 4875, 'tapdance': 4876, 'unfermented': 4877, 'distinctly': 4878, 'lavish': 4879, 'guide': 4880, 'hour_period': 4881, 'taking': 4882, 'weary': 4883, 'alternator': 4884, 'module': 4885, 'monthly': 4886, 'radiator': 4887, 'repair': 4888, 'apprehend': 4889, 'elevator': 4890, 'inquiry': 4891, 'banknote': 4892, 'agoraphobic': 4893, 'determind': 4894, 'outride': 4895, 'cark': 4896, 'squad': 4897, 'stake': 4898, 'interact': 4899, 'platonic': 4900, 'ergocalciferol': 4901, 'ideate': 4902, 'profoundly': 4903, 'envisage': 4904, 'register': 4905, 'resultant': 4906, 'teach': 4907, 'nonentity': 4908, 'nonstarter': 4909, 'muse': 4910, 'bankruptcy': 4911, 'unlike': 4912, 'lebanese': 4913, 'maximum': 4914, 'resilient': 4915, 'cast': 4916, 'decrease': 4917, 'introspection': 4918, 'reborn': 4919, 'strict': 4920, 'trough': 4921, 'tenner': 4922, 'blockade': 4923, 'decreasing': 4924, 'olfactory': 4925, 'organ': 4926, 'rigorous': 4927, 'parole': 4928, 'bank_account': 4929, 'capital': 4930, 'existant': 4931, 'medical_condition': 4932, 'ramped': 4933, 'seizure': 4934, 'residential': 4935, 'ramp': 4936, 'salem': 4937, 'offset': 4938, 'solo': 4939, 'visualize': 4940, 'admittedly': 4941, 'smart': 4942, 'avowedly': 4943, 'downwardly': 4944, 'lodging': 4945, 'showcase': 4946, 'confessedly': 4947, 'bpd': 4948, 'closing': 4949, 'dysfunctional': 4950, 'ideation': 4951, 'incendent': 4952, 'suicide_attempt': 4953, 'determined': 4954, 'ennead': 4955, 'nonadaptive': 4956, 'saying': 4957, 'cargo': 4958, 'carry': 4959, 'deck': 4960, 'awe': 4961, 'onset': 4962, 'previous': 4963, 'vivid_nightmare': 4964, 'establish': 4965, 'proprietor': 4966, 'unrivale': 4967, 'connected': 4968, 'ensure': 4969, 'envious': 4970, 'facet': 4971, 'intermingle': 4972, 'provoke': 4973, 'affiliate': 4974, 'provoking': 4975, 'standstill': 4976, 'forbidden': 4977, 'punching_bag': 4978, 'credibly': 4979, 'combination': 4980, 'molasse': 4981, 'viscousness': 4982, 'prohibitionist': 4983, 'viscosity': 4984, 'terrorise': 4985, 'plunge': 4986, 'rim': 4987, 'forepart': 4988, 'attach': 4989, 'digress': 4990, 'evenhandedly': 4991, 'upside': 4992, 'abroad': 4993, 'economics': 4994, 'involvement': 4995, 'reservation': 4996, 'political': 4997, 'sprain': 4998, 'advertise': 4999, 'economy': 5000, 'antediluvian': 5001, 'brick': 5002, 'gophone': 5003, 'indestructible': 5004, 'nokia': 5005, 'phonecall': 5006, 'selfhatre': 5007, 'tracphone': 5008, 'ancient': 5009, 'len': 5010, 'spark': 5011, 'slash': 5012, 'branch': 5013, 'corner': 5014, 'immunity': 5015, 'terrific': 5016, 'wonderful': 5017, 'mat': 5018, 'subscript': 5019, 'canonic': 5020, 'creep': 5021, 'dynamic': 5022, 'grovel': 5023, 'ice': 5024, 'sorely': 5025, 'compose': 5026, 'methedrine': 5027, 'consideration': 5028, 'comfortableness': 5029, 'callous': 5030, 'standpoint': 5031, 'hurting': 5032, 'duncical': 5033, 'lineage': 5034, 'casually': 5035, 'element': 5036, 'erode': 5037, 'flirt': 5038, 'ness': 5039, 'touchy': 5040, 'nonchalantly': 5041, 'conjecture': 5042, 'flirtation': 5043, 'dismay': 5044, 'nutrient': 5045, 'wiener': 5046, 'compute': 5047, 'tomography': 5048, 'axial': 5049, 'computerize': 5050, 'frump': 5051, 'intoxicate': 5052, 'linger': 5053, 'mini': 5054, 'miniskirt': 5055, 'gate': 5056, 'inhuman': 5057, 'lab': 5058, 'labrador': 5059, 'lovable': 5060, 'turning': 5061, 'xvi': 5062, 'favorable': 5063, 'ferocious': 5064, 'loveable': 5065, 'pawl': 5066, 'eventide': 5067, 'fidget': 5068, 'infix': 5069, 'otherwise': 5070, 'xanex': 5071, 'transcend': 5072, 'compliment': 5073, 'naive': 5074, 'consistently': 5075, 'misbehave': 5076, 'systematically': 5077, 'beguilement': 5078, 'relapse': 5079, 'distraction': 5080, 'rollercoaster': 5081, 'psychologist': 5082, 'hey_guy': 5083, 'maiden': 5084, 'unexampled': 5085, 'newfangled': 5086, 'probation': 5087, 'artificial': 5088, 'uneven': 5089, 'drown': 5090, 'unreal': 5091, 'contrived': 5092, 'hokey': 5093, 'dissociative': 5094, 'nauseas': 5095, 'alot': 5096, 'balance': 5097, 'bankrupt': 5098, 'differentiate': 5099, 'spoilt': 5100, 'difficulty': 5101, 'trajectory': 5102, 'wounded': 5103, 'horror': 5104, 'hyperarousal': 5105, 'quantitative': 5106, 'uncoiled': 5107, 'violate': 5108, 'tensity': 5109, 'bask': 5110, 'disturbed': 5111, 'mutual': 5112, 'savour': 5113, 'angrily': 5114, 'anonymous': 5115, 'diary': 5116, 'increasingly': 5117, 'overleap': 5118, 'username': 5119, 'pretermit': 5120, 'contumely': 5121, 'exterminate': 5122, 'tinder': 5123, 'whack': 5124, 'bemuse': 5125, 'uproot': 5126, 'awaken': 5127, 'sticks_around': 5128, 'fifty': 5129, 'soldier': 5130, 'medicinal': 5131, 'disappear': 5132, 'petition': 5133, 'supervised': 5134, 'insincere': 5135, 'niece': 5136, 'oust': 5137, 'portland': 5138, 'unexpectedly': 5139, 'expel': 5140, 'nephew': 5141, 'viewer': 5142, 'technology': 5143, 'brake': 5144, 'engineering': 5145, 'daunt': 5146, 'stability': 5147, 'nominate': 5148, 'retrieval': 5149, 'constancy': 5150, 'ravish': 5151, 'assaulter': 5152, 'compulsion': 5153, 'convinced': 5154, 'neoplasm': 5155, 'tumour': 5156, 'offend': 5157, 'terrifying': 5158, 'martial': 5159, 'recourse': 5160, 'soldierly': 5161, 'equilibrate': 5162, 'apprize': 5163, 'derealization': 5164, 'discuss': 5165, 'reification': 5166, 'trite': 5167, 'impossible': 5168, 'consultation': 5169, 'unacceptable': 5170, 'effortlessly': 5171, 'overdrawn': 5172, 'precedence': 5173, 'saddle': 5174, 'trey': 5175, 'reliable': 5176, 'gaffer': 5177, 'hefty': 5178, 'overthinking': 5179, 'obvious': 5180, 'scariest': 5181, 'role': 5182, 'beer': 5183, 'hypocrite': 5184, 'incompatible': 5185, 'letting': 5186, 'insurance_policy': 5187, 'dissimulator': 5188, 'undetermined': 5189, 'information': 5190, 'scant': 5191, 'shady': 5192, 'fauna': 5193, 'bide': 5194, 'canʻt': 5195, 'itʻs': 5196, 'mph': 5197, 'trinity': 5198, 'hunting': 5199, 'infinity': 5200, 'overqualifie': 5201, 'rejection': 5202, 'shithole': 5203, 'supposedly': 5204, 'darn': 5205, 'knife': 5206, 'untimely': 5207, 'sitting': 5208, 'prat': 5209, 'amplify': 5210, 'heap': 5211, 'patient': 5212, 'kod': 5213, 'rightfield': 5214, 'bawl': 5215, 'materialize': 5216, 'prey': 5217, 'fille': 5218, 'remnant': 5219, 'oversee': 5220, 'spin': 5221, 'venture': 5222, 'steer': 5223, 'harmful': 5224, 'comely': 5225, 'seeming': 5226, 'blanket': 5227, 'curfew': 5228, 'punish': 5229, 'chart': 5230, 'column': 5231, 'industry': 5232, 'nex': 5233, 'skyrocket': 5234, 'vertebral': 5235, 'distaff': 5236, 'wrick': 5237, 'coherently': 5238, 'exceedingly': 5239, 'loneliness': 5240, 'thirst': 5241, 'craving': 5242, 'unfrequented': 5243, 'foregather': 5244, 'gut': 5245, 'accountable': 5246, 'avoid_avoid': 5247, 'butterfly': 5248, 'gurgle': 5249, 'kinfolk': 5250, 'payday': 5251, 'railroad': 5252, 'adequately': 5253, 'align': 5254, 'overlap': 5255, 'phd': 5256, 'psychological': 5257, 'racism': 5258, 'discrimination': 5259, 'pushed': 5260, 'racial': 5261, 'unrivalle': 5262, 'worn': 5263, 'veridical': 5264, 'nil': 5265, 'connective': 5266, 'freezer': 5267, 'apace': 5268, 'bend': 5269, 'intervene': 5270, 'storage': 5271, 'traumatized': 5272, 'bending': 5273, 'closure': 5274, 'grandpa': 5275, 'passel': 5276, 'pinpoint': 5277, 'issuance': 5278, 'cloture': 5279, 'beta': 5280, 'blocker': 5281, 'pharmacist': 5282, 'snri': 5283, 'stump': 5284, 'tricyclic': 5285, 'wilderness': 5286, 'half_dozen': 5287, 'cupids': 5288, 'itch': 5289, 'psychiatrical': 5290, 'constipate': 5291, 'professor': 5292, 'rationalize': 5293, 'brightness': 5294, 'rationalise': 5295, 'dive': 5296, 'emphasize': 5297, 'misplace': 5298, 'precedent': 5299, 'productivity': 5300, 'encyclopaedism': 5301, 'guidance': 5302, 'affordable': 5303, 'alumnus': 5304, 'xxviii': 5305, 'eminent': 5306, 'gamey': 5307, 'venting': 5308, 'foreclose': 5309, 'balcony': 5310, 'cup': 5311, 'diablo': 5312, 'dotty': 5313, 'actively': 5314, 'breakage': 5315, 'disinfect': 5316, 'gag': 5317, 'germ': 5318, 'incapacitate': 5319, 'messy': 5320, 'phlegm': 5321, 'uncontrollably': 5322, 'gagging': 5323, 'intensity': 5324, 'gently': 5325, 'ish': 5326, 'sub': 5327, 'mildly': 5328, 'decal': 5329, 'paperwork': 5330, 'unborn': 5331, 'unfourtunatley': 5332, 'decalcomania': 5333, 'slaughter': 5334, 'thrash': 5335, 'malevolent': 5336, 'chocolate': 5337, 'heartworm': 5338, 'ssdi': 5339, 'yo': 5340, 'veteran': 5341, 'roulette': 5342, 'trick': 5343, 'vomiting': 5344, 'emetic': 5345, 'geezerhood': 5346, 'horrific': 5347, 'normalize': 5348, 'carpio': 5349, 'raptus': 5350, 'incorrect': 5351, 'snatch': 5352, 'conquer': 5353, 'roam': 5354, 'scan': 5355, 'scarred': 5356, 'thinker': 5357, 'wood': 5358, 'suction': 5359, 'construction': 5360, 'partial': 5361, 'repayment': 5362, 'proletarian': 5363, 'staring': 5364, 'refund': 5365, 'charity': 5366, 'maxe': 5367, 'pump': 5368, 'roofer': 5369, 'unproblematic': 5370, 'cursorily': 5371, 'fivesome': 5372, 'robbery': 5373, 'ultra': 5374, 'approximate': 5375, 'radical': 5376, 'administer': 5377, 'looting': 5378, 'parcel': 5379, 'indefinitely': 5380, 'firstly': 5381, 'openhande': 5382, 'blurry': 5383, 'fuzzy': 5384, 'energetic': 5385, 'robot': 5386, 'footed': 5387, 'vocalise': 5388, 'golem': 5389, 'gumptious': 5390, 'localize': 5391, 'opening': 5392, 'strange': 5393, 'ms': 5394, 'cutis': 5395, 'augmentation': 5396, 'confirmation': 5397, 'facial': 5398, 'feminisation': 5399, 'transgender': 5400, 'feminization': 5401, 'knocker': 5402, 'substantiation': 5403, 'dysphoria': 5404, 'transgend': 5405, 'hospitalize': 5406, 'missed': 5407, 'locomotion': 5408, 'foreswear': 5409, 'beak': 5410, 'continuous': 5411, 'extended_period': 5412, 'devastate': 5413, 'disappoint': 5414, 'thwart': 5415, 'exchange': 5416, 'ruinous': 5417, 'catastrophic': 5418, 'commute': 5419, 'fag': 5420, 'fatigued': 5421, 'instant': 5422, 'japanese': 5423, 'korean': 5424, 'object': 5425, 'spanish': 5426, 'wifi': 5427, 'cyberspace': 5428, 'wlan': 5429, 'informant': 5430, 'mouse': 5431, 'dullard': 5432, 'rightfully': 5433, 'dwell': 5434, 'intercept': 5435, 'unspoile': 5436, 'manual': 5437, 'waitres': 5438, 'screwing': 5439, 'counter': 5440, 'slack': 5441, 'homework': 5442, 'wee': 5443, 'asian': 5444, 'bully': 5445, 'cashier': 5446, 'defensive': 5447, 'disobedient': 5448, 'downright': 5449, 'ect': 5450, 'nicer': 5451, 'waiter': 5452, 'mindset': 5453, 'asiatic': 5454, 'unruly': 5455, 'dyad': 5456, 'irritate': 5457, 'minded': 5458, 'ceremony': 5459, 'perchance': 5460, 'truthful': 5461, 'roleplay': 5462, 'jobless': 5463, 'meantime': 5464, 'dropping': 5465, 'cartel': 5466, 'longtime': 5467, 'rectify': 5468, 'revolve': 5469, 'stigma': 5470, 'valentine': 5471, 'yesteryear': 5472, 'disassociate': 5473, 'breadth': 5474, 'expert': 5475, 'councele': 5476, 'councellor': 5477, 'expiry': 5478, 'extremly': 5479, 'greif': 5480, 'tragic': 5481, 'faint': 5482, 'quiz': 5483, 'swoon': 5484, 'teriffie': 5485, 'convey': 5486, 'fainting': 5487, 'vivid': 5488, 'appetite': 5489, 'nake': 5490, 'appetence': 5491, 'salute': 5492, 'stir': 5493, 'lucky': 5494, 'rehabilitation': 5495, 'tolerance': 5496, 'tussle': 5497, 'welfare': 5498, 'implausibly': 5499, 'ponder': 5500, 'renewal': 5501, 'believably': 5502, 'campground': 5503, 'mountain': 5504, 'slamming': 5505, 'erupt': 5506, 'lastly': 5507, 'exhausting': 5508, 'scrap': 5509, 'crutch': 5510, 'flare_up': 5511, 'sinus': 5512, 'valium': 5513, 'depressant': 5514, 'venous': 5515, 'tremendous': 5516, 'couchsurfer': 5517, 'diver': 5518, 'dumpster': 5519, 'facility': 5520, 'flea': 5521, 'remedy': 5522, 'researching': 5523, 'scabbie': 5524, 'scabie': 5525, 'research': 5526, 'crossfit': 5527, 'green': 5528, 'immigration': 5529, 'lump': 5530, 'membership': 5531, 'near': 5532, 'tourist': 5533, 'visa': 5534, 'waitress': 5535, 'migration': 5536, 'rank': 5537, 'unaddresse': 5538, 'unaddressed': 5539, 'zodiac': 5540, 'purposely': 5541, 'sh': 5542, 'adolescent': 5543, 'uptight': 5544, 'affected': 5545, 'cunning': 5546, 'knowledgeable': 5547, 'native': 5548, 'negative_thought': 5549, 'shy': 5550, 'cute': 5551, 'glad': 5552, 'timid': 5553, 'divvy': 5554, 'drank': 5555, 'formulate': 5556, 'smoothly': 5557, 'exclude': 5558, 'plough': 5559, 'thingie': 5560, 'conflict': 5561, 'hysterical': 5562, 'tangle': 5563, 'evoke': 5564, 'coerce': 5565, 'elevate': 5566, 'mild': 5567, 'palpatation': 5568, 'prn': 5569, 'checkup': 5570, 'meningitis': 5571, 'reassurance': 5572, 'turmoil': 5573, 'importan': 5574, 'shallow': 5575, 'examine': 5576, 'kiddo': 5577, 'judging': 5578, 'bleh': 5579, 'falsely': 5580, 'nub': 5581, 'unrivalled': 5582, 'backstory': 5583, 'colleague': 5584, 'scam': 5585, 'strand': 5586, 'unfilled': 5587, 'modification': 5588, 'screwball': 5589, 'degrading': 5590, 'fantasy': 5591, 'newfangle': 5592, 'orgasm': 5593, 'pointedness': 5594, 'rally': 5595, 'delight': 5596, 'degrade': 5597, 'infract': 5598, 'boxershort': 5599, 'twain': 5600, 'likelyhood': 5601, 'backdrop': 5602, 'women': 5603, 'popular': 5604, 'motorcycle': 5605, 'speed': 5606, 'broad': 5607, 'straying': 5608, 'leisurely': 5609, 'walmart': 5610, 'baker': 5611, 'expense': 5612, 'appendage': 5613, 'bacon': 5614, 'wondrous': 5615, 'dispute': 5616, 'decay': 5617, 'emancipation': 5618, 'invariant': 5619, 'emt': 5620, 'firework': 5621, 'fritter': 5622, 'paramedic': 5623, 'niner': 5624, 'bourgeon': 5625, 'ix': 5626, 'prop': 5627, 'exemption': 5628, 'instruction': 5629, 'duh': 5630, 'launch': 5631, 'freedom': 5632, 'en': 5633, 'comrade': 5634, 'hiding': 5635, 'psychologically': 5636, 'reassure': 5637, 'surprising': 5638, 'shroud': 5639, 'bookman': 5640, 'defense': 5641, 'gum': 5642, 'tw': 5643, 'mouthpiece': 5644, 'bleeding': 5645, 'counterpunch': 5646, 'shooting': 5647, 'comeback': 5648, 'film': 5649, 'bird': 5650, 'canis': 5651, 'kimber': 5652, 'raptorial': 5653, 'revere': 5654, 'catatonic': 5655, 'deaf': 5656, 'lament': 5657, 'vocalize': 5658, 'wail': 5659, 'brutal': 5660, 'homelessness': 5661, 'infusion': 5662, 'series': 5663, 'surgeon': 5664, 'trend': 5665, 'icky': 5666, 'status': 5667, 'bias': 5668, 'manus': 5669, 'earnestly': 5670, 'shortsighted': 5671, 'passing': 5672, 'adrenaline': 5673, 'contraceptive': 5674, 'hypervigilence': 5675, 'sleeping_pill': 5676, 'waken': 5677, 'noticed': 5678, 'dish': 5679, 'peerless': 5680, 'glower': 5681, 'shrinker': 5682, 'tendency': 5683, 'rocky': 5684, 'ge': 5685, 'lily': 5686, 'hawaii': 5687, 'congenital': 5688, 'experimental': 5689, 'grounded': 5690, 'gsve': 5691, 'alter': 5692, 'exploitation': 5693, 'gratification': 5694, 'realization': 5695, 'puke': 5696, 'easing': 5697, 'gape': 5698, 'thesis': 5699, 'throughway': 5700, 'freeway': 5701, 'furbish': 5702, 'expressway': 5703, 'slope': 5704, 'stream': 5705, 'alarming': 5706, 'appreciative': 5707, 'intriguing': 5708, 'chatter': 5709, 'pursue': 5710, 'masturbating': 5711, 'mattress': 5712, 'pillow': 5713, 'pretended': 5714, 'spinal': 5715, 'fall_asleep': 5716, 'earpiece': 5717, 'loudly': 5718, 'prisoner': 5719, 'forte': 5720, 'graphic': 5721, 'sextuplet': 5722, 'virtual': 5723, 'differently': 5724, 'killing': 5725, 'exterior': 5726, 'facade': 5727, 'nous': 5728, 'warmheartedness': 5729, 'listening': 5730, 'bead': 5731, 'extension': 5732, 'harasse': 5733, 'justness': 5734, 'aim': 5735, 'evaluator': 5736, 'justice': 5737, 'outgrowth': 5738, 'adhesion': 5739, 'brassy': 5740, 'swirl': 5741, 'swirling': 5742, 'taunt': 5743, 'weakness': 5744, 'cue': 5745, 'louder': 5746, 'whirl': 5747, 'prompt': 5748, 'rag': 5749, 'gimcrack': 5750, 'unworthy': 5751, 'looney': 5752, 'altered': 5753, 'clothing': 5754, 'cropped': 5755, 'scarring': 5756, 'ogdoad': 5757, 'certian': 5758, 'eversince': 5759, 'forced_habit': 5760, 'foreland': 5761, 'panicattack': 5762, 'psyochologie': 5763, 'vocalisation': 5764, 'agitate': 5765, 'construct': 5766, 'dominance': 5767, 'weird_noise': 5768, 'shag': 5769, 'thrift': 5770, 'regrettably': 5771, 'unluckily': 5772, 'endeavour': 5773, 'grandfather': 5774, 'molest': 5775, 'severely_bullie': 5776, 'leader': 5777, 'septenary': 5778, 'foresighte': 5779, 'motivate': 5780, 'severalise': 5781, 'detailed': 5782, 'gaslight': 5783, 'grisly': 5784, 'braggart': 5785, 'bounce': 5786, 'illogical': 5787, 'mazed': 5788, 'graduation': 5789, 'ram': 5790, 'ramming': 5791, 'wanting': 5792, 'approachable': 5793, 'rode': 5794, 'unzip': 5795, 'unzipped': 5796, 'knicker': 5797, 'osculation': 5798, 'arizona': 5799, 'frustrate': 5800, 'recollective': 5801, 'doomsday': 5802, 'rocknroll': 5803, 'relinquish': 5804, 'incest': 5805, 'tempting': 5806, 'heroin': 5807, 'mellow': 5808, 'unintentionally': 5809, 'felt': 5810, 'salutary': 5811, 'candy': 5812, 'halloween': 5813, 'superlative': 5814, 'bitching': 5815, 'fingerbreadth': 5816, 'digit': 5817, 'mt': 5818, 'fold': 5819, 'sink': 5820, 'sporty': 5821, 'cesspool': 5822, 'aaand': 5823, 'manic': 5824, 'wittiness': 5825, 'marble': 5826, 'resolution': 5827, 'got': 5828, 'inadequate': 5829, 'distracted': 5830, 'headspace': 5831, 'logical': 5832, 'nature': 5833, 'feeding': 5834, 'island': 5835, 'snare': 5836, 'frantic': 5837, 'praying': 5838, 'badgering': 5839, 'discontinue': 5840, 'choir': 5841, 'documentary': 5842, 'interesting': 5843, 'unique': 5844, 'peach': 5845, 'saying_wtf': 5846, 'nocturnal': 5847, 'mastery': 5848, 'fervidness': 5849, 'lighter': 5850, 'kindle': 5851, 'sting': 5852, 'fervor': 5853, 'calmly': 5854, 'controlling': 5855, 'harebraine': 5856, 'aliveness': 5857, 'equip': 5858, 'hypervigilance': 5859, 'equipped': 5860, 'compile': 5861, 'vine': 5862, 'youtube': 5863, 'compilation': 5864, 'fcking': 5865, 'friendzone': 5866, 'beach': 5867, 'friendzoned': 5868, 'imagining': 5869, 'river': 5870, 'possibleness': 5871, 'handbag': 5872, 'tab': 5873, 'pocketbook': 5874, 'minimum_wage': 5875, 'programming': 5876, 'depository': 5877, 'institution': 5878, 'artist': 5879, 'drawing_class': 5880, 'hypothecate': 5881, 'drawing_clas': 5882, 'schooling': 5883, 'creative': 5884, 'debilitate': 5885, 'austere': 5886, 'esteem': 5887, 'journey': 5888, 'safest': 5889, 'housr': 5890, 'illegal': 5891, 'observance': 5892, 'concentrate': 5893, 'consonant': 5894, 'overload': 5895, 'sensory': 5896, 'tangent': 5897, 'gosh': 5898, 'unruffled': 5899, 'darle': 5900, 'stoppage': 5901, 'bullying': 5902, 'ranting': 5903, 'harangue': 5904, 'intimidation': 5905, 'addition': 5906, 'dubiety': 5907, 'humane': 5908, 'obviate': 5909, 'prefer': 5910, 'fond': 5911, 'confirm': 5912, 'floored': 5913, 'float': 5914, 'fright': 5915, 'leaden': 5916, 'nauseate': 5917, 'specialist': 5918, 'expres': 5919, 'quote': 5920, 'recharge': 5921, 'seminar': 5922, 'careen': 5923, 'climb': 5924, 'incubus': 5925, 'prowess': 5926, 'focusse': 5927, 'internship': 5928, 'nervousness': 5929, 'serial': 5930, 'neglecting': 5931, 'numbness': 5932, 'interrogate': 5933, 'coil': 5934, 'equate': 5935, 'impede': 5936, 'neighborhood': 5937, 'primal': 5938, 'reflect': 5939, 'shadow': 5940, 'slay': 5941, 'weapon': 5942, 'execution': 5943, 'falsify': 5944, 'screech': 5945, 'aweary': 5946, 'fend': 5947, 'metric_ton': 5948, 'wrath': 5949, 'costly': 5950, 'puppy': 5951, 'pricy': 5952, 'banker': 5953, 'attain': 5954, 'voicemail': 5955, 'trying': 5956, 'advanced': 5957, 'discreet': 5958, 'sober': 5959, 'wicke': 5960, 'leasing': 5961, 'pauperization': 5962, 'portal': 5963, 'deposition': 5964, 'urgently': 5965, 'vein': 5966, 'clarity': 5967, 'intake': 5968, 'melioration': 5969, 'betterment': 5970, 'beverage': 5971, 'fantasizing': 5972, 'dent': 5973, 'ridiculously': 5974, 'scantily': 5975, 'ubereat': 5976, 'circular': 5977, 'fellatio': 5978, 'pig': 5979, 'squealer': 5980, 'coarse': 5981, 'solvent': 5982, 'waking': 5983, 'flak': 5984, 'catchy': 5985, 'irresistibly': 5986, 'phrase': 5987, 'squeal': 5988, 'upstage': 5989, 'feat': 5990, 'instability': 5991, 'mushroom': 5992, 'temperature': 5993, 'tumble': 5994, 'foce': 5995, 'boisterous': 5996, 'distraught': 5997, 'attract': 5998, 'dot': 5999, 'banal': 6000, 'infuriate': 6001, 'section': 6002, 'assaulted': 6003, 'discombobulate': 6004, 'withal': 6005, 'scandal': 6006, 'minority': 6007, 'fallen': 6008, 'perplex': 6009, 'restart': 6010, 'unitary': 6011, 'yawn': 6012, 'perplexing': 6013, 'redone': 6014, 'spreadsheet': 6015, 'explaining': 6016, 'bay': 6017, 'oscillate': 6018, 'prevenient': 6019, 'anticipatory': 6020, 'shuck': 6021, 'competent': 6022, 'futile': 6023, 'parasite': 6024, 'controller': 6025, 'tardy': 6026, 'encourage': 6027, 'inpatient': 6028, 'fracture': 6029, 'surface': 6030, 'windy': 6031, 'verbose': 6032, 'airfoil': 6033, 'wordy': 6034, 'gripe': 6035, 'persuasion': 6036, 'redact': 6037, 'csa': 6038, 'beacause': 6039, 'disassociation': 6040, 'soemtime': 6041, 'thougth': 6042, 'clamber': 6043, 'fashion': 6044, 'appreciated': 6045, 'handicapped': 6046, 'invoice': 6047, 'demographic': 6048, 'googled': 6049, 'potentially': 6050, 'traumatizing': 6051, 'regime': 6052, 'administration': 6053, 'melt': 6054, 'arsehole': 6055, 'gravitate': 6056, 'autism': 6057, 'footstep': 6058, 'planet': 6059, 'intact': 6060, 'satellite': 6061, 'footfall': 6062, 'audition': 6063, 'disappointment': 6064, 'dissatisfaction': 6065, 'ensemble': 6066, 'jealousy': 6067, 'secondary': 6068, 'auditory': 6069, 'calf': 6070, 'identification': 6071, 'zippo': 6072, 'gross_unless': 6073, 'maybe_dehydration': 6074, 'sticky': 6075, 'dying': 6076, 'humor': 6077, 'rattling': 6078, 'justly': 6079, 'mucilaginous': 6080, 'missile': 6081, 'netflix': 6082, 'pane': 6083, 'breaker': 6084, 'projectile': 6085, 'simmer': 6086, 'articulatio': 6087, 'muscle': 6088, 'unspeakable': 6089, 'gestate': 6090, 'musculus': 6091, 'flake': 6092, 'anticipate': 6093, 'progressively': 6094, 'habitation': 6095, 'domicile': 6096, 'dominate': 6097, 'homosexual': 6098, 'orientate': 6099, 'pedophile': 6100, 'orientated': 6101, 'command': 6102, 'restrained': 6103, 'crappy': 6104, 'phantom': 6105, 'discourage': 6106, 'discouraged': 6107, 'engender': 6108, 'adulate': 6109, 'aka': 6110, 'downward_spiral': 6111, 'exasperated': 6112, 'gigantic': 6113, 'problematic': 6114, 'sweep': 6115, 'exasperate': 6116, 'browned': 6117, 'debatable': 6118, 'whorl': 6119, 'buspar': 6120, 'deviation': 6121, 'effexor': 6122, 'ican': 6123, 'vyanse': 6124, 'vyvanse': 6125, 'zoloft': 6126, 'inanimate': 6127, 'inseparable': 6128, 'quarantine': 6129, 'perdition': 6130, 'xxiv': 6131, 'tree': 6132, 'career': 6133, 'shop': 6134, 'maryland': 6135, 'sportively': 6136, 'happened': 6137, 'hesitant': 6138, 'advocacy': 6139, 'befall': 6140, 'clarify': 6141, 'legally': 6142, 'localization': 6143, 'jeopardy': 6144, 'selection': 6145, 'contain': 6146, 'fatal': 6147, 'favourable': 6148, 'responder': 6149, 'homecoming': 6150, 'panorama': 6151, 'quash': 6152, 'needy': 6153, 'overreaction': 6154, 'warrant': 6155, 'shamefaced': 6156, 'fanny': 6157, 'halfway': 6158, 'math': 6159, 'pitiable': 6160, 'placement': 6161, 'signing': 6162, 'special': 6163, 'devolve': 6164, 'whitethorn': 6165, 'amusing': 6166, 'baseball': 6167, 'bat': 6168, 'labored': 6169, 'shoulderblade': 6170, 'user': 6171, 'laboured': 6172, 'countenance': 6173, 'moderately': 6174, 'signal': 6175, 'vastly': 6176, 'immensely': 6177, 'steady': 6178, 'influence': 6179, 'faulty': 6180, 'seal': 6181, 'sextet': 6182, 'skillful': 6183, 'floor': 6184, 'marker': 6185, 'slut': 6186, 'tatty': 6187, 'repel': 6188, 'login': 6189, 'notification': 6190, 'safely': 6191, 'interpretation': 6192, 'maneuver': 6193, 'lid': 6194, 'orderliness': 6195, 'cbd': 6196, 'narcotic': 6197, 'sever': 6198, 'unbend': 6199, 'crude': 6200, 'badger': 6201, 'pester': 6202, 'alzheimer': 6203, 'coping_strategie': 6204, 'nanna': 6205, 'bursting': 6206, 'hesitate': 6207, 'pushy': 6208, 'err': 6209, 'rookie': 6210, 'greenhorn': 6211, 'barbecue': 6212, 'blimp': 6213, 'crossed': 6214, 'improper': 6215, 'sausage': 6216, 'bolt': 6217, 'avid': 6218, 'clown': 6219, 'gamer': 6220, 'pastime': 6221, 'replacement': 6222, 'passionateness': 6223, 'hopelessness': 6224, 'unwantedness': 6225, 'offended': 6226, 'unload': 6227, 'button': 6228, 'ounce': 6229, 'strategy': 6230, 'althozght': 6231, 'goin': 6232, 'gonn': 6233, 'happend': 6234, 'ked': 6235, 'snapchat': 6236, 'talknig': 6237, 'fu': 6238, 'forefend': 6239, 'page': 6240, 'hysteric': 6241, 'pelt': 6242, 'gibberish': 6243, 'slept': 6244, 'unbowed': 6245, 'advantageously': 6246, 'advantage': 6247, 'collection': 6248, 'fmla': 6249, 'fraud': 6250, 'rot': 6251, 'unpaid': 6252, 'reward': 6253, 'arc': 6254, 'warfare': 6255, 'impulsive': 6256, 'moral': 6257, 'obligated': 6258, 'obligation': 6259, 'indebtedness': 6260, 'instrument': 6261, 'jeopardise': 6262, 'crack': 6263, 'potato': 6264, 'salad': 6265, 'scum': 6266, 'vitrine': 6267, 'noodle': 6268, 'sheath': 6269, 'venlafaxine': 6270, 'expiration': 6271, 'heftiness': 6272, 'heptad': 6273, 'jog': 6274, 'cacoethe': 6275, 'nudge': 6276, 'strictly': 6277, 'crazyasse': 6278, 'pwork': 6279, 'thereafter': 6280, 'whine': 6281, 'sleeve': 6282, 'haemorrhage': 6283, 'dunno': 6284, 'facing': 6285, 'graven': 6286, 'neurosis': 6287, 'essence': 6288, 'eden': 6289, 'emphasis': 6290, 'preferential': 6291, 'slide': 6292, 'unfair': 6293, 'discriminatory': 6294, 'micro': 6295, 'complaint': 6296, 'concise': 6297, 'foreclosure': 6298, 'grandparent': 6299, 'mortgage': 6300, 'profit': 6301, 'purchasing': 6302, 'sale': 6303, 'unmortgage': 6304, 'babe': 6305, 'bfs': 6306, 'insist': 6307, 'triple': 6308, 'expectant': 6309, 'fuse': 6310, 'parental': 6311, 'petitioner': 6312, 'petitioning': 6313, 'termination': 6314, 'compositor': 6315, 'affirmation': 6316, 'fuzee': 6317, 'afflictive': 6318, 'defect': 6319, 'length': 6320, 'saveable': 6321, 'duration': 6322, 'stroke': 6323, 'dreading': 6324, 'password': 6325, 'tranquil': 6326, 'ridicilous': 6327, 'startled': 6328, 'relation': 6329, 'spatial': 6330, 'intentionally': 6331, 'secondly': 6332, 'cock': 6333, 'dept': 6334, 'overwork': 6335, 'scheduling': 6336, 'scroll': 6337, 'arcminute': 6338, 'corporation': 6339, 'overworked': 6340, 'battery': 6341, 'courtroom': 6342, 'dwi': 6343, 'market': 6344, 'ravishment': 6345, 'neighbour': 6346, 'bombardment': 6347, 'soak': 6348, 'comparison': 6349, 'desolate': 6350, 'grief': 6351, 'junior': 6352, 'misfortunate': 6353, 'snake': 6354, 'bleak': 6355, 'brink': 6356, 'hormone': 6357, 'midwest': 6358, 'unspoilt': 6359, 'compromise': 6360, 'populace': 6361, 'exhale': 6362, 'inhale': 6363, 'script': 6364, 'something': 6365, 'wayyyy': 6366, 'emanate': 6367, 'alternatively': 6368, 'cistron': 6369, 'hinge': 6370, 'dope': 6371, 'escitalopram': 6372, 'normalcy': 6373, 'incredible': 6374, 'tragically': 6375, 'ossify': 6376, 'delivery': 6377, 'bloodline': 6378, 'hallucinate': 6379, 'psychedelic': 6380, 'hallucinating': 6381, 'blackeye': 6382, 'choked': 6383, 'info': 6384, 'leo': 6385, 'retaliation': 6386, 'actor': 6387, 'inadvertent': 6388, 'mississippi': 6389, 'magnolia': 6390, 'arthritis': 6391, 'prescribed': 6392, 'spine': 6393, 'dictate': 6394, 'annoyance': 6395, 'blah': 6396, 'wbc': 6397, 'corpuscle': 6398, 'overmaster': 6399, 'twitch': 6400, 'airwave': 6401, 'atmosphere': 6402, 'audacity': 6403, 'nonexistent': 6404, 'fuckin': 6405, 'replay': 6406, 'typewrite': 6407, 'promontory': 6408, 'beneficial': 6409, 'eyed': 6410, 'hunger': 6411, 'suppress': 6412, 'unspoiled': 6413, 'fitness': 6414, 'quantifiable': 6415, 'reinforce': 6416, 'repetition': 6417, 'retrospect': 6418, 'tracking': 6419, 'valuable': 6420, 'fittingness': 6421, 'metronome': 6422, 'restroom': 6423, 'surrounding': 6424, 'grapple': 6425, 'kip': 6426, 'spoil': 6427, 'notwithstanding': 6428, 'cushion': 6429, 'swarm': 6430, 'wiggle': 6431, 'pare': 6432, 'tent': 6433, 'pennie': 6434, 'signify': 6435, 'ordinarily': 6436, 'aftraid': 6437, 'grumpy': 6438, 'lens': 6439, 'wracking': 6440, 'grouchy': 6441, 'lung': 6442, 'parking': 6443, 'breather': 6444, 'firearm': 6445, 'overstepping': 6446, 'toe': 6447, 'authoritative': 6448, 'toenail': 6449, 'cirque': 6450, 'queasiness': 6451, 'qualm': 6452, 'probable': 6453, 'squeamishness': 6454, 'sen': 6455, 'separately': 6456, 'ogre': 6457, 'adrenal_response': 6458, 'arousal': 6459, 'coaster': 6460, 'excitement': 6461, 'reframe': 6462, 'revelation': 6463, 'roller': 6464, 'heighten': 6465, 'advocate': 6466, 'inducement': 6467, 'adrenal': 6468, 'revealing': 6469, 'textual': 6470, 'accomplishment': 6471, 'arcdegree': 6472, 'lend': 6473, 'apocalypse': 6474, 'patently': 6475, 'tea': 6476, 'watch_tv': 6477, 'progeny': 6478, 'residue': 6479, 'counterweight': 6480, 'receiver': 6481, 'teatime': 6482, 'thearpy': 6483, 'cult': 6484, 'theft': 6485, 'compact': 6486, 'pretender': 6487, 'appall': 6488, 'reporting': 6489, 'asphyxiate': 6490, 'wassail': 6491, 'stifle': 6492, 'noticing': 6493, 'rib': 6494, 'caboodle': 6495, 'slenderly': 6496, 'heartfelt': 6497, 'bowl': 6498, 'scholar': 6499, 'roster': 6500, 'covenant': 6501, 'nashville': 6502, 'holding': 6503, 'achieve': 6504, 'gradually': 6505, 'unagitate': 6506, 'accomplish': 6507, 'cultivate': 6508, 'attainment': 6509, 'hoi_polloi': 6510, 'suitcase': 6511, 'continually': 6512, 'inept': 6513, 'painfully': 6514, 'succumb': 6515, 'cross': 6516, 'bilk': 6517, 'fashioned': 6518, 'passe': 6519, 'portable': 6520, 'refrigeration': 6521, 'backside': 6522, 'gob': 6523, 'wet': 6524, 'quondam': 6525, 'elucidate': 6526, 'shaken': 6527, 'aba': 6528, 'transit': 6529, 'wastefulness': 6530, 'desexualise': 6531, 'eruditeness': 6532, 'helplessness': 6533, 'investigation': 6534, 'investigate': 6535, 'railcar': 6536, 'gild': 6537, 'monolithic': 6538, 'probe': 6539, 'unobjectionable': 6540, 'firedog': 6541, 'gracious': 6542, 'quell': 6543, 'golden': 6544, 'cw': 6545, 'entrenched': 6546, 'mere': 6547, 'barn': 6548, 'balthazar': 6549, 'mar': 6550, 'oppressed': 6551, 'connectedness': 6552, 'mare': 6553, 'oppress': 6554, 'gaze': 6555, 'concede': 6556, 'elemental': 6557, 'obsessive': 6558, 'biology': 6559, 'presentation': 6560, 'pith': 6561, 'dissapear': 6562, 'molester': 6563, 'seeing': 6564, 'organisation': 6565, 'complimentary': 6566, 'assisted': 6567, 'bathe': 6568, 'degenerative': 6569, 'forgetfulness': 6570, 'neurological': 6571, 'regional': 6572, 'installation': 6573, 'tutelage': 6574, 'elusive': 6575, 'hypothesize': 6576, 'poison': 6577, 'clew': 6578, 'penetrate': 6579, 'spit': 6580, 'tall': 6581, 'impudence': 6582, 'fierce': 6583, 'deprave': 6584, 'drench': 6585, 'related': 6586, 'distortion': 6587}\n"
          ]
        }
      ],
      "source": [
        "import gensim.corpora as corpora\n",
        "# Create Dictionary\n",
        "dictionary = corpora.Dictionary(data_words_clean_for_lda_model_training)\n",
        "# Print dictionary\n",
        "print(dictionary.token2id)\n",
        "\n",
        "## Create Term document frequency (corpus)\n",
        "# Term Document Frequency\n",
        "corpus = [dictionary.doc2bow(text) for text in data_words_clean_for_lda_model_training]"
      ]
    },
    {
      "cell_type": "code",
      "execution_count": 44,
      "metadata": {
        "colab": {
          "base_uri": "https://localhost:8080/"
        },
        "id": "VARPwQt4d79P",
        "outputId": "6a75c58d-c960-4572-f28f-1191f2edf0af"
      },
      "outputs": [
        {
          "output_type": "execute_result",
          "data": {
            "text/plain": [
              "['maybe',\n",
              " 'afraid',\n",
              " 'good',\n",
              " 'word',\n",
              " 'far',\n",
              " 'm',\n",
              " 'worried',\n",
              " 'physically',\n",
              " 'harm',\n",
              " 'even',\n",
              " 'hate',\n",
              " 'kid',\n",
              " 'kid',\n",
              " 'actually',\n",
              " 'certain',\n",
              " 'kid',\n",
              " 'uncle',\n",
              " 'girlfriend',\n",
              " 'kid',\n",
              " 'make',\n",
              " 'uncomfortable',\n",
              " 'make',\n",
              " 'anxiety',\n",
              " 'go',\n",
              " 'badly',\n",
              " 's',\n",
              " 'disrespectful',\n",
              " 'harasse',\n",
              " 'm',\n",
              " 'around',\n",
              " 'hell',\n",
              " 'make',\n",
              " 'smart',\n",
              " 'ass',\n",
              " 'remark',\n",
              " 'typical',\n",
              " 'small',\n",
              " 'child',\n",
              " 'insult',\n",
              " 'get',\n",
              " 'hurt',\n",
              " 'feeling',\n",
              " 'much',\n",
              " 'get',\n",
              " 'm',\n",
              " 'pathetic',\n",
              " 'even',\n",
              " 'demand',\n",
              " 'respect',\n",
              " 'fucking',\n",
              " 'child',\n",
              " 'today',\n",
              " 'play',\n",
              " 'backyard',\n",
              " 'brother',\n",
              " 'respectful',\n",
              " 'love',\n",
              " 'ask',\n",
              " 'peg',\n",
              " 'ball',\n",
              " 'groin',\n",
              " 'obviously',\n",
              " 'say']"
            ]
          },
          "metadata": {},
          "execution_count": 44
        }
      ],
      "source": [
        "mapped_for_test[test_sentences[-1]]"
      ]
    },
    {
      "cell_type": "code",
      "execution_count": 45,
      "metadata": {
        "colab": {
          "base_uri": "https://localhost:8080/",
          "height": 88
        },
        "id": "iZS3YLBqeSsk",
        "outputId": "e33bfece-5435-4b62-e199-474b69c85569"
      },
      "outputs": [
        {
          "output_type": "execute_result",
          "data": {
            "text/plain": [
              "\"Well maybe afraid isn't the best word, but it's not far off. I'm not worried they can physically harm me or anything, nor do I even hate kids, most kids I actually like, but certain kids, like uncle's girlfriend's one kids, make me uncomfortable and make my anxiety go off badly. He's like 6 or something like that, but he is disrespectful to me, and harasses me when I'm around. He'll make smart ass remarks which although typical small child insults, get to me, not because they hurt my feelings so much, but it gets to me that I'm so pathetic, I can't even demand respect from a fucking child. Today, playing some backyard cricket with my brother and other cousin (a very respectful kid who I love), he asks if he can peg the ball at my groin, to which I obviously say no, so what does he do?\""
            ],
            "application/vnd.google.colaboratory.intrinsic+json": {
              "type": "string"
            }
          },
          "metadata": {},
          "execution_count": 45
        }
      ],
      "source": [
        "test_sentences[-1]"
      ]
    },
    {
      "cell_type": "code",
      "execution_count": 47,
      "metadata": {
        "id": "dkcpendUBItA"
      },
      "outputs": [],
      "source": [
        "class LDA_Wrapper_Topics_Distributions_Gensim:\n",
        "    def __init__(self, random_seed, data_words_clean, map_for_train, corpus, dictionary, alpha=0.01, eta=0.91, n_components=10):\n",
        "      self.alpha = alpha\n",
        "      self.eta = eta\n",
        "      self.seed = random_seed\n",
        "      self.map_for_train=map_for_train\n",
        "      self.data_words_clean = data_words_clean\n",
        "      self.corpus = corpus\n",
        "      self.dictionary = dictionary\n",
        "      self.n_components = n_components\n",
        "      self.ldamodel = gensim.models.ldamulticore.LdaMulticore(corpus=corpus,\n",
        "                                           id2word=dictionary,\n",
        "                                           num_topics=self.n_components, \n",
        "                                           passes=25,\n",
        "                                           alpha=self.alpha,\n",
        "                                           eta=self.eta,\n",
        "                                           random_state=random_seed,\n",
        "                                           minimum_probability = 0.00000001,\n",
        "                                           eval_every = 1,\n",
        "                                           per_word_topics=True)\n",
        "\n",
        "      # Saving trained model\n",
        "      self.ldamodel.save(f'results/LDA_{self.n_components}')\n",
        "      # Loading trained model\n",
        "      self.ldamodel = gensim.models.ldamulticore.LdaMulticore.load(f'results/LDA_{self.n_components}')\n",
        "      self.max_len = n_components\n",
        "      self.log_lines = []\n",
        "      self.print=self.__print_log__\n",
        "\n",
        "    def __print_log__(self, x):\n",
        "      pass\n",
        "\n",
        "    def topic_distribution_by_topic_order(self, string_input):\n",
        "      # Fit and transform\n",
        "      bow = self.ldamodel.id2word.doc2bow(string_input) # convert to bag of words format first\n",
        "\n",
        "      doc_topics, word_topics, phi_values = self.ldamodel.get_document_topics(bow, per_word_topics=True)\n",
        "\n",
        "      output = [topic[1] for topic in doc_topics]    \n",
        "      return output\n",
        "\n",
        "    def transform(self, sentences):\n",
        "      p = []\n",
        "      for sentence in sentences:\n",
        "        clean_sentence = self.map_for_train[sentence]\n",
        "\n",
        "        dists = self.topic_distribution_by_topic_order(clean_sentence)\n",
        "        p.append(dists)\n",
        "\n",
        "      self.print(\"in transform\")\n",
        "      return torch.tensor(p).type(torch.FloatTensor);\n",
        "\n",
        "    def transform_to_words(self, sentences):\n",
        "      p = []\n",
        "      for sentence in sentences:\n",
        "        clean_sentence = self.map_for_train[sentence]\n",
        "        dists = self.topic_distribution_by_topic_order(clean_sentence)\n",
        "        p.append(dists)\n",
        "      max_indexes = np.argmax(p, axis = 1)\n",
        "      words = []\n",
        "      for index in max_indexes:\n",
        "        topk = self.ldamodel.show_topic(index, 20)\n",
        "        topk_words = [ w for w, _ in topk ]\n",
        "        words.append(topk_words)\n",
        "      return words\n",
        "\n",
        "    def transform_cleaned_to_words(self, sentences):\n",
        "      p = []\n",
        "      for clean_sentence in sentences:\n",
        "        dists = self.topic_distribution_by_topic_order(clean_sentence)\n",
        "        p.append(dists)\n",
        "      max_indexes = np.argmax(p, axis = 1)\n",
        "      words = []\n",
        "      for index in max_indexes:\n",
        "        topk = self.ldamodel.show_topic(index, 20)\n",
        "        topk_words = [ w for w, _ in topk ]\n",
        "        words.append(topk_words)\n",
        "      return words\n",
        "\n",
        "    def transform_cleaned(self, sentences):\n",
        "      p = []\n",
        "      for clean_sentence in sentences:\n",
        "        dists = self.topic_distribution_by_topic_order(clean_sentence)\n",
        "        p.append(dists)\n",
        "      self.print(\"in transform\")\n",
        "      return torch.tensor(p).type(torch.FloatTensor);\n",
        "\n",
        "    def evaluate_model(self):\n",
        "      # Compute Perplexity Score\n",
        "      print('nPerplexity Score: ', self.ldamodel.log_perplexity(self.corpus))\n",
        "\n",
        "      # Compute Coherence Score\n",
        "      coherence_model_lda = gensim.models.CoherenceModel(model=self.ldamodel, texts=self.data_words_clean, dictionary=self.dictionary, coherence='c_v')\n",
        "      coherence_lda = coherence_model_lda.get_coherence()\n",
        "      return coherence_lda"
      ]
    },
    {
      "cell_type": "code",
      "execution_count": 48,
      "metadata": {
        "id": "hDb-x5cv2z1K"
      },
      "outputs": [],
      "source": [
        "# topics = [5,6,7, 8, 9, 10, 15, 20, 25, 30, 40, 75, 80, 85, 90, 100]\n",
        "topics = [75, 80, 85, 90, 100]\n",
        "alpha = 0.08\n",
        "eta = 0.97"
      ]
    },
    {
      "cell_type": "code",
      "execution_count": 49,
      "metadata": {
        "colab": {
          "base_uri": "https://localhost:8080/"
        },
        "id": "aTNqaCCSBiZr",
        "outputId": "2f872ed9-b3ae-4af5-8dbd-b4bc9c7fbcea"
      },
      "outputs": [
        {
          "output_type": "stream",
          "name": "stdout",
          "text": [
            "creating topic generators\n",
            "nPerplexity Score:  -7.849504994481822\n",
            "K=75 - Coherence Score:  0.4864275565789323\n",
            "created topic generator for 75 topics\n",
            "nPerplexity Score:  -7.87960032599371\n",
            "K=80 - Coherence Score:  0.48324910107551916\n",
            "created topic generator for 80 topics\n",
            "nPerplexity Score:  -7.886657452385468\n",
            "K=85 - Coherence Score:  0.4613707364308389\n",
            "created topic generator for 85 topics\n",
            "nPerplexity Score:  -7.908909744008121\n",
            "K=90 - Coherence Score:  0.4869464968365348\n",
            "created topic generator for 90 topics\n",
            "nPerplexity Score:  -7.950297993742433\n",
            "K=100 - Coherence Score:  0.5058757825122311\n",
            "created topic generator for 100 topics\n"
          ]
        }
      ],
      "source": [
        "topics_dict_gensim = dict()\n",
        "print(f'creating topic generators')\n",
        "# n_topics\n",
        "evaluation = []\n",
        "for n in topics:\n",
        "  set_seed(SEED)\n",
        "  topics_dict_gensim[n] = LDA_Wrapper_Topics_Distributions_Gensim(SEED, data_words_clean_for_lda_model_training, mapped_for_train,\n",
        "                                                                  corpus, dictionary, alpha=alpha, eta=eta, n_components=n)\n",
        "  evaluated_coherence = topics_dict_gensim[n].evaluate_model()\n",
        "  evaluation.append(evaluated_coherence)\n",
        "  print(f'K={n} - Coherence Score: ', evaluated_coherence)\n",
        "  print(f'created topic generator for {n} topics')"
      ]
    },
    {
      "cell_type": "code",
      "execution_count": 50,
      "metadata": {
        "colab": {
          "base_uri": "https://localhost:8080/",
          "height": 310
        },
        "id": "d8aCZQJm2AjV",
        "outputId": "79afff6e-5103-448c-8483-ed00c904a94e"
      },
      "outputs": [
        {
          "output_type": "display_data",
          "data": {
            "text/plain": [
              "<Figure size 432x288 with 1 Axes>"
            ],
            "image/png": "[encoded data removed]"
          },
          "metadata": {
            "needs_background": "light"
          }
        }
      ],
      "source": [
        "x = np.array(topics)\n",
        "y = np.array(evaluation)\n",
        "max_coerence_index = np.argmax(evaluation)\n",
        "# Plotting the Graph\n",
        "plt.plot(x, y)\n",
        "plt.title(f\"Coherence curve plotted using the given points - alpa = {alpha}, beta = {eta}, \\nmax coherence is k={topics[max_coerence_index]} coherence={evaluation[max_coerence_index]}])\")\n",
        "plt.xlabel(\"number of topics\")\n",
        "plt.ylabel(\"coherence\")\n",
        "plt.show()"
      ]
    },
    {
      "cell_type": "code",
      "source": [
        "import gensim.corpora as corpora\n",
        "# Create Dictionary\n",
        "dictionary_neg_label = corpora.Dictionary(data_words_clean_for_lda_model_training_neg_label)\n",
        "# Print dictionary\n",
        "print(dictionary_neg_label.token2id)\n",
        "\n",
        "## Create Term document frequency (corpus)\n",
        "# Term Document Frequency\n",
        "corpus_neg_label = [dictionary_neg_label.doc2bow(text) for text in data_words_clean_for_lda_model_training_neg_label]"
      ],
      "metadata": {
        "colab": {
          "base_uri": "https://localhost:8080/"
        },
        "id": "f7CLy5FRN8d7",
        "outputId": "422df776-c002-4c01-d831-6f9abffa8ad2"
      },
      "execution_count": 51,
      "outputs": [
        {
          "output_type": "stream",
          "name": "stdout",
          "text": [
            "{'assistance': 0, 'chance': 1, 'country': 2, 'current': 3, 'currently': 4, 'drawing': 5, 'effort': 6, 'enter': 7, 'go': 8, 'grad': 9, 'greatly': 10, 'health_organization': 11, 'help': 12, 'improve': 13, 'indisputable': 14, 'inscribe': 15, 'know': 16, 'look': 17, 'many': 18, 'market': 19, 'outreach': 20, 'pass': 21, 'personify': 22, 'post': 23, 'right': 24, 'school': 25, 'space': 26, 'stem': 27, 'stem_student': 28, 'student': 29, 'survey': 30, 'take': 31, 'testament': 32, 'thank': 33, 'undergrad': 34, 'unretentive': 35, 'value': 36, 'win': 37, 'work': 38, 'world': 39, 'alum': 40, 'greatly_appreciate': 41, 'intern': 42, 'make': 43, 'place': 44, 'recruit': 45, 'scholar': 46, 'shank': 47, 'short': 48, 'sure': 49, 'working': 50, 'correct': 51, 'non': 52, 'ane': 53, 'hither': 54, 'levy': 55, 'marketing': 56, 'root': 57, 'ternion': 58, 'well': 59, 'amazon': 60, 'love': 61, 'study': 62, 'act': 63, 'amazing': 64, 'apologize': 65, 'ask': 66, 'back': 67, 'bear': 68, 'big': 69, 'change': 70, 'child': 71, 'company': 72, 'couple': 73, 'daughter': 74, 'engage': 75, 'exist': 76, 'fair': 77, 'information_technology': 78, 'involve': 79, 'literally': 80, 'luckily': 81, 'miss': 82, 'month': 83, 'nearly': 84, 'person': 85, 'pregnancy': 86, 'represent': 87, 'ripe': 88, 'sake': 89, 'say': 90, 'scripture': 91, 'see': 92, 'stare': 93, 'surprise': 94, 'talk': 95, 'tell': 96, 'texte': 97, 'time': 98, 'try': 99, 'update': 100, 'wanted': 101, 'write': 102, 'atomic_number': 103, 'prison_term': 104, 'pronounce': 105, 'survive': 106, 'tike': 107, 'want': 108, 'word': 109, 'duo': 110, 'entirely': 111, 'surprisal': 112, 'threesome': 113, 'tiddler': 114, 'iodin': 115, 'require': 116, 'secern': 117, 'vainglorious': 118, 'comprise': 119, 'girl': 120, 'simply': 121, 'ago': 122, 'boyfriend': 123, 'breakup': 124, 'contact': 125, 'drunk': 126, 'follow': 127, 'friend': 128, 'guy': 129, 'happen': 130, 'hard': 131, 'hook': 132, 'hookup': 133, 'lead': 134, 'moment': 135, 'never': 136, 'old': 137, 'purely': 138, 'recent': 139, 'recently': 140, 'reconnecte': 141, 'sex': 142, 'spur': 143, 'start': 144, 'up': 145, 'year': 146, 'drunkard': 147, 'stimulate': 148, 'strictly': 149, 'strike': 150, 'early': 151, 'late': 152, 'merely': 153, 'assemblage': 154, 'cat': 155, 'reconnected': 156, 'separation': 157, 'span': 158, 'sustain': 159, 'visualize': 160, 'degree': 161, 'detachment': 162, 'high': 163, 'husband': 164, 'live': 165, 'second': 166, 'accord': 167, 'accountable': 168, 'availability': 169, 'avenue': 170, 'care': 171, 'charm': 172, 'come': 173, 'confidence': 174, 'easy': 175, 'equal': 176, 'factor': 177, 'family': 178, 'field': 179, 'focus': 180, 'forward': 181, 'hold': 182, 'lack': 183, 'limit': 184, 'major': 185, 'maltreater': 186, 'medical': 187, 'mind': 188, 'misuse': 189, 'necessarily': 190, 'otherwise': 191, 'problem': 192, 'quality': 193, 'risk': 194, 'sexual': 195, 'solely': 196, 'subject': 197, 'support': 198, 'survivor': 199, 'url': 200, 'victim': 201, 'worth': 202, 'abuse': 203, 'avail': 204, 'calibre': 205, 'influence': 206, 'job': 207, 'abuser': 208, 'boulevard': 209, 'facilitate': 210, 'intimate': 211, 'power': 212, 'adenine': 213, 'await': 214, 'deficiency': 215, 'desire': 216, 'baby': 217, 'beware': 218, 'household': 219, 'birth': 220, 'end': 221, 'execute': 222, 'fix': 223, 'get': 224, 'halloween': 225, 'life': 226, 'marry': 227, 'move': 228, 'mutually': 229, 'next': 230, 'octet': 231, 'relationship': 232, 'thing': 233, 'beget': 234, 'side': 235, 'ace': 236, 'let': 237, 'occur': 238, 'experience': 239, 'female': 240, 'sprightliness': 241, 'adjacent': 242, 'conjoin': 243, 'little': 244, 'okey': 245, 'assay': 246, 'associate': 247, 'exaggerate': 248, 'fail': 249, 'feel': 250, 'finger': 251, 'list': 252, 'mean': 253, 'mickle': 254, 'navy': 255, 'perhaps': 256, 'precisely': 257, 'put': 258, 'qualification': 259, 'really': 260, 'reason': 261, 'situation': 262, 'success': 263, 'task': 264, 'assign': 265, 'behave': 266, 'conk': 267, 'labor': 268, 'lot': 269, 'maybe': 270, 'meter': 271, 'unity': 272, 'break': 273, 'concentre': 274, 'mebibyte': 275, 'megabyte': 276, 'peradventure': 277, 'reservation': 278, 'single': 279, 'alike': 280, 'find': 281, 'force': 282, 'ground': 283, 'heel': 284, 'invest': 285, 'naval': 286, 'advocacy': 287, 'allow': 288, 'approximately': 289, 'atonement': 290, 'completion': 291, 'cost': 292, 'diagnose': 293, 'examine': 294, 'genial': 295, 'grievous': 296, 'illness': 297, 'individual': 298, 'info': 299, 'intend': 300, 'invite': 301, 'minute': 302, 'participant': 303, 'participate': 304, 'persistent': 305, 'purpose': 306, 'relate': 307, 'research': 308, 'researcher': 309, 'role': 310, 'satisfaction': 311, 'self': 312, 'spmi': 313, 'stigma': 314, 'strategy': 315, 'supply': 316, 'woman': 317, 'information': 318, 'mental': 319, 'severe': 320, 'university': 321, 'theatrical': 322, 'unwellness': 323, 'brand': 324, 'instant': 325, 'part': 326, 'scot': 327, 'case': 328, 'dangerous': 329, 'ego': 330, 'mark': 331, 'mixture': 332, 'sentence': 333, 'afraid': 334, 'always': 335, 'awkward': 336, 'cash': 337, 'embarrassment': 338, 'food': 339, 'give': 340, 'homeless': 341, 'kinda': 342, 'lady': 343, 'money': 344, 'people': 345, 'perfect': 346, 'physical': 347, 'public': 348, 'pull': 349, 'run': 350, 'station': 351, 'train': 352, 'walk': 353, 'wallet': 354, 'wellness': 355, 'currency': 356, 'forcible': 357, 'health': 358, 'peeress': 359, 'consummate': 360, 'prohibit': 361, 'notecase': 362, 'spot': 363, 'witness': 364, 'hoi_polloi': 365, 'tabu': 366, 'anxiety': 367, 'chemical': 368, 'commom': 369, 'disorder': 370, 'exarcebate': 371, 'fear': 372, 'group': 373, 'specific': 374, 'toc': 375, 'traumatic_stress': 376, 'type': 377, 'dsm': 378, 'phoebe': 379, 'cause': 380, 'fin': 381, 'strain': 382, 'traumatic': 383, 'berth': 384, 'anonymous': 385, 'anticipation': 386, 'assure': 387, 'awareness': 388, 'cognisance': 389, 'deserve': 390, 'empathy': 391, 'foster': 392, 'full': 393, 'great': 394, 'great_unwashe': 395, 'honest': 396, 'hope': 397, 'increase': 398, 'interested': 399, 'interview': 400, 'mental_illnesse': 401, 'name': 402, 'note': 403, 'ocd': 404, 'order': 405, 'publish': 406, 'raise': 407, 'search': 408, 'send': 409, 'story': 410, 'tact': 411, 'throne': 412, 'topic': 413, 'treat': 414, 'understanding': 415, 'unrivalle': 416, 'gen': 417, 'masse': 418, 'mental_health': 419, 'seek': 420, 'delight': 421, 'dependable': 422, 'fib': 423, 'guarantee': 424, 'intellect': 425, 'knowingness': 426, 'manage': 427, 'spell': 428, 'distinction': 429, 'astir': 430, 'bequeath': 431, 'billet': 432, 'clock': 433, 'angry': 434, 'bad': 435, 'behavior': 436, 'chunk': 437, 'combination': 438, 'connective': 439, 'debilitate': 440, 'depression': 441, 'discover': 442, 'effective': 443, 'first': 444, 'genial_health': 445, 'gestation': 446, 'grip': 447, 'healthy': 448, 'heighten': 449, 'include': 450, 'incurable': 451, 'injury': 452, 'manic': 453, 'med': 454, 'minor': 455, 'new': 456, 'outburst': 457, 'overall': 458, 'periodic': 459, 'reality': 460, 'relatively': 461, 'settle': 462, 'share': 463, 'somewhere': 464, 'speak': 465, 'stabilize': 466, 'strong': 467, 'supportive': 468, 'symptom': 469, 'tissue': 470, 'travel': 471, 'uncover': 472, 'unspoilt': 473, 'discovery': 474, 'good': 475, 'human': 476, 'intensify': 477, 'respect': 478, 'today': 479, 'discovering': 480, 'fate': 481, 'metre': 482, 'paper': 483, 'rifle': 484, 'comparatively': 485, 'location': 486, 'tidy': 487, 'deepen': 488, 'effectual': 489, 'realness': 490, 'sizable': 491, 'bring': 492, 'call': 493, 'cart': 494, 'dressing_room': 495, 'expect': 496, 'function': 497, 'gown': 498, 'hang': 499, 'head': 500, 'keep': 501, 'least': 502, 'leave': 503, 'merit': 504, 'peerless': 505, 'polite': 506, 'previous': 507, 'reprimand': 508, 'thyroxin': 509, 'demand': 510, 'robe': 511, 'upward': 512, 'upwardly': 513, 'feature': 514, 'unmatched': 515, 'night': 516, 'position': 517, 'real': 518, 'backward': 519, 'hear': 520, 'maine': 521, 'preserve': 522, 'brick': 523, 'brilliant': 524, 'brother': 525, 'buddy': 526, 'car': 527, 'drive': 528, 'fall': 529, 'fuck': 530, 'half': 531, 'house': 532, 'idea': 533, 'pie': 534, 'private': 535, 'rant': 536, 'recipe': 537, 'remember': 538, 'road': 539, 'think': 540, 'throwing': 541, 'tie': 542, 'window': 543, 'comrade': 544, 'driveway': 545, 'european': 546, 'indo': 547, 'proto': 548, 'theater': 549, 'windowpane': 550, 'date': 551, 'estimation': 552, 'machine': 553, 'rage': 554, 'state': 555, 'throw': 556, 'allege': 557, 'rummy': 558, 'small': 559, 'bright': 560, 'deoxythymidine_monophosphate': 561, 'set': 562, 'actively': 563, 'appeal': 564, 'around': 565, 'bar': 566, 'casually': 567, 'cleave': 568, 'college': 569, 'concluding': 570, 'hopefully': 571, 'last': 572, 'mood': 573, 'mostly': 574, 'online': 575, 'path': 576, 'pick': 577, 'pool': 578, 'potential': 579, 'pretty': 580, 'seem': 581, 'ternary': 582, 'totally': 583, 'vocation': 584, 'career': 585, 'club': 586, 'course': 587, 'generally': 588, 'neer': 589, 'stick': 590, 'temper': 591, 'final': 592, 'jolly': 593, 'modality': 594, 'particular': 595, 'billiard': 596, 'mouth': 597, 'pocket': 598, 'appear': 599, 'terminate': 600, 'actually': 601, 'along': 602, 'area': 603, 'close': 604, 'coincidentally': 605, 'comfortable': 606, 'conversation': 607, 'dislike': 608, 'distance': 609, 'drunker': 610, 'guess': 611, 'initially': 612, 'long': 613, 'nice': 614, 'weather': 615, 'zach': 616, 'domain': 617, 'downward': 618, 'shot': 619, 'ones_chip': 620, 'precede': 621, 'atmospheric': 622, 'condition': 623, 'former': 624, 'past': 625, 'imagine': 626, 'belly': 627, 'body': 628, 'breath': 629, 'breathing': 630, 'calm': 631, 'certain': 632, 'count': 633, 'diaphragmatic': 634, 'hand': 635, 'heart': 636, 'number': 637, 'paunch': 638, 'paw': 639, 'pectus': 640, 'practice': 641, 'ridicule': 642, 'rise': 643, 'select': 644, 'sensation': 645, 'simple': 646, 'technique': 647, 'upper': 648, 'chest': 649, 'choose': 650, 'recitation': 651, 'remnant': 652, 'seal': 653, 'breather': 654, 'climb': 655, 'cool': 656, 'proficiency': 657, 'toilet': 658, 'breathe': 659, 'abandon': 660, 'also': 661, 'basic': 662, 'brain': 663, 'deep': 664, 'defective': 665, 'depend': 666, 'deprive': 667, 'effect': 668, 'emotionally': 669, 'enough': 670, 'fact': 671, 'frozen': 672, 'insufficiently': 673, 'knowledge': 674, 'message': 675, 'need': 676, 'often': 677, 'physically': 678, 'receive': 679, 'reminder': 680, 'secure': 681, 'shame': 682, 'sign': 683, 'spiral': 684, 'spite': 685, 'toxic': 686, 'trauma': 687, 'traumatize': 688, 'unvarying': 689, 'wound': 690, 'mystify': 691, 'plenty': 692, 'rooted': 693, 'safe': 694, 'anxiousness': 695, 'consciousness': 696, 'constant': 697, 'recondite': 698, 'monitor': 699, 'noesis': 700, 'operating_theater': 701, 'sense': 702, 'perpetual': 703, 'surgery': 704, 'add': 705, 'audience': 706, 'build': 707, 'bunch': 708, 'busy': 709, 'check': 710, 'computer': 711, 'even': 712, 'host': 713, 'measure': 714, 'partnership': 715, 'reddit': 716, 'resource': 717, 'scenario': 718, 'scout': 719, 'sector': 720, 'security': 721, 'serve': 722, 'system': 723, 'passel': 724, 'templet': 725, 'way': 726, 'bestow': 727, 'entropy': 728, 'guide': 729, 'crack': 730, 'keeping': 731, 'matter': 732, 'peck': 733, 'radius': 734, 'closet': 735, 'datum': 736, 'department': 737, 'grant': 738, 'reckoner': 739, 'away': 740, 'committed': 741, 'decide': 742, 'die': 743, 'excellent': 744, 'finish': 745, 'flat': 746, 'home': 747, 'parent': 748, 'quit': 749, 'rent': 750, 'smart': 751, 'super': 752, 'town': 753, 'apartment': 754, 'believe': 755, 'pupil': 756, 'township': 757, 'aside': 758, 'commit': 759, 'smarting': 760, 'determine': 761, 'recount': 762, 'smartness': 763, 'belgique': 764, 'blue': 765, 'buy': 766, 'content': 767, 'day': 768, 'dysphoric': 769, 'exactly': 770, 'happiness': 771, 'lacking': 772, 'maldive': 773, 'rarely': 774, 'replacement': 775, 'swing': 776, 'together': 777, 'trip': 778, 'venice': 779, 'weekend': 780, 'yr': 781, 'belgium': 782, 'mb': 783, 'contentedness': 784, 'unhappy': 785, 'island': 786, 'twelvemonth': 787, 'venezia': 788, 'introduce': 789, 'kick': 790, 'later': 791, 'meet': 792, 'party': 793, 'patch': 794, 'point': 795, 'series': 796, 'several': 797, 'truly': 798, 'alone': 799, 'political': 800, 'various': 801, 'chief': 802, 'respective': 803, 'forefront': 804, 'mass': 805, 'multitude': 806, 'disseminate': 807, 'multiple': 808, 'sclerosis': 809, 'able': 810, 'anyway': 811, 'bank': 812, 'box': 813, 'cancel': 814, 'card': 815, 'cash_app': 816, 'egiftcard': 817, 'else': 818, 'expense': 819, 'free': 820, 'fry': 821, 'government': 822, 'indeed': 823, 'license': 824, 'local': 825, 'mobile': 826, 'payment': 827, 'phone': 828, 'placard': 829, 'plan': 830, 'police_report': 831, 'prime': 832, 'priority': 833, 'question': 834, 'refund': 835, 'repayment': 836, 'replace': 837, 'sock': 838, 'still': 839, 'suffer': 840, 'top': 841, 'transfer': 842, 'trust': 843, 'unable': 844, 'unitary': 845, 'unlocked': 846, 'verify': 847, 'willing': 848, 'assume': 849, 'constabulary': 850, 'placement': 851, 'pm': 852, 'puzzle': 853, 'repay': 854, 'report': 855, 'unlock': 856, 'arrange': 857, 'disbursal': 858, 'drogue': 859, 'river': 860, 'accept': 861, 'architectural': 862, 'depository': 863, 'financial': 864, 'institution': 865, 'law': 866, 'requital': 867, 'intrust': 868, 'pinch': 869, 'thus': 870, 'bump': 871, 'class': 872, 'consequence': 873, 'convince': 874, 'crazy': 875, 'deal': 876, 'education': 877, 'eye': 878, 'holiday': 879, 'kiss': 880, 'lock': 881, 'material': 882, 'much': 883, 'notice': 884, 's': 885, 'use': 886, 'concert': 887, 'gaze': 888, 'operate': 889, 'positive': 890, 'stuff': 891, 'townsfolk': 892, 'wind': 893, 'shoe': 894, 'solar': 895, 'constitute': 896, 'genuinely': 897, 'hardly': 898, 'absence': 899, 'accidentally': 900, 'alibi': 901, 'arm': 902, 'arrive': 903, 'bit': 904, 'bone': 905, 'cast': 906, 'elbow': 907, 'face': 908, 'fight': 909, 'housing': 910, 'metal': 911, 'morning': 912, 'office': 913, 'play': 914, 'practise': 915, 'rod': 916, 'rough': 917, 'sibling': 918, 'weird': 919, 'wrist': 920, 'broken': 921, 'confuse': 922, 'excuse': 923, 'mayhap': 924, 'read': 925, 'rocky': 926, 'confused': 927, 'property': 928, 'seizure': 929, 'accommodation': 930, 'alloy': 931, 'hour': 932, 'interval': 933, 'living': 934, 'perchance': 935, 'wreak': 936, 'gat': 937, 'joint': 938, 'radiocarpal': 939, 'befriend': 940, 'colleague': 941, 'coworker': 942, 'evening': 943, 'eventually': 944, 'fahrenheit': 945, 'hemorrhage': 946, 'hop': 947, 'insight': 948, 'lunch': 949, 'open': 950, 'pub': 951, 'text': 952, 'fluorine': 953, 'modest': 954, 'clear': 955, 'fellowship': 956, 'anyhow': 957, 'geezerhood': 958, 'dejeuner': 959, 'confirm': 960, 'control': 961, 'counting': 962, 'dive': 963, 'drop': 964, 'helium': 965, 'reject': 966, 'switch': 967, 'turn': 968, 'variant': 969, 'do': 970, 'excite': 971, 'spurn': 972, 'stochastic': 973, 'variable': 974, 'excited': 975, 'winnow': 976, 'ascendency': 977, 'hence': 978, 'plunge': 979, 'charge': 980, 'initiative': 981, 'access': 982, 'app': 983, 'apply': 984, 'connect': 985, 'download': 986, 'exe': 987, 'far': 988, 'install': 989, 'internet': 990, 'laptop': 991, 'lav': 992, 'like': 993, 'mo': 994, 'pay': 995, 'pdanet': 996, 'retrieve': 997, 'site': 998, 'straighttalk': 999, 'strangle': 1000, 'tether': 1001, 'textual': 1002, 'unlimited': 1003, 'thought': 1004, 'throttle': 1005, 'headphone': 1006, 'lecture': 1007, 'period': 1008, 'coiffe': 1009, 'crapper': 1010, 'fine': 1011, 'link': 1012, 'jr': 1013, 'telephone': 1014, 'alimentary': 1015, 'behind': 1016, 'edit': 1017, 'employment': 1018, 'increasingly': 1019, 'item': 1020, 'moreso': 1021, 'mystery': 1022, 'oatmeal': 1023, 'paste': 1024, 'push': 1025, 'redditor': 1026, 'sauce': 1027, 'secondary': 1028, 'someday': 1029, 'supplement': 1030, 'pasta': 1031, 'solid': 1032, 'utilisation': 1033, 'nutrient': 1034, 'book': 1035, 'closed': 1036, 'greater_extent': 1037, 'likewise': 1038, 'progressively': 1039, 'deuce': 1040, 'doctor': 1041, 'emphatically': 1042, 'hay': 1043, 'insurance': 1044, 'persuasion': 1045, 'policy': 1046, 'roll': 1047, 'bed': 1048, 'church': 1049, 'definitely': 1050, 'web': 1051, 'odd': 1052, 'volition': 1053, 'finding': 1054, 'unquestionably': 1055, 'website': 1056, 'cornelius': 1057, 'eligible': 1058, 'private_message': 1059, 'qualify': 1060, 'unfortunately': 1061, 'vanderbilt_university': 1062, 'beam': 1063, 'commodore': 1064, 'questionnaire': 1065, 'view': 1066, 'enjoin': 1067, 'direct': 1068, 'interest': 1069, 'player': 1070, 'concern': 1071, 'distributor': 1072, 'embody': 1073, 'please': 1074, 'adopt': 1075, 'biologically': 1076, 'ingest': 1077, 'niece': 1078, 'pointedness': 1079, 'sister': 1080, 'son': 1081, 'week': 1082, 'logo': 1083, 'stop': 1084, 'verboten': 1085, 'nephew': 1086, 'onetime': 1087, 'erstwhile': 1088, 'extinct': 1089, 'piddle': 1090, 'bath': 1091, 'cute': 1092, 'encourage': 1093, 'explain': 1094, 'lol': 1095, 'privacy': 1096, 'privaty': 1097, 'teach': 1098, 'understand': 1099, 'youngster': 1100, 'elderly': 1101, 'empathise': 1102, 'instruct': 1103, 'mommy': 1104, 'shaver': 1105, 'prove': 1106, 'tercet': 1107, 'pauperization': 1108, 'senior': 1109, 'sometime': 1110, 'bathtub': 1111, 'imply': 1112, 'blog': 1113, 'dead': 1114, 'explicate': 1115, 'ill': 1116, 'kill': 1117, 'leader': 1118, 'married': 1119, 'outbreak': 1120, 'portrayal': 1121, 'posttraumatic_stress': 1122, 'ptsd': 1123, 'relatable': 1124, 'retire': 1125, 'snake': 1126, 'sound': 1127, 'technically': 1128, 'twice': 1129, 'band': 1130, 'wife': 1131, 'crick': 1132, 'hatful': 1133, 'portrait': 1134, 'enactment': 1135, 'devil': 1136, 'dog': 1137, 'irruption': 1138, 'bottom': 1139, 'component': 1140, 'constructive': 1141, 'creep': 1142, 'cushioning': 1143, 'cycle': 1144, 'decision': 1145, 'finally': 1146, 'habituate': 1147, 'medicine': 1148, 'mild': 1149, 'mirtazapine': 1150, 'nightmare': 1151, 'provide': 1152, 'rest': 1153, 'sadly': 1154, 'sleep': 1155, 'slowly': 1156, 'slumber': 1157, 'sometimes': 1158, 'stand': 1159, 'suspect': 1160, 'warp': 1161, 'welfare': 1162, 'benefit': 1163, 'farseeing': 1164, 'warped': 1165, 'seam': 1166, 'soundbox': 1167, 'specialty': 1168, 'buffer': 1169, 'organic': 1170, 'structure': 1171, 'yet': 1172, 'soften': 1173, 'account': 1174, 'cheap': 1175, 'common': 1176, 'normal': 1177, 'okay': 1178, 'raw': 1179, 'rearward': 1180, 'roof': 1181, 'sapphic': 1182, 'throwaway': 1183, 'username': 1184, 'initiatory': 1185, 'modern': 1186, 'lesbian': 1187, 'propel': 1188, 'longsighte': 1189, 'abject': 1190, 'attach': 1191, 'attack': 1192, 'completely': 1193, 'cut': 1194, 'emergency': 1195, 'essentially': 1196, 'fur': 1197, 'hole': 1198, 'hr': 1199, 'jaw': 1200, 'large': 1201, 'middle': 1202, 'paige': 1203, 'poodle': 1204, 'remain': 1205, 'remove': 1206, 'rip': 1207, 'skin': 1208, 'stomach': 1209, 'sweet': 1210, 'vet': 1211, 'weak': 1212, 'faint': 1213, 'low': 1214, 'lower_jaw': 1215, 'mix': 1216, 'quaker': 1217, 'sulfur': 1218, 'toy': 1219, 'ut': 1220, 'altogether': 1221, 'mellifluous': 1222, 'scarcely': 1223, 'basically': 1224, 'forth': 1225, 'surgeon': 1226, 'veterinary': 1227, 'fallible': 1228, 'gloomy': 1229, 'peel': 1230, 'central': 1231, 'dwarfism': 1232, 'infant': 1233, 'net': 1234, 'shape': 1235, 'stable': 1236, 'nascency': 1237, 'parentage': 1238, 'actor': 1239, 'static': 1240, 'stipulation': 1241, 'babe': 1242, 'unchanging': 1243, 'emplacement': 1244, 'primal': 1245, 'advice': 1246, 'anxious': 1247, 'bother': 1248, 'catch': 1249, 'complex': 1250, 'distressed': 1251, 'door': 1252, 'dry': 1253, 'entrance': 1254, 'especially': 1255, 'figure': 1256, 'floor': 1257, 'fortunate': 1258, 'fourth': 1259, 'front': 1260, 'glass': 1261, 'however': 1262, 'land': 1263, 'midnight': 1264, 'noticed': 1265, 'oft': 1266, 'other': 1267, 'particularly': 1268, 'restaurant': 1269, 'stairwell': 1270, 'storey': 1271, 'anyways': 1272, 'backwards': 1273, 'figured': 1274, 'movement': 1275, 'nevertheless': 1276, 'distress': 1277, 'fill': 1278, 'molar_concentration': 1279, 'possess': 1280, 'eatery': 1281, 'log': 1282, 'rear': 1283, 'therefore': 1284, 'zs': 1285, 'age': 1286, 'answer': 1287, 'cringe': 1288, 'funny': 1289, 'rattle': 1290, 'skill': 1291, 'eld': 1292, 'contribution': 1293, 'crawl': 1294, 'response': 1295, 'bathroom': 1296, 'descend': 1297, 'driver': 1298, 'grab': 1299, 'hubby': 1300, 'hurt': 1301, 'load': 1302, 'neck': 1303, 'request': 1304, 'suppose': 1305, 'wrong': 1306, 'loading': 1307, 'tail': 1308, 'decent': 1309, 'bucket': 1310, 'pain': 1311, 'wood': 1312, 'boost': 1313, 'consideration': 1314, 'drastically': 1315, 'fourth_dimension': 1316, 'frame': 1317, 'income': 1318, 'loan': 1319, 'rather': 1320, 'sean': 1321, 'suffice': 1322, 'tip': 1323, 'aid': 1324, 'quittance': 1325, 'reward': 1326, 'soon': 1327, 'skeletal': 1328, 'preferably': 1329, 'five_hundre': 1330, 'summit': 1331, 'bus': 1332, 'commentary': 1333, 'depressed': 1334, 'ever': 1335, 'grow': 1336, 'hit': 1337, 'issue': 1338, 'marriage': 1339, 'mention': 1340, 'mother': 1341, 'pair': 1342, 'withhold': 1343, 'citation': 1344, 'comment': 1345, 'similar': 1346, 'lease': 1347, 'properly': 1348, 'regard': 1349, 'solo': 1350, 'apology': 1351, 'begin': 1352, 'drink': 1353, 'heartfelt': 1354, 'hometown': 1355, 'pressure': 1356, 'reply': 1357, 'southeast': 1358, 'southwestern': 1359, 'calendar_month': 1360, 'northwest': 1361, 'southeastern': 1362, 'southwest': 1363, 'united_state': 1364, 'pressured': 1365, 'strong_arm': 1366, 'blackjack': 1367, 'conclusion': 1368, 'upwards': 1369, 'inhabit': 1370, 'ambassador': 1371, 'background': 1372, 'defecate': 1373, 'enjoy': 1374, 'extensively': 1375, 'freshman': 1376, 'future': 1377, 'girlfriend': 1378, 'golden_retriever': 1379, 'slightly': 1380, 'spend': 1381, 'wear': 1382, 'worried': 1383, 'incorrect': 1384, 'favourable': 1385, 'melodic': 1386, 'newcomer': 1387, 'theme': 1388, 'embassador': 1389, 'fresher': 1390, 'hehe': 1391, 'thymine': 1392, 'incessantly': 1393, 'signal': 1394, 'cheer': 1395, 'envy': 1396, 'erotic': 1397, 'everywhere': 1398, 'human_being': 1399, 'label': 1400, 'proudly': 1401, 'rain': 1402, 'sleet': 1403, 'sportsman': 1404, 'stripling': 1405, 'sweetie': 1406, 'begrudge': 1407, 'high_school': 1408, 'sport': 1409, 'sweetheart': 1410, 'teenager': 1411, 'teen': 1412, 'petty': 1413, 'rack': 1414, 'globe': 1415, 'shoal': 1416, 'adorn': 1417, 'lamp': 1418, 'mre': 1419, 'perishable': 1420, 'trailmix': 1421, 'udder': 1422, 'indue': 1423, 'intellectual_nourishment': 1424, 'empower': 1425, 'dish': 1426, 'waterproof': 1427, 'pocketbook': 1428, 'amplification': 1429, 'business': 1430, 'celexa': 1431, 'cipralex': 1432, 'citalopram': 1433, 'medication': 1434, 'organisation': 1435, 'primary': 1436, 'psychiatrist': 1437, 'recommendation': 1438, 'weight': 1439, 'basal': 1440, 'gain': 1441, 'precondition': 1442, 'loosely': 1443, 'broadly': 1444, 'undecomposed': 1445, 'gist': 1446, 'consider': 1447, 'convenience': 1448, 'fucking': 1449, 'hale': 1450, 'iodine': 1451, 'orbit': 1452, 'patronage': 1453, 'recollect': 1454, 'register': 1455, 'shop': 1456, 'store': 1457, 'whole': 1458, 'curious': 1459, 'happened': 1460, 'line': 1461, 'unspoile': 1462, 'computer_memory': 1463, 'comparable': 1464, 'nigh': 1465, 'locomote': 1466, 'audio': 1467, 'coupon': 1468, 'equivalent': 1469, 'file': 1470, 'fun': 1471, 'language': 1472, 'matching': 1473, 'picture': 1474, 'progress': 1475, 'signification': 1476, 'speak_english': 1477, 'listen': 1478, 'voucher': 1479, 'recite': 1480, 'tenner': 1481, 'verifier': 1482, 'merriment': 1483, 'narrate': 1484, 'virago': 1485, 'blame': 1486, 'clip': 1487, 'decline': 1488, 'different': 1489, 'due': 1490, 'energetic': 1491, 'ignore': 1492, 'lbs': 1493, 'majority': 1494, 'paxil': 1495, 'shortly': 1496, 'user': 1497, 'comfortably': 1498, 'sample': 1499, 'disregard': 1500, 'downslope': 1501, 'extreme': 1502, 'forbid': 1503, 'handful': 1504, 'justify': 1505, 'mortal': 1506, 'mussy': 1507, 'rush': 1508, 'hail': 1509, 'stun': 1510, 'diverse': 1511, 'messy': 1512, 'blank': 1513, 'attend': 1514, 'bully': 1515, 'cure': 1516, 'helpful': 1517, 'therapist': 1518, 'decade': 1519, 'gcse': 1520, 'healer': 1521, 'circle': 1522, 'heal': 1523, 'allergy': 1524, 'alternative': 1525, 'bloodline': 1526, 'choice': 1527, 'doodle': 1528, 'german': 1529, 'golden': 1530, 'hypoallergenic': 1531, 'labradoodle': 1532, 'labrador': 1533, 'lovely': 1534, 'retriever': 1535, 'shepadoodle': 1536, 'shepard': 1537, 'therapy': 1538, 'mightiness': 1539, 'allergic': 1540, 'reaction': 1541, 'blood': 1542, 'weenie': 1543, 'penny': 1544, 'tense': 1545, 'conscientious': 1546, 'finance': 1547, 'gym': 1548, 'learn': 1549, 'marathon': 1550, 'quartile': 1551, 'spare': 1552, 'spouse': 1553, 'uncomfortable': 1554, 'visibly': 1555, 'gymnasium': 1556, 'mate': 1557, 'scrupulous': 1558, 'endure': 1559, 'flesh': 1560, 'unornamented': 1561, 'redundant': 1562, 'troupe': 1563, 'hunky_dory': 1564, 'overwhelming': 1565, 'session': 1566, 'strange': 1567, 'excessively': 1568, 'advantageously': 1569, 'term': 1570, 'workweek': 1571, 'blend': 1572, 'intimately': 1573, 'rearwards': 1574, 'solvent': 1575, 'explanation': 1576, 'felony': 1577, 'grownup': 1578, 'kid': 1579, 'lean': 1580, 'plead': 1581, 'prison': 1582, 'probation': 1583, 'respond': 1584, 'revoke': 1585, 'trouble': 1586, 'agone': 1587, 'big_decision': 1588, 'expression': 1589, 'belong': 1590, 'female_parent': 1591, 'tilt': 1592, 'plowshare': 1593, 'thou': 1594, 'anticipate': 1595, 'barrier': 1596, 'continue': 1597, 'contribute': 1598, 'donate': 1599, 'fund': 1600, 'immigrant': 1601, 'linkup': 1602, 'supporter': 1603, 'latino': 1604, 'promise': 1605, 'sponsor': 1606, 'communication': 1607, 'stock': 1608, 'troika': 1609, 'endow': 1610, 'eat': 1611, 'event': 1612, 'foresighte': 1613, 'joke': 1614, 'lifestyle': 1615, 'meyer': 1616, 'pizza': 1617, 'random': 1618, 'record': 1619, 'seth': 1620, 'somewhat': 1621, 'tenth': 1622, 'watch': 1623, 'mile': 1624, 'farseee': 1625, 'weigh': 1626, 'jape': 1627, 'result': 1628, 'thinking': 1629, 'urinate': 1630, 'hombre': 1631, 'inquiry': 1632, 'complete': 1633, 'gentle': 1634, 'laundry': 1635, 'meal': 1636, 'millilitre': 1637, 'reach': 1638, 'react': 1639, 'room': 1640, 'spending': 1641, 'stranger': 1642, 'table': 1643, 'array': 1644, 'mil': 1645, 'snap': 1646, 'tabular': 1647, 'unadulterated': 1648, 'aristocratical': 1649, 'ready': 1650, 'virtually': 1651, 'wholly': 1652, 'southward': 1653, 'thyroxine': 1654, 'bomb': 1655, 'comfort': 1656, 'defeat': 1657, 'exercise': 1658, 'heavy': 1659, 'level': 1660, 'tend': 1661, 'unfamiliar': 1662, 'fearfulness': 1663, 'supervise': 1664, 'unmarried': 1665, 'sidereal': 1666, 'aim': 1667, 'barely': 1668, 'ease': 1669, 'notwithstanding': 1670, 'route': 1671, 'walking': 1672, 'addition': 1673, 'appetite': 1674, 'cuisine': 1675, 'destitute': 1676, 'feed': 1677, 'fire': 1678, 'fuel': 1679, 'passionate': 1680, 'wide': 1681, 'general': 1682, 'race': 1683, 'earthly': 1684, 'growth': 1685, 'whatsoever': 1686, 'mankind': 1687, 'variety': 1688, 'ploughshare': 1689, 'step': 1690, 'admit': 1691, 'affection': 1692, 'ambivalent': 1693, 'apparently': 1694, 'broach': 1695, 'commitment': 1696, 'earn': 1697, 'gesture': 1698, 'grand': 1699, 'hurting': 1700, 'kind': 1701, 'mentality': 1702, 'moderately': 1703, 'perceive': 1704, 'regularly': 1705, 'sort': 1706, 'thoughtful': 1707, 'unhealthy': 1708, 'validation': 1709, 'basis': 1710, 'broaching': 1711, 'regular': 1712, 'aggrandise': 1713, 'intercourse': 1714, 'committal': 1715, 'kinship': 1716, 'scarce': 1717, 'adult': 1718, 'anymore': 1719, 'bind': 1720, 'clothe': 1721, 'determination': 1722, 'groom': 1723, 'panic': 1724, 'remainder': 1725, 'safety': 1726, 'sawbuck': 1727, 'shut': 1728, 'horse': 1729, 'split_second': 1730, 'agency': 1731, 'necessitate': 1732, 'decease': 1733, 'discontinue': 1734, 'consult': 1735, 'dentition': 1736, 'grill': 1737, 'man': 1738, 'phase': 1739, 'seafood': 1740, 'sit': 1741, 'wait': 1742, 'brunswick': 1743, 'gild': 1744, 'tooth': 1745, 'braunschweig': 1746, 'form': 1747, 'grillroom': 1748, 'posture': 1749, 'stead': 1750, 'apart': 1751, 'grillwork': 1752, 'military': 1753, 'tear': 1754, 'jokingly': 1755, 'leash': 1756, 'officially': 1757, 'return': 1758, 'edition': 1759, 'formally': 1760, 'nighttime': 1761, 'lifespan': 1762, 'sing': 1763, 'astonishingly': 1764, 'bacteria': 1765, 'endeavour': 1766, 'enhacem': 1767, 'gut': 1768, 'headspace': 1769, 'meditation': 1770, 'probiotic': 1771, 'production': 1772, 'scene': 1773, 'serotonin': 1774, 'conceive': 1775, 'endeavor': 1776, 'intestine': 1777, 'surprisingly': 1778, 'bacterium': 1779, 'tight': 1780, 'speculation': 1781, 'terzetto': 1782, 'cancer': 1783, 'cousin': 1784, 'grandmother': 1785, 'lung': 1786, 'mom': 1787, 'one': 1788, 'stage': 1789, 'dress': 1790, 'crab': 1791, 'adept': 1792, 'jazz': 1793, 'obvious': 1794, 'prissy': 1795, 'sub': 1796, 'renting': 1797, 'solution': 1798, 'overnice': 1799, 'stateless': 1800, 'charter': 1801, 'screwball': 1802, 'dubiousness': 1803, 'affect': 1804, 'attempt': 1805, 'backdrop': 1806, 'base': 1807, 'basement': 1808, 'bullet': 1809, 'cptsd': 1810, 'difference': 1811, 'father': 1812, 'misdiagnosis': 1813, 'nearby': 1814, 'slight': 1815, 'summarize': 1816, 'tornado': 1817, 'treatment': 1818, 'compass': 1819, 'directly': 1820, 'palladium': 1821, 'slug': 1822, 'possibly': 1823, 'stress': 1824, 'breaker': 1825, 'conflict': 1826, 'pretend': 1827, 'svelte': 1828, 'article': 1829, 'awesome': 1830, 'establish': 1831, 'expensive': 1832, 'gear': 1833, 'process': 1834, 'service_dog': 1835, 'training': 1836, 'veteran': 1837, 'clause': 1838, 'foremost': 1839, 'pitch': 1840, 'pup': 1841, 'religious': 1842, 'blackguard': 1843, 'servicing': 1844, 'calciferol': 1845, 'compromise': 1846, 'pregnant': 1847, 'proceed': 1848, 'uncoerced': 1849, 'unforced': 1850, 'significant': 1851, 'standardise': 1852, 'grammar': 1853, 'happily': 1854, 'key': 1855, 'mistake': 1856, 'native': 1857, 'nature': 1858, 'observer': 1859, 'pleased': 1860, 'pursuit': 1861, 'sorry': 1862, 'springy': 1863, 'video': 1864, 'creative': 1865, 'playscript': 1866, 'present': 1867, 'thinker': 1868, 'true': 1869, 'animation': 1870, 'bet': 1871, 'businessman': 1872, 'constantly': 1873, 'destiny': 1874, 'environment': 1875, 'forget': 1876, 'horribly': 1877, 'hypothesis': 1878, 'music': 1879, 'ponder': 1880, 'realization': 1881, 'science': 1882, 'possibility': 1883, 'tin': 1884, 'awfully': 1885, 'timbre': 1886, 'dreadfully': 1887, 'muse': 1888, 'croak': 1889, 'dinner': 1890, 'example': 1891, 'feedback': 1892, 'mainly': 1893, 'plate': 1894, 'tomorrow': 1895, 'ton': 1896, 'understandably': 1897, 'warm': 1898, 'clearly': 1899, 'nox': 1900, 'warming': 1901, 'dark': 1902, 'beat': 1903, 'lesson': 1904, 'object': 1905, 'percentage': 1906, 'dare': 1907, 'th': 1908, 'slue': 1909, 'abbreviate': 1910, 'already': 1911, 'bf': 1912, 'differently': 1913, 'discuss': 1914, 'exclusive': 1915, 'expectation': 1916, 'citizenry': 1917, 'undivide': 1918, 'hash': 1919, 'acquaintance': 1920, 'activity': 1921, 'busy_schedule': 1922, 'community': 1923, 'extra': 1924, 'feeling': 1925, 'goal': 1926, 'greeting': 1927, 'history': 1928, 'laced': 1929, 'light': 1930, 'meeting': 1931, 'mock': 1932, 'platonic': 1933, 'professional': 1934, 'public_transportation': 1935, 'puddle': 1936, 'rely': 1937, 'sabotage': 1938, 'worry': 1939, 'betrayal': 1940, 'biotic_community': 1941, 'model': 1942, 'booster': 1943, 'greet': 1944, 'special': 1945, 'ban': 1946, 'length': 1947, 'nonstarter': 1948, 'removed_survey': 1949, 'student_researcher': 1950, 'pleasure': 1951, 'sight': 1952, 'thusly': 1953, 'undermentione': 1954, 'failure': 1955, 'following_format': 1956, 'investigator': 1957, 'mods_pleasure': 1958, 'format': 1959, 'stake': 1960, 'wish': 1961, 'asshole': 1962, 'gamestop': 1963, 'halfway': 1964, 'improvement': 1965, 'lately': 1966, 'loyal': 1967, 'recall': 1968, 'uber': 1969, 'callback': 1970, 'slap': 1971, 'advance': 1972, 'consultation': 1973, 'washing': 1974, 'able_bodie': 1975, 'ante': 1976, 'oregon': 1977, 'considerate': 1978, 'generous': 1979, 'highly': 1980, 'incredibly': 1981, 'mama': 1982, 'selflessness': 1983, 'suggestion': 1984, 'thankful': 1985, 'wonderful': 1986, 'extremely': 1987, 'grateful': 1988, 'lovingness': 1989, 'assist': 1990, 'hump': 1991, 'sacrifice': 1992, 'bounce': 1993, 'gap': 1994, 'ish': 1995, 'miserable': 1996, 'protective': 1997, 'roughly': 1998, 'schedule': 1999, 'strict': 2000, 'suspicious': 2001, 'visit': 2002, 'scurvy': 2003, 'fast': 2004, 'docket': 2005, 'luck': 2006, 'schoolhouse': 2007, 'coolheade': 2008, 'hassle': 2009, 'honestly': 2010, 'loud': 2011, 'roommate': 2012, 'suitemate': 2013, 'vent': 2014, 'permit': 2015, 'outlet': 2016, 'tatty': 2017, 'competition': 2018, 'counsel': 2019, 'genre': 2020, 'medium': 2021, 'prize': 2022, 'societal': 2023, 'speck': 2024, 'spread': 2025, 'chirrup': 2026, 'reciprocal': 2027, 'social_media': 2028, 'touch': 2029, 'beloved': 2030, 'diffuse': 2031, 'musical': 2032, 'rule': 2033, 'style': 2034, 'thewellnesssoc': 2035, 'twitter': 2036, 'social': 2037, 'black': 2038, 'boy': 2039, 'heed': 2040, 'listening': 2041, 'perception': 2042, 'sabbath': 2043, 'show': 2044, 'sulphur': 2045, 'tree': 2046, 'unrivaled': 2047, 'awry': 2048, 'shew': 2049, 'threshold': 2050, 'exit': 2051, 'ii': 2052, 'arrest': 2053, 'beautiful': 2054, 'bout': 2055, 'cooperator': 2056, 'jamaican': 2057, 'partner': 2058, 'burster': 2059, 'filipino': 2060, 'collaborator': 2061, 'commence': 2062, 'cultivate': 2063, 'male': 2064, 'afterwards': 2065, 'empty': 2066, 'finishing': 2067, 'game': 2068, 'scared': 2069, 'thence': 2070, 'publication': 2071, 'related': 2072, 'serial': 2073, 'video_game': 2074, 'piece': 2075, 'alcohol': 2076, 'become': 2077, 'chart': 2078, 'cope': 2079, 'double': 2080, 'error': 2081, 'gp': 2082, 'intense': 2083, 'intoxicant': 2084, 'onanism': 2085, 'presently': 2086, 'quaternion': 2087, 'struggle': 2088, 'yay': 2089, 'consistence': 2090, 'withdrawal': 2091, 'alcoholic': 2092, 'beverage': 2093, 'practitioner': 2094, 'furious': 2095, 'grapple': 2096, 'mitt': 2097, 'adults_seeke': 2098, 'anyone_age': 2099, 'assess_treatment': 2100, 'assortment': 2101, 'benefit_receive': 2102, 'currently_engage': 2103, 'demographic_background': 2104, 'department_research': 2105, 'doe': 2106, 'patient_perception': 2107, 'preference': 2108, 'project_designe': 2109, 'therapy_session': 2110, 'treatment_match': 2111, 'whitethorn': 2112, 'wmu_psychology': 2113, 'token': 2114, 'benefit_received': 2115, 'essay': 2116, 'tetrad': 2117, 'among_adult': 2118, 'discourse': 2119, 'dispatch': 2120, 'intervention': 2121, 'predilection': 2122, 'axe': 2123, 'burn': 2124, 'drug': 2125, 'graduate': 2126, 'infer': 2127, 'magnanimous': 2128, 'newspaper': 2129, 'nursing': 2130, 'size': 2131, 'steal': 2132, 'beneficial': 2133, 'breast': 2134, 'feeding': 2135, 'afford': 2136, 'theatre': 2137, 'hitch': 2138, 'realise': 2139, 'conclude': 2140, 'swell': 2141, 'auto': 2142, 'counselling': 2143, 'court': 2144, 'external': 2145, 'input': 2146, 'international_relation': 2147, 'security_network': 2148, 'self_esteem': 2149, 'theft': 2150, 'outside': 2151, 'vitamin': 2152, 'esteem': 2153, 'track': 2154, 'bel': 2155, 'deliver': 2156, 'thievery': 2157, 'playing': 2158, 'yearner': 2159, 'create': 2160, 'gang': 2161, 'leadership': 2162, 'protection': 2163, 'score': 2164, 'shroud': 2165, 'strangulation': 2166, 'weapon': 2167, 'wing': 2168, 'sheet': 2169, 'annex': 2170, 'courtroom': 2171, 'picket': 2172, 'produce': 2173, 'unrivalled': 2174, 'design': 2175, 'fender': 2176, 'lookout': 2177, 'backstage': 2178, 'contract': 2179, 'convey': 2180, 'proscribe': 2181, 'alive': 2182, 'disclosure': 2183, 'gift_card': 2184, 'grocery': 2185, 'pantry': 2186, 'primarily': 2187, 'active': 2188, 'minefield': 2189, 'octad': 2190, 'lie': 2191, 'reveal': 2192, 'accounting': 2193, 'storehouse': 2194, 'metropolis': 2195, 'nowhere': 2196, 'occasionally': 2197, 'randomly': 2198, 'stay': 2199, 'calendar': 2200, 'city': 2201, 'celebrate': 2202, 'fundamentally': 2203, 'realize': 2204, 'animal': 2205, 'benignity': 2206, 'healing': 2207, 'hot': 2208, 'negativity': 2209, 'service': 2210, 'yesterday': 2211, 'courteous': 2212, 'kindness': 2213, 'negativeness': 2214, 'secernate': 2215, 'koran': 2216, 'volume': 2217, 'holy': 2218, 'specially': 2219, 'squeamish': 2220, 'tone': 2221, 'appreciative': 2222, 'click': 2223, 'donation': 2224, 'important': 2225, 'pint': 2226, 'print': 2227, 'sale': 2228, 'sell': 2229, 'lose': 2230, 'portion': 2231, 'profligate': 2232, 'enquiry': 2233, 'ttt': 2234, 'betray': 2235, 'trio': 2236, 'apprise': 2237, 'coastal': 2238, 'inner': 2239, 'minimum': 2240, 'potentially': 2241, 'probably': 2242, 'wage': 2243, 'amaze': 2244, 'appreciate': 2245, 'rib': 2246, 'sphere': 2247, 'modification': 2248, 'salary': 2249, 'minimal': 2250, 'articulation': 2251, 'brave_enough': 2252, 'canful': 2253, 'create_collective': 2254, 'creative_idea': 2255, 'curating_museum': 2256, 'developing_storytelle': 2257, 'exhibition_soul': 2258, 'express': 2259, 'platform': 2260, 'raising_awareness': 2261, 'recovery': 2262, 'relics_museum': 2263, 'ultimate_aim': 2264, 'unique': 2265, 'unitedly': 2266, 'voice': 2267, 'exhibition': 2268, 'chopine': 2269, 'induce': 2270, 'apoligize': 2271, 'forgive': 2272, 'harm': 2273, 'instantly': 2274, 'insult': 2275, 'poop': 2276, 'protect': 2277, 'struggele': 2278, 've': 2279, 'crap': 2280, 'tempestuous': 2281, 'veracious': 2282, 'bullshit': 2283, 'proceeding': 2284, 'afterward': 2285, 'bite': 2286, 'capable': 2287, 'consistency': 2288, 'cryptical': 2289, 'disease': 2290, 'fighting': 2291, 'inside': 2292, 'sick': 2293, 'abstruse': 2294, 'firm': 2295, 'fiv': 2296, 'indoor': 2297, 'torso': 2298, 'transplant': 2299, 'raciness': 2300, 'straight': 2301, 'axial': 2302, 'compute': 2303, 'tomography': 2304, 'bass': 2305, 'asda': 2306, 'commonly': 2307, 'interesting': 2308, 'match': 2309, 'offer': 2310, 'omission': 2311, 'price': 2312, 'supermarket': 2313, 'warrantee': 2314, 'immediately': 2315, 'reading': 2316, 'scheme': 2317, 'dissimilar': 2318, 'unmatchable': 2319, 'ass': 2320, 'outline': 2321, 'peer': 2322, 'rhenium': 2323, 'south': 2324, 'actual': 2325, 'aspca': 2326, 'collect': 2327, 'copy': 2328, 'document': 2329, 'egotistic': 2330, 'hotfoot': 2331, 'intimidation': 2332, 'manager': 2333, 'piss': 2334, 'voicemail': 2335, 'yell': 2336, 'narcissistic': 2337, 'director': 2338, 'composition': 2339, 'coulda': 2340, 'existent': 2341, 'renter': 2342, 'ahead': 2343, 'bottle_cap': 2344, 'candy': 2345, 'cereal': 2346, 'cookie': 2347, 'cracker': 2348, 'dunno': 2349, 'fruit': 2350, 'personal': 2351, 'strawberry': 2352, 'bottle': 2353, 'grain': 2354, 'pileus': 2355, 'star': 2356, 'cooky': 2357, 'genius': 2358, 'substance': 2359, 'confect': 2360, 'forwards': 2361, 'import': 2362, 'lb': 2363, 'maintenance': 2364, 'superstar': 2365, 'anywhere': 2366, 'hell': 2367, 'judgemental': 2368, 'maintain': 2369, 'separate': 2370, 'sin': 2371, 'wal_mart': 2372, 'blaze': 2373, 'unit': 2374, 'motivate': 2375, 'fast_forward': 2376, 'anyplace': 2377, 'postulation': 2378, 'amount': 2379, 'bill': 2380, 'costly': 2381, 'protagonist': 2382, 'quite': 2383, 'localize': 2384, 'channelize': 2385, 'isle': 2386, 'sum': 2387, 'ball': 2388, 'humankind': 2389, 'plant': 2390, 'aesculapian': 2391, 'backing': 2392, 'annihilation': 2393, 'friendship': 2394, 'fit': 2395, 'suicide': 2396, 'broadsheet': 2397, 'bugger': 2398, 'differentiate': 2399, 'gather': 2400, 'mob': 2401, 'encounter': 2402, 'teacher': 2403, 'yoga': 2404, 'bid': 2405, 'noblewoman': 2406, 'instructor': 2407, 'birthday': 2408, 'lance': 2409, 'pursue': 2410, 'undermentioned': 2411, 'winner': 2412, 'freelance': 2413, 'prosecute': 2414, 'cyberspace': 2415, 'instagram': 2416, 'loose': 2417, 'mail': 2418, 'creativity': 2419, 'ilk': 2420, 'natal': 2421, 'workplace': 2422, 'almost': 2423, 'attention': 2424, 'careful': 2425, 'eachother': 2426, 'flirt': 2427, 'glance': 2428, 'impinge': 2429, 'strongly': 2430, 'talked': 2431, 'teasing': 2432, 'liothyronine': 2433, 'severalize': 2434, 'contain': 2435, 'dalliance': 2436, 'attending': 2437, 'belatedly': 2438, 'equally': 2439, 'latterly': 2440, 'powerfully': 2441, 'boot': 2442, 'furnish': 2443, 'furniture': 2444, 'gas': 2445, 'tonne': 2446, 'uncle': 2447, 'utility': 2448, 'young': 2449, 'apparel': 2450, 'anonymously': 2451, 'openly': 2452, 'proficient': 2453, 'soooooo': 2454, 'total': 2455, 'endowment': 2456, 'inclination': 2457, 'natural': 2458, 'waiting': 2459, 'gift': 2460, 'yield': 2461, 'arduous': 2462, 'dream': 2463, 'fearful': 2464, 'foot': 2465, 'fulfill': 2466, 'global': 2467, 'huge': 2468, 'itchy': 2469, 'opportunity': 2470, 'sad': 2471, 'syllabus': 2472, 'asking': 2473, 'dreadful': 2474, 'program': 2475, 'substantially': 2476, 'wanderlust': 2477, 'fulfil': 2478, 'unaccompanied': 2479, 'brobdingnagian': 2480, 'fancy': 2481, 'operose': 2482, 'forever': 2483, 'forthcoming': 2484, 'programme': 2485, 'brusquely': 2486, 'communicate': 2487, 'deliberately': 2488, 'hinting': 2489, 'stupid': 2490, 'wonder': 2491, 'bluntly': 2492, 'maltreat': 2493, 'vindicate': 2494, 'concur': 2495, 'wherefore': 2496, 'communicating': 2497, 'mho': 2498, 'plainly': 2499, 'county': 2500, 'federal': 2501, 'homelessness': 2502, 'lodge': 2503, 'narrative': 2504, 'nation': 2505, 'neighbour': 2506, 'reflect': 2507, 'resourcefulness': 2508, 'society': 2509, 'fiat': 2510, 'neighbor': 2511, 'sterilise': 2512, 'draw': 2513, 'stratum': 2514, 'urban': 2515, 'verbalise': 2516, 'contend': 2517, 'vary': 2518, 'balance': 2519, 'endlessly': 2520, 'gratitude': 2521, 'peaceful': 2522, 'subreddit': 2523, 'wise': 2524, 'tough': 2525, 'aliveness': 2526, 'balanced': 2527, 'scramble': 2528, 'unceasingly': 2529, 'continuously': 2530, 'heeled': 2531, 'impertinent': 2532, 'lifetime': 2533, 'bless': 2534, 'chill': 2535, 'daylight': 2536, 'fitness': 2537, 'graven': 2538, 'image': 2539, 'morn': 2540, 'ones_skin': 2541, 'planet': 2542, 'pray': 2543, 'rushy': 2544, 'thanking': 2545, 'underpass': 2546, 'beg': 2547, 'blessing': 2548, 'subway': 2549, 'fortune': 2550, 'character': 2551, 'seat': 2552, 'commute': 2553, 'memory': 2554, 'responder': 2555, 'tower': 2556, 'volunteer': 2557, 'worker': 2558, 'zip': 2559, 'sestet': 2560, 'alter': 2561, 'coat': 2562, 'pillar': 2563, 'retention': 2564, 'red': 2565, 'xvi': 2566, 'diffident': 2567, 'impress': 2568, 'loudly': 2569, 'saw': 2570, 'smile': 2571, 'teenage': 2572, 'timid': 2573, 'exposure': 2574, 'futurity': 2575, 'honey': 2576, 'lovemake': 2577, 'shy': 2578, 'sweetly': 2579, 'less': 2580, 'motivated': 2581, 'naturally': 2582, 'negative': 2583, 'oblivion': 2584, 'phrase': 2585, 'vote': 2586, 'daytime': 2587, 'commode': 2588, 'limbo': 2589, 'extent': 2590, 'idiomatic': 2591, 'binge': 2592, 'down': 2593, 'drinking': 2594, 'edict': 2595, 'habit': 2596, 'manipulative': 2597, 'purge': 2598, 'truth': 2599, 'aright': 2600, 'imbibe': 2601, 'pour': 2602, 'eer': 2603, 'downing': 2604, 'shoot': 2605, 'absolutely': 2606, 'army': 2607, 'detail': 2608, 'inconsequential': 2609, 'mute': 2610, 'seemed': 2611, 'spit': 2612, 'steady': 2613, 'quiet': 2614, 'affair': 2615, 'immature': 2616, 'center': 2617, 'category': 2618, 'cinque': 2619, 'couch': 2620, 'fri': 2621, 'pullout': 2622, 'studio': 2623, 'unofficial': 2624, 'unofficially': 2625, 'whatnot': 2626, 'hazard': 2627, 'sis': 2628, 'exclusively': 2629, 'reckon': 2630, 'expend': 2631, 'populate': 2632, 'fare': 2633, 'menage': 2634, 'pentad': 2635, 'budge': 2636, 'calorie': 2637, 'dieting': 2638, 'inch': 2639, 'lexapro': 2640, 'madman': 2641, 'mountain': 2642, 'scale': 2643, 'tapering': 2644, 'weightiness': 2645, 'consume': 2646, 'agitate': 2647, 'maniac': 2648, 'plump': 2649, 'diet': 2650, 'considerably': 2651, 'rude': 2652, 'upcoming': 2653, 'wedding': 2654, 'earth': 2655, 'circumstance': 2656, 'perdition': 2657, 'dame': 2658, 'available': 2659, 'initiate': 2660, 'm': 2661, 'mum': 2662, 'overseas': 2663, 'seldom': 2664, 'abroad': 2665, 'dimensional': 2666, 'hereafter': 2667, 'bean': 2668, 'fussy': 2669, 'planned': 2670, 'spill': 2671, 'useable': 2672, 'chrysanthemum': 2673, 'morifolium': 2674, 'breed': 2675, 'patently': 2676, 'satisfy': 2677, 'acquire': 2678, 'death': 2679, 'generalise': 2680, 'incident': 2681, 'opinion': 2682, 'possible': 2683, 'rid': 2684, 'roast': 2685, 'cognise': 2686, 'abusive': 2687, 'anything_epic': 2688, 'feeler': 2689, 'hold_significance': 2690, 'novel': 2691, 'parting': 2692, 'smallest_segment': 2693, 'whatever_detail': 2694, 'chiliad': 2695, 'hoping': 2696, 'transport': 2697, 'interrogation': 2698, 'tale': 2699, 'authorship': 2700, 'relieve': 2701, 'sublime': 2702, 'adhd': 2703, 'beef': 2704, 'bitch': 2705, 'bpd': 2706, 'buddhism': 2707, 'clinically': 2708, 'evince': 2709, 'exchange': 2710, 'perpetrator': 2711, 'attitude': 2712, 'gripe': 2713, 'playact': 2714, 'reverse': 2715, 'status': 2716, 'interchange': 2717, 'saviour': 2718, 'taboo': 2719, 'recoverer': 2720, 'admirer': 2721, 'grace': 2722, 'sureness': 2723, 'invariably': 2724, 'unsure': 2725, 'almost_immediately': 2726, 'friendly': 2727, 'nipper': 2728, 'loss': 2729, 'respectable': 2730, 'seemliness': 2731, 'divinity': 2732, 'gofundme': 2733, 'gofundme_campaign': 2734, 'writing': 2735, 'god_bless': 2736, 'polish': 2737, 'radio': 2738, 'tv': 2739, 'idol': 2740, 'recording': 2741, 'memorialise': 2742, 'criminal': 2743, 'custody': 2744, 'divorce': 2745, 'relative': 2746, 'residency': 2747, 'sole': 2748, 'substance_abuse': 2749, 'ugly': 2750, 'unbeknownst': 2751, 'congeneric': 2752, 'residence': 2753, 'congener': 2754, 'divorcement': 2755, 'filing': 2756, 'proportional': 2757, 'trinity': 2758, 'bland': 2759, 'occasion': 2760, 'remind': 2761, 'appropriate': 2762, 'authoritative': 2763, 'interrogative': 2764, 'mod': 2765, 'sketch': 2766, 'crucial': 2767, 'operating_theatre': 2768, 'resume': 2769, 'crate': 2770, 'punish': 2771, 'restroom': 2772, 'unharmed': 2773, 'letting': 2774, 'flow': 2775, 'campaign': 2776, 'dignity': 2777, 'generously': 2778, 'investment': 2779, 'pet': 2780, 'awing': 2781, 'preceptor': 2782, 'awe': 2783, 'crime': 2784, 'inspire': 2785, 'syndicate': 2786, 'assaulter': 2787, 'knock': 2788, 'rapist': 2789, 'shout': 2790, 'looker': 2791, 'stunned': 2792, 'piffling': 2793, 'fully': 2794, 'disappointment': 2795, 'guilt': 2796, 'guilty': 2797, 'innocuous': 2798, 'keister': 2799, 'omit': 2800, 'perspective': 2801, 'previously': 2802, 'suddenly': 2803, 'shamefaced': 2804, 'arse': 2805, 'beaver_state': 2806, 'displace': 2807, 'hangdog': 2808, 'moderate': 2809, 'rump': 2810, 'smell': 2811, 'gf': 2812, 'spoil': 2813, 'thallium': 2814, 'unprepared': 2815, 'spirited': 2816, 'tl_dr': 2817, 'color': 2818, 'imitation': 2819, 'oblivious': 2820, 'sociopath': 2821, 'colouring': 2822, 'fake': 2823, 'fount': 2824, 'beginning': 2825, 'unmindful': 2826, 'forgetful': 2827, 'outset': 2828, 'bug': 2829, 'bust': 2830, 'cop': 2831, 'kod': 2832, 'mess': 2833, 'parking': 2834, 'ride': 2835, 'skate': 2836, 'render': 2837, 'tease': 2838, 'unexampled': 2839, 'develop': 2840, 'diagnosis': 2841, 'fibromyalgia': 2842, 'knee': 2843, 'lastly': 2844, 'mdd': 2845, 'ms': 2846, 'paralyzed': 2847, 'sickness': 2848, 'test': 2849, 'waist': 2850, 'wake': 2851, 'upshot': 2852, 'found': 2853, 'habitation': 2854, 'testing': 2855, 'ultimately': 2856, 'buzz': 2857, 'paralytic': 2858, 'persist': 2859, 'sevener': 2860, 'uranium': 2861, 'cover': 2862, 'ala': 2863, 'restrict': 2864, 'secret': 2865, 'anyone': 2866, 'bonus': 2867, 'compensation': 2868, 'concomitant': 2869, 'district': 2870, 'earning': 2871, 'page': 2872, 'attendant': 2873, 'recompense': 2874, 'territory': 2875, 'nate': 2876, 'caution': 2877, 'dominion': 2878, 'sack': 2879, 'territorial': 2880, 'counseling': 2881, 'generalized_anxiety': 2882, 'journey': 2883, 'loop': 2884, 'mathematical': 2885, 'shrink': 2886, 'workbook': 2887, 'journeying': 2888, 'resolve': 2889, 'compliment': 2890, 'reciprocate': 2891, 'stoke': 2892, 'summer': 2893, 'valentine': 2894, 'domicile': 2895, 'summertime': 2896, 'winky': 2897, 'stoked': 2898, 'dwell': 2899, 'capitalize': 2900, 'courage': 2901, 'jaden': 2902, 'judge': 2903, 'letter': 2904, 'mustered': 2905, 'approximate': 2906, 'fantabulous': 2907, 'doubtfulness': 2908, 'emily': 2909, 'chip': 2910, 'courageousness': 2911, 'muster': 2912, 'bag': 2913, 'can': 2914, 'chicken': 2915, 'clean': 2916, 'dollar': 2917, 'febreze': 2918, 'floss': 2919, 'opener': 2920, 'popcorn': 2921, 'postulate': 2922, 'shopping': 2923, 'signalize': 2924, 'soda': 2925, 'toothpaste': 2926, 'trash': 2927, 'vaccum': 2928, 'vacuum': 2929, 'wash': 2930, 'alsobtake': 2931, 'dot': 2932, 'everta': 2933, 'may': 2934, 'zea': 2935, 'houseclean': 2936, 'perform': 2937, 'purchase': 2938, 'cipher': 2939, 'ice': 2940, 'soup': 2941, 'strainer': 2942, 'attachment': 2943, 'desirability': 2944, 'enhance': 2945, 'exponentially': 2946, 'foundation': 2947, 'interaction': 2948, 'isolated': 2949, 'nbsp': 2950, 'reconnect': 2951, 'sociable': 2952, 'socially': 2953, 'cad': 2954, 'fundamental': 2955, 'murturance': 2956, 'untroubled': 2957, 'canis': 2958, 'isolate': 2959, 'physique': 2960, 'bond': 2961, 'subsister': 2962, 'banker': 2963, 'mat': 2964, 'crataegus_laevigata': 2965, 'block': 2966, 'snog': 2967, 'optic': 2968, 'wrench': 2969, 'footstep': 2970, 'quick': 2971, 'claim': 2972, 'advocate': 2973, 'inaugural': 2974, 'obscurer': 2975, 'officer': 2976, 'pattern': 2977, 'precinct': 2978, 'stalking': 2979, 'tint': 2980, 'haunt': 2981, 'policeman': 2982, 'determent': 2983, 'police': 2984, 'air': 2985, 'street': 2986, 'tinted': 2987, 'beside': 2988, 'scurrilous': 2989, 'tinct': 2990, 'courageous': 2991, 'explode': 2992, 'flush': 2993, 'gun': 2994, 'heroic': 2995, 'honor': 2996, 'humanness': 2997, 'inteligence': 2998, 'keen': 2999, 'rpgs': 3000, 'honour': 3001, 'instance': 3002, 'manhood': 3003, 'penetrate': 3004, 'scuttlebutt': 3005, 'brave': 3006, 'humanity': 3007, 'incisive': 3008, 'plaster': 3009, 'gentleman': 3010, 'hire': 3011, 'loaded': 3012, 'sawbone': 3013, 'boundary': 3014, 'disgust': 3015, 'handle': 3016, 'innocent': 3017, 'randomness': 3018, 'cite': 3019, 'belief': 3020, 'circadian': 3021, 'rhythm': 3022, 'rightfulness': 3023, 'seemingly': 3024, 'wit': 3025, 'bicycle': 3026, 'method': 3027, 'topnotch': 3028, 'oscillation': 3029, 'round': 3030, 'candidate': 3031, 'election': 3032, 'elsewhere': 3033, 'league': 3034, 'sharing': 3035, 'suggest': 3036, 'tolerate': 3037, 'voter': 3038, 'conference': 3039, 'costless': 3040, 'palpate': 3041, 'elector': 3042, 'estimate': 3043, 'half_dozen': 3044, 'culture': 3045, 'familiar': 3046, 'glad': 3047, 'pneumoniae': 3048, 'serious': 3049, 'strep': 3050, 'streptococcus': 3051, 'uncouth': 3052, 'severalise': 3053, 'conversant': 3054, 'eccentric': 3055, 'unrivale': 3056, 'clinginess': 3057, 'elephant': 3058, 'poor': 3059, 'reasonably': 3060, 'sweep': 3061, 'tongue': 3062, 'weakness': 3063, 'broom': 3064, 'ally': 3065, 'sail': 3066, 'carpet': 3067, 'gaming': 3068, 'maiden': 3069, 'relief': 3070, 'tier': 3071, 'grade': 3072, 'assembly': 3073, 'centre': 3074, 'charity': 3075, 'chat': 3076, 'confidential': 3077, 'member': 3078, 'staff': 3079, 'support_staff': 3080, 'supported_survivor': 3081, 'sustenance': 3082, 'incur': 3083, 'claver': 3084, 'forum': 3085, 'verbalize': 3086, 'bent': 3087, 'dealer': 3088, 'direction': 3089, 'fellow': 3090, 'moral': 3091, 'toke': 3092, 'weed': 3093, 'assistant': 3094, 'guidance': 3095, 'shelter': 3096, 'sidekick': 3097, 'dispossess': 3098, 'aryan': 3099, 'roofless': 3100, 'absolute': 3101, 'heroe': 3102, 'libra': 3103, 'procedure': 3104, 'hero': 3105, 'xx': 3106, 'counterpoise': 3107, 'blind': 3108, 'emotional': 3109, 'irrespective': 3110, 'manipulation': 3111, 'observe': 3112, 'subtle': 3113, 'terminal': 3114, 'belonging': 3115, 'piffle': 3116, 'regardless': 3117, 'release': 3118, 'unsighted': 3119, 'holding': 3120, 'disregardless': 3121, 'handling': 3122, 'recognise': 3123, 'admittedly': 3124, 'casual': 3125, 'fwb': 3126, 'hangout': 3127, 'intention': 3128, 'intuitive': 3129, 'vibe': 3130, 'spirit': 3131, 'urge': 3132, 'average': 3133, 'consistent': 3134, 'epistle': 3135, 'exam': 3136, 'gusto': 3137, 'onward': 3138, 'quarter': 3139, 'nerveless': 3140, 'comely': 3141, 'jame': 3142, 'untested': 3143, 'award': 3144, 'backpedal': 3145, 'compare': 3146, 'solve': 3147, 'usually': 3148, 'discussion': 3149, 'offering': 3150, 'affinity': 3151, 'bromazepam': 3152, 'clonazepam': 3153, 'flunitrazepam': 3154, 'hydrochloride': 3155, 'nimetazepam': 3156, 'phenazepam': 3157, 'stronger_affinity': 3158, 'temazepam': 3159, 'tetrazepam': 3160, 'triazolam': 3161, 'valium': 3162, 'attraction': 3163, 'brotizolam': 3164, 'lorazepam': 3165, 'quazepam': 3166, 'phylogenetic': 3167, 'relation': 3168, 'substantial': 3169, 'adinazolam': 3170, 'delete': 3171, 'playfulness': 3172, 'popular': 3173, 'remote': 3174, 'tweet': 3175, 'lone': 3176, 'flick': 3177, 'hebdomadal': 3178, 'pop': 3179, 'epithet': 3180, 'coast': 3181, 'weekly': 3182, 'western': 3183, 'slip': 3184, 'chafe': 3185, 'depart': 3186, 'expire': 3187, 'sise': 3188, 'allyship': 3189, 'certainly': 3190, 'communicative': 3191, 'distant': 3192, 'email': 3193, 'pine_tree': 3194, 'realistically': 3195, 'shock': 3196, 'utilise': 3197, 'ofttime': 3198, 'shocking': 3199, 'surely': 3200, 'textbook': 3201, 'earpiece': 3202, 'cafe': 3203, 'employ': 3204, 'flack': 3205, 'flexible': 3206, 'gig': 3207, 'massive': 3208, 'panic_attack': 3209, 'caper': 3210, 'shinny': 3211, 'declaration': 3212, 'yard': 3213, 'sextet': 3214, 'leslie': 3215, 'towne': 3216, 'decree': 3217, 'domesticate': 3218, 'lift': 3219, 'reunite': 3220, 'sentencing': 3221, 'violence': 3222, 'domestic': 3223, 'purloin': 3224, 'dispute': 3225, 'ordnance': 3226, 'homage': 3227, 'magnitude': 3228, 'accelerator': 3229, 'beauty': 3230, 'extensive': 3231, 'generosity': 3232, 'howl': 3233, 'news': 3234, 'poster': 3235, 'surd': 3236, 'wondrous': 3237, 'boxful': 3238, 'knockout': 3239, 'generousness': 3240, 'posting': 3241, 'bree': 3242, 'crew': 3243, 'mountie': 3244, 'pot': 3245, 'sar': 3246, 'save': 3247, 'snub': 3248, 'surrounding': 3249, 'tech': 3250, 'operating_room': 3251, 'team': 3252, 'avoid': 3253, 'etiquette': 3254, 'folk': 3255, 'limited': 3256, 'newly': 3257, 'perplex': 3258, 'terrify': 3259, 'unwritten': 3260, 'con': 3261, 'lavatory': 3262, 'scam': 3263, 'ste': 3264, 'entrust': 3265, 'cheat': 3266, 'gorgeous': 3267, 'heterosexual': 3268, 'highschool': 3269, 'humor': 3270, 'screen': 3271, 'correspond': 3272, 'focalize': 3273, 'covert': 3274, 'demonstrate': 3275, 'retentiveness': 3276, 'unadulterate': 3277, 'filmdom': 3278, 'concealment': 3279, 'decipherable': 3280, 'focalise': 3281, 'retentivity': 3282, 'bachelor': 3283, 'phd': 3284, 'lend': 3285, 'molarity': 3286, 'facebook': 3287, 'instragram': 3288, 'personally': 3289, 'professor': 3290, 'faithful': 3291, 'prof': 3292, 'wayside': 3293, 'resign': 3294, 'upright': 3295, 'artistic': 3296, 'charming': 3297, 'comedic': 3298, 'extend': 3299, 'lax': 3300, 'gold': 3301, 'kinsfolk': 3302, 'inexperienced': 3303, 'rigorous': 3304, 'slack': 3305, 'elongate': 3306, 'argument': 3307, 'cheating': 3308, 'materialise': 3309, 'untimely': 3310, 'diamond': 3311, 'integral': 3312, 'nuptial': 3313, 'ring': 3314, 'thrilled': 3315, 'ceremony': 3316, 'entire': 3317, 'thrill': 3318, 'disfavour': 3319, 'engagement': 3320, 'peculiarly': 3321, 'compassionate': 3322, 'instead': 3323, 'pam': 3324, 'undecompose': 3325, 'buoy': 3326, 'fluid': 3327, 'seminal': 3328, 'babble': 3329, 'childhood': 3330, 'episode': 3331, 'normalize': 3332, 'silent': 3333, 'dad': 3334, 'orgy': 3335, 'wacky': 3336, 'puerility': 3337, 'chew': 3338, 'flock': 3339, 'forecast': 3340, 'osculate': 3341, 'spark': 3342, 'assemble': 3343, 'rope': 3344, 'cle': 3345, 'cabin': 3346, 'chapter': 3347, 'clinical': 3348, 'conductor': 3349, 'engine': 3350, 'forest': 3351, 'freight': 3352, 'occasional': 3353, 'scary': 3354, 'sexuality': 3355, 'stuck': 3356, 'commemorate': 3357, 'gratis': 3358, 'northern': 3359, 'backside': 3360, 'closing': 3361, 'slump': 3362, 'near': 3363, 'shuddery': 3364, 'cry': 3365, 'happy': 3366, 'hesitate': 3367, 'markus': 3368, 'obtuse': 3369, 'dumb': 3370, 'withal': 3371, 'youthful': 3372, 'acceptable': 3373, 'relax': 3374, 'suck': 3375, 'tooshie': 3376, 'satisfactory': 3377, 'suction': 3378, 'fathering': 3379, 'grief': 3380, 'incompetent': 3381, 'prior': 3382, 'incapable': 3383, 'sudden': 3384, 'heartache': 3385, 'quondam': 3386, 'fiddle': 3387, 'unequal': 3388, 'sire': 3389, 'boat': 3390, 'intrusive': 3391, 'submit': 3392, 'hoagie': 3393, 'sentiment': 3394, 'alien': 3395, 'behaviour': 3396, 'bliss': 3397, 'confess': 3398, 'detect': 3399, 'entity': 3400, 'innumerable': 3401, 'repent': 3402, 'wretche': 3403, 'certainty': 3404, 'deity': 3405, 'numberless': 3406, 'exotic': 3407, 'straightaway': 3408, 'wretched': 3409, 'fink': 3410, 'immortal': 3411, 'agenda': 3412, 'combine': 3413, 'consolidation': 3414, 'easily': 3415, 'interim': 3416, 'lighting': 3417, 'promising': 3418, 'retail': 3419, 'unavailable': 3420, 'wanting': 3421, 'meantime': 3422, 'meanwhile': 3423, 'ad': 3424, 'agree': 3425, 'boss': 3426, 'fetish': 3427, 'flip': 3428, 'insecure': 3429, 'nanny': 3430, 'nudity': 3431, 'seriously': 3432, 'tenacious': 3433, 'unemployed': 3434, 'will': 3435, 'wreck': 3436, 'advertising': 3437, 'foresightful': 3438, 'nursemaid': 3439, 'addiction': 3440, 'anti': 3441, 'anti_depressant': 3442, 'benzo': 3443, 'gad': 3444, 'impart': 3445, 'obsessive': 3446, 'personality': 3447, 'stabilizer': 3448, 'rase': 3449, 'worse': 3450, 'gallivant': 3451, 'probability': 3452, 'sedative': 3453, 'dr': 3454, 'felicitous': 3455, 'ability': 3456, 'art': 3457, 'immensely': 3458, 'pecuniary': 3459, 'trade': 3460, 'fundament': 3461, 'infection': 3462, 'monetary': 3463, 'shift': 3464, 'forgivingness': 3465, 'pedal': 3466, 'quintuplet': 3467, 'couchsurfe': 3468, 'fb': 3469, 'glare': 3470, 'none': 3471, 'roentgen': 3472, 'suitable': 3473, 'ecstasy': 3474, 'gas_constant': 3475, 'universal': 3476, 'decimetre': 3477, 'transferral': 3478, 'glower': 3479, 'meat': 3480, 'strife': 3481, 'breeder': 3482, 'cuddle': 3483, 'flashback': 3484, 'prefer': 3485, 'purr': 3486, 'rescue': 3487, 'beast': 3488, 'favour': 3489, 'whirr': 3490, 'creature': 3491, 'approach': 3492, 'beginner': 3493, 'fee': 3494, 'head_space': 3495, 'mediator': 3496, 'starting': 3497, 'unguided_meditation': 3498, 'youtube': 3499, 'unguided': 3500, 'euphony': 3501, 'academic': 3502, 'protrude': 3503, 'attentive': 3504, 'brush': 3505, 'sidedness': 3506, 'stilte': 3507, 'tired': 3508, 'forthwith': 3509, 'fracture': 3510, 'muckle': 3511, 'neglect': 3512, 'originate': 3513, 'soul': 3514, 'uprise': 3515, 'cogitate': 3516, 'thither': 3517, 'felicity': 3518, 'regain': 3519, 'building': 3520, 'vanguard': 3521, 'vehicle': 3522, 'white': 3523, 'construction': 3524, 'taxi': 3525, 'fomite': 3526, 'severely': 3527, 'shabu': 3528, 'cab': 3529, 'wave': 3530, 'accomplish': 3531, 'appointment': 3532, 'cripple': 3533, 'favorite': 3534, 'haircut': 3535, 'newfangle': 3536, 'tush': 3537, 'project': 3538, 'simpleton': 3539, 'stoppage': 3540, 'quote': 3541, 'sour': 3542, 'matchless': 3543, 'bashed': 3544, 'filthy': 3545, 'engender': 3546, 'nasty': 3547, 'doorway': 3548, 'cm': 3549, 'customer': 3550, 'flight': 3551, 'looking': 3552, 'tall': 3553, 'aver': 3554, 'promote': 3555, 'recovering': 3556, 'tempt': 3557, 'vital': 3558, 'expose': 3559, 'lively': 3560, 'patronize': 3561, 'recover': 3562, 'subscribe': 3563, 'recuperate': 3564, 'backyard': 3565, 'cord': 3566, 'extension': 3567, 'farm': 3568, 'lowly': 3569, 'quickly': 3570, 'reside': 3571, 'shack': 3572, 'valuable_skill': 3573, 'vastly': 3574, 'humble': 3575, 'hutch': 3576, 'worthful': 3577, 'exonerate': 3578, 'though': 3579, 'shanty': 3580, 'contractor': 3581, 'delay': 3582, 'handyman': 3583, 'innumerous': 3584, 'practically': 3585, 'projection': 3586, 'redo': 3587, 'refuse': 3588, 'restriction': 3589, 'source': 3590, 'standard': 3591, 'ultimate': 3592, 'undertake': 3593, 'textile': 3594, 'concept': 3595, 'entrepreneur': 3596, 'estate': 3597, 'plastic': 3598, 'smack': 3599, 'technology': 3600, 'construct': 3601, 'engineering': 3602, 'connection': 3603, 'wow': 3604, 'accommodate': 3605, 'dm': 3606, 'preferred': 3607, 'skype': 3608, 'reconcile': 3609, 'comfy': 3610, 'specify': 3611, 'challenge': 3612, 'elixinol': 3613, 'ethical': 3614, 'getting': 3615, 'manner': 3616, 'oil': 3617, 'outweigh': 3618, 'plaza': 3619, 'tincture': 3620, 'useful': 3621, 'caterpillar': 3622, 'decided': 3623, 'medicament': 3624, 'prescription': 3625, 'preponderate': 3626, 'utilitarian': 3627, 'bunny': 3628, 'jump': 3629, 'leg': 3630, 'rabbit': 3631, 'sleepy': 3632, 'stomp': 3633, 'vex': 3634, 'suit': 3635, 'eyed': 3636, 'mend': 3637, 'personalitie': 3638, 'wooden': 3639, 'join': 3640, 'posterior': 3641, 'discordance': 3642, 'literal': 3643, 'aspect': 3644, 'discord': 3645, 'iron': 3646, 'thick': 3647, 'firstly': 3648, 'cw': 3649, 'domestic_violence': 3650, 'experienced': 3651, 'originally_poste': 3652, 'sympathetic': 3653, 'trigger': 3654, 'likable': 3655, 'majuscule': 3656, 'nowadays': 3657, 'interpret': 3658, 'management': 3659, 'organization': 3660, 'yea': 3661, 'accomplishment': 3662, 'attainment': 3663, 'surviving': 3664, 'outlast': 3665, 'translate': 3666, 'acquirement': 3667, 'acquisition': 3668, 'farth': 3669, 'complementary': 3670, 'flower': 3671, 'mutual': 3672, 'overly': 3673, 'tangible': 3674, 'ate': 3675, 'yuletide': 3676, 'completing': 3677, 'loved': 3678, 'pile': 3679, 'anonymity': 3680, 'extremity': 3681, 'appendage': 3682, 'namelessness': 3683, 'screw': 3684, 'expectant': 3685, 'stupefy': 3686, 'unqualified': 3687, 'vindictive': 3688, 'personable': 3689, 'attain': 3690, 'forge': 3691, 'deny': 3692, 'gratuitous': 3693, 'jimmyjuicebox': 3694, 'modify': 3695, 'motion': 3696, 'departure': 3697, 'merrier': 3698, 'occupy': 3699, 'samplesize': 3700, 'distribute': 3701, 'address': 3702, 'd': 3703, 'descriptive': 3704, 'device': 3705, 'driver_license': 3706, 'houseless': 3707, 'i': 3708, 'idaho': 3709, 'marker': 3710, 'bridge': 3711, 'dawson': 3712, 'mailing': 3713, 'reference': 3714, 'racine': 3715, 'destination': 3716, 'swedish': 3717, 'assaulted': 3718, 'freak': 3719, 'slam': 3720, 'threaten': 3721, 'crusade': 3722, 'operation': 3723, 'mammy': 3724, 'roadblock': 3725, 'barricade': 3726, 'automate': 3727, 'sterilize': 3728, 'transaction': 3729, 'transcription': 3730, 'banking': 3731, 'substantiate': 3732, 'fascinate': 3733, 'interruption': 3734, 'reassert': 3735, 'enquire': 3736, 'mettle': 3737, 'slow': 3738, 'unsurprisingly': 3739, 'hap': 3740, 'converge': 3741, 'burner': 3742, 'encrypt': 3743, 'io': 3744, 'password': 3745, 'server': 3746, 'stash': 3747, 'encrypted': 3748, 'parole': 3749, 'speech': 3750, 'contrive': 3751, 'generalized': 3752, 'prescribe': 3753, 'range': 3754, 'niggle': 3755, 'shrinker': 3756, 'stove': 3757, 'apprize': 3758, 'funding': 3759, 'storm': 3760, 'crowd': 3761, 'ineffective': 3762, 'peak': 3763, 'unknown': 3764, 'attending_classe': 3765, 'clue': 3766, 'couch_hoppe': 3767, 'hostel': 3768, 'nonetheless': 3769, 'prediction': 3770, 'resume_make': 3771, 'scholarship': 3772, 'somethin': 3773, 'staying': 3774, 'reliable_be': 3775, 'shit': 3776, 'fanny': 3777, 'prognostication': 3778, 'miracle': 3779, 'populace': 3780, 'wounding': 3781, 'siemen': 3782, 'tyke': 3783, 'atmosphere': 3784, 'foreign': 3785, 'hint': 3786, 'publica': 3787, 'res': 3788, 'rural': 3789, 'daily': 3790, 'assuage': 3791, 'homework': 3792, 'postpone': 3793, 'trivial': 3794, 'five_hundred': 3795, 'prep': 3796, 'coiffure': 3797, 'infinite': 3798, 'arena': 3799, 'binocular': 3800, 'evidently': 3801, 'ferment': 3802, 'highway': 3803, 'tent': 3804, 'thief': 3805, 'truck': 3806, 'copper': 3807, 'obviously': 3808, 'bull': 3809, 'main': 3810, 'atheist': 3811, 'bookman': 3812, 'dorm': 3813, 'likely': 3814, 'nonsense': 3815, 'storage': 3816, 'temporary': 3817, 'irregular': 3818, 'impermanent': 3819, 'going': 3820, 'sept': 3821, 'adjust': 3822, 'complimentary': 3823, 'vernal': 3824, 'stern': 3825, 'amazingly': 3826, 'breadwinner': 3827, 'frankfurter': 3828, 'patiently': 3829, 'vivid': 3830, 'precaution': 3831, 'smash': 3832, 'automobile': 3833, 'broad': 3834, 'aggressive': 3835, 'recoil': 3836, 'woodworke': 3837, 'dreaming': 3838, 'ascertain': 3839, 'deplorable': 3840, 'pipe': 3841, 'chuckle': 3842, 'dessert': 3843, 'embrace': 3844, 'marina': 3845, 'mushy': 3846, 'philosophy': 3847, 'waitstaff': 3848, 'ism': 3849, 'meaning': 3850, 'nominate': 3851, 'sentimental': 3852, 'significance': 3853, 'encompass': 3854, 'philosophical': 3855, 'slushy': 3856, 'caller': 3857, 'iama': 3858, 'overhaul': 3859, 'derriere': 3860, 'ordinarily': 3861, 'normally': 3862, 'complicated': 3863, 'inseparable': 3864, 'option': 3865, 'realtionship': 3866, 'soulmate': 3867, 'connexion': 3868, 'insistent': 3869, 'instauration': 3870, 'nudge': 3871, 'spiritualist': 3872, 'bod': 3873, 'ergocalciferol': 3874, 'footmark': 3875, 'infix': 3876, 'closelippe': 3877, 'electronic': 3878, 'prospect': 3879, 'alphabetic': 3880, 'fundraising': 3881, 'welcome': 3882, 'bountiful': 3883, 'fundraise': 3884, 'revalue': 3885, 'ensue': 3886, 'format_failure': 3887, 'joy': 3888, 'companionship': 3889, 'shake': 3890, 'champion': 3891, 'passion': 3892, 'rock': 3893, 'rock_bottom': 3894, 'split': 3895, 'actualise': 3896, 'fury': 3897, 'squall': 3898, 'banish': 3899, 'downvote': 3900, 'expiresse': 3901, 'permanently': 3902, 'steamy': 3903, 'thread': 3904, 'utilize': 3905, 'obtain': 3906, 'sticky_post': 3907, 'patient': 3908, 'psychological': 3909, 'revilement': 3910, 'talent': 3911, 'pretty_shy': 3912, 'imputable': 3913, 'complicate': 3914, 'papa': 3915, 'cogitation': 3916, 'occupation': 3917, 'prepaid': 3918, 'visa': 3919, 'prepay': 3920, 'qualified': 3921, 'locate': 3922, 'michigan': 3923, 'lincoln': 3924, 'womanhood': 3925, 'data': 3926, 'affiliation': 3927, 'ship': 3928, 'proscription': 3929, 'countdown': 3930, 'teaser': 3931, 'trailer': 3932, 'mint': 3933, 'mystifier': 3934, 'laggard': 3935, 'nought': 3936, 'succeed': 3937, 'annoyer': 3938, 'dawdler': 3939, 'constructive_feedback': 3940, 'viosterol': 3941, 'homepage': 3942, 'calculate': 3943, 'fore': 3944, 'approximation': 3945, 'nd': 3946, 'treasure': 3947, 'amiss': 3948, 'damn': 3949, 'disagree': 3950, 'idk': 3951, 'messed': 3952, 'unreasonable': 3953, 'darn': 3954, 'hindquarter': 3955, 'economic': 3956, 'propose': 3957, 'chatter': 3958, 'clenched': 3959, 'compulsively': 3960, 'trick': 3961, 'wobble': 3962, 'compulsive': 3963, 'hind': 3964, 'poorly': 3965, 'illusion': 3966, 'clench': 3967, 'natter': 3968, 'teeth': 3969, 'amharic': 3970, 'dictionary': 3971, 'dispirit': 3972, 'english': 3973, 'hungry': 3974, 'journal': 3975, 'mini': 3976, 'thirsty': 3977, 'translation': 3978, 'miniskirt': 3979, 'compose': 3980, 'ethiopian': 3981, 'fox': 3982, 'unanimous': 3983, 'footing': 3984, 'foothold': 3985, 'difficult': 3986, 'festival': 3987, 'fiscal': 3988, 'hebrew': 3989, 'ineffectual': 3990, 'jewish': 3991, 'observant': 3992, 'shabbat': 3993, 'siddur': 3994, 'wishlist_link': 3995, 'fault': 3996, 'adjudicate': 3997, 'bun': 3998, 'capability': 3999, 'database': 4000, 'smartphone': 4001, 'utile': 4002, 'aspire': 4003, 'startup': 4004, 'undergraduate': 4005, 'upbeat': 4006, 'judgment': 4007, 'mania': 4008, 'wellbeing': 4009, 'inauguration': 4010, 'engend': 4011, 'persona': 4012, 'reliable': 4013, 'target': 4014, 'gondola': 4015, 'westerly': 4016, 'corresponding': 4017, 'butt': 4018, 'motorcar': 4019, 'administration': 4020, 'approve': 4021, 'principal': 4022, 'mdma': 4023, 'backpack': 4024, 'chili': 4025, 'cigarette': 4026, 'cold': 4027, 'consort': 4028, 'disposable': 4029, 'feminine': 4030, 'prepare': 4031, 'product': 4032, 'razor': 4033, 'reusable': 4034, 'sandwich': 4035, 'spray': 4036, 'water': 4037, 'fetch': 4038, 'frigidity': 4039, 'provision': 4040, 'coffin': 4041, 'insensate': 4042, 'nail': 4043, 'mold': 4044, 'interlock': 4045, 'snuggle': 4046, 'buss': 4047, 'nestle': 4048, 'co_worker': 4049, 'deed': 4050, 'dramatic': 4051, 'fruition': 4052, 'genuineness': 4053, 'integrity': 4054, 'nonentity': 4055, 'passive': 4056, 'consent': 4057, 'striking': 4058, 'carbon': 4059, 'monoxide': 4060, 'termination': 4061, 'automoderator': 4062, 'curve': 4063, 'efficient': 4064, 'factual': 4065, 'modding': 4066, 'moderation': 4067, 'programming': 4068, 'proud': 4069, 'electric': 4070, 'sander': 4071, 'italian': 4072, 'smooth': 4073, 'temperance': 4074, 'overconfident': 4075, 'application': 4076, 'consumer': 4077, 'cup': 4078, 'expand': 4079, 'happify': 4080, 'scientific': 4081, 'septenary': 4082, 'usability': 4083, 'coating': 4084, 'equanimity': 4085, 'serviceability': 4086, 'composure': 4087, 'calmness': 4088, 'diligence': 4089, 'lotion': 4090, 'twist': 4091, 'awful': 4092, 'cleaning': 4093, 'cuss': 4094, 'describe': 4095, 'dice': 4096, 'disgustingly': 4097, 'hostile': 4098, 'mine': 4099, 'pace': 4100, 'rather_heavily': 4101, 'specifically': 4102, 'tattooed': 4103, 'trend': 4104, 'unexpectedly': 4105, 'narration': 4106, 'standardised': 4107, 'standardize': 4108, 'uncongenial': 4109, 'litterally': 4110, 'regret': 4111, 'starbuck': 4112, 'maybie': 4113, 'sorrow': 4114, 'ruefulness': 4115, 'taste': 4116, 'laught': 4117, 'british': 4118, 'taxation': 4119, 'westward': 4120, 'tax': 4121, 'enunciate': 4122, 'passport': 4123, 'payoff': 4124, 'enhancement': 4125, 'revenue': 4126, 'taking': 4127, 'hip': 4128, 'holler': 4129, 'kitchen': 4130, 'pant': 4131, 'purpously': 4132, 'shirt': 4133, 'stoop': 4134, 'stoup': 4135, 'cone': 4136, 'girdle': 4137, 'pelvic': 4138, 'bloomer': 4139, 'knicker': 4140, 'grandma': 4141, 'original': 4142, 'rug': 4143, 'sweeping': 4144, 'willingly': 4145, 'civilization': 4146, 'immediate': 4147, 'mexican': 4148, 'affirm': 4149, 'biological': 4150, 'biologic': 4151, 'bruise': 4152, 'frequently': 4153, 'necessary': 4154, 'railroad': 4155, 'revert': 4156, 'windfall': 4157, 'someplace': 4158, 'contusion': 4159, 'diminish': 4160, 'railway': 4161, 'correctly': 4162, 'notch': 4163, 'atleast': 4164, 'lily': 4165, 'mina': 4166, 'whim': 4167, 'educate': 4168, 'myna': 4169, 'cerebrate': 4170, 'genuine': 4171, 'armor': 4172, 'knight': 4173, 'shine': 4174, 'checkmate': 4175, 'personnel': 4176, 'glint': 4177, 'bonk': 4178, 'paraguay': 4179, 'tea': 4180, 'gravid': 4181, 'stupidly': 4182, 'immobilize': 4183, 'oeuvre': 4184, 'yesteryear': 4185, 'prompt': 4186, 'unite': 4187, 'freeze': 4188, 'unfit': 4189, 'promotion': 4190, 'bum': 4191, 'saving': 4192, 'surplus': 4193, 'clamber': 4194, 'forseeable': 4195, 'future_tense': 4196, 'somehow': 4197, 'huggy': 4198, 'scare': 4199, 'outride': 4200, 'argue': 4201, 'cook': 4202, 'edge': 4203, 'heat': 4204, 'nanna': 4205, 'misplace': 4206, 'chair': 4207, 'chamber': 4208, 'magazine': 4209, 'pill': 4210, 'sleeping': 4211, 'subdivision': 4212, 'yelp': 4213, 'dormancy': 4214, 'mag': 4215, 'president': 4216, 'gunman': 4217, 'tried': 4218, 'murder': 4219, 'slide': 4220, 'incidentally': 4221, 'clerk': 4222, 'evolve': 4223, 'horrible': 4224, 'instinct': 4225, 'lonliness': 4226, 'network': 4227, 'pack': 4228, 'sharp': 4229, 'socialize': 4230, 'survival': 4231, 'bare': 4232, 'elementary': 4233, 'nervous': 4234, 'atrocious': 4235, 'climax': 4236, 'driving': 4237, 'ear': 4238, 'hair': 4239, 'rub': 4240, 'stepdad': 4241, 'twenty': 4242, 'orgasm': 4243, 'leak': 4244, 'believer': 4245, 'chronic': 4246, 'percent': 4247, 'permanent': 4248, 'reduction': 4249, 'skeptic': 4250, 'chop': 4251, 'trap': 4252, 'beehive': 4253, 'simplification': 4254, 'budget': 4255, 'pedagogy': 4256, 'fille': 4257, 'kayo': 4258, 'cognitive': 4259, 'combat': 4260, 'manif': 4261, 'myriad': 4262, 'pivotal': 4263, 'revulsion': 4264, 'scream': 4265, 'subconscious': 4266, 'manifest': 4267, 'polar': 4268, 'capture': 4269, 'cherish': 4270, 'frustrating': 4271, 'credit': 4272, 'cross': 4273, 'dainty': 4274, 'behalf': 4275, 'channel': 4276, 'spam': 4277, 'reinforcement': 4278, 'junk': 4279, 'meme': 4280, 'command': 4281, 'involvement': 4282, 'seaport': 4283, 'potty': 4284, 'utilization': 4285, 'buspar': 4286, 'klonopin': 4287, 'mg': 4288, 'ornithine': 4289, 'trazadone': 4290, 'interchangeable': 4291, 'commiserate': 4292, 'emphasize': 4293, 'ex': 4294, 'shitty': 4295, 'crappy': 4296, 'dim': 4297, 'asleep': 4298, 'fountainhead': 4299, 'noticeably': 4300, 'purple': 4301, 'pyjama': 4302, 'underwear': 4303, 'decently': 4304, 'hate': 4305, 'fresh': 4306, 'irish': 4307, 'acknowledge': 4308, 'refine': 4309, 'desperately': 4310, 'french': 4311, 'soh': 4312, 'gallic': 4313, 'postponement': 4314, 'trey': 4315, 'urgently': 4316, 'visualise': 4317, 'sol': 4318, 'hotel': 4319, 'motel': 4320, 'distaff': 4321, 'adequate': 4322, 'rend': 4323, 'oblige': 4324, 'pose': 4325, 'prayer': 4326, 'season': 4327, 'statement': 4328, 'braveness': 4329, 'forgot': 4330, 'paycheck': 4331, 'camber': 4332, 'payroll': 4333, 'eternally': 4334, 'personalize': 4335, 'relevant': 4336, 'television': 4337, 'slimly': 4338, 'dismiss': 4339, 'individualize': 4340, 'okeh': 4341, 'worrying': 4342, 'pulsation': 4343, 'fatal': 4344, 'chum': 4345, 'connected': 4346, 'drill_team': 4347, 'og': 4348, 'squad': 4349, 'middling': 4350, 'counsellor': 4351, 'crop': 4352, 'firefighter': 4353, 'hearing': 4354, 'peace': 4355, 'repose': 4356, 'eater': 4357, 'spiritual': 4358, 'triad': 4359, 'paypal': 4360, 'portfolio': 4361, 'receiving': 4362, 'artwork': 4363, 'graphic': 4364, 'merry': 4365, 'sampling': 4366, 'offset': 4367, 'beneficiary': 4368, 'buck': 4369, 'danika': 4370, 'dime': 4371, 'middleman': 4372, 'connectedness': 4373, 'veterinarian': 4374, 'benefactive': 4375, 'toll': 4376, 'pearl': 4377, 'sydenstricker': 4378, 'cement': 4379, 'mentally': 4380, 'practical': 4381, 'surefooted': 4382, 'unusually': 4383, 'weeks_leade': 4384, 'confident': 4385, 'sober': 4386, 'formerly': 4387, 'detent': 4388, 'anna': 4389, 'deliberate': 4390, 'obsess': 4391, 'thanksgiving': 4392, 'obsessed': 4393, 'costume': 4394, 'designer': 4395, 'joyousness': 4396, 'wearable': 4397, 'bundle': 4398, 'costumer': 4399, 'parcel': 4400, 'punter': 4401, 'bettor': 4402, 'sheaf': 4403, 'context': 4404, 'dynamic': 4405, 'intellectually': 4406, 'resent': 4407, 'poppycock': 4408, 'blab': 4409, 'contradict': 4410, 'depicted': 4411, 'lay': 4412, 'hyperlinke': 4413, 'disposed': 4414, 'broadway': 4415, 'citypasse': 4416, 'discount': 4417, 'groupon': 4418, 'idle': 4419, 'lottery': 4420, 'museum': 4421, 'pamper': 4422, 'rehabilitation': 4423, 'secretary': 4424, 'ticket': 4425, 'tkts': 4426, 'wine': 4427, 'circuit': 4428, 'unused': 4429, 'reclamation': 4430, 'carte': 4431, 'eating': 4432, 'bunghole': 4433, 'debate': 4434, 'shitstorm': 4435, 'violate': 4436, 'demented': 4437, 'faith': 4438, 'decisiveness': 4439, 'guy_cable': 4440, 'brian': 4441, 'canadian': 4442, 'dedication': 4443, 'inspirational': 4444, 'vtn': 4445, 'adjoin': 4446, 'honorable': 4447, 'loyalty': 4448, 'allegiance': 4449, 'classroom': 4450, 'illustration': 4451, 'schoolroom': 4452, 'fitting': 4453, 'exploit': 4454, 'dwelling': 4455, 'postal': 4456, 'quantity': 4457, 'campus': 4458, 'dawn': 4459, 'highest': 4460, 'instalment': 4461, 'january': 4462, 'local_library': 4463, 'macbook': 4464, 'privation': 4465, 'student_finance': 4466, 'situated': 4467, 'interestingness': 4468, 'sorted': 4469, 'century': 4470, 'eighth': 4471, 'scholarly': 4472, 'grass': 4473, 'green': 4474, 'hangup': 4475, 'inherently': 4476, 'satisfied': 4477, 'sexually': 4478, 'inquire': 4479, 'smoke': 4480, 'undefended': 4481, 'confront': 4482, 'musician': 4483, 'singer': 4484, 'mete': 4485, 'define': 4486, 'hardship': 4487, 'succeeder': 4488, 'adversity': 4489, 'scant': 4490, 'condom': 4491, 'punch': 4492, 'punched': 4493, 'reacting': 4494, 'sexually_abuse': 4495, 'shove': 4496, 'oppose': 4497, 'lionise': 4498, 'preach': 4499, 'fete': 4500, 'caregiver': 4501, 'complain': 4502, 'crush': 4503, 'doctor_appointment': 4504, 'hopeful': 4505, 'independent': 4506, 'intimidate': 4507, 'secretly': 4508, 'sovereign': 4509, 'escort': 4510, 'reciprocated': 4511, 'progeny': 4512, 'depress': 4513, 'undefendable': 4514, 'cognitivism': 4515, 'dismantle': 4516, 'follower': 4517, 'grasp': 4518, 'psychotherapy': 4519, 'revenge': 4520, 'self_pity': 4521, 'terror': 4522, 'imprison': 4523, 'unscathed': 4524, 'retaliation': 4525, 'pathos': 4526, 'alternate': 4527, 'bizarre': 4528, 'fanfiction': 4529, 'homosexual': 4530, 'hunger': 4531, 'imaginative': 4532, 'notification': 4533, 'romantically': 4534, 'song': 4535, 'stalker': 4536, 'substitute': 4537, 'universe': 4538, 'version': 4539, 'crave': 4540, 'gay': 4541, 'interlingual': 4542, 'rendition': 4543, 'adaptation': 4544, 'realism': 4545, 'apprisal': 4546, 'zillow': 4547, 'antidepressant': 4548, 'upset': 4549, 'disorderliness': 4550, 'buisness': 4551, 'letsnotmeet': 4552, 'photoshoot': 4553, 'sheik': 4554, 'dude': 4555, 'passably': 4556, 'coventry': 4557, 'curl': 4558, 'rubbish': 4559, 'shed': 4560, 'sniff': 4561, 'communal': 4562, 'ignition': 4563, 'whiff': 4564, 'aged': 4565, 'clinical_intervention': 4566, 'confidentiality': 4567, 'foster_care': 4568, 'kindly': 4569, 'safety_protection': 4570, 'study_explore': 4571, 'surrogate': 4572, 'unembellishe': 4573, 'valuable': 4574, 'young_adult': 4575, 'nexus': 4576, 'section': 4577, 'excess': 4578, 'explore': 4579, 'manoeuvre': 4580, 'monthly': 4581, 'scribble': 4582, 'waiting_list': 4583, 'firearm': 4584, 'thin': 4585, 'insure': 4586, 'coif': 4587, 'deplete': 4588, 'expanse': 4589, 'convinced': 4590, 'couple_second': 4591, 'gonna_slap': 4592, 'incorrectly': 4593, 'muteness': 4594, 'silence': 4595, 'falsely': 4596, 'client': 4597, 'invoice': 4598, 'pageboy': 4599, 'buy_grocerie': 4600, 'chore': 4601, 'coope': 4602, 'motivation': 4603, 'organize': 4604, 'ski': 4605, 'withdraw': 4606, 'ukrayina': 4607, 'bravery': 4608, 'ailment': 4609, 'hide': 4610, 'hiding': 4611, 'hospital': 4612, 'matt': 4613, 'eff': 4614, 'voiceless': 4615, 'unvoiced': 4616, 'infirmary': 4617, 'flirter': 4618, 'partying': 4619, 'hooking': 4620, 'liveliness': 4621, 'wire': 4622, 'attorney': 4623, 'dismissal': 4624, 'innocence': 4625, 'lawyer': 4626, 'originally': 4627, 'prosecutor': 4628, 'protection_order': 4629, 'quest': 4630, 'trial': 4631, 'vitrine': 4632, 'declare': 4633, 'apr': 4634, 'groovy': 4635, 'appt': 4636, 'babysit': 4637, 'sil': 4638, 'dally': 4639, 'improbably': 4640, 'lifting': 4641, 'concerned': 4642, 'unluckily': 4643, 'characterize': 4644, 'eminence': 4645, 'anniversary': 4646, 'badly': 4647, 'breakfast': 4648, 'consecrate': 4649, 'description': 4650, 'mixed': 4651, 'seclusion': 4652, 'snack': 4653, 'generate': 4654, 'downwards': 4655, 'remembrance': 4656, 'verbal': 4657, 'coincidence': 4658, 'eighter': 4659, 'perfectly': 4660, 'utterly': 4661, 'utter': 4662, 'birdcall': 4663, 'concurrence': 4664, 'dynasty': 4665, 'attractive': 4666, 'pansexual': 4667, 'pine': 4668, 'indorse': 4669, 'yearn': 4670, 'languish': 4671, 'lurker': 4672, 'exceedingly': 4673, 'scott': 4674, 'procession': 4675, 'imprint': 4676, 'scrambling': 4677, 'suicidal': 4678, 'kyd': 4679, 'ok': 4680, 'depressive': 4681, 'acap': 4682, 'aware': 4683, 'bpsychsci': 4684, 'donnish': 4685, 'hon': 4686, 'identify': 4687, 'reputable': 4688, 'submission': 4689, 'thesis': 4690, 'transmission': 4691, 'arcdegree': 4692, 'certificate': 4693, 'diary': 4694, 'ply': 4695, 'publishing': 4696, 'calculator': 4697, 'dissertation': 4698, 'daybook': 4699, 'enthusiastic': 4700, 'impose': 4701, 'principally': 4702, 'stripe': 4703, 'slate': 4704, 'tag': 4705, 'banding': 4706, 'action': 4707, 'brag': 4708, 'compound': 4709, 'continued': 4710, 'diabetic': 4711, 'famous': 4712, 'fealt': 4713, 'lubrication': 4714, 'molest': 4715, 'multiple_time': 4716, 'orface': 4717, 'rape': 4718, 'stab': 4719, 'descent': 4720, 'tarradiddle': 4721, 'raping': 4722, 'harmful': 4723, 'offend': 4724, 'manifestation': 4725, 'redact': 4726, 'closely': 4727, 'momentum': 4728, 'movie': 4729, 'standpoint': 4730, 'takeout': 4731, 'used': 4732, 'saturday': 4733, 'taproom': 4734, 'ginmill': 4735, 'impulse': 4736, 'fashioned': 4737, 'octonary': 4738, 'yeara': 4739, 'agreement': 4740, 'assertive': 4741, 'materialize': 4742, 'slot': 4743, 'easier': 4744, 'discriminate': 4745, 'agaim': 4746, 'asap': 4747, 'garden': 4748, 'olive': 4749, 'bike': 4750, 'strait': 4751, 'blanch': 4752, 'bread': 4753, 'butter': 4754, 'clavus': 4755, 'cooking': 4756, 'jam': 4757, 'mandarin': 4758, 'orange': 4759, 'peach': 4760, 'peanut': 4761, 'wheat': 4762, 'corn': 4763, 'edible': 4764, 'pinto': 4765, 'rust': 4766, 'green_bean': 4767, 'berry': 4768, 'canned': 4769, 'cookery': 4770, 'enthusiasm': 4771, 'smoothly': 4772, 'stride': 4773, 'tattle': 4774, 'cease': 4775, 'heated': 4776, 'intercept': 4777, 'dense': 4778, 'swimmingly': 4779, 'ebullience': 4780, 'negotiate': 4781, 'gracious': 4782, 'insist': 4783, 'apace': 4784, 'begin_complete': 4785, 'click_agree': 4786, 'clicking': 4787, 'consent_form': 4788, 'kept_confidential': 4789, 'page_aske': 4790, 'participation': 4791, 'discharge': 4792, 'endangerment': 4793, 'explaining': 4794, 'reception': 4795, 'chassis': 4796, 'anon': 4797, 'angle': 4798, 'nest': 4799, 'photo': 4800, 'signify': 4801, 'airless': 4802, 'disrespectful': 4803, 'fool': 4804, 'laugh': 4805, 'pastor': 4806, 'prophesy': 4807, 'airbnb': 4808, 'fashion': 4809, 'generalization': 4810, 'glitter': 4811, 'guest': 4812, 'motto': 4813, 'generality': 4814, 'boniface': 4815, 'gleam': 4816, 'surveil': 4817, 'favor': 4818, 'hosting': 4819, 'blowout': 4820, 'headed': 4821, 'rode': 4822, 'runaway': 4823, 'sunshine': 4824, 'devolve': 4825, 'addict': 4826, 'american': 4827, 'cocaine': 4828, 'conservative': 4829, 'dandy': 4830, 'equality': 4831, 'famously': 4832, 'lampoon': 4833, 'lessen': 4834, 'north': 4835, 'progressive': 4836, 'weaponize': 4837, 'par': 4838, 'capital': 4839, 'habituation': 4840, 'additional': 4841, 'painful': 4842, 'disallow': 4843, 'gpa': 4844, 'hostels': 4845, 'layer': 4846, 'ridiculous': 4847, 'tuition': 4848, 'eminent': 4849, 'residential': 4850, 'silly': 4851, 'clarence': 4852, 'encapsulate': 4853, 'energize': 4854, 'sky': 4855, 'surface': 4856, 'swim': 4857, 'waver': 4858, 'energise': 4859, 'vacillation': 4860, 'pee': 4861, 'sunlight': 4862, 'swimming': 4863, 'warmth': 4864, 'bipolar': 4865, 'borderline_personality': 4866, 'certify': 4867, 'cluster': 4868, 'commonplace': 4869, 'fallout': 4870, 'knowing': 4871, 'misdiagnose': 4872, 'personality_disorder': 4873, 'photograph': 4874, 'postgraduate': 4875, 'prolonged': 4876, 'subsequent': 4877, 'unloved': 4878, 'comparison': 4879, 'few': 4880, 'graduate_school': 4881, 'heartbreak': 4882, 'mistrust': 4883, 'distrust': 4884, 'platitude': 4885, 'surmise': 4886, 'actuate': 4887, 'halt': 4888, 'prolong': 4889, 'enrol': 4890, 'facility': 4891, 'fafsa': 4892, 'thousand': 4893, 'kinfolk': 4894, 'inhibitor': 4895, 'liver': 4896, 'metabolise': 4897, 'reuptake': 4898, 'selective': 4899, 'wellbutrin': 4900, 'classic': 4901, 'metabolize': 4902, 'dissent': 4903, 'ssris': 4904, 'tardily': 4905, 'usher': 4906, 'demo': 4907, 'entry': 4908, 'hoop': 4909, 'entree': 4910, 'opine': 4911, 'snitch': 4912, 'bore': 4913, 'hotspot': 4914, 'wheel': 4915, 'bored': 4916, 'proper': 4917, 'depot': 4918, 'geminate': 4919, 'chemo': 4920, 'flavor': 4921, 'momma': 4922, 'nevermind': 4923, 'undergo': 4924, 'dying': 4925, 'sible': 4926, 'mamma': 4927, 'congenita': 4928, 'dyskeratosis': 4929, 'salubrious': 4930, 'syndrome': 4931, 'zinsser': 4932, 'gestate': 4933, 'marrow': 4934, 'osseous': 4935, 'uracil': 4936, 'lazy': 4937, 'trumpery': 4938, 'rivet': 4939, 'ambitious': 4940, 'development': 4941, 'hinder': 4942, 'pessimistic': 4943, 'pr': 4944, 'rationality': 4945, 'advert': 4946, 'enterprise': 4947, 'embarrass': 4948, 'chronologically': 4949, 'difficulty': 4950, 'jessie': 4951, 'latina': 4952, 'mature': 4953, 'technical': 4954, 'gamy': 4955, 'sassy': 4956, 'autonomous': 4957, 'dear': 4958, 'unaired': 4959, 'downtown': 4960, 'dozen': 4961, 'superfluous': 4962, 'au': 4963, 'board': 4964, 'experiment': 4965, 'monogamous': 4966, 'unplayful': 4967, 'chinook': 4968, 'regretful': 4969, 'chemistry': 4970, 'exact': 4971, 'excel': 4972, 'intensive': 4973, 'lab': 4974, 'lag': 4975, 'motherboard': 4976, 'pc': 4977, 'processing': 4978, 'processor': 4979, 'ram': 4980, 'spectacle': 4981, 'upgrade': 4982, 'mouse': 4983, 'spec': 4984, 'arie': 4985, 'batting': 4986, 'accurate': 4987, 'cpu': 4988, 'font': 4989, 'recognize': 4990, 'alchemy': 4991, 'foretoken': 4992, 'frantic': 4993, 'shoulder': 4994, 'sigh': 4995, 'veridical': 4996, 'abstract': 4997, 'partially': 4998, 'retell': 4999, 'guard': 5000, 'precise': 5001, 'partly': 5002, 'alleviate': 5003, 'basketball': 5004, 'desensitise': 5005, 'everyday': 5006, 'multiplication': 5007, 'purse': 5008, 'twat': 5009, 'disquiet': 5010, 'chisel': 5011, 'indirectly': 5012, 'inevitably': 5013, 'pulse': 5014, 'necessity': 5015, 'abide': 5016, 'uphold': 5017, 'rob': 5018, 'stamp': 5019, 'audacity': 5020, 'entertain': 5021, 'heroine': 5022, 'audaciousness': 5023, 'query': 5024, 'armed': 5025, 'hawaii': 5026, 'mindfulness': 5027, 'reduce': 5028, 'sertraline': 5029, 'sufferer': 5030, 'raft': 5031, 'alt': 5032, 'devoid': 5033, 'escape': 5034, 'left': 5035, 'traction': 5036, 'adhesive': 5037, 'envision': 5038, 'friction': 5039, 'ordinary': 5040, 'bury': 5041, 'centennial': 5042, 'probable': 5043, 'perish': 5044, 'unearthly': 5045, 'rationalize': 5046, 'maltreatment': 5047, 'venture': 5048, 'politic': 5049, 'comprehend': 5050, 'apprehend': 5051, 'anger': 5052, 'cater': 5053, 'coward': 5054, 'curse': 5055, 'fly': 5056, 'screaming': 5057, 'bedamn': 5058, 'quetch': 5059, 'flying': 5060, 'ire': 5061, 'noel': 5062, 'weep': 5063, 'pauperism': 5064, 'watery': 5065, 'sprain': 5066, 'violently': 5067, 'reasonableness': 5068, 'cypher': 5069, 'storytelle': 5070, 'cognizance': 5071, 'recuperation': 5072, 'objective': 5073, 'soul_relic': 5074, 'cornerstone': 5075, 'usual': 5076, 'deserved': 5077, 'cass': 5078, 'telecast': 5079, 'calcium': 5080, 'overleap': 5081, 'caseworker': 5082, 'topology': 5083, 'langar': 5084, 'religiously': 5085, 'renourishing': 5086, 'jolty': 5087, 'soulfulness': 5088, 'sacredly': 5089, 'absorb': 5090, 'conserve': 5091, 'dehydrate': 5092, 'desert': 5093, 'hydrated': 5094, 'laughable': 5095, 'moist': 5096, 'nurse': 5097, 'stopper': 5098, 'whiskey': 5099, 'wifi': 5100, 'plug': 5101, 'supplying': 5102, 'idiotic': 5103, 'urine': 5104, 'bide': 5105, 'desiccate': 5106, 'phratry': 5107, 'ikon': 5108, 'olympia': 5109, 'blister': 5110, 'barge': 5111, 'employee': 5112, 'harass': 5113, 'mill': 5114, 'rumor': 5115, 'several_occasion': 5116, 'upstairs': 5117, 'facial': 5118, 'factory': 5119, 'pal': 5120, 'selling': 5121, 'hearsay': 5122, 'ran': 5123, 'intoxicated': 5124, 'bypass': 5125, 'complication': 5126, 'defect': 5127, 'disability': 5128, 'disable': 5129, 'impair': 5130, 'offline': 5131, 'outcry': 5132, 'stat': 5133, 'disablement': 5134, 'shunt': 5135, 'animosity': 5136, 'drift': 5137, 'flake': 5138, 'mull': 5139, 'pity': 5140, 'tendency': 5141, 'hat': 5142, 'reluctant': 5143, 'swain': 5144, 'credibly': 5145, 'preface': 5146, 'dirty': 5147, 'eve': 5148, 'pawl': 5149, 'footling': 5150, 'breaking': 5151, 'lied': 5152, 'mad': 5153, 'knife': 5154, 'antique': 5155, 'nonpareil': 5156, 'hatchet': 5157, 'intermit': 5158, 'reliance': 5159, 'handwriting': 5160, 'notebook': 5161, 'pen': 5162, 'penmanship': 5163, 'semen': 5164, 'steam': 5165, 'needfully': 5166, 'feather': 5167, 'madly': 5168, 'stubborn': 5169, 'unnecessary': 5170, 'vulnerable': 5171, 'bumpy': 5172, 'hexad': 5173, 'refractory': 5174, 'deform': 5175, 'superpower': 5176, 'aback': 5177, 'awake': 5178, 'cooperatively': 5179, 'destruction': 5180, 'inevitable': 5181, 'separately': 5182, 'glove': 5183, 'inebriate': 5184, 'deployable': 5185, 'rating': 5186, 'memorable': 5187, 'paint': 5188, 'celestial': 5189, 'ecstatic': 5190, 'latitude': 5191, 'stumble': 5192, 'companion': 5193, 'dearie': 5194, 'owner': 5195, 'pledge': 5196, 'reputation': 5197, 'ruin': 5198, 'salute': 5199, 'sooooo': 5200, 'code': 5201, 'promo': 5202, 'codification': 5203, 'fivesome': 5204, 'redress': 5205, 'apostle': 5206, 'display': 5207, 'element': 5208, 'gentile': 5209, 'powerpoint': 5210, 'presentation': 5211, 'prostitute': 5212, 'recommend': 5213, 'respectful': 5214, 'sartre': 5215, 'swoop': 5216, 'estimable': 5217, 'scan': 5218, 'commend': 5219, 'slope': 5220, 'trough': 5221, 'comforter': 5222, 'console': 5223, 'depth': 5224, 'gender': 5225, 'sexualitie': 5226, 'shortish': 5227, 'sooth': 5228, 'chronicle': 5229, 'kindle': 5230, 'allayer': 5231, 'corking': 5232, 'prevarication': 5233, 'unconscious': 5234, 'blackmail': 5235, 'clueless': 5236, 'telling': 5237, 'whine': 5238, 'emotion': 5239, 'esoteric': 5240, 'salt': 5241, 'unhurt': 5242, 'curb': 5243, 'psychic': 5244, 'aloha': 5245, 'camping': 5246, 'jail': 5247, 'camp': 5248, 'encamp': 5249, 'bakery': 5250, 'clothing': 5251, 'garbage': 5252, 'rummage': 5253, 'bakeshop': 5254, 'rummaging': 5255, 'scrap': 5256, 'sojourn': 5257, 'uncommitte': 5258, 'easygoe': 5259, 'everyplace': 5260, 'workshop': 5261, 'soft': 5262, 'usable': 5263, 'drivel': 5264, 'sluttish': 5265, 'rig': 5266, 'fertilise': 5267, 'manipulate': 5268, 'wee': 5269, 'plot': 5270, 'crease': 5271, 'sympathize': 5272, 'sympathy': 5273, 'empathize': 5274, 'misfortune': 5275, 'rampant': 5276, 'wrinkle': 5277, 'laborious': 5278, 'nicely': 5279, 'annoying': 5280, 'jane': 5281, 'drama': 5282, 'hebdomad': 5283, 'appearance': 5284, 'spry': 5285, 'hesitant': 5286, 'kate': 5287, 'sophie': 5288, 'tonight': 5289, 'jamie': 5290, 'activate': 5291, 'activation': 5292, 'additionally': 5293, 'alprazolam': 5294, 'drawback': 5295, 'psych': 5296, 'serotonergic': 5297, 'ssri': 5298, 'trazodone': 5299, 'usage': 5300, 'activating': 5301, 'zoloft': 5302, 'xanax': 5303, 'frankly': 5304, 'gazillion': 5305, 'delivery': 5306, 'gaga': 5307, 'zilch': 5308, 'cage': 5309, 'divide': 5310, 'formula': 5311, 'rat': 5312, 'dimension': 5313, 'goody': 5314, 'multiply': 5315, 'coop': 5316, 'lowlife': 5317, 'insignificant': 5318, 'roar': 5319, 'suffering': 5320, 'swelter': 5321, 'torment': 5322, 'typo': 5323, 'waste': 5324, 'rejoin': 5325, 'shocked': 5326, 'trygve': 5327, 'scandalise': 5328, 'agony': 5329, 'amusement': 5330, 'busk': 5331, 'discern': 5332, 'legitimate': 5333, 'entertainment': 5334, 'sham': 5335, 'busking': 5336, 'imposter': 5337, 'amply': 5338, 'fade': 5339, 'gradually': 5340, 'intellection': 5341, 'quietly': 5342, 'wandering': 5343, 'horseshit': 5344, 'wander': 5345, 'restfully': 5346, 'internal': 5347, 'judgement': 5348, 'roving': 5349, 'harsh': 5350, 'moderator': 5351, 'prominent': 5352, 'unhelpful': 5353, 'frighten': 5354, 'imagination': 5355, 'bulk': 5356, 'luggage': 5357, 'transition': 5358, 'chinchy': 5359, 'gaudy': 5360, 'punk': 5361, 'baggage': 5362, 'flashy': 5363, 'elbow_room': 5364, 'checkmark': 5365, 'controversial': 5366, 'evidence': 5367, 'false': 5368, 'review': 5369, 'screening': 5370, 'swap': 5371, 'tinder': 5372, 'enceinte': 5373, 'switching': 5374, 'cholecalciferol': 5375, 'masking': 5376, 'confide': 5377, 'hrs': 5378, 'saying': 5379, 'stave': 5380, 'locution': 5381, 'trustworthy': 5382, 'vacation': 5383, 'perceptual': 5384, 'compeer': 5385, 'wmu': 5386, 'senesce': 5387, 'boodle': 5388, 'kit': 5389, 'articulate': 5390, 'disappear': 5391, 'friendliness': 5392, 'helpfulness': 5393, 'unforesightful': 5394, 'partake': 5395, 'ascribable': 5396, 'region': 5397, 'tending': 5398, 'feminist': 5399, 'sportsy': 5400, 'liberal': 5401, 'gravel': 5402, 'nerve': 5403, 'scope': 5404, 'essence': 5405, 'inconvenience': 5406, 'bedside': 5407, 'equipment': 5408, 'hoyer': 5409, 'trapeze': 5410, 'everglade': 5411, 'mattress': 5412, 'polymonium': 5413, 'govern': 5414, 'independency': 5415, 'planner': 5416, 'romantic': 5417, 'fend': 5418, 'independence': 5419, 'granny': 5420, 'humiliation': 5421, 'planetary': 5422, 'title': 5423, 'zodiac': 5424, 'abus': 5425, 'championship': 5426, 'grandpa': 5427, 'mortification': 5428, 'alice': 5429, 'batter': 5430, 'decivilization': 5431, 'epidemic': 5432, 'gasoline': 5433, 'machine_gun': 5434, 'politesse': 5435, 'psychotize': 5436, 'psychotizing': 5437, 'altering': 5438, 'chivalry': 5439, 'flaming': 5440, 'lineage': 5441, 'artillery': 5442, 'beau': 5443, 'monde': 5444, 'damage': 5445, 'quad': 5446, 'untenable': 5447, 'kicking': 5448, 'recollective': 5449, 'terminus': 5450, 'manifestly': 5451, 'repeat': 5452, 'misapprehension': 5453, 'mired': 5454, 'involved': 5455, 'kidskin': 5456, 'argumentative': 5457, 'consciously': 5458, 'defensive': 5459, 'candidly': 5460, 'quash': 5461, 'justificatory': 5462, 'dearly': 5463, 'painting': 5464, 'plane': 5465, 'snapchat': 5466, 'surprised': 5467, 'bloom': 5468, 'opposite': 5469, 'smokable': 5470, 'smoking': 5471, 'fume': 5472, 'mindful': 5473, 'claptrap': 5474, 'competitiveness': 5475, 'foreswear': 5476, 'appreciated': 5477, 'ordination': 5478, 'fairly': 5479, 'gym_membership': 5480, 'selection': 5481, 'closeness': 5482, 'familiarity': 5483, 'lyric': 5484, 'powerful': 5485, 'stuffiness': 5486, 'overwhelm': 5487, 'responsibility': 5488, 'risky': 5489, 'sadness': 5490, 'drown': 5491, 'geological': 5492, 'tread': 5493, 'adoptive': 5494, 'devastating': 5495, 'gently': 5496, 'softly': 5497, 'lightly': 5498, 'july': 5499, 'objection': 5500, 'plain': 5501, 'rental': 5502, 'enounce': 5503, 'mode': 5504, 'unremarkably': 5505, 'isolation': 5506, 'condominium': 5507, 'inviting': 5508, 'own': 5509, 'sized': 5510, 'toying': 5511, 'bedroom': 5512, 'wellspre': 5513, 'seemly': 5514, 'commonality': 5515, 'grouping': 5516, 'mentalhealth': 5517, 'emergence': 5518, 'routine': 5519, 'oer': 5520, 'overdraft': 5521, 'receipt': 5522, 'pic': 5523, 'exhaust': 5524, 'bagful': 5525, 'derange': 5526, 'flash': 5527, 'hormone': 5528, 'nofap': 5529, 'temporarily': 5530, 'onrush': 5531, 'unbalance': 5532, 'edging': 5533, 'yoke': 5534, 'carefully': 5535, 'retaliate': 5536, 'solitary': 5537, 'imbue': 5538, 'foursome': 5539, 'bender': 5540, 'calling': 5541, 'equate': 5542, 'grown': 5543, 'msc': 5544, 'nut': 5545, 'rate': 5546, 'unnatural': 5547, 'wrath': 5548, 'zuko': 5549, 'nuts': 5550, 'ketalar': 5551, 'resistant': 5552, 'ketamine': 5553, 'resistive': 5554, 'sparkly': 5555, 'spool': 5556, 'stunning': 5557, 'sunriselady': 5558, 'purpleness': 5559, 'disconsolate': 5560, 'sensational': 5561, 'reel': 5562, 'accompaniment': 5563, 'faculty': 5564, 'misstep': 5565, 'broadside': 5566, 'gamin': 5567, 'prospicient': 5568, 'premature': 5569, 'shower': 5570, 'suspend': 5571, 'tragedy': 5572, 'apologise': 5573, 'bunglesome': 5574, 'tldr': 5575, 'aka': 5576, 'guise': 5577, 'helmet': 5578, 'ice_fishe': 5579, 'tyler': 5580, 'wheeler': 5581, 'wintertime': 5582, 'zack': 5583, 'winter': 5584, 'pretext': 5585, 'fish': 5586, 'methamphetamine': 5587, 'quartet': 5588, 'battle': 5589, 'child_thankfully': 5590, 'developed': 5591, 'developmental': 5592, 'polar_opposite': 5593, 'spectrum': 5594, 'subtly': 5595, 'symbolize': 5596, 'affected': 5597, 'notion': 5598, 'closure': 5599, 'cocksure': 5600, 'cheated': 5601, 'cheater': 5602, 'zillion': 5603, 'detest': 5604, 'worldly': 5605, 'avid': 5606, 'painter': 5607, 'buttock': 5608, 'greedy': 5609, 'retainer': 5610, 'exemption': 5611, 'largely': 5612, 'unfeare': 5613, 'freedom': 5614, 'rubber': 5615, 'shining_armour': 5616, 'conduct': 5617, 'effectualness': 5618, 'millennial': 5619, 'dispense': 5620, 'effectivity': 5621, 'arc': 5622, 'effectiveness': 5623, 'merchandise': 5624, 'depressing': 5625, 'hermit': 5626, 'lonely': 5627, 'oddly': 5628, 'funnily': 5629, 'anchorite': 5630, 'charwoman': 5631, 'especial': 5632, 'press': 5633, 'third': 5634, 'arguement': 5635, 'civil': 5636, 'summary': 5637, 'unmandated': 5638, 'incline': 5639, 'autism': 5640, 'daddy': 5641, 'shadow': 5642, 'vocalise': 5643, 'cabinet': 5644, 'balloon': 5645, 'downstairs': 5646, 'granddaughter': 5647, 'indian': 5648, 'ipad': 5649, 'landlord': 5650, 'mustiness': 5651, 'paranoid': 5652, 'obstreperously': 5653, 'cent': 5654, 'rommin': 5655, 'grease': 5656, 'palm': 5657, 'septet': 5658, 'walmart': 5659, 'spicy': 5660, 'adoption': 5661, 'aggression': 5662, 'waive': 5663, 'worm': 5664, 'nurture': 5665, 'scavenge': 5666, 'espouse': 5667, 'checklist': 5668, 'undeniable': 5669, 'nonplus': 5670, 'olympian': 5671, 'exceptional': 5672, 'carry': 5673, 'crippling': 5674, 'lame': 5675, 'hoosi': 5676, 'netflix': 5677, 'stultify': 5678, 'precious': 5679, 'sanctuary': 5680, 'thankfully': 5681, 'ratiocination': 5682, 'psyche': 5683, 'corrode': 5684, 'sincerely': 5685, 'unfeignedly': 5686, 'impression': 5687, 'temperature': 5688, 'reek': 5689, 'elevator': 5690, 'latch': 5691, 'rice': 5692, 'sunvisor': 5693, 'google': 5694, 'hood': 5695, 'quotation': 5696, 'criterion': 5697, 'requester': 5698, 'fourscore': 5699, 'meddle': 5700, 'barren': 5701, 'bomber': 5702, 'suppliant': 5703, 'supererogatory': 5704, 'authorize': 5705, 'desk': 5706, 'lick': 5707, 'node': 5708, 'rival': 5709, 'trustworthiness': 5710, 'touching': 5711, 'trustiness': 5712, 'belate': 5713, 'christmastime': 5714, 'favourite': 5715, 'tour': 5716, 'dubai': 5717, 'relocation': 5718, 'inscription': 5719, 'sellout': 5720, 'imprecate': 5721, 'prosperous': 5722, 'artist': 5723, 'corner': 5724, 'creation': 5725, 'originative': 5726, 'writer': 5727, 'author': 5728, 'quaternity': 5729, 'enlist': 5730, 'penchant': 5731, 'demographic': 5732, 'desktop': 5733, 'mortgage': 5734, 'leverage': 5735, 'duration': 5736, 'sentiency': 5737, 'cheesepare': 5738, 'secretive': 5739, 'frustrated': 5740, 'useless': 5741, 'cliche': 5742, 'sympathise': 5743, 'cheek': 5744, 'feign': 5745, 'feral': 5746, 'flea': 5747, 'infest': 5748, 'repair': 5749, 'strangely': 5750, 'feigning': 5751, 'subsequently': 5752, 'townspeople': 5753, 'savage': 5754, 'confusion': 5755, 'interpretation': 5756, 'muddiness': 5757, 'slay': 5758, 'dirt': 5759, 'lavish': 5760, 'unfair': 5761, 'unspare': 5762, 'divided': 5763, 'adjustment': 5764, 'homestay': 5765, 'republic': 5766, 'wag': 5767, 'hound': 5768, 'waggle': 5769, 'trine': 5770, 'warmness': 5771, 'possession': 5772, 'storage_unit': 5773, 'depict': 5774, 'tick': 5775, 'cosset': 5776, 'cranky': 5777, 'scoop': 5778, 'slobber': 5779, 'snot': 5780, 'uncontrollable': 5781, 'coddle': 5782, 'snoot': 5783, 'ix': 5784, 'lugubriousness': 5785, 'trump': 5786, 'cocker': 5787, 'crying': 5788, 'snob': 5789, 'apparent': 5790, 'breeze': 5791, 'burst': 5792, 'library': 5793, 'readily': 5794, 'roomy': 5795, 'salvation': 5796, 'shade': 5797, 'bursting': 5798, 'redemption': 5799, 'glimpse': 5800, 'coffeehouse': 5801, 'shadiness': 5802, 'deactivate': 5803, 'gallant': 5804, 'obstacle': 5805, 'thrive': 5806, 'biff': 5807, 'majestic': 5808, 'infidelity': 5809, 'inform': 5810, 'unfaithfulness': 5811, 'annoy': 5812, 'consulting': 5813, 'medicinal': 5814, 'salutary': 5815, 'paroxetime': 5816, 'decennium': 5817, 'howdy': 5818, 'delinquent': 5819, 'exculpate': 5820, 'hurdle': 5821, 'banknote': 5822, 'unbroken': 5823, 'conduce': 5824, 'eyeshade': 5825, 'profit': 5826, 'compartment': 5827, 'dine': 5828, 'initiation': 5829, 'rd': 5830, 'diner': 5831, 'ostensibly': 5832, 'dodge': 5833, 'wildness': 5834, 'troubled': 5835, 'concede': 5836, 'holl': 5837, 'turbulent': 5838, 'figurer': 5839, 'rove': 5840, 'peregrine': 5841, 'silver': 5842, 'membership': 5843, 'essential': 5844, 'chain': 5845, 'democratic': 5846, 'employer': 5847, 'esk': 5848, 'fishing': 5849, 'hunt': 5850, 'le': 5851, 'salad': 5852, 'hunting': 5853, 'sportfishe': 5854, 'forefend': 5855, 'bang': 5856, 'laughed': 5857, 'ankle': 5858, 'injure': 5859, 'provoke': 5860, 'stair': 5861, 'stitch': 5862, 'terrorization': 5863, 'traumatizing': 5864, 'broke': 5865, 'frightening': 5866, 'moldiness': 5867, 'provoking': 5868, 'giggle': 5869, 'browse': 5870, 'giggled': 5871, 'taradiddle': 5872, 'assault': 5873, 'aunt': 5874, 'caress': 5875, 'naked': 5876, 'penis': 5877, 'twisted': 5878, 'fondling': 5879, 'insert': 5880, 'enclose': 5881, 'misrepresented': 5882, 'auntie': 5883, 'fondle': 5884, 'tuck': 5885, 'bowl': 5886, 'ect': 5887, 'mocking': 5888, 'pad': 5889, 'introductory': 5890, 'spyglass': 5891, 'brainsick': 5892, 'schooling': 5893, 'contemporary': 5894, 'heavily': 5895, 'honours': 5896, 'portray': 5897, 'prowess': 5898, 'scottish': 5899, 'tricky': 5900, 'fantastically': 5901, 'national': 5902, 'slippery': 5903, 'botterill': 5904, 'energy': 5905, 'widely': 5906, 'compact': 5907, 'dentist': 5908, 'footprint': 5909, 'regiman': 5910, 'simplify': 5911, 'english_hawthorn': 5912, 'stain': 5913, 'manageable': 5914, 'reader': 5915, 'synchro_shoukan': 5916, 'handler': 5917, 'referee': 5918, 'triplet': 5919, 'doable': 5920, 'lector': 5921, 'louder': 5922, 'planning': 5923, 'tacky': 5924, 'master': 5925, 'antecedently': 5926, 'founder': 5927, 'boorish': 5928, 'reserve': 5929, 'setting': 5930, 'typically': 5931, 'picky': 5932, 'foregather': 5933, 'reserved': 5934, 'venerating': 5935, 'warranty': 5936, 'boon': 5937, 'missile': 5938, 'drill': 5939, 'oasis': 5940, 'accusatory': 5941, 'empathetic': 5942, 'irritability': 5943, 'receptive': 5944, 'reflection': 5945, 'reflectivity': 5946, 'crisis': 5947, 'demeanor': 5948, 'affiliate': 5949, 'chatroom': 5950, 'disclaimer': 5951, 'orient': 5952, 'ecumenical': 5953, 'confine': 5954, 'backup': 5955, 'disavowal': 5956, 'tailor': 5957, 'chancy': 5958, 'iffy': 5959, 'cbt': 5960, 'acting': 5961, 'clogging': 5962, 'junior': 5963, 'overflow': 5964, 'toileting': 5965, 'wierd': 5966, 'clog': 5967, 'overflowing': 5968, 'cubic': 5969, 'dissemble': 5970, 'ancestry': 5971, 'startle': 5972, 'buying': 5973, 'fittingness': 5974, 'outdoor': 5975, 'outdoors': 5976, 'rei': 5977, 'sane': 5978, 'exhibitor': 5979, 'forbidden': 5980, 'seaworthiness': 5981, 'dan_coyle': 5982, 'staple': 5983, 'wishlist': 5984, 'downhearted': 5985, 'childcare': 5986, 'astonishing': 5987, 'inne': 5988, 'matrimony': 5989, 'criss': 5990, 'feast': 5991, 'hane': 5992, 'importantly': 5993, 'sweatshirt': 5994, 'significantly': 5995, 'redeem': 5996, 'negatively': 5997, 'einsteinium': 5998, 'mundane': 5999, 'alright': 6000, 'phosphoru': 6001, 'cue': 6002, 'beeping': 6003, 'catchphrase': 6004, 'gauging': 6005, 'noise': 6006, 'timer': 6007, 'broadcasting': 6008, 'coach': 6009, 'debt': 6010, 'esport': 6011, 'film': 6012, 'wku': 6013, 'varsity': 6014, 'co': 6015, 'desperation': 6016, 'enviromnet': 6017, 'min': 6018, 'respone': 6019, 'semester': 6020, 'shortsighted': 6021, 'despair': 6022, 'dialect': 6023, 'adolescence': 6024, 'infancy': 6025, 'jerk': 6026, 'linehan_book': 6027, 'myth_nonexistent': 6028, 'paradoxical_intervention': 6029, 'radical_genuineness': 6030, 'unconditional_positive': 6031, 'legitimacy': 6032, 'psychology': 6033, 'radical': 6034, 'ravish': 6035, 'reverse_psychology': 6036, 'aboveboard': 6037, 'brutally_hon': 6038, 'hopeless': 6039, 'submitter': 6040, 'brutally_honest': 6041, 'header': 6042, 'romanticist': 6043, 'expert': 6044, 'inspiration': 6045, 'prat': 6046, 'revolutionise': 6047, 'achievement': 6048, 'alert': 6049, 'asthma': 6050, 'awhile': 6051, 'nervous_system': 6052, 'parasympathetic': 6053, 'pns': 6054, 'sns': 6055, 'urgent': 6056, 'slapping': 6057, 'queasy': 6058, 'harmonic': 6059, 'consumption': 6060, 'addictive': 6061, 'concentration': 6062, 'overcome': 6063, 'porn': 6064, 'pound': 6065, 'border': 6066, 'worked': 6067, 'twoscore': 6068, 'confirming': 6069, 'pure': 6070, 'christian': 6071, 'insightful': 6072, 'rich': 6073, 'unitarian': 6074, 'universalist': 6075, 'jehovah': 6076, 'strength': 6077, 'cargo': 6078, 'fleck': 6079, 'proportion': 6080, 'tiptop': 6081, 'bitcoin': 6082, 'condo': 6083, 'reassign': 6084, 'splitting': 6085, 'devote': 6086, 'threescore': 6087, 'transmit': 6088, 'provide_link': 6089, 'narcissist': 6090, 'ensure': 6091, 'brody': 6092, 'contagion': 6093, 'neighborhood': 6094, 'rare': 6095, 'thereafter': 6096, 'goodness': 6097, 'rarefy': 6098, 'nous': 6099, 'subsist': 6100, 'locality': 6101, 'economically': 6102, 'fistful': 6103, 'originally_posted': 6104, 'ckery': 6105, 'electrode': 6106, 'guru': 6107, 'lobe': 6108, 'magnetic': 6109, 'neat': 6110, 'psychiatric': 6111, 'rinse': 6112, 'stimulation': 6113, 'vagus': 6114, 'foreplay': 6115, 'palliate': 6116, 'brass': 6117, 'http': 6118, 'https_thehaven': 6119, 'stool': 6120, 'zen': 6121, 'forethought': 6122, 'hypertext': 6123, 'protocol': 6124, 'tutelage': 6125, 'guardianship': 6126, 'bodywork': 6127, 'compel': 6128, 'amanae': 6129, 'emotional_release': 6130, 'treating': 6131, 'serviceman': 6132, 'asperger': 6133, 'confessing': 6134, 'grapheme': 6135, 'judicial': 6136, 'untried': 6137, 'persuade': 6138, 'alteration': 6139, 'stir': 6140, 'motility': 6141, 'invitation': 6142, 'dispose': 6143, 'bureaucracy': 6144, 'fort': 6145, 'guzzler': 6146, 'ideal': 6147, 'labyrinth': 6148, 'mingy': 6149, 'peculiar': 6150, 'squeeze': 6151, 'cover_fuel': 6152, 'gulper': 6153, 'talking': 6154, 'finical': 6155, 'owe': 6156, 'shaky': 6157, 'shiver': 6158, 'apprehensive': 6159, 'witte': 6160, 'deglutition': 6161, 'echt': 6162, 'watt': 6163, 'declamatory': 6164, 'countless': 6165, 'handfuls': 6166, 'remedy': 6167, 'secondly': 6168, 'cudi': 6169, 'onset': 6170, 'dank': 6171, 'me': 6172, 'interposition': 6173, 'paradoxical': 6174, 'radically_accept': 6175, 'ledger': 6176, 'discernment': 6177, 'therapeutic': 6178, 'curative': 6179, 'electronegative': 6180, 'florist': 6181, 'insane': 6182, 'bilingual': 6183, 'vocal': 6184, 'indite': 6185, 'slew': 6186, 'smoker': 6187, 'st': 6188, 'tramway': 6189, 'derive': 6190, 'amicably': 6191, 'commutation': 6192, 'puppy': 6193, 'tiny': 6194, 'attribute': 6195, 'pale': 6196, 'helper': 6197, 'arouse': 6198, 'attenborough': 6199, 'spanish': 6200, 'thirstiness': 6201, 'thirst': 6202, 'ameliorate': 6203, 'devotee': 6204, 'vast': 6205, 'affordable': 6206, 'got': 6207, 'pueblo': 6208, 'transportation': 6209, 'authority': 6210, 'astonish': 6211, 'astound': 6212, 'aunty': 6213, 'conjure': 6214, 'governance': 6215, 'devastated': 6216, 'frustration': 6217, 'speed': 6218, 'devastate': 6219, 'diametrical': 6220, 'gainsay': 6221, 'regiment': 6222, 'wiki': 6223, 'workout': 6224, 'savvy': 6225, 'adolescent': 6226, 'meliorate': 6227, 'online_questionnaire': 6228, 'retain': 6229, 'rethink': 6230, 'founding': 6231, 'clingy': 6232, 'fluctuation': 6233, 'tender': 6234, 'incidental': 6235, 'jealous': 6236, 'virginity': 6237, 'bubble': 6238, 'dew': 6239, 'forenoon': 6240, 'glaze': 6241, 'invigorate': 6242, 'limewire': 6243, 'playing_video': 6244, 'seclude': 6245, 'trait': 6246, 'treatable': 6247, 'dope': 6248, 'foliage': 6249, 'hardcore': 6250, 'surround': 6251, 'marooned': 6252, 'arise': 6253, 'engaged': 6254, 'haphazardness': 6255, 'mediation': 6256, 'mental_noise': 6257, 'perceiver': 6258, 'spontaneously': 6259, 'beholder': 6260, 'activeness': 6261, 'dissonance': 6262, 'commentator': 6263, 'intermediation': 6264, 'disturbance': 6265, 'amusing': 6266, 'browser': 6267, 'hentai': 6268, 'joking': 6269, 'kink': 6270, 'poke': 6271, 'embarrassed': 6272, 'bounteous': 6273, 'divert': 6274, 'pelt': 6275, 'tattoo': 6276, 'gone': 6277, 'boldness': 6278, 'vigour': 6279, 'amend': 6280, 'glamorizing': 6281, 'grammatical': 6282, 'romanticise': 6283, 'liaison': 6284, 'typeface': 6285, 'fan': 6286, 'gross': 6287, 'overweight': 6288, 'arrant': 6289, 'rooter': 6290, 'benevolence': 6291, 'compassion': 6292, 'demon': 6293, 'giant': 6294, 'poison': 6295, 'precedent': 6296, 'pureness': 6297, 'victimize': 6298, 'dance': 6299, 'monster': 6300, 'secrecy': 6301, 'undivided': 6302, 'victimise': 6303, 'benefaction': 6304, 'lofty': 6305, 'torn': 6306, 'clinch': 6307, 'psychopath': 6308, 'gravitate': 6309, 'steph': 6310, 'unbelievable': 6311, 'incredible': 6312, 'dupe': 6313, 'sentience': 6314, 'truthful': 6315, 'immense': 6316, 'defrost': 6317, 'fold': 6318, 'influx': 6319, 'launch': 6320, 'megathread': 6321, 'preparation': 6322, 'ramp': 6323, 'inflow': 6324, 'commove': 6325, 'thanksgive': 6326, 'skilful': 6327, 'lucky': 6328, 'tape': 6329, 'vhs': 6330, 'repetition': 6331, 'whining': 6332, 'association': 6333, 'introduction': 6334, 'pornography': 6335, 'rag': 6336, 'redirect': 6337, 'sexual_satisfaction': 6338, 'signing': 6339, 'expiation': 6340, 'showcase': 6341, 'blatant': 6342, 'brake': 6343, 'fro': 6344, 'poet': 6345, 'spelling': 6346, 'titanium': 6347, 'bracken': 6348, 'sneak': 6349, 'regulate': 6350, 'airplane': 6351, 'cow': 6352, 'scooter': 6353, 'bo': 6354, 'meand': 6355, 'taurus': 6356, 'cock': 6357, 'tool': 6358, 'yacht': 6359, 'goalpost': 6360, 'lefty': 6361, 'opposition': 6362, 'pointless': 6363, 'propaganda': 6364, 'strenuously': 6365, 'breakdown': 6366, 'cropping': 6367, 'disaccord': 6368, 'directed_toward': 6369, 'lowkey': 6370, 'th_grade': 6371, 'engineer': 6372, 'ninth': 6373, 'alternatively': 6374, 'ferocity': 6375, 'fierce': 6376, 'learning': 6377, 'punishment': 6378, 'restrain': 6379, 'warn': 6380, 'violent': 6381, 'poky': 6382, 'lash': 6383, 'complement': 6384, 'electropositive': 6385, 'elevate': 6386, 'instigate': 6387, 'tenancy': 6388, 'mib': 6389, 'proposition': 6390, 'approx': 6391, 'cannabi': 6392, 'microcomputer': 6393, 'brooding': 6394, 'composed': 6395, 'doubt': 6396, 'impressionable': 6397, 'intensely': 6398, 'jealousy': 6399, 'without_realize': 6400, 'without_realizing': 6401, 'extract': 6402, 'uttermost': 6403, 'fundraiser': 6404, 'intelligence': 6405, 'believably': 6406, 'refusal': 6407, 'inadequacy': 6408, 'unconvincing': 6409, 'addendum': 6410, 'inadequateness': 6411, 'transference': 6412, 'unlikely': 6413, 'insufficiency': 6414, 'postscript': 6415, 'bandaid': 6416, 'clipper': 6417, 'goop': 6418, 'inadequate': 6419, 'shampoo': 6420, 'soap': 6421, 'autistic': 6422, 'awkwardness': 6423, 'paranoia': 6424, 'conformation': 6425, 'exbf': 6426, 'groomed': 6427, 'paroxysm': 6428, 'xix': 6429, 'convulsion': 6430, 'bolt': 6431, 'surge': 6432, 'tide': 6433, 'wipe': 6434, 'accident': 6435, 'stroke': 6436, 'tragic': 6437, 'bleeding': 6438, 'eject': 6439, 'foliate': 6440, 'fractured': 6441, 'interior': 6442, 'collaborate': 6443, 'radar': 6444, 'retentive': 6445, 'alot': 6446, 'sooper': 6447, 'stoopid': 6448, 'immigrate': 6449, 'refer': 6450, 'soviet': 6451, 'contumely': 6452, 'somehwhere': 6453, 'discrimination': 6454, 'favoritism': 6455, 'tabloid': 6456, 'judicature': 6457, 'browbeat': 6458, 'accomplishable': 6459, 'forrader': 6460, 'somatic': 6461, 'remark': 6462, 'drs': 6463, 'taken_seriously': 6464, 'frolic': 6465, 'helsinki': 6466, 'locator': 6467, 'uniform': 6468, 'bakshis': 6469, 'shooting': 6470, 'idealistic': 6471, 'gamer': 6472, 'bail': 6473, 'adhesion': 6474, 'violation': 6475, 'biz': 6476, 'captain': 6477, 'orcus': 6478, 'perch': 6479, 'shtup': 6480, 'screwing': 6481, 'bro': 6482, 'migraine': 6483, 'occipital': 6484, 'trigeminal': 6485, 'nervus': 6486, 'neuralgy': 6487, 'pugnacious': 6488, 'mighty': 6489, 'diabete': 6490, 'park': 6491, 'perk': 6492, 'perquisite': 6493, 'screenshot': 6494, 'disabilitie': 6495, 'diabetes': 6496, 'googling': 6497, 'btw': 6498, 'faultily': 6499, 'lonesome': 6500, 'besides': 6501, 'raffle': 6502, 'aeroplane': 6503, 'swear': 6504, 'organically': 6505, 'desperate': 6506, 'fastforward': 6507, 'detain': 6508, 'exchangeable': 6509, 'loving': 6510, 'chambre': 6511, 'officiate': 6512, 'esthetic': 6513, 'industriousness': 6514, 'resonate': 6515, 'responsible': 6516, 'typical': 6517, 'aesthetic': 6518, 'industry': 6519, 'distinctive': 6520, 'heedful': 6521, 'localization': 6522, 'glucinium': 6523, 'trusted': 6524, 'numeral': 6525, 'cell_phone': 6526, 'inexpensive': 6527, 'provider': 6528, 'reloadable': 6529, 'reset': 6530, 'retailer': 6531, 'merchant': 6532, 'supplier': 6533, 'manufactory': 6534, 'gimmick': 6535, 'danger': 6536, 'indicate': 6537, 'vesture': 6538, 'abusive_partner': 6539, 'battery': 6540, 'resident': 6541, 'restrictive': 6542, 'snatch': 6543, 'tinfoil': 6544, 'wrap': 6545, 'cell': 6546, 'cellular': 6547, 'principle': 6548, 'foil': 6549, 'outcast': 6550, 'distinguish': 6551, 'made': 6552, 'financially': 6553, 'inherit': 6554, 'mansion': 6555, 'neutral': 6556, 'seeing': 6557, 'accuse': 6558, 'blot': 6559, 'caboodle': 6560, 'unnamed': 6561, 'axerophthol': 6562, 'disabled': 6563, 'plea': 6564, 'sheer': 6565, 'topographic': 6566, 'bold': 6567, 'invalid': 6568, 'exaltation': 6569, 'itinerary': 6570, 'ramble': 6571, 'verification': 6572, 'deficit': 6573, 'hyperactivity': 6574, 'inception': 6575, 'labour': 6576, 'neighbouring': 6577, 'thereby': 6578, 'gurgaon': 6579, 'historic': 6580, 'installation': 6581, 'assumption': 6582, 'bias': 6583, 'embed': 6584, 'viewer': 6585, 'prejudice': 6586, 'strand': 6587, 'supposition': 6588, 'convert': 6589, 'undetermined': 6590, 'delt': 6591, 'insecurity': 6592, 'myopic': 6593, 'colllege': 6594, 'fledgele': 6595, 'gamey': 6596, 'improper': 6597, 'achieve': 6598, 'esque': 6599, 'superficial': 6600, 'passionateness': 6601, 'pisce': 6602, 'rigid': 6603, 'harbour': 6604, 'standardized': 6605, 'sleepover': 6606, 'making': 6607, 'fantastic': 6608, 'ladder': 6609, 'rung': 6610, 'strive': 6611, 'village': 6612, 'aviate': 6613, 'gate': 6614, 'replete': 6615, 'intermixture': 6616, 'confluence': 6617, 'jaunt': 6618, 'outbalance': 6619, 'shatter': 6620, 'overbalance': 6621, 'uncollectible': 6622, 'problematic': 6623, 'informational': 6624, 'resist': 6625, 'blanket': 6626, 'humane': 6627, 'kitty': 6628, 'roughshod': 6629, 'cruel': 6630, 'monst': 6631, 'obstruction': 6632, 'burnish': 6633, 'ennead': 6634, 'childish': 6635, 'eyelid': 6636, 'monotone': 6637, 'uninterested': 6638, 'scented': 6639, 'drone': 6640, 'relaxed': 6641, 'jest': 6642, 'savagely': 6643, 'gal': 6644, 'ppl': 6645, 'string': 6646, 'brief': 6647, 'existence': 6648, 'scratch': 6649, 'uncertain': 6650, 'youth': 6651, 'firstborn': 6652, 'eldest': 6653, 'younker': 6654, 'composite': 6655, 'innovate': 6656, 'gasp': 6657, 'gory': 6658, 'jean': 6659, 'obscene': 6660, 'universally': 6661, 'hammy': 6662, 'plethora': 6663, 'corrupt': 6664, 'repugnant': 6665, 'attire': 6666, 'makeup': 6667, 'bribe': 6668, 'african': 6669, 'utmost': 6670, 'nominal': 6671, 'ended': 6672, 'irreplaceable': 6673, 'everlastingly': 6674, 'apportion': 6675, 'opening': 6676, 'torture': 6677, 'scuttle': 6678, 'coin': 6679, 'invite_code': 6680, 'instal': 6681, 'adventure': 6682, 'comer': 6683, 'cruise': 6684, 'meretricious': 6685, 'whistle': 6686, 'tawdry': 6687, 'choke': 6688, 'asian': 6689, 'cauliflower': 6690, 'dermatologist': 6691, 'genital': 6692, 'gossipy': 6693, 'venereal': 6694, 'wart': 6695, 'asiatic': 6696, 'designate': 6697, 'homophile': 6698, 'schoolbook': 6699, 'catfish': 6700, 'rightfully': 6701, 'identity': 6702, 'detention': 6703, 'forefather': 6704, 'flinch': 6705, 'trifle': 6706, 'wellspring': 6707, 'kissing': 6708, 'sufficiency': 6709, 'amateur': 6710, 'anime': 6711, 'instrument': 6712, 'mmorpgs': 6713, 'privately': 6714, 'spiritism': 6715, 'supernatural': 6716, 'warcraft': 6717, 'drag': 6718, 'misrepresent': 6719, 'spirituality': 6720, 'anticipated': 6721, 'messaging': 6722, 'trolling': 6723, 'webcam': 6724, 'limitation': 6725, 'confinement': 6726, 'referable': 6727, 'troll': 6728, 'criticism': 6729, 'indefinite': 6730, 'knottiness': 6731, 'flirty': 6732, 'pluck': 6733, 'knocked': 6734, 'cursorily': 6735, 'bunk': 6736, 'mumble': 6737, 'rap': 6738, 'gum': 6739, 'rambling': 6740, 'mia': 6741, 'obnoxious': 6742, 'clubhouse': 6743, 'bat': 6744, 'coarse': 6745, 'executive': 6746, 'vulgar': 6747, 'cutting': 6748, 'stability': 6749, 'swerve': 6750, 'stableness': 6751, 'pe': 6752, 'unspeakable': 6753, 'pegleg': 6754, 'casserole': 6755, 'coffee': 6756, 'crutch': 6757, 'protein': 6758, 'transit': 6759, 'botheration': 6760, 'repast': 6761, 'wheelchair': 6762, 'fleeceable': 6763, 'collation': 6764, 'disturb': 6765, 'rumpus': 6766, 'slenderly': 6767, 'pende': 6768, 'protection_ord': 6769, 'expecting': 6770, 'visible': 6771, 'seeable': 6772, 'stack': 6773, 'chairperson': 6774, 'cooler': 6775, 'dresser': 6776, 'loudspeaker': 6777, 'pallet': 6778, 'queen': 6779, 'shelf': 6780, 'softheade': 6781, 'speaker': 6782, 'inning': 6783, 'planck': 6784, 'fre': 6785, 'comfortableness': 6786, 'thrust': 6787, 'documentary': 6788, 'fred': 6789, 'ginny': 6790, 'glos': 6791, 'needed': 6792, 'ray': 6793, 'ledge': 6794, 'permission': 6795, 'tension': 6796, 'undertaking': 6797, 'angrily': 6798, 'apologetic': 6799, 'drip': 6800, 'dripping': 6801, 'forebode': 6802, 'prank': 6803, 'implore': 6804, 'neurological': 6805, 'outgrow': 6806, 'bombard': 6807, 'patience': 6808, 'longanimity': 6809, 'yarn': 6810, 'schooltime': 6811, 'payback': 6812, 'abound': 6813, 'eternal': 6814, 'footle': 6815, 'rapid': 6816, 'requirement': 6817, 'theory': 6818, 'speedy': 6819, 'motive': 6820, 'assess': 6821, 'bristle': 6822, 'valuate': 6823, 'anytime': 6824, 'boom': 6825, 'bulwark': 6826, 'legal': 6827, 'narrow': 6828, 'taxicab': 6829, 'arabian': 6830, 'wall': 6831, 'degenerate': 6832, 'hack': 6833, 'parie': 6834, 'amercement': 6835, 'harmless': 6836, 'poker': 6837, 'potable': 6838, 'nuisance': 6839, 'infliction': 6840, 'coerce': 6841, 'moody': 6842, 'opprobrious': 6843, 'afternoon': 6844, 'dizzy': 6845, 'errand': 6846, 'infont': 6847, 'contrast': 6848, 'matte': 6849, 'busybodied': 6850, 'subscriber': 6851, 'objectionable': 6852, 'sabbatum': 6853, 'encampment': 6854, 'generation': 6855, 'precarious': 6856, 'tactile': 6857, 'jillion': 6858, 'mellow': 6859, 'coeval': 6860, 'orison': 6861, 'confirmation': 6862, 'finnishe': 6863, 'rascal': 6864, 'tumble': 6865, 'vocabulary': 6866, 'countenance': 6867, 'perpetually': 6868, 'clot': 6869, 'feasible': 6870, 'midst': 6871, 'rein': 6872, 'teaching': 6873, 'authentically': 6874, 'executable': 6875, 'handicap': 6876, 'aforementione': 6877, 'confrontation': 6878, 'fiancee': 6879, 'digest': 6880, 'outstanding': 6881, 'repulse': 6882, 'berate': 6883, 'hobby': 6884, 'infantile': 6885, 'worthless': 6886, 'daze': 6887, 'mechanism': 6888, 'appease': 6889, 'mechanic': 6890, 'fabulously': 6891, 'rapport': 6892, 'needless': 6893, 'correlation': 6894, 'favorite_character': 6895, 'fibre': 6896, 'political_affiliation': 6897, 'bureau': 6898, 'plausibly': 6899, 'republican': 6900, 'fiber': 6901, 'ashamed': 6902, 'coercive': 6903, 'frightened': 6904, 'gaslight': 6905, 'nonaged': 6906, 'underage': 6907, 'verbally': 6908, 'mistreat': 6909, 'infinitely': 6910, 'lyft': 6911, 'software': 6912, 'cable': 6913, 'calif': 6914, 'attract': 6915, 'bawl': 6916, 'kicker': 6917, 'pokemon': 6918, 'tue': 6919, 'beak': 6920, 'glossa': 6921, 'rapecounsele': 6922, 'distraction': 6923, 'doggo': 6924, 'intelligent': 6925, 'beguilement': 6926, 'reasoning': 6927, 'equation': 6928, 'informed': 6929, 'bombastic': 6930, 'frump': 6931, 'possessor': 6932, 'roadside': 6933, 'preindication': 6934, 'swash': 6935}\n"
          ]
        }
      ]
    },
    {
      "cell_type": "code",
      "source": [
        "topics_dict_gensim_neg_label = dict()\n",
        "print(f'creating topic generators')\n",
        "# n_topics\n",
        "evaluation_neg_label = []\n",
        "for n in topics:\n",
        "  set_seed(SEED)\n",
        "  topics_dict_gensim_neg_label[n] = LDA_Wrapper_Topics_Distributions_Gensim(SEED, data_words_clean_for_lda_model_training_neg_label, mapped_for_train,\n",
        "                                                                  corpus_neg_label, dictionary_neg_label, alpha=alpha, eta=eta, n_components=n)\n",
        "  evaluated_coherence_neg_label = topics_dict_gensim_neg_label[n].evaluate_model()\n",
        "  evaluation_neg_label.append(evaluated_coherence_neg_label)\n",
        "  print(f'K={n} - Coherence Score: ', evaluated_coherence_neg_label)\n",
        "  print(f'created topic generator for {n} topics')"
      ],
      "metadata": {
        "colab": {
          "base_uri": "https://localhost:8080/"
        },
        "id": "8dHA7C-sN9CP",
        "outputId": "fa4eb8a4-af8e-4b54-8afe-7ec6f039806c"
      },
      "execution_count": 52,
      "outputs": [
        {
          "output_type": "stream",
          "name": "stdout",
          "text": [
            "creating topic generators\n",
            "nPerplexity Score:  -7.993997844707974\n",
            "K=75 - Coherence Score:  0.5035300809225096\n",
            "created topic generator for 75 topics\n",
            "nPerplexity Score:  -8.013852925183294\n",
            "K=80 - Coherence Score:  0.47701557889244556\n",
            "created topic generator for 80 topics\n",
            "nPerplexity Score:  -8.04391141993935\n",
            "K=85 - Coherence Score:  0.49210183857524564\n",
            "created topic generator for 85 topics\n",
            "nPerplexity Score:  -8.059151519215709\n",
            "K=90 - Coherence Score:  0.47562553557682574\n",
            "created topic generator for 90 topics\n",
            "nPerplexity Score:  -8.102849852803537\n",
            "K=100 - Coherence Score:  0.5243503079267495\n",
            "created topic generator for 100 topics\n"
          ]
        }
      ]
    },
    {
      "cell_type": "code",
      "source": [
        "x = np.array(topics)\n",
        "y = np.array(evaluation_neg_label)\n",
        "max_coerence_index_neg_label = np.argmax(evaluation_neg_label)\n",
        "# Plotting the Graph\n",
        "plt.plot(x, y)\n",
        "plt.title(f\"Coherence curve plotted using the given points - alpa = {alpha}, beta = {eta}, \\nmax coherence is k={topics[max_coerence_index_neg_label]} coherence={evaluation_neg_label[max_coerence_index_neg_label]}])\")\n",
        "plt.xlabel(\"number of topics\")\n",
        "plt.ylabel(\"coherence\")\n",
        "plt.show()"
      ],
      "metadata": {
        "id": "Pk5qILQcOnjN",
        "colab": {
          "base_uri": "https://localhost:8080/",
          "height": 310
        },
        "outputId": "7eb86911-563f-4a5f-b292-a650ad3bfd0d"
      },
      "execution_count": 53,
      "outputs": [
        {
          "output_type": "display_data",
          "data": {
            "text/plain": [
              "<Figure size 432x288 with 1 Axes>"
            ],
            "image/png": "[encoded data removed]"
          },
          "metadata": {
            "needs_background": "light"
          }
        }
      ]
    },
    {
      "cell_type": "code",
      "source": [
        "index = max_coerence_index\n",
        "topic_key = topics[index]\n",
        "print(f'selected {evaluation[index]}')\n",
        "lda_model = topics_dict_gensim[topic_key]"
      ],
      "metadata": {
        "id": "9darWonOVB5i",
        "colab": {
          "base_uri": "https://localhost:8080/"
        },
        "outputId": "293fbe8b-375c-4eb5-a723-72df7d67c39c"
      },
      "execution_count": 54,
      "outputs": [
        {
          "output_type": "stream",
          "name": "stdout",
          "text": [
            "selected 0.5058757825122311\n"
          ]
        }
      ]
    },
    {
      "cell_type": "code",
      "source": [
        "index_neg_label = max_coerence_index_neg_label\n",
        "topic_key = topics[index_neg_label]\n",
        "print(f'selected {evaluation_neg_label[index_neg_label]}')\n",
        "lda_model_neg_label = topics_dict_gensim_neg_label[topic_key]"
      ],
      "metadata": {
        "id": "pcEzv2KwPLuU",
        "colab": {
          "base_uri": "https://localhost:8080/"
        },
        "outputId": "52e9614d-80c2-4d13-c30b-9cfd8d1f89a4"
      },
      "execution_count": 55,
      "outputs": [
        {
          "output_type": "stream",
          "name": "stdout",
          "text": [
            "selected 0.5243503079267495\n"
          ]
        }
      ]
    },
    {
      "cell_type": "markdown",
      "source": [
        "## Prepare Data For Classification"
      ],
      "metadata": {
        "id": "NMQYi_NYi9Zh"
      }
    },
    {
      "cell_type": "code",
      "execution_count": 56,
      "metadata": {
        "id": "bWtY2I3HYc0J"
      },
      "outputs": [],
      "source": [
        "distributions_train = lda_model.transform(train_sentences)\n",
        "lda_train_topics_distribution = distributions_train.cpu().detach().numpy()"
      ]
    },
    {
      "cell_type": "code",
      "execution_count": 57,
      "metadata": {
        "id": "_XuJMDmOxotI"
      },
      "outputs": [],
      "source": [
        "distributions_test = lda_model.transform_cleaned(mapped_for_test.values())\n",
        "lda_test_topics_distribution = distributions_test.cpu().detach().numpy()"
      ]
    },
    {
      "cell_type": "code",
      "source": [
        "distributions_train_neg_label = lda_model_neg_label.transform(train_sentences)\n",
        "lda_train_topics_distribution_neg_label = distributions_train_neg_label.cpu().detach().numpy()"
      ],
      "metadata": {
        "id": "xgqnDruIWKdg"
      },
      "execution_count": 58,
      "outputs": []
    },
    {
      "cell_type": "code",
      "source": [
        "distributions_test_neg_label = lda_model_neg_label.transform_cleaned(mapped_for_test.values())\n",
        "lda_test_topics_distribution_neg_label = distributions_test_neg_label.cpu().detach().numpy()"
      ],
      "metadata": {
        "id": "8inOKunAWLPK"
      },
      "execution_count": 59,
      "outputs": []
    },
    {
      "cell_type": "code",
      "execution_count": 60,
      "metadata": {
        "id": "ioduwCN3bLYi"
      },
      "outputs": [],
      "source": [
        "topic_columns_train = pd.DataFrame(lda_train_topics_distribution)"
      ]
    },
    {
      "cell_type": "code",
      "execution_count": 61,
      "metadata": {
        "id": "umqfbFi8nJkO"
      },
      "outputs": [],
      "source": [
        "topic_columns_test = pd.DataFrame(lda_test_topics_distribution)"
      ]
    },
    {
      "cell_type": "code",
      "source": [
        "topic_columns_train_neg_label = pd.DataFrame(lda_train_topics_distribution_neg_label)"
      ],
      "metadata": {
        "id": "PtelGgszWr_D"
      },
      "execution_count": 62,
      "outputs": []
    },
    {
      "cell_type": "code",
      "source": [
        "topic_columns_test_neg_label = pd.DataFrame(lda_test_topics_distribution_neg_label)"
      ],
      "metadata": {
        "id": "_AP3nU3eWsUN"
      },
      "execution_count": 63,
      "outputs": []
    },
    {
      "cell_type": "code",
      "source": [
        "selected_feature_df = X_train[X_train['confidence'] >= 0.8]\n",
        "ll = selected_feature_df[selected_feature_df.columns[1:]].corr().abs()['label'].sort_values(ascending = False)[:16].gt(0.3899999).drop('label').where(lambda x : x == True).dropna()"
      ],
      "metadata": {
        "id": "gXwmHWSUe0OM"
      },
      "execution_count": 64,
      "outputs": []
    },
    {
      "cell_type": "code",
      "source": [
        "top_correlations = list(ll.index)\n",
        "top_correlations"
      ],
      "metadata": {
        "id": "g-StBnH97S9Q",
        "colab": {
          "base_uri": "https://localhost:8080/"
        },
        "outputId": "3e4b7deb-19ec-4a8a-d150-add507615e5f"
      },
      "execution_count": 65,
      "outputs": [
        {
          "output_type": "execute_result",
          "data": {
            "text/plain": [
              "['lex_liwc_Tone', 'lex_liwc_Clout', 'lex_liwc_negemo', 'lex_liwc_i']"
            ]
          },
          "metadata": {},
          "execution_count": 65
        }
      ]
    },
    {
      "cell_type": "code",
      "execution_count": 66,
      "metadata": {
        "id": "GPSBnVH2cDUV"
      },
      "outputs": [],
      "source": [
        "ff = []\n",
        "ff.extend(top_correlations)"
      ]
    },
    {
      "cell_type": "code",
      "source": [
        "ff"
      ],
      "metadata": {
        "id": "euPcldNNDv15",
        "colab": {
          "base_uri": "https://localhost:8080/"
        },
        "outputId": "22f33219-7319-4367-ea01-41bca91183db"
      },
      "execution_count": 67,
      "outputs": [
        {
          "output_type": "execute_result",
          "data": {
            "text/plain": [
              "['lex_liwc_Tone', 'lex_liwc_Clout', 'lex_liwc_negemo', 'lex_liwc_i']"
            ]
          },
          "metadata": {},
          "execution_count": 67
        }
      ]
    },
    {
      "cell_type": "code",
      "execution_count": 68,
      "metadata": {
        "id": "pej6EG5XvJ2J",
        "colab": {
          "base_uri": "https://localhost:8080/"
        },
        "outputId": "ba89fae5-bb6e-48c5-e244-6b6b8b5c8773"
      },
      "outputs": [
        {
          "output_type": "stream",
          "name": "stdout",
          "text": [
            "X.shape = (2838, 300)\n",
            "test_X.shape = (715, 300)\n"
          ]
        }
      ],
      "source": [
        "X = pd.DataFrame(X_train_vect_avg)\n",
        "print(f'X.shape = {X.shape}')\n",
        "test_X = pd.DataFrame(X_test_vect_avg)\n",
        "print(f'test_X.shape = {test_X.shape}')"
      ]
    },
    {
      "cell_type": "code",
      "source": [
        "embedding = MDS(n_components=2, random_state=SEED)\n",
        "X = embedding.fit_transform(X)\n",
        "X = pd.DataFrame(X)\n",
        "\n",
        "embedding = MDS(n_components=2, random_state=SEED)\n",
        "test_X = embedding.fit_transform(test_X)\n",
        "test_X = pd.DataFrame(test_X)"
      ],
      "metadata": {
        "id": "IH2_EWTCsJOm"
      },
      "execution_count": 69,
      "outputs": []
    },
    {
      "cell_type": "code",
      "source": [
        "tsne_train = TSNE(random_state=SEED, n_components=2, learning_rate='auto', init='pca', perplexity=7)\n",
        "topic_columns_train_embedded = tsne_train.fit_transform(topic_columns_train)\n",
        "topic_columns_train = pd.DataFrame(topic_columns_train_embedded)"
      ],
      "metadata": {
        "id": "fhmyMGMO1sln",
        "colab": {
          "base_uri": "https://localhost:8080/"
        },
        "outputId": "41cf5c69-fe5f-4162-cbb7-c92e1e9d1afd"
      },
      "execution_count": 70,
      "outputs": [
        {
          "output_type": "stream",
          "name": "stderr",
          "text": [
            "/usr/local/lib/python3.7/dist-packages/sklearn/manifold/_t_sne.py:986: FutureWarning: The PCA initialization in TSNE will change to have the standard deviation of PC1 equal to 1e-4 in 1.2. This will ensure better convergence.\n",
            "  FutureWarning,\n"
          ]
        }
      ]
    },
    {
      "cell_type": "code",
      "source": [
        "tsne_test = TSNE(random_state=SEED, n_components=2, learning_rate='auto', init='pca', perplexity=7)\n",
        "topic_columns_test_embedded = tsne_test.fit_transform(topic_columns_test)\n",
        "topic_columns_test = pd.DataFrame(topic_columns_test_embedded)"
      ],
      "metadata": {
        "id": "6tnP7cnDnACL",
        "colab": {
          "base_uri": "https://localhost:8080/"
        },
        "outputId": "025514d2-5e38-427e-b7f2-25d73b01e8f1"
      },
      "execution_count": 71,
      "outputs": [
        {
          "output_type": "stream",
          "name": "stderr",
          "text": [
            "/usr/local/lib/python3.7/dist-packages/sklearn/manifold/_t_sne.py:986: FutureWarning: The PCA initialization in TSNE will change to have the standard deviation of PC1 equal to 1e-4 in 1.2. This will ensure better convergence.\n",
            "  FutureWarning,\n"
          ]
        }
      ]
    },
    {
      "cell_type": "code",
      "source": [
        "tsne_train_neg_label = TSNE(random_state=SEED, n_components=2, learning_rate='auto', init='pca', perplexity=7)\n",
        "topic_columns_train_embedded_neg_label = tsne_train_neg_label.fit_transform(topic_columns_train_neg_label)\n",
        "topic_columns_train_neg_label = pd.DataFrame(topic_columns_train_embedded_neg_label)"
      ],
      "metadata": {
        "id": "vezoRAdNW5rF",
        "colab": {
          "base_uri": "https://localhost:8080/"
        },
        "outputId": "5021e39c-8542-4e37-95d6-1501d012c72c"
      },
      "execution_count": 72,
      "outputs": [
        {
          "output_type": "stream",
          "name": "stderr",
          "text": [
            "/usr/local/lib/python3.7/dist-packages/sklearn/manifold/_t_sne.py:986: FutureWarning: The PCA initialization in TSNE will change to have the standard deviation of PC1 equal to 1e-4 in 1.2. This will ensure better convergence.\n",
            "  FutureWarning,\n"
          ]
        }
      ]
    },
    {
      "cell_type": "code",
      "source": [
        "tsne_test_neg_label = TSNE(random_state=SEED, n_components=2, learning_rate='auto', init='pca', perplexity=7)\n",
        "topic_columns_test_embedded_neg_label = tsne_test_neg_label.fit_transform(topic_columns_test_neg_label)\n",
        "topic_columns_test_neg_label = pd.DataFrame(topic_columns_test_embedded_neg_label)"
      ],
      "metadata": {
        "id": "x59iKUorW6KS",
        "colab": {
          "base_uri": "https://localhost:8080/"
        },
        "outputId": "3d9e650a-f3e3-44ae-f4a4-a59d307800ee"
      },
      "execution_count": 73,
      "outputs": [
        {
          "output_type": "stream",
          "name": "stderr",
          "text": [
            "/usr/local/lib/python3.7/dist-packages/sklearn/manifold/_t_sne.py:986: FutureWarning: The PCA initialization in TSNE will change to have the standard deviation of PC1 equal to 1e-4 in 1.2. This will ensure better convergence.\n",
            "  FutureWarning,\n"
          ]
        }
      ]
    },
    {
      "cell_type": "code",
      "source": [
        "X = pd.concat([X, topic_columns_train], axis=1, ignore_index=True)\n",
        "print(f'topics - X.shape = {X.shape}')\n",
        "test_X = pd.concat([test_X, topic_columns_test], axis=1, ignore_index=True)\n",
        "print(f'topics - test_X.shape = {test_X.shape}')"
      ],
      "metadata": {
        "id": "JSl6zNFjMslM",
        "colab": {
          "base_uri": "https://localhost:8080/"
        },
        "outputId": "b960dab6-2a86-4130-e252-70f2b5cfbc92"
      },
      "execution_count": 74,
      "outputs": [
        {
          "output_type": "stream",
          "name": "stdout",
          "text": [
            "topics - X.shape = (2838, 4)\n",
            "topics - test_X.shape = (715, 4)\n"
          ]
        }
      ]
    },
    {
      "cell_type": "code",
      "source": [
        "X = pd.concat([X, topic_columns_train_neg_label], axis=1, ignore_index=True)\n",
        "print(f'topics - X.shape = {X.shape}')\n",
        "test_X = pd.concat([test_X, topic_columns_test_neg_label], axis=1, ignore_index=True)\n",
        "print(f'topics - test_X.shape = {test_X.shape}')"
      ],
      "metadata": {
        "id": "uOFik9e7Xass",
        "colab": {
          "base_uri": "https://localhost:8080/"
        },
        "outputId": "d99887fa-8239-4d96-827d-0132b9c33067"
      },
      "execution_count": 75,
      "outputs": [
        {
          "output_type": "stream",
          "name": "stdout",
          "text": [
            "topics - X.shape = (2838, 6)\n",
            "topics - test_X.shape = (715, 6)\n"
          ]
        }
      ]
    },
    {
      "cell_type": "code",
      "source": [
        "X = concat_two(X_train, X, ff)\n",
        "print(f'features - X.shape = {X.shape}')\n",
        "test_X = concat_two(X_test, test_X, ff)\n",
        "print(f'features - test_X.shape = {test_X.shape}')"
      ],
      "metadata": {
        "id": "LgRTlXH95hBZ",
        "colab": {
          "base_uri": "https://localhost:8080/"
        },
        "outputId": "04235cdd-1ccd-4ad3-fb82-fe6a9a08a152"
      },
      "execution_count": 76,
      "outputs": [
        {
          "output_type": "stream",
          "name": "stdout",
          "text": [
            "features - X.shape = (2838, 10)\n",
            "features - test_X.shape = (715, 10)\n"
          ]
        }
      ]
    },
    {
      "cell_type": "code",
      "source": [
        "def get_data_to_train(df_, x_, threshold = 0.8):\n",
        "  x_ = x_.copy(deep=True)\n",
        "  x_['confidence'] = df_.confidence\n",
        "  x_['target'] = df_.label\n",
        "  # x_for_test['confidence'] = df_test.confidence\n",
        "  # x_for_test['target'] = df_test.label\n",
        "\n",
        "  self_train_x_train = x_[x_['confidence'] >= threshold]\n",
        "  self_train_x_train = self_train_x_train.copy(deep=True)\n",
        "  print(f'x train shape is {self_train_x_train.shape}')\n",
        "\n",
        "  df_train_part = self_train_x_train\n",
        "\n",
        "  y_baseline_train = df_train_part['target']\n",
        "  x_baseline_train = df_train_part.drop('target', axis=1)\n",
        "\n",
        "  print(f'x train baseline shape is {x_baseline_train.shape}')\n",
        "\n",
        "  copy_of_x = x_.copy(deep=True)\n",
        "  copy_of_x.loc[x_['confidence'] < threshold, 'target'] = -1\n",
        "  print(f'all masked {copy_of_x.shape}')\n",
        "\n",
        "  y_unlabled = copy_of_x.target.tolist()\n",
        "  x_unlabled = copy_of_x.drop('target', axis=1)\n",
        "  x_unlabled.shape, len(y_unlabled)\n",
        "  print(f'x unlabled shape is {x_unlabled.shape}')\n",
        "  print(f'y unlabled shape is {len(y_unlabled)}')\n",
        "  x_unlabled = x_unlabled.drop('confidence', axis=1)\n",
        "  x_baseline_train = x_baseline_train.drop('confidence', axis=1)\n",
        "  return x_baseline_train.to_numpy(), y_baseline_train.to_numpy(), x_unlabled.to_numpy(), y_unlabled"
      ],
      "metadata": {
        "id": "i0wgmGSxumLm"
      },
      "execution_count": 77,
      "outputs": []
    },
    {
      "cell_type": "code",
      "source": [
        "x_baseline_train, y_baseline_train, x_unlabled, y_unlabled = get_data_to_train(X_train, X)"
      ],
      "metadata": {
        "id": "AmwkElij1kf0",
        "colab": {
          "base_uri": "https://localhost:8080/"
        },
        "outputId": "790f5937-2fdd-4b96-d2a8-2c2d5e2ca0d8"
      },
      "execution_count": 78,
      "outputs": [
        {
          "output_type": "stream",
          "name": "stdout",
          "text": [
            "x train shape is (1582, 12)\n",
            "x train baseline shape is (1582, 11)\n",
            "all masked (2838, 12)\n",
            "x unlabled shape is (2838, 11)\n",
            "y unlabled shape is 2838\n"
          ]
        }
      ]
    },
    {
      "cell_type": "code",
      "source": [
        "y_test = X_test.label"
      ],
      "metadata": {
        "id": "lxdTSy206XFO"
      },
      "execution_count": 79,
      "outputs": []
    },
    {
      "cell_type": "markdown",
      "source": [
        "## Classifiers"
      ],
      "metadata": {
        "id": "rzF1h1GkClce"
      }
    },
    {
      "cell_type": "code",
      "execution_count": 80,
      "metadata": {
        "id": "ti7NL58t17VD"
      },
      "outputs": [],
      "source": [
        "from sklearn.ensemble import GradientBoostingClassifier, RandomForestClassifier, AdaBoostClassifier\n",
        "from xgboost import XGBClassifier\n",
        "from sklearn.naive_bayes import BernoulliNB\n",
        "from sklearn.tree import DecisionTreeClassifier\n",
        "from sklearn.linear_model import LogisticRegression, SGDClassifier\n",
        "from sklearn.neighbors import KNeighborsClassifier\n",
        "from sklearn.svm import SVC\n",
        "from sklearn.naive_bayes import GaussianNB\n",
        "from sklearn.model_selection import cross_val_score\n",
        "from sklearn.model_selection import RepeatedStratifiedKFold\n",
        "from sklearn.preprocessing import StandardScaler\n",
        "from sklearn.pipeline import make_pipeline\n",
        "from sklearn.model_selection import GridSearchCV\n",
        "from sklearn.metrics import confusion_matrix\n",
        "\n",
        "import warnings\n",
        "warnings.filterwarnings(action='ignore', category=UserWarning)"
      ]
    },
    {
      "cell_type": "code",
      "execution_count": 81,
      "metadata": {
        "id": "BxA9Rlm32CDc"
      },
      "outputs": [],
      "source": [
        "def get_models():\n",
        "    \n",
        "    models = dict()\n",
        "    models['lr'] = make_pipeline(StandardScaler(),LogisticRegression(solver = 'liblinear', C = 1.0))\n",
        "    models['svm'] = make_pipeline(StandardScaler(),SVC(kernel='rbf', gamma=\"auto\", C=2, class_weight='balanced'))\n",
        "    models['xgboost'] = XGBClassifier(n_estimators = 11, max_depth = 1)\n",
        "    models['GBM'] = GradientBoostingClassifier(n_estimators = 10)\n",
        "    models['adaboost'] = AdaBoostClassifier(n_estimators= 20)\n",
        "    models['r_forest'] = RandomForestClassifier(n_estimators=500, max_features='auto', criterion='entropy')\n",
        "    models['sgd'] = SGDClassifier(\n",
        "        max_iter=2000,\n",
        "        tol=1e-3,\n",
        "        alpha=20,\n",
        "        loss='modified_huber')\n",
        "    \n",
        "    return models"
      ]
    },
    {
      "cell_type": "code",
      "execution_count": 82,
      "metadata": {
        "id": "dXi9yLMA2Fwp"
      },
      "outputs": [],
      "source": [
        "def evaluate_model(model, X, y):\n",
        "\tcv = RepeatedStratifiedKFold(n_splits=10, n_repeats=6, random_state=1)\n",
        "\tscores = cross_val_score(model, X, y, scoring='f1', cv=cv, n_jobs=-1, error_score='raise')\n",
        "\treturn scores"
      ]
    },
    {
      "cell_type": "code",
      "execution_count": 83,
      "metadata": {
        "id": "Co-Cnx3J2KrD",
        "colab": {
          "base_uri": "https://localhost:8080/",
          "height": 385
        },
        "outputId": "9427e3ff-48ad-4f74-b2c8-9f32094cf88d"
      },
      "outputs": [
        {
          "output_type": "stream",
          "name": "stdout",
          "text": [
            ">lr 0.83 (0.03)\n",
            ">svm 0.84 (0.03)\n",
            ">xgboost 0.81 (0.03)\n",
            ">GBM 0.82 (0.03)\n",
            ">adaboost 0.83 (0.03)\n",
            ">r_forest 0.84 (0.03)\n",
            ">sgd 0.82 (0.03)\n"
          ]
        },
        {
          "output_type": "display_data",
          "data": {
            "text/plain": [
              "<Figure size 432x288 with 1 Axes>"
            ],
            "image/png": "[encoded data removed]"
          },
          "metadata": {
            "needs_background": "light"
          }
        }
      ],
      "source": [
        "import matplotlib.pyplot as plt\n",
        "%matplotlib inline\n",
        "from numpy import mean\n",
        "from numpy import std\n",
        "\n",
        "# get the models to evaluate\n",
        "models = get_models()\n",
        "# evaluate the models and store results\n",
        "results, names = list(), list()\n",
        "for name, model in models.items():\n",
        "\tscores = evaluate_model(model, x_baseline_train, y_baseline_train)\n",
        "\tresults.append(scores)\n",
        "\tnames.append(name)\n",
        "\tprint('>%s %.2f (%.2f)' % (name, scores.mean(), std(scores)))\n",
        "# plot model performance for comparison\n",
        "plt.boxplot(results, labels=names, showmeans=True)\n",
        "plt.show()"
      ]
    },
    {
      "cell_type": "code",
      "source": [
        "param_grid = {\n",
        "\n",
        "    'bootstrap': [True],\n",
        "\n",
        "    'max_depth': [100],\n",
        "\n",
        "    'max_features': [2, 'auto', 'log2'],\n",
        "\n",
        "    'min_samples_leaf': [4],\n",
        "\n",
        "    'min_samples_split': [12],\n",
        "\n",
        "    'random_state': [SEED],\n",
        "\n",
        "    'criterion': ['entropy'],\n",
        "\n",
        "    'n_estimators': [200, 500]\n",
        "\n",
        "}"
      ],
      "metadata": {
        "id": "tJ8rbzKtukAr"
      },
      "execution_count": 84,
      "outputs": []
    },
    {
      "cell_type": "code",
      "source": [
        "rfc = RandomForestClassifier()\n",
        "grid_search = GridSearchCV(estimator = rfc, param_grid = param_grid, cv = 8, n_jobs = -1, verbose = True)\n",
        "model_rfc = grid_search.fit(x_baseline_train, y_baseline_train)\n",
        "print(model_rfc.best_estimator_)"
      ],
      "metadata": {
        "id": "JGX6qAizu5D7",
        "colab": {
          "base_uri": "https://localhost:8080/"
        },
        "outputId": "1314d16e-eb8b-454a-c367-8364ac5c32be"
      },
      "execution_count": 85,
      "outputs": [
        {
          "output_type": "stream",
          "name": "stdout",
          "text": [
            "Fitting 8 folds for each of 6 candidates, totalling 48 fits\n",
            "RandomForestClassifier(criterion='entropy', max_depth=100, max_features=2,\n",
            "                       min_samples_leaf=4, min_samples_split=12,\n",
            "                       n_estimators=500, random_state=82)\n"
          ]
        }
      ]
    },
    {
      "cell_type": "code",
      "source": [
        "predicted_train_rfc = model_rfc.predict(x_baseline_train)\n",
        "accuracy_train_rfc = accuracy_score(y_baseline_train, predicted_train_rfc)\n",
        "print('Accuracy Training data: {:.1%}'.format(accuracy_train_rfc))\n",
        "\n",
        "predicted_test_rfc = model_rfc.predict(test_X)\n",
        "accuracy_test_rfc = accuracy_score(y_test, predicted_test_rfc)\n",
        "print('Accuracy Test data: {:.1%}'.format(accuracy_test_rfc))"
      ],
      "metadata": {
        "id": "D9rGUeoixqI1",
        "colab": {
          "base_uri": "https://localhost:8080/"
        },
        "outputId": "d2d5b15f-bdde-4b28-bcb8-ac7da8e9930c"
      },
      "execution_count": 86,
      "outputs": [
        {
          "output_type": "stream",
          "name": "stdout",
          "text": [
            "Accuracy Training data: 93.7%\n",
            "Accuracy Test data: 80.4%\n"
          ]
        }
      ]
    },
    {
      "cell_type": "code",
      "source": [
        "print(classification_report(y_test, predicted_test_rfc))"
      ],
      "metadata": {
        "id": "arAWtD-t4PI5",
        "colab": {
          "base_uri": "https://localhost:8080/"
        },
        "outputId": "00cc4e42-a6b2-4ae2-98fb-3039b64f4183"
      },
      "execution_count": 87,
      "outputs": [
        {
          "output_type": "stream",
          "name": "stdout",
          "text": [
            "              precision    recall  f1-score   support\n",
            "\n",
            "           0       0.79      0.78      0.79       331\n",
            "           1       0.81      0.83      0.82       384\n",
            "\n",
            "    accuracy                           0.80       715\n",
            "   macro avg       0.80      0.80      0.80       715\n",
            "weighted avg       0.80      0.80      0.80       715\n",
            "\n"
          ]
        }
      ]
    },
    {
      "cell_type": "code",
      "execution_count": 88,
      "metadata": {
        "id": "zLLnyDAi2v_o",
        "colab": {
          "base_uri": "https://localhost:8080/"
        },
        "outputId": "cfd19244-a445-4890-844b-ed9bfbc9ad0a"
      },
      "outputs": [
        {
          "output_type": "stream",
          "name": "stdout",
          "text": [
            "Fitting 10 folds for each of 75 candidates, totalling 750 fits\n"
          ]
        }
      ],
      "source": [
        "std_slc = StandardScaler()\n",
        "classifier_lr = LogisticRegression()\n",
        "model_lr = Pipeline([\n",
        "    ('std_slc', std_slc),\n",
        "    (\"classifier\", classifier_lr)])\n",
        "\n",
        "\n",
        "param_grid = [\n",
        "    {'classifier__C': np.logspace(-2, 4, 70)},\n",
        "    {'classifier__penalty' : ['l2']},\n",
        "    {'classifier__solver'  : ['newton-cg', 'saga', 'lbfgs', 'liblinear']}\n",
        "]\n",
        "\n",
        "# Create grid search object\n",
        "\n",
        "clf = GridSearchCV(model_lr, param_grid = param_grid, cv = 10, verbose=True, n_jobs=-1)\n",
        "\n",
        "# Fit on data\n",
        "\n",
        "model_lr = clf.fit(x_baseline_train, y_baseline_train)"
      ]
    },
    {
      "cell_type": "code",
      "execution_count": 89,
      "metadata": {
        "id": "i9wcLbxc_cKU",
        "colab": {
          "base_uri": "https://localhost:8080/"
        },
        "outputId": "616bef66-f725-494d-b331-f46cdc0a6759"
      },
      "outputs": [
        {
          "output_type": "stream",
          "name": "stdout",
          "text": [
            "Pipeline(steps=[('std_slc', StandardScaler()),\n",
            "                ('classifier', LogisticRegression(C=0.24620924014946255))])\n"
          ]
        }
      ],
      "source": [
        "print(model_lr.best_estimator_)"
      ]
    },
    {
      "cell_type": "code",
      "execution_count": 90,
      "metadata": {
        "id": "XUrqI1eD8LDP",
        "colab": {
          "base_uri": "https://localhost:8080/"
        },
        "outputId": "6d41a5e0-3e0a-40f7-a9b5-5a6f9ad6ac7e"
      },
      "outputs": [
        {
          "output_type": "stream",
          "name": "stdout",
          "text": [
            "Accuracy Training data: 81.7%\n",
            "Accuracy Test data: 80.8%\n"
          ]
        }
      ],
      "source": [
        "predicted_train_lr = model_lr.predict(x_baseline_train)\n",
        "accuracy_train_lr = accuracy_score(y_baseline_train, predicted_train_lr)\n",
        "print('Accuracy Training data: {:.1%}'.format(accuracy_train_lr))\n",
        "\n",
        "predicted_test_lr = model_lr.predict(test_X)\n",
        "accuracy_test_lr = accuracy_score(y_test, predicted_test_lr)\n",
        "print('Accuracy Test data: {:.1%}'.format(accuracy_test_lr))"
      ]
    },
    {
      "cell_type": "code",
      "execution_count": 91,
      "metadata": {
        "id": "hNS6bJq5_bU9",
        "colab": {
          "base_uri": "https://localhost:8080/"
        },
        "outputId": "e5472700-e6fb-48c9-8807-0bf8cc1fb2f5"
      },
      "outputs": [
        {
          "output_type": "stream",
          "name": "stdout",
          "text": [
            "              precision    recall  f1-score   support\n",
            "\n",
            "           0       0.80      0.78      0.79       331\n",
            "           1       0.82      0.83      0.82       384\n",
            "\n",
            "    accuracy                           0.81       715\n",
            "   macro avg       0.81      0.81      0.81       715\n",
            "weighted avg       0.81      0.81      0.81       715\n",
            "\n"
          ]
        }
      ],
      "source": [
        "print(classification_report(y_test, predicted_test_lr))"
      ]
    },
    {
      "cell_type": "code",
      "execution_count": 92,
      "metadata": {
        "id": "m0ekM3oz2ik8"
      },
      "outputs": [],
      "source": [
        "from sklearn.neural_network import MLPClassifier\n",
        "\n",
        "clf = MLPClassifier(solver='adam', activation='logistic',\n",
        "                    alpha=0.0002,\n",
        "                    learning_rate_init=0.01,\n",
        "                    learning_rate='adaptive',\n",
        "                    beta_1=0.9, beta_2=0.999,\n",
        "                    n_iter_no_change=8,\n",
        "                    hidden_layer_sizes=(200,), random_state=SEED).fit(x_baseline_train, y_baseline_train)\n",
        "y_pred = clf.predict(x_baseline_train)"
      ]
    },
    {
      "cell_type": "code",
      "source": [
        "print(classification_report(y_baseline_train,y_pred))"
      ],
      "metadata": {
        "id": "HylkEgvoRNA7",
        "colab": {
          "base_uri": "https://localhost:8080/"
        },
        "outputId": "80c690ec-e42f-4ca7-b191-8a0b3920d2fa"
      },
      "execution_count": 93,
      "outputs": [
        {
          "output_type": "stream",
          "name": "stdout",
          "text": [
            "              precision    recall  f1-score   support\n",
            "\n",
            "           0       1.00      1.00      1.00       719\n",
            "           1       1.00      1.00      1.00       863\n",
            "\n",
            "    accuracy                           1.00      1582\n",
            "   macro avg       1.00      1.00      1.00      1582\n",
            "weighted avg       1.00      1.00      1.00      1582\n",
            "\n"
          ]
        }
      ]
    },
    {
      "cell_type": "code",
      "source": [
        "y_pred = clf.predict(test_X)\n",
        "print(classification_report(y_test,y_pred))"
      ],
      "metadata": {
        "id": "jnfGRn7YRT1F",
        "colab": {
          "base_uri": "https://localhost:8080/"
        },
        "outputId": "1198f3e8-b738-4252-c7e0-15d8997a211f"
      },
      "execution_count": 94,
      "outputs": [
        {
          "output_type": "stream",
          "name": "stdout",
          "text": [
            "              precision    recall  f1-score   support\n",
            "\n",
            "           0       0.76      0.72      0.74       331\n",
            "           1       0.77      0.80      0.78       384\n",
            "\n",
            "    accuracy                           0.76       715\n",
            "   macro avg       0.76      0.76      0.76       715\n",
            "weighted avg       0.76      0.76      0.76       715\n",
            "\n"
          ]
        }
      ]
    },
    {
      "cell_type": "code",
      "source": [
        "print('R_Forest confusion matrix')\n",
        "confusion_matrix(y_test, predicted_test_rfc)"
      ],
      "metadata": {
        "id": "0dhMmfLhy7zS",
        "colab": {
          "base_uri": "https://localhost:8080/"
        },
        "outputId": "08b59cac-b374-4398-cdf7-fe863463b909"
      },
      "execution_count": 95,
      "outputs": [
        {
          "output_type": "stream",
          "name": "stdout",
          "text": [
            "R_Forest confusion matrix\n"
          ]
        },
        {
          "output_type": "execute_result",
          "data": {
            "text/plain": [
              "array([[258,  73],\n",
              "       [ 67, 317]])"
            ]
          },
          "metadata": {},
          "execution_count": 95
        }
      ]
    },
    {
      "cell_type": "code",
      "source": [
        "print('LoR confusion matrix')\n",
        "confusion_matrix(y_test, predicted_test_lr)"
      ],
      "metadata": {
        "id": "c_v4vh0QysnH",
        "colab": {
          "base_uri": "https://localhost:8080/"
        },
        "outputId": "4532b512-c28e-419c-e6fc-3e642f49131d"
      },
      "execution_count": 96,
      "outputs": [
        {
          "output_type": "stream",
          "name": "stdout",
          "text": [
            "LoR confusion matrix\n"
          ]
        },
        {
          "output_type": "execute_result",
          "data": {
            "text/plain": [
              "array([[259,  72],\n",
              "       [ 65, 319]])"
            ]
          },
          "metadata": {},
          "execution_count": 96
        }
      ]
    },
    {
      "cell_type": "code",
      "source": [
        "print('MLP confusion matrix')\n",
        "confusion_matrix(y_test, y_pred)"
      ],
      "metadata": {
        "id": "VE7Z5izXyHCE",
        "colab": {
          "base_uri": "https://localhost:8080/"
        },
        "outputId": "750a2c93-e6ca-435c-e2b0-aa414b42fac5"
      },
      "execution_count": 97,
      "outputs": [
        {
          "output_type": "stream",
          "name": "stdout",
          "text": [
            "MLP confusion matrix\n"
          ]
        },
        {
          "output_type": "execute_result",
          "data": {
            "text/plain": [
              "array([[239,  92],\n",
              "       [ 77, 307]])"
            ]
          },
          "metadata": {},
          "execution_count": 97
        }
      ]
    },
    {
      "cell_type": "code",
      "source": [
        "from sklearn.semi_supervised import SelfTrainingClassifier\n",
        "########## Step 1 - Data Prep ########## \n",
        "# Select data for modeling - we are including masked (-1) labels this time\n",
        "X_train_u=x_unlabled\n",
        "y_train_u=y_unlabled\n",
        "\n",
        "\n",
        "########## Step 2 - Model Fitting ########## \n",
        "model = RandomForestClassifier(criterion='entropy', max_depth=100, max_features=2,\n",
        "                       min_samples_leaf=4, min_samples_split=12,\n",
        "                       n_estimators=500, random_state=SEED)\n",
        "\n",
        "# Specify Self-Training model parameters\n",
        "self_training_model = SelfTrainingClassifier(base_estimator=model, # An estimator object implementing fit and predict_proba.\n",
        "                                             #threshold=0.8, # default=0.75, The decision threshold for use with criterion='threshold'. Should be in [0, 1).\n",
        "                                             criterion='k_best', # {‘threshold’, ‘k_best’}, default=’threshold’, The selection criterion used to select which labels to add to the training set. If 'threshold', pseudo-labels with prediction probabilities above threshold are added to the dataset. If 'k_best', the k_best pseudo-labels with highest prediction probabilities are added to the dataset.\n",
        "                                             k_best=50, # default=10, The amount of samples to add in each iteration. Only used when criterion='k_best'.\n",
        "                                             max_iter=100, # default=10, Maximum number of iterations allowed. Should be greater than or equal to 0. If it is None, the classifier will continue to predict labels until no new pseudo-labels are added, or all unlabeled samples have been labeled.\n",
        "                                             verbose=True # default=False, Verbosity prints some information after each iteration\n",
        "                                            )\n",
        "\n",
        "# Fit the model\n",
        "clf_ST = self_training_model.fit(X_train_u, y_train_u)\n",
        "\n",
        "\n",
        "########## Step 3 - Model Evaluation ########## \n",
        "print('')\n",
        "print('---------- Self Training Model - Summary ----------')\n",
        "print('Base Estimator: ', clf_ST.base_estimator_)\n",
        "print('Classes: ', clf_ST.classes_)\n",
        "print('Transduction Labels: ', clf_ST.transduction_)\n",
        "#print('Iteration When Sample Was Labeled: ', clf_ST.labeled_iter_)\n",
        "print('Number of Features: ', clf_ST.n_features_in_)\n",
        "# print('Feature Names: ', clf_ST.feature_names_in_)\n",
        "print('Number of Iterations: ', clf_ST.n_iter_)\n",
        "print('Termination Condition: ', clf_ST.termination_condition_)\n",
        "print('')\n",
        "X_test_t, y_test_t = test_X, y_test\n",
        "print('---------- Self Training Model - Evaluation on Test Data ----------')\n",
        "accuracy_score_ST = clf_ST.score(X_test_t, y_test_t)\n",
        "print('Accuracy Score: ', accuracy_score_ST)\n",
        "# Look at classification report to evaluate the model\n",
        "print(classification_report(y_test_t, clf_ST.predict(X_test_t)))"
      ],
      "metadata": {
        "id": "RsVyZltWyWPp",
        "colab": {
          "base_uri": "https://localhost:8080/"
        },
        "outputId": "5ac025d4-78e8-48c0-bd02-1b55fe7c9eff"
      },
      "execution_count": 98,
      "outputs": [
        {
          "output_type": "stream",
          "name": "stdout",
          "text": [
            "End of iteration 1, added 50 new labels.\n",
            "End of iteration 2, added 50 new labels.\n",
            "End of iteration 3, added 50 new labels.\n",
            "End of iteration 4, added 50 new labels.\n",
            "End of iteration 5, added 50 new labels.\n",
            "End of iteration 6, added 50 new labels.\n",
            "End of iteration 7, added 50 new labels.\n",
            "End of iteration 8, added 50 new labels.\n",
            "End of iteration 9, added 50 new labels.\n",
            "End of iteration 10, added 50 new labels.\n",
            "End of iteration 11, added 50 new labels.\n",
            "End of iteration 12, added 50 new labels.\n",
            "End of iteration 13, added 50 new labels.\n",
            "End of iteration 14, added 50 new labels.\n",
            "End of iteration 15, added 50 new labels.\n",
            "End of iteration 16, added 50 new labels.\n",
            "End of iteration 17, added 50 new labels.\n",
            "End of iteration 18, added 50 new labels.\n",
            "End of iteration 19, added 50 new labels.\n",
            "End of iteration 20, added 50 new labels.\n",
            "End of iteration 21, added 50 new labels.\n",
            "End of iteration 22, added 50 new labels.\n",
            "End of iteration 23, added 50 new labels.\n",
            "End of iteration 24, added 50 new labels.\n",
            "End of iteration 25, added 50 new labels.\n",
            "End of iteration 26, added 6 new labels.\n",
            "\n",
            "---------- Self Training Model - Summary ----------\n",
            "Base Estimator:  RandomForestClassifier(criterion='entropy', max_depth=100, max_features=2,\n",
            "                       min_samples_leaf=4, min_samples_split=12,\n",
            "                       n_estimators=500, random_state=82)\n",
            "Classes:  [0 1]\n",
            "Transduction Labels:  [1 0 1 ... 1 0 0]\n",
            "Number of Features:  10\n",
            "Number of Iterations:  26\n",
            "Termination Condition:  all_labeled\n",
            "\n",
            "---------- Self Training Model - Evaluation on Test Data ----------\n",
            "Accuracy Score:  0.8111888111888111\n",
            "              precision    recall  f1-score   support\n",
            "\n",
            "           0       0.80      0.79      0.80       331\n",
            "           1       0.82      0.83      0.82       384\n",
            "\n",
            "    accuracy                           0.81       715\n",
            "   macro avg       0.81      0.81      0.81       715\n",
            "weighted avg       0.81      0.81      0.81       715\n",
            "\n"
          ]
        }
      ]
    },
    {
      "cell_type": "code",
      "source": [
        "print('self trained R-Forest confusion matrix')\n",
        "confusion_matrix(y_test_t, clf_ST.predict(X_test_t))"
      ],
      "metadata": {
        "id": "xUPkmSMPS6CM",
        "colab": {
          "base_uri": "https://localhost:8080/"
        },
        "outputId": "51c7e6a8-e1fb-4d0e-bb0a-f80f174cb923"
      },
      "execution_count": 99,
      "outputs": [
        {
          "output_type": "stream",
          "name": "stdout",
          "text": [
            "self trained R-Forest confusion matrix\n"
          ]
        },
        {
          "output_type": "execute_result",
          "data": {
            "text/plain": [
              "array([[262,  69],\n",
              "       [ 66, 318]])"
            ]
          },
          "metadata": {},
          "execution_count": 99
        }
      ]
    },
    {
      "cell_type": "code",
      "source": [
        "len(clf_ST.transduction_ )"
      ],
      "metadata": {
        "colab": {
          "base_uri": "https://localhost:8080/"
        },
        "id": "xTmAxOn7A_Fv",
        "outputId": "542d463c-52d1-4c08-d0df-b816d10f452e"
      },
      "execution_count": 100,
      "outputs": [
        {
          "output_type": "execute_result",
          "data": {
            "text/plain": [
              "2838"
            ]
          },
          "metadata": {},
          "execution_count": 100
        }
      ]
    },
    {
      "cell_type": "code",
      "source": [
        "new_train_x = X.copy(deep=True)\n",
        "new_train_y = clf_ST.transduction_ #labels"
      ],
      "metadata": {
        "id": "uFtcRBuR-R2j"
      },
      "execution_count": 101,
      "outputs": []
    },
    {
      "cell_type": "code",
      "source": [
        "log_regression = Pipeline(steps=[('std_slc', StandardScaler()),\n",
        "                ('classifier', LogisticRegression(C=0.01))]).fit(new_train_x, new_train_y)\n",
        "y_pred = log_regression.predict(new_train_x)\n",
        "print(classification_report(new_train_y,y_pred))"
      ],
      "metadata": {
        "id": "1agx-FVIBngy",
        "colab": {
          "base_uri": "https://localhost:8080/"
        },
        "outputId": "ca679819-02a0-4c91-84db-1d585e3c379f"
      },
      "execution_count": 104,
      "outputs": [
        {
          "output_type": "stream",
          "name": "stdout",
          "text": [
            "              precision    recall  f1-score   support\n",
            "\n",
            "           0       0.86      0.81      0.84      1287\n",
            "           1       0.85      0.89      0.87      1551\n",
            "\n",
            "    accuracy                           0.86      2838\n",
            "   macro avg       0.86      0.85      0.85      2838\n",
            "weighted avg       0.86      0.86      0.86      2838\n",
            "\n"
          ]
        }
      ]
    },
    {
      "cell_type": "code",
      "source": [
        "y_pred_on_updated_labels = log_regression.predict(test_X)\n",
        "print(classification_report(y_test,y_pred_on_updated_labels))"
      ],
      "metadata": {
        "id": "VM1r_Jh7DFKU",
        "colab": {
          "base_uri": "https://localhost:8080/"
        },
        "outputId": "2d93b3b4-9644-465b-bc76-75c264ccc9d7"
      },
      "execution_count": 105,
      "outputs": [
        {
          "output_type": "stream",
          "name": "stdout",
          "text": [
            "              precision    recall  f1-score   support\n",
            "\n",
            "           0       0.82      0.79      0.80       331\n",
            "           1       0.82      0.85      0.84       384\n",
            "\n",
            "    accuracy                           0.82       715\n",
            "   macro avg       0.82      0.82      0.82       715\n",
            "weighted avg       0.82      0.82      0.82       715\n",
            "\n"
          ]
        }
      ]
    },
    {
      "cell_type": "code",
      "source": [],
      "metadata": {
        "id": "xyAPuO5GE4ER"
      },
      "execution_count": 105,
      "outputs": []
    }
  ],
  "metadata": {
    "colab": {
      "collapsed_sections": [],
      "provenance": []
    },
    "kernelspec": {
      "display_name": "Python 3",
      "name": "python3"
    },
    "language_info": {
      "name": "python"
    }
  },
  "nbformat": 4,
  "nbformat_minor": 0
}